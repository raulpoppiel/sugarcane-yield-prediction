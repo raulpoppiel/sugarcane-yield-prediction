{
  "cells": [
    {
      "cell_type": "markdown",
      "metadata": {
        "id": "view-in-github",
        "colab_type": "text"
      },
      "source": [
        "<a href=\"https://colab.research.google.com/github/raulpoppiel/sugarcane-yield-prediction/blob/main/06_merge_data_all.ipynb\" target=\"_parent\"><img src=\"https://colab.research.google.com/assets/colab-badge.svg\" alt=\"Open In Colab\"/></a>"
      ]
    },
    {
      "cell_type": "markdown",
      "metadata": {
        "id": "H2RuB9V3mqyz"
      },
      "source": [
        "<center><font color=\"green\" size=\"6\"> <b>Sugarcane Yield Prediction using RS and ML<b> </font></center>\n",
        "<center><img src=\"https://www.omex.com/wp-content/uploads/2020/10/Sugar-Cane-Harvest-1536x772.jpg\" height=\"150\"></center>\n",
        "\n",
        "---"
      ]
    },
    {
      "cell_type": "markdown",
      "source": [
        "_Script elaborated by **Raul Roberto Poppiel**_ ([raulpoppiel@gmail.com](raulpoppiel@gmail.com)) for the [FAPESP](https://fapesp.br/en) project Nº [23/01062-1](https://bv.fapesp.br/en/bolsas/207973/satellite-imagery-and-machine-learning-for-sugarcane-yield-estimation-in-regions-of-sao-paulo-state/), led by Professor Ana Claudia dos Santos Luciano (analuciano@usp.br) from ESALQ/USP, Brazil. The methodology employed was developed by Rafaella Pironato Amaro and is detailed in the document titled [Estimativa de produtividade da cana-de-açúcar a partir de imagens do satélite Sentinel-2A e o algoritmo de aprendizagem de máquina Random Forest](https://doi.org/10.11606/D.11.2023.tde-02102023-163947)."
      ],
      "metadata": {
        "id": "PFk6G_rG403i"
      }
    },
    {
      "cell_type": "markdown",
      "metadata": {
        "id": "G3cFWYVXQr_x"
      },
      "source": [
        "### Install and import tools"
      ]
    },
    {
      "cell_type": "markdown",
      "metadata": {
        "id": "bY6y0ONYmF-o"
      },
      "source": [
        "Data science modules"
      ]
    },
    {
      "cell_type": "code",
      "execution_count": null,
      "metadata": {
        "colab": {
          "base_uri": "https://localhost:8080/"
        },
        "id": "QzopUkCmlsKV",
        "outputId": "6c04c27b-7ec1-4228-91ba-5b6f01283163"
      },
      "outputs": [
        {
          "output_type": "stream",
          "name": "stdout",
          "text": [
            "Modules loaded\n"
          ]
        }
      ],
      "source": [
        "# Load modules\n",
        "import os\n",
        "import pandas as pd\n",
        "import geopandas as gpd\n",
        "from pathlib import Path\n",
        "\n",
        "print('Modules loaded')"
      ]
    },
    {
      "cell_type": "markdown",
      "source": [
        "### Connect to GDrive"
      ],
      "metadata": {
        "id": "BXX99T3Jwa6s"
      }
    },
    {
      "cell_type": "code",
      "execution_count": null,
      "metadata": {
        "colab": {
          "base_uri": "https://localhost:8080/"
        },
        "id": "MtXPEvAonugm",
        "outputId": "b8e3c2b3-5ecc-406b-f4ac-41266132c2b2"
      },
      "outputs": [
        {
          "output_type": "stream",
          "name": "stdout",
          "text": [
            "Drive already mounted at /content/drive; to attempt to forcibly remount, call drive.mount(\"/content/drive\", force_remount=True).\n"
          ]
        }
      ],
      "source": [
        "# Connect to Google Drive\n",
        "from google.colab import drive\n",
        "drive.mount('/content/drive')"
      ]
    },
    {
      "cell_type": "markdown",
      "metadata": {
        "id": "yUGm7HFTh2fY"
      },
      "source": [
        "### Set GDrive paths"
      ]
    },
    {
      "cell_type": "markdown",
      "metadata": {
        "id": "VAh-0QsEQqCW"
      },
      "source": [
        "Define the output folders in GD"
      ]
    },
    {
      "cell_type": "code",
      "execution_count": null,
      "metadata": {
        "id": "hlO08fmzl_UT"
      },
      "outputs": [],
      "source": [
        "# Define folder names\n",
        "folder_name_root = 'Colab Notebooks'\n",
        "folder_name_project = '01_SugarcaneYieldPrediction'\n",
        "folder_name_farm = 'usinas_all'\n",
        "folder_name_specific = '06_merge_data_all'\n",
        "\n",
        "# Define sugarcane crop-season (SAFRA)\n",
        "CropSeason = 1920 # 1920, 2021, 2122, 2223"
      ]
    },
    {
      "cell_type": "code",
      "execution_count": null,
      "metadata": {
        "colab": {
          "base_uri": "https://localhost:8080/"
        },
        "id": "tJADbX884IGz",
        "outputId": "ab77c912-3c0b-43d3-f3d4-dac235c11c47"
      },
      "outputs": [
        {
          "output_type": "stream",
          "name": "stdout",
          "text": [
            "Output directory already exists.\n",
            "/content/drive/MyDrive/Colab Notebooks/01_SugarcaneYieldPrediction/02_usinas_all/06_merge_data_all \n",
            "\n",
            "List of files:\n",
            "                                 Files\n",
            "0  06_all_data_monthly_safra_1920.csv\n",
            "1  06_all_data_monthly_safra_2021.csv\n",
            "2  06_all_data_monthly_safra_2122.csv\n",
            "3  06_all_data_monthly_safra_2223.csv\n"
          ]
        }
      ],
      "source": [
        "# Check if the folder exists or else create\n",
        "root_path = f'/content/drive/MyDrive/{folder_name_root}'\n",
        "project_path = f'{root_path}/{folder_name_project}'\n",
        "farm_path = f'{project_path}/{folder_name_farm}'\n",
        "out_path = f'{farm_path}/{folder_name_specific}' # your results will be stored in 'out_path'\n",
        "\n",
        "if not os.path.exists(out_path):\n",
        "  Path(out_path).mkdir(parents=True, exist_ok=True)\n",
        "  print(\"Output directory created successfully.\")\n",
        "else:\n",
        "  print(\"Output directory already exists.\")\n",
        "\n",
        "os.chdir(out_path)\n",
        "print(os.getcwd(),'\\n')  # Print the current working directory\n",
        "pd.DataFrame(os.listdir(), columns=['List files'])  # List files and directories in the current directory"
      ]
    },
    {
      "cell_type": "markdown",
      "metadata": {
        "id": "AM71E-tIgyx9"
      },
      "source": [
        "# Merge monthly Satellite-BH data"
      ]
    },
    {
      "cell_type": "code",
      "execution_count": null,
      "metadata": {
        "id": "P2_A_1Syf61C"
      },
      "outputs": [],
      "source": [
        "# Import CSV of monthly data\n",
        "monthly_CL = f'{farm_path}/03_climatic_data_monthly/02_climatic_data_monthlySource_MEAN_safra_{CropSeason}_merged.csv'\n",
        "monthly_HB   = f'{farm_path}/04_hydricBalance_data_monthly/04_HydricBalance_data_monthly_safra_{CropSeason}.csv'\n",
        "monthly_S2   = f'{farm_path}/05_sentinel2_data_monthly/01_sentinel2_data_monthly_MEAN_safra_{CropSeason}_merged.csv'\n",
        "\n",
        "CL_monthly = pd.read_csv(monthly_CL)\n",
        "HB_monthly = pd.read_csv(monthly_HB)\n",
        "S2_monthly = pd.read_csv(monthly_S2)"
      ]
    },
    {
      "cell_type": "markdown",
      "source": [
        "Import shapefile with Agronomic data"
      ],
      "metadata": {
        "id": "9nfQqHVaLCY5"
      }
    },
    {
      "cell_type": "code",
      "source": [
        "# Path\n",
        "shp_path = f'{farm_path}/01_input_data/usinas_merge_Dez22_dissolve_joinedData_epsg4326.shp'"
      ],
      "metadata": {
        "id": "xtX8SfhvK-k7"
      },
      "execution_count": null,
      "outputs": []
    },
    {
      "cell_type": "code",
      "source": [
        "# Read shapefile\n",
        "gdf = gpd.read_file(shp_path)\n",
        "print('Rows:', gdf.shape[0])"
      ],
      "metadata": {
        "colab": {
          "base_uri": "https://localhost:8080/"
        },
        "id": "NN-j_JK2LGm5",
        "outputId": "8d09ef4a-1079-4785-c4c0-db7584819531"
      },
      "execution_count": null,
      "outputs": [
        {
          "output_type": "stream",
          "name": "stdout",
          "text": [
            "Rows: 25492\n"
          ]
        }
      ]
    },
    {
      "cell_type": "code",
      "source": [
        "# Get areas (Rows) for a specific SAFRA\n",
        "subset_gdf = gdf[gdf['SAFRA'] == CropSeason]\n",
        "subset_gdf = subset_gdf.drop(columns=['geometry'])\n",
        "\n",
        "print('Rows:', subset_gdf.shape[0])\n",
        "subset_gdf.head(2)"
      ],
      "metadata": {
        "colab": {
          "base_uri": "https://localhost:8080/",
          "height": 219
        },
        "id": "IONjNcgNK5VW",
        "outputId": "94c4bc93-7941-49ff-9a73-75aaea25b2dd"
      },
      "execution_count": null,
      "outputs": [
        {
          "output_type": "stream",
          "name": "stdout",
          "text": [
            "Rows: 4815\n"
          ]
        },
        {
          "output_type": "execute_result",
          "data": {
            "text/plain": [
              "                         ID_SIG    Local       AREA COD_USINA CODFAZ BLOCO  \\\n",
              "20677  X22230280001000100000027  Usina 1  19.811484        28      1     0   \n",
              "20678  X22230280001000100000028  Usina 1  24.849480        28      1     0   \n",
              "\n",
              "      TALHAO VARIEDADE TCH_ANT POL TAH Unidade_So      Ordem  \\\n",
              "20677     27  CT961007  112.79   0   0        RQ3  Neossolos   \n",
              "20678     28  CT961007  112.77   0   0        RQ3  Neossolos   \n",
              "\n",
              "                          relevo EST_Corte       VAR SAFRA_real soloGeral  \\\n",
              "20677  Ondulado e Suave Ondulado         1  CT961007       2122        RQ   \n",
              "20678  Ondulado e Suave Ondulado         1  CT961007       2122        RQ   \n",
              "\n",
              "       SAFRA usina  \n",
              "20677   2223    M1  \n",
              "20678   2223    M1  "
            ],
            "text/html": [
              "\n",
              "  <div id=\"df-0065ee1e-ead3-4fb7-8160-c6111844dfec\" class=\"colab-df-container\">\n",
              "    <div>\n",
              "<style scoped>\n",
              "    .dataframe tbody tr th:only-of-type {\n",
              "        vertical-align: middle;\n",
              "    }\n",
              "\n",
              "    .dataframe tbody tr th {\n",
              "        vertical-align: top;\n",
              "    }\n",
              "\n",
              "    .dataframe thead th {\n",
              "        text-align: right;\n",
              "    }\n",
              "</style>\n",
              "<table border=\"1\" class=\"dataframe\">\n",
              "  <thead>\n",
              "    <tr style=\"text-align: right;\">\n",
              "      <th></th>\n",
              "      <th>ID_SIG</th>\n",
              "      <th>Local</th>\n",
              "      <th>AREA</th>\n",
              "      <th>COD_USINA</th>\n",
              "      <th>CODFAZ</th>\n",
              "      <th>BLOCO</th>\n",
              "      <th>TALHAO</th>\n",
              "      <th>VARIEDADE</th>\n",
              "      <th>TCH_ANT</th>\n",
              "      <th>POL</th>\n",
              "      <th>TAH</th>\n",
              "      <th>Unidade_So</th>\n",
              "      <th>Ordem</th>\n",
              "      <th>relevo</th>\n",
              "      <th>EST_Corte</th>\n",
              "      <th>VAR</th>\n",
              "      <th>SAFRA_real</th>\n",
              "      <th>soloGeral</th>\n",
              "      <th>SAFRA</th>\n",
              "      <th>usina</th>\n",
              "    </tr>\n",
              "  </thead>\n",
              "  <tbody>\n",
              "    <tr>\n",
              "      <th>20677</th>\n",
              "      <td>X22230280001000100000027</td>\n",
              "      <td>Usina 1</td>\n",
              "      <td>19.811484</td>\n",
              "      <td>28</td>\n",
              "      <td>1</td>\n",
              "      <td>0</td>\n",
              "      <td>27</td>\n",
              "      <td>CT961007</td>\n",
              "      <td>112.79</td>\n",
              "      <td>0</td>\n",
              "      <td>0</td>\n",
              "      <td>RQ3</td>\n",
              "      <td>Neossolos</td>\n",
              "      <td>Ondulado e Suave Ondulado</td>\n",
              "      <td>1</td>\n",
              "      <td>CT961007</td>\n",
              "      <td>2122</td>\n",
              "      <td>RQ</td>\n",
              "      <td>2223</td>\n",
              "      <td>M1</td>\n",
              "    </tr>\n",
              "    <tr>\n",
              "      <th>20678</th>\n",
              "      <td>X22230280001000100000028</td>\n",
              "      <td>Usina 1</td>\n",
              "      <td>24.849480</td>\n",
              "      <td>28</td>\n",
              "      <td>1</td>\n",
              "      <td>0</td>\n",
              "      <td>28</td>\n",
              "      <td>CT961007</td>\n",
              "      <td>112.77</td>\n",
              "      <td>0</td>\n",
              "      <td>0</td>\n",
              "      <td>RQ3</td>\n",
              "      <td>Neossolos</td>\n",
              "      <td>Ondulado e Suave Ondulado</td>\n",
              "      <td>1</td>\n",
              "      <td>CT961007</td>\n",
              "      <td>2122</td>\n",
              "      <td>RQ</td>\n",
              "      <td>2223</td>\n",
              "      <td>M1</td>\n",
              "    </tr>\n",
              "  </tbody>\n",
              "</table>\n",
              "</div>\n",
              "    <div class=\"colab-df-buttons\">\n",
              "\n",
              "  <div class=\"colab-df-container\">\n",
              "    <button class=\"colab-df-convert\" onclick=\"convertToInteractive('df-0065ee1e-ead3-4fb7-8160-c6111844dfec')\"\n",
              "            title=\"Convert this dataframe to an interactive table.\"\n",
              "            style=\"display:none;\">\n",
              "\n",
              "  <svg xmlns=\"http://www.w3.org/2000/svg\" height=\"24px\" viewBox=\"0 -960 960 960\">\n",
              "    <path d=\"M120-120v-720h720v720H120Zm60-500h600v-160H180v160Zm220 220h160v-160H400v160Zm0 220h160v-160H400v160ZM180-400h160v-160H180v160Zm440 0h160v-160H620v160ZM180-180h160v-160H180v160Zm440 0h160v-160H620v160Z\"/>\n",
              "  </svg>\n",
              "    </button>\n",
              "\n",
              "  <style>\n",
              "    .colab-df-container {\n",
              "      display:flex;\n",
              "      gap: 12px;\n",
              "    }\n",
              "\n",
              "    .colab-df-convert {\n",
              "      background-color: #E8F0FE;\n",
              "      border: none;\n",
              "      border-radius: 50%;\n",
              "      cursor: pointer;\n",
              "      display: none;\n",
              "      fill: #1967D2;\n",
              "      height: 32px;\n",
              "      padding: 0 0 0 0;\n",
              "      width: 32px;\n",
              "    }\n",
              "\n",
              "    .colab-df-convert:hover {\n",
              "      background-color: #E2EBFA;\n",
              "      box-shadow: 0px 1px 2px rgba(60, 64, 67, 0.3), 0px 1px 3px 1px rgba(60, 64, 67, 0.15);\n",
              "      fill: #174EA6;\n",
              "    }\n",
              "\n",
              "    .colab-df-buttons div {\n",
              "      margin-bottom: 4px;\n",
              "    }\n",
              "\n",
              "    [theme=dark] .colab-df-convert {\n",
              "      background-color: #3B4455;\n",
              "      fill: #D2E3FC;\n",
              "    }\n",
              "\n",
              "    [theme=dark] .colab-df-convert:hover {\n",
              "      background-color: #434B5C;\n",
              "      box-shadow: 0px 1px 3px 1px rgba(0, 0, 0, 0.15);\n",
              "      filter: drop-shadow(0px 1px 2px rgba(0, 0, 0, 0.3));\n",
              "      fill: #FFFFFF;\n",
              "    }\n",
              "  </style>\n",
              "\n",
              "    <script>\n",
              "      const buttonEl =\n",
              "        document.querySelector('#df-0065ee1e-ead3-4fb7-8160-c6111844dfec button.colab-df-convert');\n",
              "      buttonEl.style.display =\n",
              "        google.colab.kernel.accessAllowed ? 'block' : 'none';\n",
              "\n",
              "      async function convertToInteractive(key) {\n",
              "        const element = document.querySelector('#df-0065ee1e-ead3-4fb7-8160-c6111844dfec');\n",
              "        const dataTable =\n",
              "          await google.colab.kernel.invokeFunction('convertToInteractive',\n",
              "                                                    [key], {});\n",
              "        if (!dataTable) return;\n",
              "\n",
              "        const docLinkHtml = 'Like what you see? Visit the ' +\n",
              "          '<a target=\"_blank\" href=https://colab.research.google.com/notebooks/data_table.ipynb>data table notebook</a>'\n",
              "          + ' to learn more about interactive tables.';\n",
              "        element.innerHTML = '';\n",
              "        dataTable['output_type'] = 'display_data';\n",
              "        await google.colab.output.renderOutput(dataTable, element);\n",
              "        const docLink = document.createElement('div');\n",
              "        docLink.innerHTML = docLinkHtml;\n",
              "        element.appendChild(docLink);\n",
              "      }\n",
              "    </script>\n",
              "  </div>\n",
              "\n",
              "\n",
              "<div id=\"df-0fffb9ed-8c70-447b-ac9c-af339f2affc7\">\n",
              "  <button class=\"colab-df-quickchart\" onclick=\"quickchart('df-0fffb9ed-8c70-447b-ac9c-af339f2affc7')\"\n",
              "            title=\"Suggest charts\"\n",
              "            style=\"display:none;\">\n",
              "\n",
              "<svg xmlns=\"http://www.w3.org/2000/svg\" height=\"24px\"viewBox=\"0 0 24 24\"\n",
              "     width=\"24px\">\n",
              "    <g>\n",
              "        <path d=\"M19 3H5c-1.1 0-2 .9-2 2v14c0 1.1.9 2 2 2h14c1.1 0 2-.9 2-2V5c0-1.1-.9-2-2-2zM9 17H7v-7h2v7zm4 0h-2V7h2v10zm4 0h-2v-4h2v4z\"/>\n",
              "    </g>\n",
              "</svg>\n",
              "  </button>\n",
              "\n",
              "<style>\n",
              "  .colab-df-quickchart {\n",
              "      --bg-color: #E8F0FE;\n",
              "      --fill-color: #1967D2;\n",
              "      --hover-bg-color: #E2EBFA;\n",
              "      --hover-fill-color: #174EA6;\n",
              "      --disabled-fill-color: #AAA;\n",
              "      --disabled-bg-color: #DDD;\n",
              "  }\n",
              "\n",
              "  [theme=dark] .colab-df-quickchart {\n",
              "      --bg-color: #3B4455;\n",
              "      --fill-color: #D2E3FC;\n",
              "      --hover-bg-color: #434B5C;\n",
              "      --hover-fill-color: #FFFFFF;\n",
              "      --disabled-bg-color: #3B4455;\n",
              "      --disabled-fill-color: #666;\n",
              "  }\n",
              "\n",
              "  .colab-df-quickchart {\n",
              "    background-color: var(--bg-color);\n",
              "    border: none;\n",
              "    border-radius: 50%;\n",
              "    cursor: pointer;\n",
              "    display: none;\n",
              "    fill: var(--fill-color);\n",
              "    height: 32px;\n",
              "    padding: 0;\n",
              "    width: 32px;\n",
              "  }\n",
              "\n",
              "  .colab-df-quickchart:hover {\n",
              "    background-color: var(--hover-bg-color);\n",
              "    box-shadow: 0 1px 2px rgba(60, 64, 67, 0.3), 0 1px 3px 1px rgba(60, 64, 67, 0.15);\n",
              "    fill: var(--button-hover-fill-color);\n",
              "  }\n",
              "\n",
              "  .colab-df-quickchart-complete:disabled,\n",
              "  .colab-df-quickchart-complete:disabled:hover {\n",
              "    background-color: var(--disabled-bg-color);\n",
              "    fill: var(--disabled-fill-color);\n",
              "    box-shadow: none;\n",
              "  }\n",
              "\n",
              "  .colab-df-spinner {\n",
              "    border: 2px solid var(--fill-color);\n",
              "    border-color: transparent;\n",
              "    border-bottom-color: var(--fill-color);\n",
              "    animation:\n",
              "      spin 1s steps(1) infinite;\n",
              "  }\n",
              "\n",
              "  @keyframes spin {\n",
              "    0% {\n",
              "      border-color: transparent;\n",
              "      border-bottom-color: var(--fill-color);\n",
              "      border-left-color: var(--fill-color);\n",
              "    }\n",
              "    20% {\n",
              "      border-color: transparent;\n",
              "      border-left-color: var(--fill-color);\n",
              "      border-top-color: var(--fill-color);\n",
              "    }\n",
              "    30% {\n",
              "      border-color: transparent;\n",
              "      border-left-color: var(--fill-color);\n",
              "      border-top-color: var(--fill-color);\n",
              "      border-right-color: var(--fill-color);\n",
              "    }\n",
              "    40% {\n",
              "      border-color: transparent;\n",
              "      border-right-color: var(--fill-color);\n",
              "      border-top-color: var(--fill-color);\n",
              "    }\n",
              "    60% {\n",
              "      border-color: transparent;\n",
              "      border-right-color: var(--fill-color);\n",
              "    }\n",
              "    80% {\n",
              "      border-color: transparent;\n",
              "      border-right-color: var(--fill-color);\n",
              "      border-bottom-color: var(--fill-color);\n",
              "    }\n",
              "    90% {\n",
              "      border-color: transparent;\n",
              "      border-bottom-color: var(--fill-color);\n",
              "    }\n",
              "  }\n",
              "</style>\n",
              "\n",
              "  <script>\n",
              "    async function quickchart(key) {\n",
              "      const quickchartButtonEl =\n",
              "        document.querySelector('#' + key + ' button');\n",
              "      quickchartButtonEl.disabled = true;  // To prevent multiple clicks.\n",
              "      quickchartButtonEl.classList.add('colab-df-spinner');\n",
              "      try {\n",
              "        const charts = await google.colab.kernel.invokeFunction(\n",
              "            'suggestCharts', [key], {});\n",
              "      } catch (error) {\n",
              "        console.error('Error during call to suggestCharts:', error);\n",
              "      }\n",
              "      quickchartButtonEl.classList.remove('colab-df-spinner');\n",
              "      quickchartButtonEl.classList.add('colab-df-quickchart-complete');\n",
              "    }\n",
              "    (() => {\n",
              "      let quickchartButtonEl =\n",
              "        document.querySelector('#df-0fffb9ed-8c70-447b-ac9c-af339f2affc7 button');\n",
              "      quickchartButtonEl.style.display =\n",
              "        google.colab.kernel.accessAllowed ? 'block' : 'none';\n",
              "    })();\n",
              "  </script>\n",
              "</div>\n",
              "    </div>\n",
              "  </div>\n"
            ]
          },
          "metadata": {},
          "execution_count": 8
        }
      ]
    },
    {
      "cell_type": "markdown",
      "metadata": {
        "id": "O3si0EOKy8uF"
      },
      "source": [
        "Merge datasets"
      ]
    },
    {
      "cell_type": "code",
      "execution_count": null,
      "metadata": {
        "id": "8GbB9r2Au0FU",
        "colab": {
          "base_uri": "https://localhost:8080/",
          "height": 248
        },
        "outputId": "c2493483-b13c-440d-d39a-be565281c901"
      },
      "outputs": [
        {
          "output_type": "stream",
          "name": "stdout",
          "text": [
            "Rows: 4815\n",
            "Columns: 308 \n",
            "\n"
          ]
        },
        {
          "output_type": "execute_result",
          "data": {
            "text/plain": [
              "                     ID_SIG    Local       AREA COD_USINA CODFAZ BLOCO TALHAO  \\\n",
              "0  X22230280001000100000027  Usina 1  19.811484        28      1     0     27   \n",
              "1  X22230280001000100000028  Usina 1  24.849480        28      1     0     28   \n",
              "\n",
              "  VARIEDADE TCH_ANT POL  ... 202202_rededge3 202203_rededge3 202112_swir1  \\\n",
              "0  CT961007  112.79   0  ...        0.061071        0.061071     0.031640   \n",
              "1  CT961007  112.77   0  ...        0.061533        0.061533     0.028754   \n",
              "\n",
              "  202201_swir1 202202_swir1 202203_swir1 202112_swir2 202201_swir2  \\\n",
              "0     0.030259     0.030259     0.030259     0.017622     0.016444   \n",
              "1     0.026705     0.026705     0.026705     0.014574     0.012431   \n",
              "\n",
              "   202202_swir2 202203_swir2  \n",
              "0      0.016444     0.016444  \n",
              "1      0.012431     0.012431  \n",
              "\n",
              "[2 rows x 308 columns]"
            ],
            "text/html": [
              "\n",
              "  <div id=\"df-d99eef73-2fe3-4222-a1ad-f69ff9a8976e\" class=\"colab-df-container\">\n",
              "    <div>\n",
              "<style scoped>\n",
              "    .dataframe tbody tr th:only-of-type {\n",
              "        vertical-align: middle;\n",
              "    }\n",
              "\n",
              "    .dataframe tbody tr th {\n",
              "        vertical-align: top;\n",
              "    }\n",
              "\n",
              "    .dataframe thead th {\n",
              "        text-align: right;\n",
              "    }\n",
              "</style>\n",
              "<table border=\"1\" class=\"dataframe\">\n",
              "  <thead>\n",
              "    <tr style=\"text-align: right;\">\n",
              "      <th></th>\n",
              "      <th>ID_SIG</th>\n",
              "      <th>Local</th>\n",
              "      <th>AREA</th>\n",
              "      <th>COD_USINA</th>\n",
              "      <th>CODFAZ</th>\n",
              "      <th>BLOCO</th>\n",
              "      <th>TALHAO</th>\n",
              "      <th>VARIEDADE</th>\n",
              "      <th>TCH_ANT</th>\n",
              "      <th>POL</th>\n",
              "      <th>...</th>\n",
              "      <th>202202_rededge3</th>\n",
              "      <th>202203_rededge3</th>\n",
              "      <th>202112_swir1</th>\n",
              "      <th>202201_swir1</th>\n",
              "      <th>202202_swir1</th>\n",
              "      <th>202203_swir1</th>\n",
              "      <th>202112_swir2</th>\n",
              "      <th>202201_swir2</th>\n",
              "      <th>202202_swir2</th>\n",
              "      <th>202203_swir2</th>\n",
              "    </tr>\n",
              "  </thead>\n",
              "  <tbody>\n",
              "    <tr>\n",
              "      <th>0</th>\n",
              "      <td>X22230280001000100000027</td>\n",
              "      <td>Usina 1</td>\n",
              "      <td>19.811484</td>\n",
              "      <td>28</td>\n",
              "      <td>1</td>\n",
              "      <td>0</td>\n",
              "      <td>27</td>\n",
              "      <td>CT961007</td>\n",
              "      <td>112.79</td>\n",
              "      <td>0</td>\n",
              "      <td>...</td>\n",
              "      <td>0.061071</td>\n",
              "      <td>0.061071</td>\n",
              "      <td>0.031640</td>\n",
              "      <td>0.030259</td>\n",
              "      <td>0.030259</td>\n",
              "      <td>0.030259</td>\n",
              "      <td>0.017622</td>\n",
              "      <td>0.016444</td>\n",
              "      <td>0.016444</td>\n",
              "      <td>0.016444</td>\n",
              "    </tr>\n",
              "    <tr>\n",
              "      <th>1</th>\n",
              "      <td>X22230280001000100000028</td>\n",
              "      <td>Usina 1</td>\n",
              "      <td>24.849480</td>\n",
              "      <td>28</td>\n",
              "      <td>1</td>\n",
              "      <td>0</td>\n",
              "      <td>28</td>\n",
              "      <td>CT961007</td>\n",
              "      <td>112.77</td>\n",
              "      <td>0</td>\n",
              "      <td>...</td>\n",
              "      <td>0.061533</td>\n",
              "      <td>0.061533</td>\n",
              "      <td>0.028754</td>\n",
              "      <td>0.026705</td>\n",
              "      <td>0.026705</td>\n",
              "      <td>0.026705</td>\n",
              "      <td>0.014574</td>\n",
              "      <td>0.012431</td>\n",
              "      <td>0.012431</td>\n",
              "      <td>0.012431</td>\n",
              "    </tr>\n",
              "  </tbody>\n",
              "</table>\n",
              "<p>2 rows × 308 columns</p>\n",
              "</div>\n",
              "    <div class=\"colab-df-buttons\">\n",
              "\n",
              "  <div class=\"colab-df-container\">\n",
              "    <button class=\"colab-df-convert\" onclick=\"convertToInteractive('df-d99eef73-2fe3-4222-a1ad-f69ff9a8976e')\"\n",
              "            title=\"Convert this dataframe to an interactive table.\"\n",
              "            style=\"display:none;\">\n",
              "\n",
              "  <svg xmlns=\"http://www.w3.org/2000/svg\" height=\"24px\" viewBox=\"0 -960 960 960\">\n",
              "    <path d=\"M120-120v-720h720v720H120Zm60-500h600v-160H180v160Zm220 220h160v-160H400v160Zm0 220h160v-160H400v160ZM180-400h160v-160H180v160Zm440 0h160v-160H620v160ZM180-180h160v-160H180v160Zm440 0h160v-160H620v160Z\"/>\n",
              "  </svg>\n",
              "    </button>\n",
              "\n",
              "  <style>\n",
              "    .colab-df-container {\n",
              "      display:flex;\n",
              "      gap: 12px;\n",
              "    }\n",
              "\n",
              "    .colab-df-convert {\n",
              "      background-color: #E8F0FE;\n",
              "      border: none;\n",
              "      border-radius: 50%;\n",
              "      cursor: pointer;\n",
              "      display: none;\n",
              "      fill: #1967D2;\n",
              "      height: 32px;\n",
              "      padding: 0 0 0 0;\n",
              "      width: 32px;\n",
              "    }\n",
              "\n",
              "    .colab-df-convert:hover {\n",
              "      background-color: #E2EBFA;\n",
              "      box-shadow: 0px 1px 2px rgba(60, 64, 67, 0.3), 0px 1px 3px 1px rgba(60, 64, 67, 0.15);\n",
              "      fill: #174EA6;\n",
              "    }\n",
              "\n",
              "    .colab-df-buttons div {\n",
              "      margin-bottom: 4px;\n",
              "    }\n",
              "\n",
              "    [theme=dark] .colab-df-convert {\n",
              "      background-color: #3B4455;\n",
              "      fill: #D2E3FC;\n",
              "    }\n",
              "\n",
              "    [theme=dark] .colab-df-convert:hover {\n",
              "      background-color: #434B5C;\n",
              "      box-shadow: 0px 1px 3px 1px rgba(0, 0, 0, 0.15);\n",
              "      filter: drop-shadow(0px 1px 2px rgba(0, 0, 0, 0.3));\n",
              "      fill: #FFFFFF;\n",
              "    }\n",
              "  </style>\n",
              "\n",
              "    <script>\n",
              "      const buttonEl =\n",
              "        document.querySelector('#df-d99eef73-2fe3-4222-a1ad-f69ff9a8976e button.colab-df-convert');\n",
              "      buttonEl.style.display =\n",
              "        google.colab.kernel.accessAllowed ? 'block' : 'none';\n",
              "\n",
              "      async function convertToInteractive(key) {\n",
              "        const element = document.querySelector('#df-d99eef73-2fe3-4222-a1ad-f69ff9a8976e');\n",
              "        const dataTable =\n",
              "          await google.colab.kernel.invokeFunction('convertToInteractive',\n",
              "                                                    [key], {});\n",
              "        if (!dataTable) return;\n",
              "\n",
              "        const docLinkHtml = 'Like what you see? Visit the ' +\n",
              "          '<a target=\"_blank\" href=https://colab.research.google.com/notebooks/data_table.ipynb>data table notebook</a>'\n",
              "          + ' to learn more about interactive tables.';\n",
              "        element.innerHTML = '';\n",
              "        dataTable['output_type'] = 'display_data';\n",
              "        await google.colab.output.renderOutput(dataTable, element);\n",
              "        const docLink = document.createElement('div');\n",
              "        docLink.innerHTML = docLinkHtml;\n",
              "        element.appendChild(docLink);\n",
              "      }\n",
              "    </script>\n",
              "  </div>\n",
              "\n",
              "\n",
              "<div id=\"df-2d096677-e61f-49d0-bf3f-e9a6e0b33cdf\">\n",
              "  <button class=\"colab-df-quickchart\" onclick=\"quickchart('df-2d096677-e61f-49d0-bf3f-e9a6e0b33cdf')\"\n",
              "            title=\"Suggest charts\"\n",
              "            style=\"display:none;\">\n",
              "\n",
              "<svg xmlns=\"http://www.w3.org/2000/svg\" height=\"24px\"viewBox=\"0 0 24 24\"\n",
              "     width=\"24px\">\n",
              "    <g>\n",
              "        <path d=\"M19 3H5c-1.1 0-2 .9-2 2v14c0 1.1.9 2 2 2h14c1.1 0 2-.9 2-2V5c0-1.1-.9-2-2-2zM9 17H7v-7h2v7zm4 0h-2V7h2v10zm4 0h-2v-4h2v4z\"/>\n",
              "    </g>\n",
              "</svg>\n",
              "  </button>\n",
              "\n",
              "<style>\n",
              "  .colab-df-quickchart {\n",
              "      --bg-color: #E8F0FE;\n",
              "      --fill-color: #1967D2;\n",
              "      --hover-bg-color: #E2EBFA;\n",
              "      --hover-fill-color: #174EA6;\n",
              "      --disabled-fill-color: #AAA;\n",
              "      --disabled-bg-color: #DDD;\n",
              "  }\n",
              "\n",
              "  [theme=dark] .colab-df-quickchart {\n",
              "      --bg-color: #3B4455;\n",
              "      --fill-color: #D2E3FC;\n",
              "      --hover-bg-color: #434B5C;\n",
              "      --hover-fill-color: #FFFFFF;\n",
              "      --disabled-bg-color: #3B4455;\n",
              "      --disabled-fill-color: #666;\n",
              "  }\n",
              "\n",
              "  .colab-df-quickchart {\n",
              "    background-color: var(--bg-color);\n",
              "    border: none;\n",
              "    border-radius: 50%;\n",
              "    cursor: pointer;\n",
              "    display: none;\n",
              "    fill: var(--fill-color);\n",
              "    height: 32px;\n",
              "    padding: 0;\n",
              "    width: 32px;\n",
              "  }\n",
              "\n",
              "  .colab-df-quickchart:hover {\n",
              "    background-color: var(--hover-bg-color);\n",
              "    box-shadow: 0 1px 2px rgba(60, 64, 67, 0.3), 0 1px 3px 1px rgba(60, 64, 67, 0.15);\n",
              "    fill: var(--button-hover-fill-color);\n",
              "  }\n",
              "\n",
              "  .colab-df-quickchart-complete:disabled,\n",
              "  .colab-df-quickchart-complete:disabled:hover {\n",
              "    background-color: var(--disabled-bg-color);\n",
              "    fill: var(--disabled-fill-color);\n",
              "    box-shadow: none;\n",
              "  }\n",
              "\n",
              "  .colab-df-spinner {\n",
              "    border: 2px solid var(--fill-color);\n",
              "    border-color: transparent;\n",
              "    border-bottom-color: var(--fill-color);\n",
              "    animation:\n",
              "      spin 1s steps(1) infinite;\n",
              "  }\n",
              "\n",
              "  @keyframes spin {\n",
              "    0% {\n",
              "      border-color: transparent;\n",
              "      border-bottom-color: var(--fill-color);\n",
              "      border-left-color: var(--fill-color);\n",
              "    }\n",
              "    20% {\n",
              "      border-color: transparent;\n",
              "      border-left-color: var(--fill-color);\n",
              "      border-top-color: var(--fill-color);\n",
              "    }\n",
              "    30% {\n",
              "      border-color: transparent;\n",
              "      border-left-color: var(--fill-color);\n",
              "      border-top-color: var(--fill-color);\n",
              "      border-right-color: var(--fill-color);\n",
              "    }\n",
              "    40% {\n",
              "      border-color: transparent;\n",
              "      border-right-color: var(--fill-color);\n",
              "      border-top-color: var(--fill-color);\n",
              "    }\n",
              "    60% {\n",
              "      border-color: transparent;\n",
              "      border-right-color: var(--fill-color);\n",
              "    }\n",
              "    80% {\n",
              "      border-color: transparent;\n",
              "      border-right-color: var(--fill-color);\n",
              "      border-bottom-color: var(--fill-color);\n",
              "    }\n",
              "    90% {\n",
              "      border-color: transparent;\n",
              "      border-bottom-color: var(--fill-color);\n",
              "    }\n",
              "  }\n",
              "</style>\n",
              "\n",
              "  <script>\n",
              "    async function quickchart(key) {\n",
              "      const quickchartButtonEl =\n",
              "        document.querySelector('#' + key + ' button');\n",
              "      quickchartButtonEl.disabled = true;  // To prevent multiple clicks.\n",
              "      quickchartButtonEl.classList.add('colab-df-spinner');\n",
              "      try {\n",
              "        const charts = await google.colab.kernel.invokeFunction(\n",
              "            'suggestCharts', [key], {});\n",
              "      } catch (error) {\n",
              "        console.error('Error during call to suggestCharts:', error);\n",
              "      }\n",
              "      quickchartButtonEl.classList.remove('colab-df-spinner');\n",
              "      quickchartButtonEl.classList.add('colab-df-quickchart-complete');\n",
              "    }\n",
              "    (() => {\n",
              "      let quickchartButtonEl =\n",
              "        document.querySelector('#df-2d096677-e61f-49d0-bf3f-e9a6e0b33cdf button');\n",
              "      quickchartButtonEl.style.display =\n",
              "        google.colab.kernel.accessAllowed ? 'block' : 'none';\n",
              "    })();\n",
              "  </script>\n",
              "</div>\n",
              "    </div>\n",
              "  </div>\n"
            ]
          },
          "metadata": {},
          "execution_count": 9
        }
      ],
      "source": [
        "# Merge Agronomic information with monthly data based on the ID column\n",
        "id_column = 'ID_SIG'\n",
        "\n",
        "merged_gdf1 = subset_gdf.merge(CL_monthly, on=id_column, how='left')\n",
        "merged_gdf2 = merged_gdf1.merge(HB_monthly, on=id_column, how='left')\n",
        "merged_gdf3 = merged_gdf2.merge(S2_monthly, on=id_column, how='left')\n",
        "\n",
        "print('Rows:',merged_gdf3.shape[0])\n",
        "print('Columns:',merged_gdf3.shape[1],'\\n')\n",
        "\n",
        "merged_gdf3.head(2)"
      ]
    },
    {
      "cell_type": "markdown",
      "metadata": {
        "id": "rS6HLXpTOm4F"
      },
      "source": [
        "#### Exporting as table"
      ]
    },
    {
      "cell_type": "code",
      "execution_count": null,
      "metadata": {
        "colab": {
          "base_uri": "https://localhost:8080/",
          "height": 53
        },
        "id": "NJki4MlFwHA_",
        "outputId": "11c7ca3f-e3a9-4c5c-97e0-4ad1e51b505e"
      },
      "outputs": [
        {
          "output_type": "execute_result",
          "data": {
            "text/plain": [
              "'/content/drive/MyDrive/Colab Notebooks/01_SugarcaneYieldPrediction/02_usinas_all/06_merge_data_all/06_all_data_monthly_safra_2223.csv'"
            ],
            "application/vnd.google.colaboratory.intrinsic+json": {
              "type": "string"
            }
          },
          "metadata": {},
          "execution_count": 10
        }
      ],
      "source": [
        "# Define the output path to save monthly BH data\n",
        "data_all = os.path.join(out_path, f'06_all_data_monthly_safra_{CropSeason}.csv')\n",
        "data_all"
      ]
    },
    {
      "cell_type": "code",
      "execution_count": null,
      "metadata": {
        "colab": {
          "base_uri": "https://localhost:8080/"
        },
        "id": "qCBs6ZKAwHBA",
        "outputId": "5904f845-ef70-4078-cd08-cf7f2b2a89b8"
      },
      "outputs": [
        {
          "output_type": "stream",
          "name": "stdout",
          "text": [
            "Dowanloaded to:  /content/drive/MyDrive/Colab Notebooks/01_SugarcaneYieldPrediction/02_usinas_all/06_merge_data_all/06_all_data_monthly_safra_2223.csv\n"
          ]
        }
      ],
      "source": [
        "# Save results as table\n",
        "merged_gdf3.to_csv(data_all, encoding='utf-8', index=False)\n",
        "print('Dowanloaded to: ', data_all)"
      ]
    }
  ],
  "metadata": {
    "colab": {
      "toc_visible": true,
      "provenance": [],
      "mount_file_id": "1Dd3tcudE4Q8EBglR3vLvoFtmnZHML7xS",
      "authorship_tag": "ABX9TyMYR5FJR/I1LtmyBjVxo5y3",
      "include_colab_link": true
    },
    "kernelspec": {
      "display_name": "Python 3",
      "name": "python3"
    },
    "language_info": {
      "name": "python"
    }
  },
  "nbformat": 4,
  "nbformat_minor": 0
}