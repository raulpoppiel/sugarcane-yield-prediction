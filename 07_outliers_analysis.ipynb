{
  "cells": [
    {
      "cell_type": "markdown",
      "metadata": {
        "id": "view-in-github",
        "colab_type": "text"
      },
      "source": [
        "<a href=\"https://colab.research.google.com/github/raulpoppiel/sugarcane-yield-prediction/blob/main/07_outliers_analysis.ipynb\" target=\"_parent\"><img src=\"https://colab.research.google.com/assets/colab-badge.svg\" alt=\"Open In Colab\"/></a>"
      ]
    },
    {
      "cell_type": "markdown",
      "metadata": {
        "id": "H2RuB9V3mqyz"
      },
      "source": [
        "<center><font color=\"green\" size=\"6\"> <b>Sugarcane Yield Prediction using RS and ML<b> </font></center>\n",
        "<center><img src=\"https://www.omex.com/wp-content/uploads/2020/10/Sugar-Cane-Harvest-1536x772.jpg\" height=\"150\"></center>\n",
        "\n",
        "---"
      ]
    },
    {
      "cell_type": "markdown",
      "source": [
        "_Script elaborated by **Raul Roberto Poppiel**_ ([raulpoppiel@gmail.com](raulpoppiel@gmail.com)) for the [FAPESP](https://fapesp.br/en) project Nº [23/01062-1](https://bv.fapesp.br/en/bolsas/207973/satellite-imagery-and-machine-learning-for-sugarcane-yield-estimation-in-regions-of-sao-paulo-state/), led by Professor Ana Claudia dos Santos Luciano (analuciano@usp.br) from ESALQ/USP, Brazil. The methodology employed was developed by Rafaella Pironato Amaro and is detailed in the document titled [Estimativa de produtividade da cana-de-açúcar a partir de imagens do satélite Sentinel-2A e o algoritmo de aprendizagem de máquina Random Forest](https://doi.org/10.11606/D.11.2023.tde-02102023-163947)."
      ],
      "metadata": {
        "id": "tmN3vt2S44We"
      }
    },
    {
      "cell_type": "markdown",
      "metadata": {
        "id": "G3cFWYVXQr_x"
      },
      "source": [
        "### Install and import tools"
      ]
    },
    {
      "cell_type": "markdown",
      "metadata": {
        "id": "bY6y0ONYmF-o"
      },
      "source": [
        "Data science modules"
      ]
    },
    {
      "cell_type": "code",
      "execution_count": null,
      "metadata": {
        "colab": {
          "base_uri": "https://localhost:8080/"
        },
        "id": "QzopUkCmlsKV",
        "outputId": "514c1d89-f79b-4bb6-d1c8-0f098e38d803"
      },
      "outputs": [
        {
          "output_type": "stream",
          "name": "stdout",
          "text": [
            "Modules loaded\n"
          ]
        }
      ],
      "source": [
        "# Load modules\n",
        "import os\n",
        "import pandas as pd\n",
        "import seaborn as sns\n",
        "import matplotlib.pyplot as plt\n",
        "from pathlib import Path\n",
        "\n",
        "print('Modules loaded')"
      ]
    },
    {
      "cell_type": "markdown",
      "source": [
        "### Connect to GDrive"
      ],
      "metadata": {
        "id": "BXX99T3Jwa6s"
      }
    },
    {
      "cell_type": "code",
      "execution_count": null,
      "metadata": {
        "colab": {
          "base_uri": "https://localhost:8080/"
        },
        "id": "MtXPEvAonugm",
        "outputId": "f0aaf581-9660-43e2-c5c4-7f5bad4fa4a2"
      },
      "outputs": [
        {
          "output_type": "stream",
          "name": "stdout",
          "text": [
            "Drive already mounted at /content/drive; to attempt to forcibly remount, call drive.mount(\"/content/drive\", force_remount=True).\n"
          ]
        }
      ],
      "source": [
        "# Connect to Google Drive\n",
        "from google.colab import drive\n",
        "drive.mount('/content/drive')"
      ]
    },
    {
      "cell_type": "markdown",
      "metadata": {
        "id": "yUGm7HFTh2fY"
      },
      "source": [
        "### Set GDrive paths"
      ]
    },
    {
      "cell_type": "markdown",
      "metadata": {
        "id": "VAh-0QsEQqCW"
      },
      "source": [
        "Define the output folders in GD"
      ]
    },
    {
      "cell_type": "code",
      "execution_count": null,
      "metadata": {
        "id": "hlO08fmzl_UT"
      },
      "outputs": [],
      "source": [
        "# Define folder names\n",
        "folder_name_root = 'Colab Notebooks'\n",
        "folder_name_project = '01_SugarcaneYieldPrediction'\n",
        "folder_name_farm = 'usinas_all'\n",
        "folder_name_specific = '07_outliers_analysis'\n",
        "\n",
        "# Define sugarcane crop-season (SAFRA)\n",
        "CropSeason = 1920 # 1920, 2021, 2122, 2223"
      ]
    },
    {
      "cell_type": "code",
      "execution_count": null,
      "metadata": {
        "colab": {
          "base_uri": "https://localhost:8080/"
        },
        "id": "tJADbX884IGz",
        "outputId": "0b1c132b-bfab-4941-cbf2-2870a108fbc4"
      },
      "outputs": [
        {
          "output_type": "stream",
          "name": "stdout",
          "text": [
            "Output directory already exists.\n",
            "/content/drive/MyDrive/Colab Notebooks/01_SugarcaneYieldPrediction/02_usinas_all/07_outliers_analysis \n",
            "\n",
            "List of files:\n",
            "                                                Files\n",
            "0  07_all_data_monthly_without_outliers_safra_202...\n",
            "1         07_all_data_monthly_boxplot_safra_2021.png\n",
            "2         07_all_data_monthly_boxplot_safra_2122.png\n",
            "3  07_all_data_monthly_without_outliers_safra_212...\n",
            "4         07_all_data_monthly_boxplot_safra_2223.png\n",
            "5  07_all_data_monthly_without_outliers_safra_222...\n",
            "6         07_all_data_monthly_boxplot_safra_1920.png\n",
            "7  07_all_data_monthly_without_outliers_safra_192...\n"
          ]
        }
      ],
      "source": [
        "# Check if the folder exists or else create\n",
        "root_path = f'/content/drive/MyDrive/{folder_name_root}'\n",
        "project_path = f'{root_path}/{folder_name_project}'\n",
        "farm_path = f'{project_path}/{folder_name_farm}'\n",
        "out_path = f'{farm_path}/{folder_name_specific}' # your results will be stored in 'out_path'\n",
        "\n",
        "if not os.path.exists(out_path):\n",
        "  Path(out_path).mkdir(parents=True, exist_ok=True)\n",
        "  print(\"Output directory created successfully.\")\n",
        "else:\n",
        "  print(\"Output directory already exists.\")\n",
        "\n",
        "os.chdir(out_path)\n",
        "print(os.getcwd(),'\\n')  # Print the current working directory\n",
        "pd.DataFrame(os.listdir(), columns=['List files'])  # List files and directories in the current directory"
      ]
    },
    {
      "cell_type": "markdown",
      "metadata": {
        "id": "jl3hYKGxPSJ3"
      },
      "source": [
        "# Import data"
      ]
    },
    {
      "cell_type": "code",
      "execution_count": null,
      "metadata": {
        "colab": {
          "base_uri": "https://localhost:8080/",
          "height": 53
        },
        "id": "NJki4MlFwHA_",
        "outputId": "893c0965-389a-4569-802c-46cf38f55462"
      },
      "outputs": [
        {
          "output_type": "execute_result",
          "data": {
            "text/plain": [
              "'/content/drive/MyDrive/Colab Notebooks/01_SugarcaneYieldPrediction/02_usinas_all/06_merge_data_all/06_all_data_monthly_safra_2223.csv'"
            ],
            "application/vnd.google.colaboratory.intrinsic+json": {
              "type": "string"
            }
          },
          "metadata": {},
          "execution_count": 5
        }
      ],
      "source": [
        "# Path to monthly data\n",
        "data_all_path = os.path.join(farm_path, f'06_merge_data_all/06_all_data_monthly_safra_{CropSeason}.csv')\n",
        "data_all_path"
      ]
    },
    {
      "cell_type": "code",
      "execution_count": null,
      "metadata": {
        "id": "yUfV6dR_PQC8"
      },
      "outputs": [],
      "source": [
        "# Import CSV\n",
        "data_all = pd.read_csv(data_all_path)"
      ]
    },
    {
      "cell_type": "markdown",
      "source": [
        "### Outlier Analysis"
      ],
      "metadata": {
        "id": "29GYPufOEytf"
      }
    },
    {
      "cell_type": "code",
      "execution_count": null,
      "metadata": {
        "id": "0xTP5acaPQC9"
      },
      "outputs": [],
      "source": [
        "# Perform outlier detection and removal within each group based on the Interquartile Range (IQR) method.\n",
        "\n",
        "# Define the follwing parameters\n",
        "Group_by_variable = 'EST_Corte'\n",
        "column_to_check_outliers = 'TCH_ANT'\n",
        "IQR_threshold = 1.5\n",
        "\n",
        "# Function to detect and remove outliers\n",
        "def detect_and_remove_outliers_iqr(grouped_df, column=column_to_check_outliers, k=IQR_threshold):\n",
        "    def remove_outliers(group):\n",
        "        Q1 = group[column].quantile(0.25)\n",
        "        Q3 = group[column].quantile(0.75)\n",
        "        IQR = Q3 - Q1\n",
        "        lower_bound = Q1 - k * IQR\n",
        "        upper_bound = Q3 + k * IQR\n",
        "        return group[(group[column] >= lower_bound) & (group[column] <= upper_bound)]\n",
        "\n",
        "    return grouped_df.apply(remove_outliers)\n",
        "\n",
        "# Group by the especified variable and perform outlier detection and removal within each group using IQR method\n",
        "grouped = data_all.groupby(Group_by_variable, group_keys=True)\n",
        "data_all_without_outliers = detect_and_remove_outliers_iqr(grouped)\n",
        "\n",
        "# Ungroup the dataframe\n",
        "data_all_without_outliers = data_all_without_outliers.reset_index(drop=True)"
      ]
    },
    {
      "cell_type": "code",
      "source": [
        "print('Outliers removed:', data_all.shape[0] - data_all_without_outliers.shape[0])"
      ],
      "metadata": {
        "colab": {
          "base_uri": "https://localhost:8080/"
        },
        "id": "2HaN5XKA-5er",
        "outputId": "9578c1ef-04b7-45c4-830d-13a76e1f193f"
      },
      "execution_count": null,
      "outputs": [
        {
          "output_type": "stream",
          "name": "stdout",
          "text": [
            "Outliers removed: 27\n"
          ]
        }
      ]
    },
    {
      "cell_type": "code",
      "execution_count": null,
      "metadata": {
        "colab": {
          "base_uri": "https://localhost:8080/",
          "height": 578
        },
        "id": "Nn9P7J_hWBjk",
        "outputId": "d8be1888-a08a-4340-c3a2-15c49494ca3b"
      },
      "outputs": [
        {
          "output_type": "display_data",
          "data": {
            "text/plain": [
              "<Figure size 1000x600 with 2 Axes>"
            ],
            "image/png": "[encoded data removed]"
          },
          "metadata": {}
        }
      ],
      "source": [
        "# Plot boxplots for the original data and data without outliers\n",
        "plt.figure(figsize=(10, 6))\n",
        "plt.subplot(1, 2, 1)\n",
        "sns.boxplot(x=Group_by_variable, y=column_to_check_outliers, data=data_all)\n",
        "plt.title('Boxplot - Original Data')\n",
        "\n",
        "plt.subplot(1, 2, 2)\n",
        "sns.boxplot(x=Group_by_variable, y=column_to_check_outliers, data=data_all_without_outliers)\n",
        "plt.title('Boxplot - Data without Outliers')\n",
        "\n",
        "plt.tight_layout()\n",
        "\n",
        "# Save the plot as a PNG file with 350 dpi\n",
        "plt.savefig(os.path.join(out_path, f'07_all_data_monthly_boxplot_safra_{CropSeason}.png'), dpi=350)\n",
        "\n",
        "plt.show()"
      ]
    },
    {
      "cell_type": "markdown",
      "metadata": {
        "id": "w2ySE2RSWoWo"
      },
      "source": [
        "#### Exporting as table"
      ]
    },
    {
      "cell_type": "code",
      "execution_count": null,
      "metadata": {
        "colab": {
          "base_uri": "https://localhost:8080/",
          "height": 53
        },
        "id": "Z3GMwM2-WoWp",
        "outputId": "e9914335-29e3-4acd-bd31-265e797393a9"
      },
      "outputs": [
        {
          "output_type": "execute_result",
          "data": {
            "text/plain": [
              "'/content/drive/MyDrive/Colab Notebooks/01_SugarcaneYieldPrediction/02_usinas_all/07_outliers_analysis/07_all_data_monthly_without_outliers_safra_2223.csv'"
            ],
            "application/vnd.google.colaboratory.intrinsic+json": {
              "type": "string"
            }
          },
          "metadata": {},
          "execution_count": 10
        }
      ],
      "source": [
        "# Define the output path to save monthly BH data\n",
        "all_data_without_outliers_path = os.path.join(out_path, f'07_all_data_monthly_without_outliers_safra_{CropSeason}.csv')\n",
        "all_data_without_outliers_path"
      ]
    },
    {
      "cell_type": "code",
      "execution_count": null,
      "metadata": {
        "colab": {
          "base_uri": "https://localhost:8080/"
        },
        "id": "AFw_1fkxWoWp",
        "outputId": "1359cfd6-2726-4aca-95d6-b60fc831c6ff"
      },
      "outputs": [
        {
          "output_type": "stream",
          "name": "stdout",
          "text": [
            "Dowanloaded to:  /content/drive/MyDrive/Colab Notebooks/01_SugarcaneYieldPrediction/02_usinas_all/07_outliers_analysis/07_all_data_monthly_without_outliers_safra_2223.csv\n"
          ]
        }
      ],
      "source": [
        "# Save results as table\n",
        "data_all_without_outliers.to_csv(all_data_without_outliers_path, encoding='utf-8', index=False)\n",
        "print('Dowanloaded to: ', all_data_without_outliers_path)"
      ]
    }
  ],
  "metadata": {
    "colab": {
      "toc_visible": true,
      "provenance": [],
      "mount_file_id": "1Dd3tcudE4Q8EBglR3vLvoFtmnZHML7xS",
      "authorship_tag": "ABX9TyMB1SEEU6MxnhXl2Vtv4gB4",
      "include_colab_link": true
    },
    "kernelspec": {
      "display_name": "Python 3",
      "name": "python3"
    },
    "language_info": {
      "name": "python"
    }
  },
  "nbformat": 4,
  "nbformat_minor": 0
}