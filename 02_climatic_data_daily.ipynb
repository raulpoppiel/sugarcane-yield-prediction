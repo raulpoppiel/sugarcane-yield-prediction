{
  "cells": [
    {
      "cell_type": "markdown",
      "metadata": {
        "id": "H2RuB9V3mqyz"
      },
      "source": [
        "<center><font color=\"green\" size=\"6\"> <b>Sugarcane Yield Prediction using RS and ML<br /><b> </font></center>\n",
        "<center><img src=\"https://www.omex.com/wp-content/uploads/2020/10/Sugar-Cane-Harvest-1536x772.jpg\" height=\"150\"></center>\n",
        "\n",
        "---"
      ]
    },
    {
      "cell_type": "markdown",
      "source": [
        "_Script elaborated by **Raul Roberto Poppiel**_ ([raulpoppiel@gmail.com](raulpoppiel@gmail.com)) for the [FAPESP](https://fapesp.br/en) project Nº [23/01062-1](https://bv.fapesp.br/en/bolsas/207973/satellite-imagery-and-machine-learning-for-sugarcane-yield-estimation-in-regions-of-sao-paulo-state/), led by Professor Ana Claudia dos Santos Luciano (analuciano@usp.br) from ESALQ/USP, Brazil. The methodology employed was developed by Rafaella Pironato Amaro (rafaellapironato.amaro@gmail.com) and is detailed in the document titled [Estimativa de produtividade da cana-de-açúcar a partir de imagens do satélite Sentinel-2A e o algoritmo de aprendizagem de máquina Random Forest](https://doi.org/10.11606/D.11.2023.tde-02102023-163947)."
      ],
      "metadata": {
        "id": "kBXIkjIheE0b"
      }
    },
    {
      "cell_type": "markdown",
      "metadata": {
        "id": "G3cFWYVXQr_x"
      },
      "source": [
        "### Install and import tools"
      ]
    },
    {
      "cell_type": "markdown",
      "metadata": {
        "id": "W_HAsrBdmCFm"
      },
      "source": [
        "Geospatial modules"
      ]
    },
    {
      "cell_type": "code",
      "execution_count": null,
      "metadata": {
        "colab": {
          "base_uri": "https://localhost:8080/",
          "height": 34
        },
        "id": "GsPXBOrc4zzf",
        "outputId": "14b0056e-7c54-4ebf-bb7f-e5bfb369c1ba"
      },
      "outputs": [
        {
          "name": "stdout",
          "output_type": "stream",
          "text": [
            "Modules loaded\n"
          ]
        }
      ],
      "source": [
        "# Load modules\n",
        "import ee\n",
        "import geemap\n",
        "\n",
        "print('Modules loaded')"
      ]
    },
    {
      "cell_type": "markdown",
      "metadata": {
        "id": "bY6y0ONYmF-o"
      },
      "source": [
        "Data science modules"
      ]
    },
    {
      "cell_type": "code",
      "execution_count": null,
      "metadata": {
        "colab": {
          "base_uri": "https://localhost:8080/",
          "height": 34
        },
        "id": "QzopUkCmlsKV",
        "outputId": "23971bba-0f0a-492d-d7fc-c62ad0269bae"
      },
      "outputs": [
        {
          "data": {
            "text/html": [
              "\n",
              "            <style>\n",
              "                .geemap-dark {\n",
              "                    --jp-widgets-color: white;\n",
              "                    --jp-widgets-label-color: white;\n",
              "                    --jp-ui-font-color1: white;\n",
              "                    --jp-layout-color2: #454545;\n",
              "                    background-color: #383838;\n",
              "                }\n",
              "                    \n",
              "                .geemap-dark .jupyter-button {\n",
              "                    --jp-layout-color3: #383838;\n",
              "                }\n",
              "                \n",
              "                .geemap-colab {\n",
              "                    background-color: var(--colab-primary-surface-color, white);\n",
              "                }\n",
              "                    \n",
              "                .geemap-colab .jupyter-button {\n",
              "                    --jp-layout-color3: var(--colab-primary-surface-color, white);\n",
              "                }\n",
              "            </style>\n",
              "            "
            ],
            "text/plain": [
              "<IPython.core.display.HTML object>"
            ]
          },
          "metadata": {},
          "output_type": "display_data"
        },
        {
          "name": "stdout",
          "output_type": "stream",
          "text": [
            "Modules loaded\n"
          ]
        }
      ],
      "source": [
        "# Load modules\n",
        "import os\n",
        "import pandas as pd\n",
        "import numpy as np\n",
        "import time\n",
        "from pathlib import Path\n",
        "\n",
        "print('Modules loaded')"
      ]
    },
    {
      "cell_type": "markdown",
      "metadata": {
        "id": "BXX99T3Jwa6s"
      },
      "source": [
        "### Connect to GEE and GDrive"
      ]
    },
    {
      "cell_type": "code",
      "execution_count": null,
      "metadata": {
        "colab": {
          "background_save": true,
          "base_uri": "https://localhost:8080/",
          "height": 143
        },
        "id": "pB5AZhM5kEku",
        "outputId": "13c7522e-298e-41a3-92fc-2471f1bb86cf"
      },
      "outputs": [
        {
          "data": {
            "text/html": [
              "\n",
              "            <style>\n",
              "                .geemap-dark {\n",
              "                    --jp-widgets-color: white;\n",
              "                    --jp-widgets-label-color: white;\n",
              "                    --jp-ui-font-color1: white;\n",
              "                    --jp-layout-color2: #454545;\n",
              "                    background-color: #383838;\n",
              "                }\n",
              "                    \n",
              "                .geemap-dark .jupyter-button {\n",
              "                    --jp-layout-color3: #383838;\n",
              "                }\n",
              "                \n",
              "                .geemap-colab {\n",
              "                    background-color: var(--colab-primary-surface-color, white);\n",
              "                }\n",
              "                    \n",
              "                .geemap-colab .jupyter-button {\n",
              "                    --jp-layout-color3: var(--colab-primary-surface-color, white);\n",
              "                }\n",
              "            </style>\n",
              "            "
            ],
            "text/plain": [
              "<IPython.core.display.HTML object>"
            ]
          },
          "metadata": {},
          "output_type": "display_data"
        },
        {
          "name": "stdout",
          "output_type": "stream",
          "text": [
            "To authorize access needed by Earth Engine, open the following URL in a web browser and follow the instructions. If the web browser does not start automatically, please manually browse the URL below.\n",
            "\n",
            "    https://code.earthengine.google.com/client-auth?scopes=https%3A//www.googleapis.com/auth/earthengine%20https%3A//www.googleapis.com/auth/devstorage.full_control&request_id=1AfQc5k6i48PKbF1kxiWari0k9nzAG7LBbVzvXuYhmQ&tc=vU5FeXNrvBi4y5riifNwdd2EDEJx30fwbI1AtIc_EGw&cc=AtaooITMVrJDgKZPfNLY8ikPAppC0TiG8a_Wo8KoEZA\n",
            "\n",
            "The authorization workflow will generate a code, which you should paste in the box below.\n"
          ]
        }
      ],
      "source": [
        "# GEE Authentication\n",
        "geemap.ee_initialize()"
      ]
    },
    {
      "cell_type": "code",
      "execution_count": null,
      "metadata": {
        "colab": {
          "base_uri": "https://localhost:8080/",
          "height": 54
        },
        "id": "MtXPEvAonugm",
        "outputId": "ad12a005-6fbb-4a36-eecd-fea1941233af"
      },
      "outputs": [
        {
          "data": {
            "text/html": [
              "\n",
              "            <style>\n",
              "                .geemap-dark {\n",
              "                    --jp-widgets-color: white;\n",
              "                    --jp-widgets-label-color: white;\n",
              "                    --jp-ui-font-color1: white;\n",
              "                    --jp-layout-color2: #454545;\n",
              "                    background-color: #383838;\n",
              "                }\n",
              "                    \n",
              "                .geemap-dark .jupyter-button {\n",
              "                    --jp-layout-color3: #383838;\n",
              "                }\n",
              "                \n",
              "                .geemap-colab {\n",
              "                    background-color: var(--colab-primary-surface-color, white);\n",
              "                }\n",
              "                    \n",
              "                .geemap-colab .jupyter-button {\n",
              "                    --jp-layout-color3: var(--colab-primary-surface-color, white);\n",
              "                }\n",
              "            </style>\n",
              "            "
            ],
            "text/plain": [
              "<IPython.core.display.HTML object>"
            ]
          },
          "metadata": {},
          "output_type": "display_data"
        },
        {
          "name": "stdout",
          "output_type": "stream",
          "text": [
            "Drive already mounted at /content/drive; to attempt to forcibly remount, call drive.mount(\"/content/drive\", force_remount=True).\n"
          ]
        }
      ],
      "source": [
        "# Connect to Google Drive\n",
        "from google.colab import drive\n",
        "drive.mount('/content/drive')"
      ]
    },
    {
      "cell_type": "markdown",
      "metadata": {
        "id": "yUGm7HFTh2fY"
      },
      "source": [
        "### Set GDrive paths"
      ]
    },
    {
      "cell_type": "markdown",
      "metadata": {
        "id": "VAh-0QsEQqCW"
      },
      "source": [
        "Define the output folders in GD"
      ]
    },
    {
      "cell_type": "code",
      "execution_count": null,
      "metadata": {
        "colab": {
          "base_uri": "https://localhost:8080/",
          "height": 17
        },
        "id": "hlO08fmzl_UT",
        "outputId": "5274b98d-f22a-4ef5-e898-eee64a62781f"
      },
      "outputs": [
        {
          "data": {
            "text/html": [
              "\n",
              "            <style>\n",
              "                .geemap-dark {\n",
              "                    --jp-widgets-color: white;\n",
              "                    --jp-widgets-label-color: white;\n",
              "                    --jp-ui-font-color1: white;\n",
              "                    --jp-layout-color2: #454545;\n",
              "                    background-color: #383838;\n",
              "                }\n",
              "                    \n",
              "                .geemap-dark .jupyter-button {\n",
              "                    --jp-layout-color3: #383838;\n",
              "                }\n",
              "                \n",
              "                .geemap-colab {\n",
              "                    background-color: var(--colab-primary-surface-color, white);\n",
              "                }\n",
              "                    \n",
              "                .geemap-colab .jupyter-button {\n",
              "                    --jp-layout-color3: var(--colab-primary-surface-color, white);\n",
              "                }\n",
              "            </style>\n",
              "            "
            ],
            "text/plain": [
              "<IPython.core.display.HTML object>"
            ]
          },
          "metadata": {},
          "output_type": "display_data"
        }
      ],
      "source": [
        "# Define folder names\n",
        "folder_name_root = 'Colab Notebooks'\n",
        "folder_name_project = '01_SugarcaneYieldPrediction'\n",
        "folder_name_farm = 'usinas_all'\n",
        "folder_name_specific = '02_climatic_data_daily'\n",
        "\n",
        "# define your GEE username\n",
        "username_gee = 'raulrpoppiel'\n",
        "\n",
        "# Define sugarcane crop-season (SAFRA)\n",
        "CropSeason = 1920 # 1920, 2021, 2122, 2223"
      ]
    },
    {
      "cell_type": "code",
      "execution_count": null,
      "metadata": {
        "colab": {
          "base_uri": "https://localhost:8080/",
          "height": 156
        },
        "id": "tJADbX884IGz",
        "outputId": "47f1c713-da15-4f78-bc51-212bb31a5da7"
      },
      "outputs": [
        {
          "data": {
            "text/html": [
              "\n",
              "            <style>\n",
              "                .geemap-dark {\n",
              "                    --jp-widgets-color: white;\n",
              "                    --jp-widgets-label-color: white;\n",
              "                    --jp-ui-font-color1: white;\n",
              "                    --jp-layout-color2: #454545;\n",
              "                    background-color: #383838;\n",
              "                }\n",
              "                    \n",
              "                .geemap-dark .jupyter-button {\n",
              "                    --jp-layout-color3: #383838;\n",
              "                }\n",
              "                \n",
              "                .geemap-colab {\n",
              "                    background-color: var(--colab-primary-surface-color, white);\n",
              "                }\n",
              "                    \n",
              "                .geemap-colab .jupyter-button {\n",
              "                    --jp-layout-color3: var(--colab-primary-surface-color, white);\n",
              "                }\n",
              "            </style>\n",
              "            "
            ],
            "text/plain": [
              "<IPython.core.display.HTML object>"
            ]
          },
          "metadata": {},
          "output_type": "display_data"
        },
        {
          "name": "stdout",
          "output_type": "stream",
          "text": [
            "Output directory already exists.\n",
            "/content/drive/MyDrive/Colab Notebooks/01_SugarcaneYieldPrediction/02_usinas_all/02_climatic_data_daily \n",
            "\n",
            "List of files:\n",
            "                                                Files\n",
            "0  02_climatic_data_daily_MEAN_safra_1920_merged.csv\n",
            "1  02_climatic_data_daily_MEAN_safra_2021_merged.csv\n",
            "2  02_climatic_data_daily_MEAN_safra_2122_merged.csv\n"
          ]
        }
      ],
      "source": [
        "# Check if the folder exists or else create\n",
        "root_path = f'/content/drive/MyDrive/{folder_name_root}'\n",
        "project_path = f'{root_path}/{folder_name_project}'\n",
        "farm_path = f'{project_path}/{folder_name_farm}'\n",
        "out_path = f'{farm_path}/{folder_name_specific}' # your results will be stored in 'out_path'\n",
        "\n",
        "if not os.path.exists(out_path):\n",
        "  Path(out_path).mkdir(parents=True, exist_ok=True)\n",
        "  print(\"Output directory created successfully.\")\n",
        "else:\n",
        "  print(\"Output directory already exists.\")\n",
        "\n",
        "os.chdir(out_path)\n",
        "print(os.getcwd(),'\\n')  # Print the current working directory\n",
        "pd.DataFrame(os.listdir(), columns=['List files'])  # List files and directories in the current directory"
      ]
    },
    {
      "cell_type": "markdown",
      "metadata": {
        "id": "fq0WcGnLINHZ"
      },
      "source": [
        "## Project-specific settings"
      ]
    },
    {
      "cell_type": "markdown",
      "metadata": {
        "id": "EVQynPWOguqe"
      },
      "source": [
        "### Feature collection"
      ]
    },
    {
      "cell_type": "markdown",
      "metadata": {
        "id": "OZKZixjPYW51"
      },
      "source": [
        "Example of attributes table structure:\n",
        "```\n",
        " 'ID_SIG': 'X19200890000003600027002', 🟢\n",
        " 'AREA': 46.0963242244,\n",
        " 'BLOCO': 2,\n",
        " 'CODFAZ': 36,\n",
        " 'COD_USINA': 89,\n",
        " 'EST_Corte': 1, 🟢\n",
        " 'Local': 'Usina 3',\n",
        " 'Ordem': 'Latossolos',\n",
        " 'POL': 0,\n",
        " 'SAFRA': '1920', 🟢\n",
        " 'SAFRA_real': 1819, 🟢\n",
        " 'TAH': 0,\n",
        " 'TALHAO': 17002,\n",
        " 'TCH_ANT': 88.875, 🟢\n",
        " 'Unidade_So': 'LV21',\n",
        " 'VAR': 'CTC4',\n",
        " 'VARIEDADE': 'CTC4',🟢\n",
        " 'relevo': 'Suave Ondulado',\n",
        " 'soloGeral': 'LV',\n",
        " 'usina': 'M3'\n",
        "```"
      ]
    },
    {
      "cell_type": "markdown",
      "metadata": {
        "id": "CyWhAC2gCqdM"
      },
      "source": [
        "Import the features from your Assets"
      ]
    },
    {
      "cell_type": "code",
      "execution_count": null,
      "metadata": {
        "colab": {
          "base_uri": "https://localhost:8080/",
          "height": 434
        },
        "id": "-lLnmU0g3vC-",
        "outputId": "83467a77-a86d-4bd2-e17d-81da7fa3c2ae"
      },
      "outputs": [
        {
          "data": {
            "text/html": [
              "\n",
              "            <style>\n",
              "                .geemap-dark {\n",
              "                    --jp-widgets-color: white;\n",
              "                    --jp-widgets-label-color: white;\n",
              "                    --jp-ui-font-color1: white;\n",
              "                    --jp-layout-color2: #454545;\n",
              "                    background-color: #383838;\n",
              "                }\n",
              "                    \n",
              "                .geemap-dark .jupyter-button {\n",
              "                    --jp-layout-color3: #383838;\n",
              "                }\n",
              "                \n",
              "                .geemap-colab {\n",
              "                    background-color: var(--colab-primary-surface-color, white);\n",
              "                }\n",
              "                    \n",
              "                .geemap-colab .jupyter-button {\n",
              "                    --jp-layout-color3: var(--colab-primary-surface-color, white);\n",
              "                }\n",
              "            </style>\n",
              "            "
            ],
            "text/plain": [
              "<IPython.core.display.HTML object>"
            ]
          },
          "metadata": {},
          "output_type": "display_data"
        },
        {
          "name": "stdout",
          "output_type": "stream",
          "text": [
            "FC1 size:  321 \n",
            "\n",
            "FC1 attribute table (1st feature): \n",
            "\n"
          ]
        },
        {
          "data": {
            "text/plain": [
              "{'AREA': 2.43708017691,\n",
              " 'BLOCO': '0',\n",
              " 'CODFAZ': '1',\n",
              " 'COD_USINA': '28',\n",
              " 'EST_Corte': '3',\n",
              " 'ID_SIG': 'X22230280001000100000030',\n",
              " 'Local': 'Usina 1',\n",
              " 'Ordem': 'Nitossolos',\n",
              " 'POL': '0',\n",
              " 'SAFRA': 2223,\n",
              " 'SAFRA_real': '2122',\n",
              " 'TAH': '0',\n",
              " 'TALHAO': '30',\n",
              " 'TCH_ANT': '112.79',\n",
              " 'Unidade_So': 'NV7',\n",
              " 'VAR': 'CTC4',\n",
              " 'VARIEDADE': 'CTC4',\n",
              " 'relevo': 'Ondulado',\n",
              " 'soloGeral': 'NV',\n",
              " 'usina': 'M1'}"
            ]
          },
          "metadata": {},
          "output_type": "display_data"
        }
      ],
      "source": [
        "# Import polygons of agricultural plots (shapefiles) from your GEE\n",
        "\n",
        "fc1 =  ee.FeatureCollection(f'users/{username_gee}/Sugarcane/Safra_{CropSeason}_1')\n",
        "# fc2 =  ee.FeatureCollection(f'users/{username_gee}/Sugarcane/Safra_{CropSeason}_2')\n",
        "# fc3 =  ee.FeatureCollection(f'users/{username_gee}/Sugarcane/Safra_{CropSeason}_3')\n",
        "# fc4 =  ee.FeatureCollection(f'users/{username_gee}/Sugarcane/Safra_{CropSeason}_4')\n",
        "# fc5 =  ee.FeatureCollection(f'users/{username_gee}/Sugarcane/Safra_{CropSeason}_5')\n",
        "# fc6 =  ee.FeatureCollection(f'users/{username_gee}/Sugarcane/Safra_{CropSeason}_6')\n",
        "# fc7 =  ee.FeatureCollection(f'users/{username_gee}/Sugarcane/Safra_{CropSeason}_7')\n",
        "# fc8 =  ee.FeatureCollection(f'users/{username_gee}/Sugarcane/Safra_{CropSeason}_8')\n",
        "# fc9 =  ee.FeatureCollection(f'users/{username_gee}/Sugarcane/Safra_{CropSeason}_9')\n",
        "# fc10 = ee.FeatureCollection(f'users/{username_gee}/Sugarcane/Safra_{CropSeason}_10')\n",
        "# fc11 = ee.FeatureCollection(f'users/{username_gee}/Sugarcane/Safra_{CropSeason}_11')\n",
        "# fc12 = ee.FeatureCollection(f'users/{username_gee}/Sugarcane/Safra_{CropSeason}_12')\n",
        "# fc13 = ee.FeatureCollection(f'users/{username_gee}/Sugarcane/Safra_{CropSeason}_13')\n",
        "# fc14 = ee.FeatureCollection(f'users/{username_gee}/Sugarcane/Safra_{CropSeason}_14')\n",
        "# fc15 = ee.FeatureCollection(f'users/{username_gee}/Sugarcane/Safra_{CropSeason}_15')\n",
        "\n",
        "print('FC1 size: ',fc1.size().getInfo(),'\\n')\n",
        "\n",
        "# Display the table of attributes for one feature/polygon\n",
        "print('FC1 attribute table (1st feature): \\n')\n",
        "display(fc1.limit(1).getInfo()['features'][0]['properties'])"
      ]
    },
    {
      "cell_type": "code",
      "execution_count": null,
      "metadata": {
        "colab": {
          "base_uri": "https://localhost:8080/",
          "height": 17
        },
        "id": "SwzIPfDYxHaI",
        "outputId": "6c40ff2a-b991-4737-f11d-df2b99ce52d0"
      },
      "outputs": [
        {
          "data": {
            "text/html": [
              "\n",
              "            <style>\n",
              "                .geemap-dark {\n",
              "                    --jp-widgets-color: white;\n",
              "                    --jp-widgets-label-color: white;\n",
              "                    --jp-ui-font-color1: white;\n",
              "                    --jp-layout-color2: #454545;\n",
              "                    background-color: #383838;\n",
              "                }\n",
              "                    \n",
              "                .geemap-dark .jupyter-button {\n",
              "                    --jp-layout-color3: #383838;\n",
              "                }\n",
              "                \n",
              "                .geemap-colab {\n",
              "                    background-color: var(--colab-primary-surface-color, white);\n",
              "                }\n",
              "                    \n",
              "                .geemap-colab .jupyter-button {\n",
              "                    --jp-layout-color3: var(--colab-primary-surface-color, white);\n",
              "                }\n",
              "            </style>\n",
              "            "
            ],
            "text/plain": [
              "<IPython.core.display.HTML object>"
            ]
          },
          "metadata": {},
          "output_type": "display_data"
        }
      ],
      "source": [
        "# Select an attribute name (column) that contains the ID of polygons\n",
        "ID = 'ID_SIG'\n",
        "\n",
        "fc_to_reduction1 = fc1.select(ID)\n",
        "# fc_to_reduction2 = fc2.select(ID)\n",
        "# fc_to_reduction3 = fc3.select(ID)\n",
        "# fc_to_reduction4 = fc4.select(ID)\n",
        "# fc_to_reduction5 = fc5.select(ID)\n",
        "# fc_to_reduction6 = fc6.select(ID)\n",
        "# fc_to_reduction7 = fc7.select(ID)\n",
        "# fc_to_reduction8 = fc8.select(ID)\n",
        "# fc_to_reduction9 = fc9.select(ID)\n",
        "# fc_to_reduction10 = fc10.select(ID)\n",
        "# fc_to_reduction11 = fc11.select(ID)\n",
        "# fc_to_reduction12 = fc12.select(ID)\n",
        "# fc_to_reduction13 = fc13.select(ID)\n",
        "# fc_to_reduction14 = fc14.select(ID)\n",
        "# fc_to_reduction15 = fc15.select(ID)"
      ]
    },
    {
      "cell_type": "code",
      "execution_count": null,
      "metadata": {
        "colab": {
          "base_uri": "https://localhost:8080/",
          "height": 434
        },
        "id": "URSl6siofwlk",
        "outputId": "15ad6c21-4303-40d2-c9cd-a994355703c9"
      },
      "outputs": [
        {
          "data": {
            "text/html": [
              "\n",
              "            <style>\n",
              "                .geemap-dark {\n",
              "                    --jp-widgets-color: white;\n",
              "                    --jp-widgets-label-color: white;\n",
              "                    --jp-ui-font-color1: white;\n",
              "                    --jp-layout-color2: #454545;\n",
              "                    background-color: #383838;\n",
              "                }\n",
              "                    \n",
              "                .geemap-dark .jupyter-button {\n",
              "                    --jp-layout-color3: #383838;\n",
              "                }\n",
              "                \n",
              "                .geemap-colab {\n",
              "                    background-color: var(--colab-primary-surface-color, white);\n",
              "                }\n",
              "                    \n",
              "                .geemap-colab .jupyter-button {\n",
              "                    --jp-layout-color3: var(--colab-primary-surface-color, white);\n",
              "                }\n",
              "            </style>\n",
              "            "
            ],
            "text/plain": [
              "<IPython.core.display.HTML object>"
            ]
          },
          "metadata": {},
          "output_type": "display_data"
        },
        {
          "name": "stdout",
          "output_type": "stream",
          "text": [
            "FC size:  4815 \n",
            "\n",
            "Attribute table structure (1st feature): \n",
            "\n"
          ]
        },
        {
          "data": {
            "text/plain": [
              "{'AREA': 2.43708017691,\n",
              " 'BLOCO': '0',\n",
              " 'CODFAZ': '1',\n",
              " 'COD_USINA': '28',\n",
              " 'EST_Corte': '3',\n",
              " 'ID_SIG': 'X22230280001000100000030',\n",
              " 'Local': 'Usina 1',\n",
              " 'Ordem': 'Nitossolos',\n",
              " 'POL': '0',\n",
              " 'SAFRA': 2223,\n",
              " 'SAFRA_real': '2122',\n",
              " 'TAH': '0',\n",
              " 'TALHAO': '30',\n",
              " 'TCH_ANT': '112.79',\n",
              " 'Unidade_So': 'NV7',\n",
              " 'VAR': 'CTC4',\n",
              " 'VARIEDADE': 'CTC4',\n",
              " 'relevo': 'Ondulado',\n",
              " 'soloGeral': 'NV',\n",
              " 'usina': 'M1'}"
            ]
          },
          "metadata": {},
          "output_type": "display_data"
        }
      ],
      "source": [
        "# Make a colection of collecions of geometries\n",
        "SugarcaneData = ee.FeatureCollection([fc1\n",
        "                                      # ,fc2,fc3,fc4,fc5,fc6,fc7,fc8,fc9,fc10,fc11,fc12,fc13,fc14,fc15\n",
        "                                      ]).flatten()\n",
        "\n",
        "# Display the number os polygons\n",
        "print('FC size: ',SugarcaneData.size().getInfo(),'\\n')\n",
        "\n",
        "# Display the table of attributes for one feature/polygon\n",
        "print('Attribute table structure (1st feature): \\n')\n",
        "display(SugarcaneData.limit(1).getInfo()['features'][0]['properties'])"
      ]
    },
    {
      "cell_type": "markdown",
      "metadata": {
        "id": "yILCDaI_KhHq"
      },
      "source": [
        "### Crop-season and real period"
      ]
    },
    {
      "cell_type": "code",
      "execution_count": null,
      "metadata": {
        "colab": {
          "base_uri": "https://localhost:8080/",
          "height": 52
        },
        "id": "VWeRa1sGIMfp",
        "outputId": "04e4d1f3-68f5-4672-aa89-83d2582c421d"
      },
      "outputs": [
        {
          "data": {
            "text/html": [
              "\n",
              "            <style>\n",
              "                .geemap-dark {\n",
              "                    --jp-widgets-color: white;\n",
              "                    --jp-widgets-label-color: white;\n",
              "                    --jp-ui-font-color1: white;\n",
              "                    --jp-layout-color2: #454545;\n",
              "                    background-color: #383838;\n",
              "                }\n",
              "                    \n",
              "                .geemap-dark .jupyter-button {\n",
              "                    --jp-layout-color3: #383838;\n",
              "                }\n",
              "                \n",
              "                .geemap-colab {\n",
              "                    background-color: var(--colab-primary-surface-color, white);\n",
              "                }\n",
              "                    \n",
              "                .geemap-colab .jupyter-button {\n",
              "                    --jp-layout-color3: var(--colab-primary-surface-color, white);\n",
              "                }\n",
              "            </style>\n",
              "            "
            ],
            "text/plain": [
              "<IPython.core.display.HTML object>"
            ]
          },
          "metadata": {},
          "output_type": "display_data"
        },
        {
          "name": "stdout",
          "output_type": "stream",
          "text": [
            "Start: 01/04/2021 --> Real: 01/04/2020\n",
            "End: 31/03/2022 --> Real: 31/03/2021\n"
          ]
        }
      ],
      "source": [
        "# Define the real period in years\n",
        "if CropSeason == 1920:\n",
        "    SrtYear = '2018'\n",
        "    EndYear = '2019'\n",
        "elif CropSeason == 2021:\n",
        "    SrtYear = '2019'\n",
        "    EndYear = '2020'\n",
        "elif CropSeason == 2122:\n",
        "    SrtYear = '2020'\n",
        "    EndYear = '2021'\n",
        "elif CropSeason == 2223:\n",
        "    SrtYear = '2021'\n",
        "    EndYear = '2022'\n",
        "elif CropSeason == 2324:\n",
        "    SrtYear = '2022'\n",
        "    EndYear = '2023'\n",
        "else:\n",
        "    # Handle unknown CropSeason values\n",
        "    print(\"Unknown CropSeason\")\n",
        "\n",
        "# Example:\n",
        "# SAFRA_real = SAFRA - 1\n",
        "SrtYear_real = str(int(SrtYear) - 1)\n",
        "EndYear_real = str(int(EndYear) - 1)\n",
        "\n",
        "# Display the results\n",
        "print(f\"Start: 01/04/{SrtYear} --> Real: 01/04/{SrtYear_real}\")\n",
        "print(f\"End: 31/03/{EndYear} --> Real: 31/03/{EndYear_real}\")"
      ]
    },
    {
      "cell_type": "code",
      "execution_count": null,
      "metadata": {
        "colab": {
          "base_uri": "https://localhost:8080/",
          "height": 17
        },
        "id": "rAGvlMPYjar9",
        "outputId": "b893993b-f4ba-46d5-ab13-8091d4d257ad"
      },
      "outputs": [
        {
          "data": {
            "text/html": [
              "\n",
              "            <style>\n",
              "                .geemap-dark {\n",
              "                    --jp-widgets-color: white;\n",
              "                    --jp-widgets-label-color: white;\n",
              "                    --jp-ui-font-color1: white;\n",
              "                    --jp-layout-color2: #454545;\n",
              "                    background-color: #383838;\n",
              "                }\n",
              "                    \n",
              "                .geemap-dark .jupyter-button {\n",
              "                    --jp-layout-color3: #383838;\n",
              "                }\n",
              "                \n",
              "                .geemap-colab {\n",
              "                    background-color: var(--colab-primary-surface-color, white);\n",
              "                }\n",
              "                    \n",
              "                .geemap-colab .jupyter-button {\n",
              "                    --jp-layout-color3: var(--colab-primary-surface-color, white);\n",
              "                }\n",
              "            </style>\n",
              "            "
            ],
            "text/plain": [
              "<IPython.core.display.HTML object>"
            ]
          },
          "metadata": {},
          "output_type": "display_data"
        }
      ],
      "source": [
        "# Use real years for RS data acquisition (DO NOT change it)\n",
        "\n",
        "# Daily (for Hydric Balance calculations)\n",
        "SrtDate_daily = SrtYear+\"-01-01\" # include the first 3 months before crop-season for BH calculations\n",
        "EndDate_daily = EndYear+\"-03-31\""
      ]
    },
    {
      "cell_type": "markdown",
      "metadata": {
        "id": "hrgZW4Wk6uG4"
      },
      "source": [
        "### Filter Sugarcane field data and bounding box"
      ]
    },
    {
      "cell_type": "code",
      "execution_count": null,
      "metadata": {
        "colab": {
          "base_uri": "https://localhost:8080/",
          "height": 621,
          "referenced_widgets": [
            "b0f9badaad334d5dbc56d68e278a0887",
            "f4984051948744a5bc018e0c4ea44999",
            "f3678dcf3bbe4e158b23c2869de9e953",
            "a84015ed935a425fb6fb6b33ed33693b",
            "99094449f52d459192835389115e3ec9",
            "834fb46216b84cf09663383965eb2c44",
            "e118db05386e451b960beabd6cc83cf9",
            "f18204ba974945a9aad35e3d914ac37d",
            "1b6fb1d29628431b9a526cb9780b2f16",
            "7405098e5c574ac287f09c835a7f95a5",
            "42162763ce1549cea8b3b5efafd0dc70",
            "25dea025d2a442729d31282ced662ed5",
            "1aa0eca53c104145a14c13b2aa806145",
            "383d6296c60040dfbbc528d5c2508a46",
            "ff060c0304d046f38d65a943c8fcce8c",
            "eeb26a2ddd3241e3a4d98b284e8c8ff4",
            "86ce7d94e4d844079db69da509574467",
            "7732856843e04a05adcf0eedaa66f2e1",
            "b106560df43b4a1384ebcbda78fc692b",
            "40fefc070b3949f0a101d4857f245423",
            "7f910093566a4b019d978774096a9b77",
            "b256d2e7dd494d499b2ae55538e4a811",
            "9e033a845c4148c580ff74468e3af3b8",
            "19f632e51d2b408e983e02eb31c61758",
            "b419167f6d0e483bb8f172ddeeedeb00",
            "092c2a7d22134801b4b00dee5d9a5678"
          ]
        },
        "id": "_TT230RokzQk",
        "outputId": "ca4da0e2-ae47-45b6-c6ef-e81eb8695824"
      },
      "outputs": [
        {
          "data": {
            "text/html": [
              "\n",
              "            <style>\n",
              "                .geemap-dark {\n",
              "                    --jp-widgets-color: white;\n",
              "                    --jp-widgets-label-color: white;\n",
              "                    --jp-ui-font-color1: white;\n",
              "                    --jp-layout-color2: #454545;\n",
              "                    background-color: #383838;\n",
              "                }\n",
              "                    \n",
              "                .geemap-dark .jupyter-button {\n",
              "                    --jp-layout-color3: #383838;\n",
              "                }\n",
              "                \n",
              "                .geemap-colab {\n",
              "                    background-color: var(--colab-primary-surface-color, white);\n",
              "                }\n",
              "                    \n",
              "                .geemap-colab .jupyter-button {\n",
              "                    --jp-layout-color3: var(--colab-primary-surface-color, white);\n",
              "                }\n",
              "            </style>\n",
              "            "
            ],
            "text/plain": [
              "<IPython.core.display.HTML object>"
            ]
          },
          "metadata": {},
          "output_type": "display_data"
        },
        {
          "data": {
            "application/vnd.jupyter.widget-view+json": {
              "model_id": "b0f9badaad334d5dbc56d68e278a0887",
              "version_major": 2,
              "version_minor": 0
            },
            "text/plain": [
              "Map(center=[-21.242562902824027, -50.06488035654671], controls=(WidgetControl(options=['position', 'transparen…"
            ]
          },
          "metadata": {
            "application/vnd.jupyter.widget-view+json": {
              "colab": {
                "custom_widget_manager": {
                  "url": "https://ssl.gstatic.com/colaboratory-static/widgets/colab-cdn-widget-manager/b3e629b1971e1542/manager.min.js"
                }
              }
            }
          },
          "output_type": "display_data"
        }
      ],
      "source": [
        "# Compute bounding box for the fc\n",
        "buffer_size = 5000; # define a value in meters\n",
        "\n",
        "bbox_rect = SugarcaneData.geometry().bounds().buffer(buffer_size).bounds().getInfo()\n",
        "bbox_coords = bbox_rect.get('coordinates')[0]\n",
        "bbox = ee.Geometry.Rectangle([bbox_coords[0][0],bbox_coords[0][1],bbox_coords[2][0],bbox_coords[2][1]],None,False)\n",
        "\n",
        "Map = geemap.Map(basemap='Esri.WorldImagery')\n",
        "Map.setOptions()\n",
        "\n",
        "Map.addLayer(SugarcaneData,{'color': 'FF0000'},'fc')\n",
        "Map.addLayer(bbox, {'color': '#000060'}, 'Bbox')\n",
        "Map.centerObject(SugarcaneData, 8)\n",
        "\n",
        "Map.setControlVisibility()\n",
        "Map"
      ]
    },
    {
      "cell_type": "markdown",
      "metadata": {
        "id": "tasn9txa9G1j"
      },
      "source": [
        "## Daily climatic data"
      ]
    },
    {
      "cell_type": "markdown",
      "metadata": {
        "id": "jeW-jaw6Ehvr"
      },
      "source": [
        "#### Import data: T, P, R\n",
        "\n",
        "Here we get data from the ECMWF ERA-5 land-daily:\n",
        "* air temperature, in °C = [K - 273.15]\n",
        "* precipitation, in mm = [m * 1000]\n",
        "* radiation, in MJ/m^2 = [J/m^2 * 0.000001]\n",
        "* https://developers.google.com/earth-engine/datasets/catalog/ECMWF_ERA5_LAND_DAILY_AGGR"
      ]
    },
    {
      "cell_type": "markdown",
      "metadata": {
        "id": "TmKUrgfBALSK"
      },
      "source": [
        "Helper functions"
      ]
    },
    {
      "cell_type": "code",
      "execution_count": null,
      "metadata": {
        "colab": {
          "base_uri": "https://localhost:8080/",
          "height": 17
        },
        "id": "wdocGkizTO00",
        "outputId": "cff7fcfe-8490-430a-e410-b6238ddee0e3"
      },
      "outputs": [
        {
          "data": {
            "text/html": [
              "\n",
              "            <style>\n",
              "                .geemap-dark {\n",
              "                    --jp-widgets-color: white;\n",
              "                    --jp-widgets-label-color: white;\n",
              "                    --jp-ui-font-color1: white;\n",
              "                    --jp-layout-color2: #454545;\n",
              "                    background-color: #383838;\n",
              "                }\n",
              "                    \n",
              "                .geemap-dark .jupyter-button {\n",
              "                    --jp-layout-color3: #383838;\n",
              "                }\n",
              "                \n",
              "                .geemap-colab {\n",
              "                    background-color: var(--colab-primary-surface-color, white);\n",
              "                }\n",
              "                    \n",
              "                .geemap-colab .jupyter-button {\n",
              "                    --jp-layout-color3: var(--colab-primary-surface-color, white);\n",
              "                }\n",
              "            </style>\n",
              "            "
            ],
            "text/plain": [
              "<IPython.core.display.HTML object>"
            ]
          },
          "metadata": {},
          "output_type": "display_data"
        }
      ],
      "source": [
        "# Function to convert unit and replace the original band\n",
        "def convert_units_daily(image):\n",
        "    img1 = image.select('temperature_2m').subtract(273.15)\n",
        "    img2 = image.select('total_precipitation_sum').multiply(1000)\n",
        "    img3 = image.select('surface_solar_radiation_downwards_sum').multiply(0.000001);\n",
        "\n",
        "    img4 = image.select('surface_net_thermal_radiation_sum').multiply(0.000001);\n",
        "    img5 = image.select('surface_net_solar_radiation_sum').multiply(0.000001);\n",
        "\n",
        "    col = ee.Image.cat(img1,img2,img3,img4,img5)\n",
        "    return col\n",
        "\n",
        "\n",
        "# Function to calculate Potential Evapotranspiration (Priestley-Taylor)\n",
        "def calc_etp(image):\n",
        "    # Temperature in °C\n",
        "    tp = image.select('temperature_2m')\n",
        "\n",
        "    # Rule 1: 0 < tp < 16\n",
        "    w1 = tp.multiply(0.0145).add(0.407)\n",
        "\n",
        "    # Rule 2: 16 =< tp < 32\n",
        "    w2 = tp.multiply(0.01).add(0.483)\n",
        "\n",
        "    # Additional rule: 32 =< tp\n",
        "    w3 = tp.multiply(1)  # Define your custom equation here\n",
        "\n",
        "    # Combine the results based on conditions\n",
        "    w = (ee.Image(0).where(tp.gt(0).And(tp.lt(16)), w1)\n",
        "                   .where(tp.gte(16).And(tp.lt(32)), w2)\n",
        "                   .where(tp.gte(32), w3)\n",
        "                   .rename('w'))\n",
        "\n",
        "    # Total net radiation\n",
        "    Rn = image.select('surface_net_thermal_radiation_sum').add(image.select('surface_net_solar_radiation_sum'))\n",
        "\n",
        "    # Potential Evapotranspiration\n",
        "    etp1 = w.multiply(Rn).multiply(1.26)\n",
        "    etp = etp1.divide(2.45).rename('ETP')\n",
        "\n",
        "    return image.addBands(etp)"
      ]
    },
    {
      "cell_type": "code",
      "execution_count": null,
      "metadata": {
        "colab": {
          "base_uri": "https://localhost:8080/",
          "height": 17
        },
        "id": "hY67yd0LEgV4",
        "outputId": "56b61574-d828-4864-ebbe-b06094ff3f45"
      },
      "outputs": [
        {
          "data": {
            "text/html": [
              "\n",
              "            <style>\n",
              "                .geemap-dark {\n",
              "                    --jp-widgets-color: white;\n",
              "                    --jp-widgets-label-color: white;\n",
              "                    --jp-ui-font-color1: white;\n",
              "                    --jp-layout-color2: #454545;\n",
              "                    background-color: #383838;\n",
              "                }\n",
              "                    \n",
              "                .geemap-dark .jupyter-button {\n",
              "                    --jp-layout-color3: #383838;\n",
              "                }\n",
              "                \n",
              "                .geemap-colab {\n",
              "                    background-color: var(--colab-primary-surface-color, white);\n",
              "                }\n",
              "                    \n",
              "                .geemap-colab .jupyter-button {\n",
              "                    --jp-layout-color3: var(--colab-primary-surface-color, white);\n",
              "                }\n",
              "            </style>\n",
              "            "
            ],
            "text/plain": [
              "<IPython.core.display.HTML object>"
            ]
          },
          "metadata": {},
          "output_type": "display_data"
        }
      ],
      "source": [
        "# Import collection\n",
        "daily_tp_etp = (ee.ImageCollection(\"ECMWF/ERA5_LAND/DAILY_AGGR\")\n",
        "                .filterBounds(bbox)\n",
        "                .filterDate(SrtDate_daily, EndDate_daily)\n",
        "                .map(convert_units_daily)\n",
        "                .map(calc_etp)\n",
        "                .select(['temperature_2m','total_precipitation_sum','ETP']))"
      ]
    },
    {
      "cell_type": "code",
      "execution_count": null,
      "metadata": {
        "colab": {
          "base_uri": "https://localhost:8080/",
          "height": 708,
          "referenced_widgets": [
            "58f70cacebe845229b4ed868db6c7e89",
            "c34fb1339ced43a1813ab136d2896b21",
            "58a0c245bfcb4126b6d2296d65fce20c",
            "3ba9c24b1ff44961a090380e9fe053ac",
            "a7bea653bc8b4700a0ab580ecbf96a6f",
            "ebc5236a065b4341a823137d5491b8da",
            "15534c6a0287488088774e2a4df3596c",
            "f0531bab10fa45de8ed6eccdba7d7b0d",
            "dd388a100e77444ca662a32718862051",
            "6d180792dc7846dea34109f044b6eaf9",
            "015a6e7f63504a71a13b415583dc1600",
            "663fd2d06214453eb90d02d308a134a8",
            "0307990d30ff4208960ba5714362e54b",
            "3a7f1150a3a54aa2ae8769e5acd37f50",
            "3f58b13194f44cdab07caac1290af2d2",
            "c0e63e2fa5f44dde99f519b523ca6cc1",
            "8cd48675bf6c44cdbe0359c8dce6385d",
            "5fcaecc7d39148ca9ecde26b9272f68b",
            "bac656c755e645e9ac89d14774fdf614",
            "66ef67c899d843119ce23e2f8299053c",
            "020384757ce74e779e7aef5564ac49ab",
            "a49f07d553854e9ea7c8031b4c9adcc6",
            "fd33327591504320a8fd3abf0fc03740",
            "158e8a54e2134164983c1ba03b879379",
            "fd4a86b929e44efda40c2c68c56e5aa1"
          ]
        },
        "id": "GRMganXpWiY2",
        "outputId": "2fe0ad78-9c14-4547-ba7b-6de02d0997ac"
      },
      "outputs": [
        {
          "data": {
            "text/html": [
              "\n",
              "            <style>\n",
              "                .geemap-dark {\n",
              "                    --jp-widgets-color: white;\n",
              "                    --jp-widgets-label-color: white;\n",
              "                    --jp-ui-font-color1: white;\n",
              "                    --jp-layout-color2: #454545;\n",
              "                    background-color: #383838;\n",
              "                }\n",
              "                    \n",
              "                .geemap-dark .jupyter-button {\n",
              "                    --jp-layout-color3: #383838;\n",
              "                }\n",
              "                \n",
              "                .geemap-colab {\n",
              "                    background-color: var(--colab-primary-surface-color, white);\n",
              "                }\n",
              "                    \n",
              "                .geemap-colab .jupyter-button {\n",
              "                    --jp-layout-color3: var(--colab-primary-surface-color, white);\n",
              "                }\n",
              "            </style>\n",
              "            "
            ],
            "text/plain": [
              "<IPython.core.display.HTML object>"
            ]
          },
          "metadata": {},
          "output_type": "display_data"
        },
        {
          "name": "stdout",
          "output_type": "stream",
          "text": [
            "Date: 20210101\n",
            "\n",
            " Band Names: ['temperature_2m', 'total_precipitation_sum', 'ETP']\n",
            "\n",
            " PercMin: 1.66 (mm day−1)  |  PercMax: 4.79 (mm day−1)\n"
          ]
        },
        {
          "data": {
            "application/vnd.jupyter.widget-view+json": {
              "model_id": "58f70cacebe845229b4ed868db6c7e89",
              "version_major": 2,
              "version_minor": 0
            },
            "text/plain": [
              "Map(center=[-21.242562902824027, -50.06488035654671], controls=(WidgetControl(options=['position', 'transparen…"
            ]
          },
          "metadata": {
            "application/vnd.jupyter.widget-view+json": {
              "colab": {
                "custom_widget_manager": {
                  "url": "https://ssl.gstatic.com/colaboratory-static/widgets/colab-cdn-widget-manager/b3e629b1971e1542/manager.min.js"
                }
              }
            }
          },
          "output_type": "display_data"
        }
      ],
      "source": [
        "# Select and display one of the images\n",
        "\n",
        "# Get the most recent image\n",
        "clmostRecent = daily_tp_etp.first().clip(bbox)\n",
        "print('Date:',clmostRecent.get('system:index').getInfo())\n",
        "\n",
        "print('\\n Band Names:', clmostRecent.bandNames().getInfo())\n",
        "\n",
        "# Get values from image\n",
        "reducers = ee.Reducer.percentile([1,98], ['min','max'])\n",
        "stats = clmostRecent.select(['ETP.*']).rename('x').reduceRegion(reducer = reducers,\n",
        "                              geometry = bbox,\n",
        "                              scale = 5000,\n",
        "                              tileScale = 16)\n",
        "\n",
        "img_min = ee.Number(stats.get('x_min').getInfo()).format('%.2f').getInfo();\n",
        "img_max = ee.Number(stats.get('x_max').getInfo()).format('%.2f').getInfo();\n",
        "print('\\n','PercMin: '+str(img_min)+' (mm day−1)',' |  PercMax: '+str(img_max)+' (mm day−1)')\n",
        "\n",
        "# Display the image\n",
        "Map = geemap.Map(basemap='Esri.WorldImagery')\n",
        "Map.setOptions()\n",
        "\n",
        "etp_palette = {#'bands': ['ETP.*'],\n",
        "                 'palette': ['d7191c', 'fdae61', 'ffffbf', 'abd9e9', '2c7bb6'],\n",
        "                 'min': [stats.get('x_min')],\n",
        "                 'max': [stats.get('x_max')]\n",
        "                 }\n",
        "\n",
        "Map.addLayer(clmostRecent.select('ETP.*'), etp_palette,'Most Recent Image - ETP')\n",
        "Map.centerObject(SugarcaneData, 8)\n",
        "\n",
        "Map.setControlVisibility()\n",
        "Map"
      ]
    },
    {
      "cell_type": "markdown",
      "metadata": {
        "id": "lpo4gsr79LDx"
      },
      "source": [
        "### Reduce by region and export as tables"
      ]
    },
    {
      "cell_type": "code",
      "execution_count": null,
      "metadata": {
        "colab": {
          "base_uri": "https://localhost:8080/",
          "height": 297
        },
        "id": "2pHP5MibHu0I",
        "outputId": "2aeb7275-7833-453e-ca2c-1962b331e473"
      },
      "outputs": [
        {
          "data": {
            "text/html": [
              "\n",
              "            <style>\n",
              "                .geemap-dark {\n",
              "                    --jp-widgets-color: white;\n",
              "                    --jp-widgets-label-color: white;\n",
              "                    --jp-ui-font-color1: white;\n",
              "                    --jp-layout-color2: #454545;\n",
              "                    background-color: #383838;\n",
              "                }\n",
              "                    \n",
              "                .geemap-dark .jupyter-button {\n",
              "                    --jp-layout-color3: #383838;\n",
              "                }\n",
              "                \n",
              "                .geemap-colab {\n",
              "                    background-color: var(--colab-primary-surface-color, white);\n",
              "                }\n",
              "                    \n",
              "                .geemap-colab .jupyter-button {\n",
              "                    --jp-layout-color3: var(--colab-primary-surface-color, white);\n",
              "                }\n",
              "            </style>\n",
              "            "
            ],
            "text/plain": [
              "<IPython.core.display.HTML object>"
            ]
          },
          "metadata": {},
          "output_type": "display_data"
        },
        {
          "name": "stdout",
          "output_type": "stream",
          "text": [
            "/content/drive/MyDrive/Colab Notebooks/01_SugarcaneYieldPrediction/02_usinas_all/02_climatic_data_daily/02_climatic_data_daily_MEAN_safra_2223_1.csv\n",
            "/content/drive/MyDrive/Colab Notebooks/01_SugarcaneYieldPrediction/02_usinas_all/02_climatic_data_daily/02_climatic_data_daily_MEAN_safra_2223_2.csv\n",
            "/content/drive/MyDrive/Colab Notebooks/01_SugarcaneYieldPrediction/02_usinas_all/02_climatic_data_daily/02_climatic_data_daily_MEAN_safra_2223_3.csv\n",
            "/content/drive/MyDrive/Colab Notebooks/01_SugarcaneYieldPrediction/02_usinas_all/02_climatic_data_daily/02_climatic_data_daily_MEAN_safra_2223_4.csv\n",
            "/content/drive/MyDrive/Colab Notebooks/01_SugarcaneYieldPrediction/02_usinas_all/02_climatic_data_daily/02_climatic_data_daily_MEAN_safra_2223_5.csv\n",
            "/content/drive/MyDrive/Colab Notebooks/01_SugarcaneYieldPrediction/02_usinas_all/02_climatic_data_daily/02_climatic_data_daily_MEAN_safra_2223_6.csv\n",
            "/content/drive/MyDrive/Colab Notebooks/01_SugarcaneYieldPrediction/02_usinas_all/02_climatic_data_daily/02_climatic_data_daily_MEAN_safra_2223_7.csv\n",
            "/content/drive/MyDrive/Colab Notebooks/01_SugarcaneYieldPrediction/02_usinas_all/02_climatic_data_daily/02_climatic_data_daily_MEAN_safra_2223_8.csv\n",
            "/content/drive/MyDrive/Colab Notebooks/01_SugarcaneYieldPrediction/02_usinas_all/02_climatic_data_daily/02_climatic_data_daily_MEAN_safra_2223_9.csv\n",
            "/content/drive/MyDrive/Colab Notebooks/01_SugarcaneYieldPrediction/02_usinas_all/02_climatic_data_daily/02_climatic_data_daily_MEAN_safra_2223_10.csv\n",
            "/content/drive/MyDrive/Colab Notebooks/01_SugarcaneYieldPrediction/02_usinas_all/02_climatic_data_daily/02_climatic_data_daily_MEAN_safra_2223_11.csv\n",
            "/content/drive/MyDrive/Colab Notebooks/01_SugarcaneYieldPrediction/02_usinas_all/02_climatic_data_daily/02_climatic_data_daily_MEAN_safra_2223_12.csv\n",
            "/content/drive/MyDrive/Colab Notebooks/01_SugarcaneYieldPrediction/02_usinas_all/02_climatic_data_daily/02_climatic_data_daily_MEAN_safra_2223_13.csv\n",
            "/content/drive/MyDrive/Colab Notebooks/01_SugarcaneYieldPrediction/02_usinas_all/02_climatic_data_daily/02_climatic_data_daily_MEAN_safra_2223_14.csv\n",
            "/content/drive/MyDrive/Colab Notebooks/01_SugarcaneYieldPrediction/02_usinas_all/02_climatic_data_daily/02_climatic_data_daily_MEAN_safra_2223_15.csv\n"
          ]
        }
      ],
      "source": [
        "# Define the statistic\n",
        "# \"MEAN\", \"MAXIMUM\", \"MEDIAN\",\"MINIMUM\",\"MODE\",\"STD\",\"MIN_MAX\",\"SUM\",\"VARIANCE\", \"COUNT\"\n",
        "statistics_Type = 'MEAN'\n",
        "\n",
        "# Define the output path to save results\n",
        "global_stats_path1 =  os.path.join(out_path, f'02_climatic_data_daily_{statistics_Type}_safra_{CropSeason}_1.csv')\n",
        "# global_stats_path2 =  os.path.join(out_path, f'02_climatic_data_daily_{statistics_Type}_safra_{CropSeason}_2.csv')\n",
        "# global_stats_path3 =  os.path.join(out_path, f'02_climatic_data_daily_{statistics_Type}_safra_{CropSeason}_3.csv')\n",
        "# global_stats_path4 =  os.path.join(out_path, f'02_climatic_data_daily_{statistics_Type}_safra_{CropSeason}_4.csv')\n",
        "# global_stats_path5 =  os.path.join(out_path, f'02_climatic_data_daily_{statistics_Type}_safra_{CropSeason}_5.csv')\n",
        "# global_stats_path6 =  os.path.join(out_path, f'02_climatic_data_daily_{statistics_Type}_safra_{CropSeason}_6.csv')\n",
        "# global_stats_path7 =  os.path.join(out_path, f'02_climatic_data_daily_{statistics_Type}_safra_{CropSeason}_7.csv')\n",
        "# global_stats_path8 =  os.path.join(out_path, f'02_climatic_data_daily_{statistics_Type}_safra_{CropSeason}_8.csv')\n",
        "# global_stats_path9 =  os.path.join(out_path, f'02_climatic_data_daily_{statistics_Type}_safra_{CropSeason}_9.csv')\n",
        "# global_stats_path10 = os.path.join(out_path, f'02_climatic_data_daily_{statistics_Type}_safra_{CropSeason}_10.csv')\n",
        "# global_stats_path11 = os.path.join(out_path, f'02_climatic_data_daily_{statistics_Type}_safra_{CropSeason}_11.csv')\n",
        "# global_stats_path12 = os.path.join(out_path, f'02_climatic_data_daily_{statistics_Type}_safra_{CropSeason}_12.csv')\n",
        "# global_stats_path13 = os.path.join(out_path, f'02_climatic_data_daily_{statistics_Type}_safra_{CropSeason}_13.csv')\n",
        "# global_stats_path14 = os.path.join(out_path, f'02_climatic_data_daily_{statistics_Type}_safra_{CropSeason}_14.csv')\n",
        "# global_stats_path15 = os.path.join(out_path, f'02_climatic_data_daily_{statistics_Type}_safra_{CropSeason}_15.csv')\n",
        "\n",
        "print(global_stats_path1)\n",
        "# print(global_stats_path2)\n",
        "# print(global_stats_path3)\n",
        "# print(global_stats_path4)\n",
        "# print(global_stats_path5)\n",
        "# print(global_stats_path6)\n",
        "# print(global_stats_path7)\n",
        "# print(global_stats_path8)\n",
        "# print(global_stats_path9)\n",
        "# print(global_stats_path10)\n",
        "# print(global_stats_path11)\n",
        "# print(global_stats_path12)\n",
        "# print(global_stats_path13)\n",
        "# print(global_stats_path14)\n",
        "# print(global_stats_path15)"
      ]
    },
    {
      "cell_type": "code",
      "execution_count": null,
      "metadata": {
        "colab": {
          "base_uri": "https://localhost:8080/",
          "height": 17
        },
        "id": "xibzQ22ZH1Es",
        "outputId": "28284bd2-8811-4076-8009-bb4abcc4eae4"
      },
      "outputs": [
        {
          "data": {
            "text/html": [
              "\n",
              "            <style>\n",
              "                .geemap-dark {\n",
              "                    --jp-widgets-color: white;\n",
              "                    --jp-widgets-label-color: white;\n",
              "                    --jp-ui-font-color1: white;\n",
              "                    --jp-layout-color2: #454545;\n",
              "                    background-color: #383838;\n",
              "                }\n",
              "                    \n",
              "                .geemap-dark .jupyter-button {\n",
              "                    --jp-layout-color3: #383838;\n",
              "                }\n",
              "                \n",
              "                .geemap-colab {\n",
              "                    background-color: var(--colab-primary-surface-color, white);\n",
              "                }\n",
              "                    \n",
              "                .geemap-colab .jupyter-button {\n",
              "                    --jp-layout-color3: var(--colab-primary-surface-color, white);\n",
              "                }\n",
              "            </style>\n",
              "            "
            ],
            "text/plain": [
              "<IPython.core.display.HTML object>"
            ]
          },
          "metadata": {},
          "output_type": "display_data"
        }
      ],
      "source": [
        "# Reduzing daily climatic values by zone\n",
        "scale = 100.0\n",
        "\n",
        "parameters = {\n",
        "    'in_value_raster': daily_tp_etp,\n",
        "    'statistics_type':statistics_Type,\n",
        "    'scale':float(scale), # a high scale avoid missing values\n",
        "    'tile_scale':16.0,\n",
        "    'return_fc':False,\n",
        "    'timeout':3000\n",
        "    }"
      ]
    },
    {
      "cell_type": "code",
      "execution_count": null,
      "metadata": {
        "colab": {
          "base_uri": "https://localhost:8080/",
          "height": 297
        },
        "id": "8Dyz3A_BdFRV",
        "outputId": "9e988900-e93e-4d8d-9967-39925f08a731"
      },
      "outputs": [
        {
          "data": {
            "text/html": [
              "\n",
              "            <style>\n",
              "                .geemap-dark {\n",
              "                    --jp-widgets-color: white;\n",
              "                    --jp-widgets-label-color: white;\n",
              "                    --jp-ui-font-color1: white;\n",
              "                    --jp-layout-color2: #454545;\n",
              "                    background-color: #383838;\n",
              "                }\n",
              "                    \n",
              "                .geemap-dark .jupyter-button {\n",
              "                    --jp-layout-color3: #383838;\n",
              "                }\n",
              "                \n",
              "                .geemap-colab {\n",
              "                    background-color: var(--colab-primary-surface-color, white);\n",
              "                }\n",
              "                    \n",
              "                .geemap-colab .jupyter-button {\n",
              "                    --jp-layout-color3: var(--colab-primary-surface-color, white);\n",
              "                }\n",
              "            </style>\n",
              "            "
            ],
            "text/plain": [
              "<IPython.core.display.HTML object>"
            ]
          },
          "metadata": {},
          "output_type": "display_data"
        },
        {
          "name": "stdout",
          "output_type": "stream",
          "text": [
            "Computing statistics ...\n",
            "Generating URL ...\n",
            "Downloading data from https://earthengine.googleapis.com/v1/projects/earthengine-legacy/tables/e5d5049d9dd1ceb719aef14587ff9a09-6e4f94177e0dc67a7b494e1c8eff960a:getFeatures\n",
            "Please wait ...\n",
            "Data downloaded to /content/drive/MyDrive/Colab Notebooks/01_SugarcaneYieldPrediction/02_usinas_all/02_climatic_data_daily/02_climatic_data_daily_MEAN_safra_2223_1.csv\n",
            "Computing statistics ...\n",
            "Generating URL ...\n",
            "Downloading data from https://earthengine.googleapis.com/v1/projects/earthengine-legacy/tables/b24b3d3d1ebd11ace0f1d696312515a4-eb06b36ae442920c915a4340baec4ff4:getFeatures\n",
            "Please wait ...\n",
            "Data downloaded to /content/drive/MyDrive/Colab Notebooks/01_SugarcaneYieldPrediction/02_usinas_all/02_climatic_data_daily/02_climatic_data_daily_MEAN_safra_2223_2.csv\n",
            "Computing statistics ...\n",
            "Generating URL ...\n",
            "Downloading data from https://earthengine.googleapis.com/v1/projects/earthengine-legacy/tables/5336c7b520bf9a40992b0089a9a5cc89-262a0690e687280505092997734ac9a6:getFeatures\n",
            "Please wait ...\n",
            "Data downloaded to /content/drive/MyDrive/Colab Notebooks/01_SugarcaneYieldPrediction/02_usinas_all/02_climatic_data_daily/02_climatic_data_daily_MEAN_safra_2223_3.csv\n"
          ]
        }
      ],
      "source": [
        "geemap.zonal_statistics(in_zone_vector=fc_to_reduction1,out_file_path=global_stats_path1,**parameters)\n",
        "time.sleep(2)\n",
        "# geemap.zonal_statistics(in_zone_vector=fc_to_reduction2,out_file_path=global_stats_path2,**parameters)\n",
        "# time.sleep(2)\n",
        "# geemap.zonal_statistics(in_zone_vector=fc_to_reduction3,out_file_path=global_stats_path3,**parameters)\n",
        "# time.sleep(2)"
      ]
    },
    {
      "cell_type": "code",
      "execution_count": null,
      "metadata": {
        "colab": {
          "base_uri": "https://localhost:8080/",
          "height": 297
        },
        "id": "5995UKTqc_ev",
        "outputId": "23934a5e-e9a0-42b3-d7e3-bd886f334e2f"
      },
      "outputs": [
        {
          "data": {
            "text/html": [
              "\n",
              "            <style>\n",
              "                .geemap-dark {\n",
              "                    --jp-widgets-color: white;\n",
              "                    --jp-widgets-label-color: white;\n",
              "                    --jp-ui-font-color1: white;\n",
              "                    --jp-layout-color2: #454545;\n",
              "                    background-color: #383838;\n",
              "                }\n",
              "                    \n",
              "                .geemap-dark .jupyter-button {\n",
              "                    --jp-layout-color3: #383838;\n",
              "                }\n",
              "                \n",
              "                .geemap-colab {\n",
              "                    background-color: var(--colab-primary-surface-color, white);\n",
              "                }\n",
              "                    \n",
              "                .geemap-colab .jupyter-button {\n",
              "                    --jp-layout-color3: var(--colab-primary-surface-color, white);\n",
              "                }\n",
              "            </style>\n",
              "            "
            ],
            "text/plain": [
              "<IPython.core.display.HTML object>"
            ]
          },
          "metadata": {},
          "output_type": "display_data"
        },
        {
          "name": "stdout",
          "output_type": "stream",
          "text": [
            "Computing statistics ...\n",
            "Generating URL ...\n",
            "Downloading data from https://earthengine.googleapis.com/v1/projects/earthengine-legacy/tables/1e034b2a24f0f833637af151bc25d2dd-36594491c5e137f5527a7985a843de73:getFeatures\n",
            "Please wait ...\n",
            "Data downloaded to /content/drive/MyDrive/Colab Notebooks/01_SugarcaneYieldPrediction/02_usinas_all/02_climatic_data_daily/02_climatic_data_daily_MEAN_safra_2223_4.csv\n",
            "Computing statistics ...\n",
            "Generating URL ...\n",
            "Downloading data from https://earthengine.googleapis.com/v1/projects/earthengine-legacy/tables/9fcf0232c8400d83dc28f00151f666a2-c56eb72ce429baca94bee242fa024906:getFeatures\n",
            "Please wait ...\n",
            "Data downloaded to /content/drive/MyDrive/Colab Notebooks/01_SugarcaneYieldPrediction/02_usinas_all/02_climatic_data_daily/02_climatic_data_daily_MEAN_safra_2223_5.csv\n",
            "Computing statistics ...\n",
            "Generating URL ...\n",
            "Downloading data from https://earthengine.googleapis.com/v1/projects/earthengine-legacy/tables/da5539c74d61892d1516abff21e9c8a9-71183f5e03806af859d510c1eea9157b:getFeatures\n",
            "Please wait ...\n",
            "Data downloaded to /content/drive/MyDrive/Colab Notebooks/01_SugarcaneYieldPrediction/02_usinas_all/02_climatic_data_daily/02_climatic_data_daily_MEAN_safra_2223_6.csv\n"
          ]
        }
      ],
      "source": [
        "# geemap.zonal_statistics(in_zone_vector=fc_to_reduction4,out_file_path=global_stats_path4,**parameters)\n",
        "# time.sleep(2)\n",
        "# geemap.zonal_statistics(in_zone_vector=fc_to_reduction5,out_file_path=global_stats_path5,**parameters)\n",
        "# time.sleep(2)\n",
        "# geemap.zonal_statistics(in_zone_vector=fc_to_reduction6,out_file_path=global_stats_path6,**parameters)\n",
        "# time.sleep(2)"
      ]
    },
    {
      "cell_type": "code",
      "execution_count": null,
      "metadata": {
        "colab": {
          "base_uri": "https://localhost:8080/",
          "height": 211
        },
        "id": "4uozccczc5fs",
        "outputId": "559815ef-122f-4c41-acbd-e0edc8ce9354"
      },
      "outputs": [
        {
          "data": {
            "text/html": [
              "\n",
              "            <style>\n",
              "                .geemap-dark {\n",
              "                    --jp-widgets-color: white;\n",
              "                    --jp-widgets-label-color: white;\n",
              "                    --jp-ui-font-color1: white;\n",
              "                    --jp-layout-color2: #454545;\n",
              "                    background-color: #383838;\n",
              "                }\n",
              "                    \n",
              "                .geemap-dark .jupyter-button {\n",
              "                    --jp-layout-color3: #383838;\n",
              "                }\n",
              "                \n",
              "                .geemap-colab {\n",
              "                    background-color: var(--colab-primary-surface-color, white);\n",
              "                }\n",
              "                    \n",
              "                .geemap-colab .jupyter-button {\n",
              "                    --jp-layout-color3: var(--colab-primary-surface-color, white);\n",
              "                }\n",
              "            </style>\n",
              "            "
            ],
            "text/plain": [
              "<IPython.core.display.HTML object>"
            ]
          },
          "metadata": {},
          "output_type": "display_data"
        },
        {
          "name": "stdout",
          "output_type": "stream",
          "text": [
            "Computing statistics ...\n",
            "Generating URL ...\n",
            "Downloading data from https://earthengine.googleapis.com/v1/projects/earthengine-legacy/tables/1d36f98494b004e58e3c7bc949e9a10d-a6345f3c61f8619ad3a13e389ffbcd69:getFeatures\n",
            "Please wait ...\n",
            "Data downloaded to /content/drive/MyDrive/Colab Notebooks/01_SugarcaneYieldPrediction/02_usinas_all/02_climatic_data_daily/02_climatic_data_daily_MEAN_safra_2223_7.csv\n",
            "Computing statistics ...\n",
            "Generating URL ...\n",
            "Downloading data from https://earthengine.googleapis.com/v1/projects/earthengine-legacy/tables/5adc868f3b2671addf77410de22759d6-abe9801d14a2c3ce1006faf7593b7afe:getFeatures\n",
            "Please wait ...\n",
            "Data downloaded to /content/drive/MyDrive/Colab Notebooks/01_SugarcaneYieldPrediction/02_usinas_all/02_climatic_data_daily/02_climatic_data_daily_MEAN_safra_2223_8.csv\n"
          ]
        }
      ],
      "source": [
        "# geemap.zonal_statistics(in_zone_vector=fc_to_reduction7,out_file_path=global_stats_path7,**parameters)\n",
        "# time.sleep(2)\n",
        "# geemap.zonal_statistics(in_zone_vector=fc_to_reduction8,out_file_path=global_stats_path8,**parameters)\n",
        "# time.sleep(2)"
      ]
    },
    {
      "cell_type": "code",
      "execution_count": null,
      "metadata": {
        "colab": {
          "base_uri": "https://localhost:8080/",
          "height": 211
        },
        "id": "8ELr3Q1KfZVZ",
        "outputId": "6da4b43d-a9ad-4506-9eeb-4614d1a85964"
      },
      "outputs": [
        {
          "data": {
            "text/html": [
              "\n",
              "            <style>\n",
              "                .geemap-dark {\n",
              "                    --jp-widgets-color: white;\n",
              "                    --jp-widgets-label-color: white;\n",
              "                    --jp-ui-font-color1: white;\n",
              "                    --jp-layout-color2: #454545;\n",
              "                    background-color: #383838;\n",
              "                }\n",
              "                    \n",
              "                .geemap-dark .jupyter-button {\n",
              "                    --jp-layout-color3: #383838;\n",
              "                }\n",
              "                \n",
              "                .geemap-colab {\n",
              "                    background-color: var(--colab-primary-surface-color, white);\n",
              "                }\n",
              "                    \n",
              "                .geemap-colab .jupyter-button {\n",
              "                    --jp-layout-color3: var(--colab-primary-surface-color, white);\n",
              "                }\n",
              "            </style>\n",
              "            "
            ],
            "text/plain": [
              "<IPython.core.display.HTML object>"
            ]
          },
          "metadata": {},
          "output_type": "display_data"
        },
        {
          "name": "stdout",
          "output_type": "stream",
          "text": [
            "Computing statistics ...\n",
            "Generating URL ...\n",
            "Downloading data from https://earthengine.googleapis.com/v1/projects/earthengine-legacy/tables/6a5bddf5de50e7e7e96cf2ed299c59b4-24515ac0c0bc09820bf15d7500c94b3f:getFeatures\n",
            "Please wait ...\n",
            "Data downloaded to /content/drive/MyDrive/Colab Notebooks/01_SugarcaneYieldPrediction/02_usinas_all/02_climatic_data_daily/02_climatic_data_daily_MEAN_safra_2223_9.csv\n",
            "Computing statistics ...\n",
            "Generating URL ...\n",
            "Downloading data from https://earthengine.googleapis.com/v1/projects/earthengine-legacy/tables/1d38a87bfaa6e95255f4d1e083628bdf-988846d8e3a744b70761c357bae70635:getFeatures\n",
            "Please wait ...\n",
            "Data downloaded to /content/drive/MyDrive/Colab Notebooks/01_SugarcaneYieldPrediction/02_usinas_all/02_climatic_data_daily/02_climatic_data_daily_MEAN_safra_2223_10.csv\n"
          ]
        }
      ],
      "source": [
        "# geemap.zonal_statistics(in_zone_vector=fc_to_reduction9,out_file_path=global_stats_path9,**parameters)\n",
        "# time.sleep(2)\n",
        "# geemap.zonal_statistics(in_zone_vector=fc_to_reduction10,out_file_path=global_stats_path10,**parameters)\n",
        "# time.sleep(2)"
      ]
    },
    {
      "cell_type": "code",
      "execution_count": null,
      "metadata": {
        "colab": {
          "base_uri": "https://localhost:8080/",
          "height": 297
        },
        "id": "V-8k7ZfjRYBB",
        "outputId": "2995f2e7-04a9-4f76-c925-8d0bb567f013"
      },
      "outputs": [
        {
          "data": {
            "text/html": [
              "\n",
              "            <style>\n",
              "                .geemap-dark {\n",
              "                    --jp-widgets-color: white;\n",
              "                    --jp-widgets-label-color: white;\n",
              "                    --jp-ui-font-color1: white;\n",
              "                    --jp-layout-color2: #454545;\n",
              "                    background-color: #383838;\n",
              "                }\n",
              "                    \n",
              "                .geemap-dark .jupyter-button {\n",
              "                    --jp-layout-color3: #383838;\n",
              "                }\n",
              "                \n",
              "                .geemap-colab {\n",
              "                    background-color: var(--colab-primary-surface-color, white);\n",
              "                }\n",
              "                    \n",
              "                .geemap-colab .jupyter-button {\n",
              "                    --jp-layout-color3: var(--colab-primary-surface-color, white);\n",
              "                }\n",
              "            </style>\n",
              "            "
            ],
            "text/plain": [
              "<IPython.core.display.HTML object>"
            ]
          },
          "metadata": {},
          "output_type": "display_data"
        },
        {
          "name": "stdout",
          "output_type": "stream",
          "text": [
            "Computing statistics ...\n",
            "Generating URL ...\n",
            "Downloading data from https://earthengine.googleapis.com/v1/projects/earthengine-legacy/tables/fc0c064cb5630f5a4777ba49b4d14147-94225c936ae04586acb05d6fa19988fc:getFeatures\n",
            "Please wait ...\n",
            "Data downloaded to /content/drive/MyDrive/Colab Notebooks/01_SugarcaneYieldPrediction/02_usinas_all/02_climatic_data_daily/02_climatic_data_daily_MEAN_safra_2223_11.csv\n",
            "Computing statistics ...\n",
            "Generating URL ...\n",
            "Downloading data from https://earthengine.googleapis.com/v1/projects/earthengine-legacy/tables/c2ec5dc4f36836ae22d98ab6fc2e19c0-9e42b2dd0904790a4135a81b88ae63bc:getFeatures\n",
            "Please wait ...\n",
            "Data downloaded to /content/drive/MyDrive/Colab Notebooks/01_SugarcaneYieldPrediction/02_usinas_all/02_climatic_data_daily/02_climatic_data_daily_MEAN_safra_2223_12.csv\n",
            "Computing statistics ...\n",
            "Generating URL ...\n",
            "Downloading data from https://earthengine.googleapis.com/v1/projects/earthengine-legacy/tables/a74376ce9e65c67a1e7df59be632eaf8-9d7c8ca4526702fc77564d00eed53dbf:getFeatures\n",
            "Please wait ...\n",
            "Data downloaded to /content/drive/MyDrive/Colab Notebooks/01_SugarcaneYieldPrediction/02_usinas_all/02_climatic_data_daily/02_climatic_data_daily_MEAN_safra_2223_13.csv\n"
          ]
        }
      ],
      "source": [
        "# geemap.zonal_statistics(in_zone_vector=fc_to_reduction11,out_file_path=global_stats_path11,**parameters)\n",
        "# time.sleep(2)\n",
        "# geemap.zonal_statistics(in_zone_vector=fc_to_reduction12,out_file_path=global_stats_path12,**parameters)\n",
        "# time.sleep(2)\n",
        "# geemap.zonal_statistics(in_zone_vector=fc_to_reduction13,out_file_path=global_stats_path13,**parameters)\n",
        "# time.sleep(2)"
      ]
    },
    {
      "cell_type": "code",
      "execution_count": null,
      "metadata": {
        "colab": {
          "base_uri": "https://localhost:8080/",
          "height": 211
        },
        "id": "mypwFXQSoFKd",
        "outputId": "88da4600-579a-4287-8101-685ef4dac7f3"
      },
      "outputs": [
        {
          "data": {
            "text/html": [
              "\n",
              "            <style>\n",
              "                .geemap-dark {\n",
              "                    --jp-widgets-color: white;\n",
              "                    --jp-widgets-label-color: white;\n",
              "                    --jp-ui-font-color1: white;\n",
              "                    --jp-layout-color2: #454545;\n",
              "                    background-color: #383838;\n",
              "                }\n",
              "                    \n",
              "                .geemap-dark .jupyter-button {\n",
              "                    --jp-layout-color3: #383838;\n",
              "                }\n",
              "                \n",
              "                .geemap-colab {\n",
              "                    background-color: var(--colab-primary-surface-color, white);\n",
              "                }\n",
              "                    \n",
              "                .geemap-colab .jupyter-button {\n",
              "                    --jp-layout-color3: var(--colab-primary-surface-color, white);\n",
              "                }\n",
              "            </style>\n",
              "            "
            ],
            "text/plain": [
              "<IPython.core.display.HTML object>"
            ]
          },
          "metadata": {},
          "output_type": "display_data"
        },
        {
          "name": "stdout",
          "output_type": "stream",
          "text": [
            "Computing statistics ...\n",
            "Generating URL ...\n",
            "Downloading data from https://earthengine.googleapis.com/v1/projects/earthengine-legacy/tables/dade807586e15cbe33ca3b3e74b7f6b9-43d5998f01d4ed5b58dce8b230abb501:getFeatures\n",
            "Please wait ...\n",
            "Data downloaded to /content/drive/MyDrive/Colab Notebooks/01_SugarcaneYieldPrediction/02_usinas_all/02_climatic_data_daily/02_climatic_data_daily_MEAN_safra_2223_14.csv\n",
            "Computing statistics ...\n",
            "Generating URL ...\n",
            "Downloading data from https://earthengine.googleapis.com/v1/projects/earthengine-legacy/tables/798c1194ebc299423924d801fa3d197c-b7dfc85c0d3e80a94b7a0742d830ae04:getFeatures\n",
            "Please wait ...\n",
            "Data downloaded to /content/drive/MyDrive/Colab Notebooks/01_SugarcaneYieldPrediction/02_usinas_all/02_climatic_data_daily/02_climatic_data_daily_MEAN_safra_2223_15.csv\n"
          ]
        }
      ],
      "source": [
        "# geemap.zonal_statistics(in_zone_vector=fc_to_reduction14,out_file_path=global_stats_path14,**parameters)\n",
        "# time.sleep(2)\n",
        "# geemap.zonal_statistics(in_zone_vector=fc_to_reduction15,out_file_path=global_stats_path15,**parameters)\n",
        "# time.sleep(2)"
      ]
    },
    {
      "cell_type": "markdown",
      "metadata": {
        "id": "X_Ykb8r16KqW"
      },
      "source": [
        "### Merge tables into a single one"
      ]
    },
    {
      "cell_type": "code",
      "execution_count": null,
      "metadata": {
        "colab": {
          "base_uri": "https://localhost:8080/",
          "height": 34
        },
        "id": "qFN-UlnhpiB4",
        "outputId": "40a0c8eb-cfe0-49fa-e9e5-5c30ca384617"
      },
      "outputs": [
        {
          "data": {
            "text/html": [
              "\n",
              "            <style>\n",
              "                .geemap-dark {\n",
              "                    --jp-widgets-color: white;\n",
              "                    --jp-widgets-label-color: white;\n",
              "                    --jp-ui-font-color1: white;\n",
              "                    --jp-layout-color2: #454545;\n",
              "                    background-color: #383838;\n",
              "                }\n",
              "                    \n",
              "                .geemap-dark .jupyter-button {\n",
              "                    --jp-layout-color3: #383838;\n",
              "                }\n",
              "                \n",
              "                .geemap-colab {\n",
              "                    background-color: var(--colab-primary-surface-color, white);\n",
              "                }\n",
              "                    \n",
              "                .geemap-colab .jupyter-button {\n",
              "                    --jp-layout-color3: var(--colab-primary-surface-color, white);\n",
              "                }\n",
              "            </style>\n",
              "            "
            ],
            "text/plain": [
              "<IPython.core.display.HTML object>"
            ]
          },
          "metadata": {},
          "output_type": "display_data"
        },
        {
          "name": "stdout",
          "output_type": "stream",
          "text": [
            "15 paths\n"
          ]
        }
      ],
      "source": [
        "# Define the paths to your CSV files\n",
        "file_paths = [\n",
        "    os.path.join(out_path, f'02_climatic_data_daily_{statistics_Type}_safra_{CropSeason}_{i}.csv')\n",
        "    for i in range(1, 16)\n",
        "]\n",
        "\n",
        "print(len(file_paths), 'paths')"
      ]
    },
    {
      "cell_type": "code",
      "execution_count": null,
      "metadata": {
        "colab": {
          "base_uri": "https://localhost:8080/",
          "height": 34
        },
        "id": "iaf--6TFqoYq",
        "outputId": "6086be8b-c618-4031-d434-b32f5f752f46"
      },
      "outputs": [
        {
          "data": {
            "text/html": [
              "\n",
              "            <style>\n",
              "                .geemap-dark {\n",
              "                    --jp-widgets-color: white;\n",
              "                    --jp-widgets-label-color: white;\n",
              "                    --jp-ui-font-color1: white;\n",
              "                    --jp-layout-color2: #454545;\n",
              "                    background-color: #383838;\n",
              "                }\n",
              "                    \n",
              "                .geemap-dark .jupyter-button {\n",
              "                    --jp-layout-color3: #383838;\n",
              "                }\n",
              "                \n",
              "                .geemap-colab {\n",
              "                    background-color: var(--colab-primary-surface-color, white);\n",
              "                }\n",
              "                    \n",
              "                .geemap-colab .jupyter-button {\n",
              "                    --jp-layout-color3: var(--colab-primary-surface-color, white);\n",
              "                }\n",
              "            </style>\n",
              "            "
            ],
            "text/plain": [
              "<IPython.core.display.HTML object>"
            ]
          },
          "metadata": {},
          "output_type": "display_data"
        },
        {
          "name": "stdout",
          "output_type": "stream",
          "text": [
            "Dataframes merged!\n"
          ]
        }
      ],
      "source": [
        "# Create an empty DataFrame to store the merged data\n",
        "merged_df = pd.DataFrame()\n",
        "\n",
        "# Loop through the CSV files and merge them\n",
        "for file_path in file_paths:\n",
        "    if os.path.exists(file_path):\n",
        "        # Read each CSV file into a DataFrame\n",
        "        df = pd.read_csv(file_path)\n",
        "\n",
        "        # Remove the \"system:index\" column if it exists\n",
        "        if \"system:index\" in df.columns:\n",
        "            df = df.drop(columns=[\"system:index\"])\n",
        "\n",
        "        # Merge the data into the merged_df\n",
        "        if merged_df.empty:\n",
        "            merged_df = df\n",
        "        else:  # Fix the typo here (remove \"ID\")\n",
        "            merged_df = pd.concat([merged_df, df], axis=0, ignore_index=True)\n",
        "\n",
        "# Move the last column (ID_SIG) to the first position\n",
        "merged_df = merged_df[[merged_df.columns[-1]] + list(merged_df.columns[:-1])]\n",
        "print('Dataframes merged!')"
      ]
    },
    {
      "cell_type": "code",
      "execution_count": null,
      "metadata": {
        "colab": {
          "base_uri": "https://localhost:8080/",
          "height": 54
        },
        "id": "Btxi3HtDqGFW",
        "outputId": "7f17e5fc-f0c9-4373-e418-468301fd53f8"
      },
      "outputs": [
        {
          "data": {
            "text/html": [
              "\n",
              "            <style>\n",
              "                .geemap-dark {\n",
              "                    --jp-widgets-color: white;\n",
              "                    --jp-widgets-label-color: white;\n",
              "                    --jp-ui-font-color1: white;\n",
              "                    --jp-layout-color2: #454545;\n",
              "                    background-color: #383838;\n",
              "                }\n",
              "                    \n",
              "                .geemap-dark .jupyter-button {\n",
              "                    --jp-layout-color3: #383838;\n",
              "                }\n",
              "                \n",
              "                .geemap-colab {\n",
              "                    background-color: var(--colab-primary-surface-color, white);\n",
              "                }\n",
              "                    \n",
              "                .geemap-colab .jupyter-button {\n",
              "                    --jp-layout-color3: var(--colab-primary-surface-color, white);\n",
              "                }\n",
              "            </style>\n",
              "            "
            ],
            "text/plain": [
              "<IPython.core.display.HTML object>"
            ]
          },
          "metadata": {},
          "output_type": "display_data"
        },
        {
          "name": "stdout",
          "output_type": "stream",
          "text": [
            "Merged CSV file saved at: /content/drive/MyDrive/Colab Notebooks/01_SugarcaneYieldPrediction/02_usinas_all/02_climatic_data_daily/02_climatic_data_daily_MEAN_safra_2223_merged.csv\n"
          ]
        }
      ],
      "source": [
        "# Define the path for the output merged CSV file\n",
        "merged_csv_path = os.path.join(out_path, f'02_climatic_data_daily_{statistics_Type}_safra_{CropSeason}_merged.csv')\n",
        "\n",
        "# Save the merged DataFrame to a CSV file\n",
        "merged_df.to_csv(merged_csv_path, encoding='utf-8', index=False)\n",
        "\n",
        "# Print the path to the merged CSV file\n",
        "print(f'Merged CSV file saved at: {merged_csv_path}')"
      ]
    },
    {
      "cell_type": "code",
      "execution_count": null,
      "metadata": {
        "colab": {
          "base_uri": "https://localhost:8080/",
          "height": 297
        },
        "id": "exVDE08TO5B1",
        "outputId": "71f3b039-5a1d-49a1-d479-e7268aa3f8fe"
      },
      "outputs": [
        {
          "data": {
            "text/html": [
              "\n",
              "            <style>\n",
              "                .geemap-dark {\n",
              "                    --jp-widgets-color: white;\n",
              "                    --jp-widgets-label-color: white;\n",
              "                    --jp-ui-font-color1: white;\n",
              "                    --jp-layout-color2: #454545;\n",
              "                    background-color: #383838;\n",
              "                }\n",
              "                    \n",
              "                .geemap-dark .jupyter-button {\n",
              "                    --jp-layout-color3: #383838;\n",
              "                }\n",
              "                \n",
              "                .geemap-colab {\n",
              "                    background-color: var(--colab-primary-surface-color, white);\n",
              "                }\n",
              "                    \n",
              "                .geemap-colab .jupyter-button {\n",
              "                    --jp-layout-color3: var(--colab-primary-surface-color, white);\n",
              "                }\n",
              "            </style>\n",
              "            "
            ],
            "text/plain": [
              "<IPython.core.display.HTML object>"
            ]
          },
          "metadata": {},
          "output_type": "display_data"
        },
        {
          "name": "stdout",
          "output_type": "stream",
          "text": [
            "Deleted: /content/drive/MyDrive/Colab Notebooks/01_SugarcaneYieldPrediction/02_usinas_all/02_climatic_data_daily/02_climatic_data_daily_MEAN_safra_2223_1.csv\n",
            "Deleted: /content/drive/MyDrive/Colab Notebooks/01_SugarcaneYieldPrediction/02_usinas_all/02_climatic_data_daily/02_climatic_data_daily_MEAN_safra_2223_2.csv\n",
            "Deleted: /content/drive/MyDrive/Colab Notebooks/01_SugarcaneYieldPrediction/02_usinas_all/02_climatic_data_daily/02_climatic_data_daily_MEAN_safra_2223_3.csv\n",
            "Deleted: /content/drive/MyDrive/Colab Notebooks/01_SugarcaneYieldPrediction/02_usinas_all/02_climatic_data_daily/02_climatic_data_daily_MEAN_safra_2223_4.csv\n",
            "Deleted: /content/drive/MyDrive/Colab Notebooks/01_SugarcaneYieldPrediction/02_usinas_all/02_climatic_data_daily/02_climatic_data_daily_MEAN_safra_2223_5.csv\n",
            "Deleted: /content/drive/MyDrive/Colab Notebooks/01_SugarcaneYieldPrediction/02_usinas_all/02_climatic_data_daily/02_climatic_data_daily_MEAN_safra_2223_6.csv\n",
            "Deleted: /content/drive/MyDrive/Colab Notebooks/01_SugarcaneYieldPrediction/02_usinas_all/02_climatic_data_daily/02_climatic_data_daily_MEAN_safra_2223_7.csv\n",
            "Deleted: /content/drive/MyDrive/Colab Notebooks/01_SugarcaneYieldPrediction/02_usinas_all/02_climatic_data_daily/02_climatic_data_daily_MEAN_safra_2223_8.csv\n",
            "Deleted: /content/drive/MyDrive/Colab Notebooks/01_SugarcaneYieldPrediction/02_usinas_all/02_climatic_data_daily/02_climatic_data_daily_MEAN_safra_2223_9.csv\n",
            "Deleted: /content/drive/MyDrive/Colab Notebooks/01_SugarcaneYieldPrediction/02_usinas_all/02_climatic_data_daily/02_climatic_data_daily_MEAN_safra_2223_10.csv\n",
            "Deleted: /content/drive/MyDrive/Colab Notebooks/01_SugarcaneYieldPrediction/02_usinas_all/02_climatic_data_daily/02_climatic_data_daily_MEAN_safra_2223_11.csv\n",
            "Deleted: /content/drive/MyDrive/Colab Notebooks/01_SugarcaneYieldPrediction/02_usinas_all/02_climatic_data_daily/02_climatic_data_daily_MEAN_safra_2223_12.csv\n",
            "Deleted: /content/drive/MyDrive/Colab Notebooks/01_SugarcaneYieldPrediction/02_usinas_all/02_climatic_data_daily/02_climatic_data_daily_MEAN_safra_2223_13.csv\n",
            "Deleted: /content/drive/MyDrive/Colab Notebooks/01_SugarcaneYieldPrediction/02_usinas_all/02_climatic_data_daily/02_climatic_data_daily_MEAN_safra_2223_14.csv\n",
            "Deleted: /content/drive/MyDrive/Colab Notebooks/01_SugarcaneYieldPrediction/02_usinas_all/02_climatic_data_daily/02_climatic_data_daily_MEAN_safra_2223_15.csv\n"
          ]
        }
      ],
      "source": [
        "# Delete CSV files single that were merged\n",
        "for file_path in file_paths:\n",
        "    try:\n",
        "        os.remove(file_path)\n",
        "        print(f\"Deleted: {file_path}\")\n",
        "    except FileNotFoundError:\n",
        "        print(f\"File not found: {file_path}\")\n",
        "    except Exception as e:\n",
        "        print(f\"Error deleting {file_path}: {e}\")"
      ]
    }
  ],
  "metadata": {
    "colab": {
      "toc_visible": true,
      "provenance": [],
      "mount_file_id": "1Dd3tcudE4Q8EBglR3vLvoFtmnZHML7xS",
      "authorship_tag": "ABX9TyPVjmu+hmfYPLp+jAcyLGu0"
    },
    "kernelspec": {
      "display_name": "Python 3",
      "name": "python3"
    },
    "language_info": {
      "name": "python"
    },
    "widgets": {
      "application/vnd.jupyter.widget-state+json": {
        "015a6e7f63504a71a13b415583dc1600": {
          "model_module": "jupyter-leaflet",
          "model_module_version": "^0.18",
          "model_name": "LeafletMapStyleModel",
          "state": {
            "_model_module": "jupyter-leaflet",
            "_model_module_version": "^0.18",
            "_model_name": "LeafletMapStyleModel",
            "_view_count": null,
            "_view_module": "@jupyter-widgets/base",
            "_view_module_version": "1.2.0",
            "_view_name": "StyleView",
            "cursor": "move"
          }
        },
        "020384757ce74e779e7aef5564ac49ab": {
          "model_module": "@jupyter-widgets/base",
          "model_module_version": "1.2.0",
          "model_name": "LayoutModel",
          "state": {
            "_model_module": "@jupyter-widgets/base",
            "_model_module_version": "1.2.0",
            "_model_name": "LayoutModel",
            "_view_count": null,
            "_view_module": "@jupyter-widgets/base",
            "_view_module_version": "1.2.0",
            "_view_name": "LayoutView",
            "align_content": null,
            "align_items": null,
            "align_self": null,
            "border": null,
            "bottom": null,
            "display": null,
            "flex": null,
            "flex_flow": null,
            "grid_area": null,
            "grid_auto_columns": null,
            "grid_auto_flow": null,
            "grid_auto_rows": null,
            "grid_column": null,
            "grid_gap": null,
            "grid_row": null,
            "grid_template_areas": null,
            "grid_template_columns": null,
            "grid_template_rows": null,
            "height": null,
            "justify_content": null,
            "justify_items": null,
            "left": null,
            "margin": null,
            "max_height": null,
            "max_width": null,
            "min_height": null,
            "min_width": null,
            "object_fit": null,
            "object_position": null,
            "order": null,
            "overflow": null,
            "overflow_x": null,
            "overflow_y": null,
            "padding": null,
            "right": null,
            "top": null,
            "visibility": null,
            "width": null
          }
        },
        "0307990d30ff4208960ba5714362e54b": {
          "model_module": "jupyter-leaflet",
          "model_module_version": "^0.18",
          "model_name": "LeafletTileLayerModel",
          "state": {
            "_model_module": "jupyter-leaflet",
            "_model_module_version": "^0.18",
            "_model_name": "LeafletTileLayerModel",
            "_view_count": null,
            "_view_module": "jupyter-leaflet",
            "_view_module_version": "^0.18",
            "_view_name": "LeafletTileLayerView",
            "attribution": "Google Earth Engine",
            "base": false,
            "bottom": true,
            "bounds": null,
            "detect_retina": false,
            "loading": false,
            "max_native_zoom": null,
            "max_zoom": 24,
            "min_native_zoom": null,
            "min_zoom": 0,
            "name": "Most Recent Image - ETP",
            "no_wrap": false,
            "opacity": 1,
            "options": [
              "attribution",
              "bounds",
              "detect_retina",
              "max_native_zoom",
              "max_zoom",
              "min_native_zoom",
              "min_zoom",
              "no_wrap",
              "tile_size",
              "tms",
              "zoom_offset"
            ],
            "pane": "",
            "popup": null,
            "popup_max_height": null,
            "popup_max_width": 300,
            "popup_min_width": 50,
            "show_loading": false,
            "subitems": [],
            "tile_size": 256,
            "tms": false,
            "url": "https://earthengine.googleapis.com/v1/projects/earthengine-legacy/maps/b4d5da2d2b7a044be55a573bcc31292b-99b5b465b36cef425fe977c561f938c0/tiles/{z}/{x}/{y}",
            "visible": true,
            "zoom_offset": 0
          }
        },
        "092c2a7d22134801b4b00dee5d9a5678": {
          "model_module": "@jupyter-widgets/controls",
          "model_module_version": "1.5.0",
          "model_name": "DescriptionStyleModel",
          "state": {
            "_model_module": "@jupyter-widgets/controls",
            "_model_module_version": "1.5.0",
            "_model_name": "DescriptionStyleModel",
            "_view_count": null,
            "_view_module": "@jupyter-widgets/base",
            "_view_module_version": "1.2.0",
            "_view_name": "StyleView",
            "description_width": ""
          }
        },
        "15534c6a0287488088774e2a4df3596c": {
          "model_module": "jupyter-leaflet",
          "model_module_version": "^0.18",
          "model_name": "LeafletMeasureControlModel",
          "state": {
            "_custom_units": {},
            "_model_module": "jupyter-leaflet",
            "_model_module_version": "^0.18",
            "_model_name": "LeafletMeasureControlModel",
            "_view_count": null,
            "_view_module": "jupyter-leaflet",
            "_view_module_version": "^0.18",
            "_view_name": "LeafletMeasureControlView",
            "active_color": "orange",
            "capture_z_index": 10000,
            "completed_color": "#C8F2BE",
            "options": [
              "active_color",
              "capture_z_index",
              "completed_color",
              "popup_options",
              "position",
              "primary_area_unit",
              "primary_length_unit",
              "secondary_area_unit",
              "secondary_length_unit"
            ],
            "popup_options": {
              "autoPanPadding": [
                10,
                10
              ],
              "className": "leaflet-measure-resultpopup"
            },
            "position": "bottomleft",
            "primary_area_unit": "acres",
            "primary_length_unit": "kilometers",
            "secondary_area_unit": null,
            "secondary_length_unit": null
          }
        },
        "158e8a54e2134164983c1ba03b879379": {
          "model_module": "@jupyter-widgets/base",
          "model_module_version": "1.2.0",
          "model_name": "LayoutModel",
          "state": {
            "_model_module": "@jupyter-widgets/base",
            "_model_module_version": "1.2.0",
            "_model_name": "LayoutModel",
            "_view_count": null,
            "_view_module": "@jupyter-widgets/base",
            "_view_module_version": "1.2.0",
            "_view_name": "LayoutView",
            "align_content": null,
            "align_items": null,
            "align_self": null,
            "border": null,
            "bottom": null,
            "display": null,
            "flex": null,
            "flex_flow": null,
            "grid_area": null,
            "grid_auto_columns": null,
            "grid_auto_flow": null,
            "grid_auto_rows": null,
            "grid_column": null,
            "grid_gap": null,
            "grid_row": null,
            "grid_template_areas": null,
            "grid_template_columns": null,
            "grid_template_rows": null,
            "height": "28px",
            "justify_content": null,
            "justify_items": null,
            "left": null,
            "margin": null,
            "max_height": null,
            "max_width": null,
            "min_height": null,
            "min_width": null,
            "object_fit": null,
            "object_position": null,
            "order": null,
            "overflow": null,
            "overflow_x": null,
            "overflow_y": null,
            "padding": "0px 0px 0px 4px",
            "right": null,
            "top": null,
            "visibility": null,
            "width": "28px"
          }
        },
        "19f632e51d2b408e983e02eb31c61758": {
          "model_module": "@jupyter-widgets/controls",
          "model_module_version": "1.5.0",
          "model_name": "DescriptionStyleModel",
          "state": {
            "_model_module": "@jupyter-widgets/controls",
            "_model_module_version": "1.5.0",
            "_model_name": "DescriptionStyleModel",
            "_view_count": null,
            "_view_module": "@jupyter-widgets/base",
            "_view_module_version": "1.2.0",
            "_view_name": "StyleView",
            "description_width": ""
          }
        },
        "1aa0eca53c104145a14c13b2aa806145": {
          "model_module": "jupyter-leaflet",
          "model_module_version": "^0.18",
          "model_name": "LeafletTileLayerModel",
          "state": {
            "_model_module": "jupyter-leaflet",
            "_model_module_version": "^0.18",
            "_model_name": "LeafletTileLayerModel",
            "_view_count": null,
            "_view_module": "jupyter-leaflet",
            "_view_module_version": "^0.18",
            "_view_name": "LeafletTileLayerView",
            "attribution": "Google Earth Engine",
            "base": false,
            "bottom": true,
            "bounds": null,
            "detect_retina": false,
            "loading": false,
            "max_native_zoom": null,
            "max_zoom": 24,
            "min_native_zoom": null,
            "min_zoom": 0,
            "name": "fc",
            "no_wrap": false,
            "opacity": 1,
            "options": [
              "attribution",
              "bounds",
              "detect_retina",
              "max_native_zoom",
              "max_zoom",
              "min_native_zoom",
              "min_zoom",
              "no_wrap",
              "tile_size",
              "tms",
              "zoom_offset"
            ],
            "pane": "",
            "popup": null,
            "popup_max_height": null,
            "popup_max_width": 300,
            "popup_min_width": 50,
            "show_loading": false,
            "subitems": [],
            "tile_size": 256,
            "tms": false,
            "url": "https://earthengine.googleapis.com/v1/projects/earthengine-legacy/maps/cb090abceacae9c650e781412603d9d8-a75cd947419a74ece689f60b30afaaee/tiles/{z}/{x}/{y}",
            "visible": true,
            "zoom_offset": 0
          }
        },
        "1b6fb1d29628431b9a526cb9780b2f16": {
          "model_module": "jupyter-leaflet",
          "model_module_version": "^0.18",
          "model_name": "LeafletAttributionControlModel",
          "state": {
            "_model_module": "jupyter-leaflet",
            "_model_module_version": "^0.18",
            "_model_name": "LeafletAttributionControlModel",
            "_view_count": null,
            "_view_module": "jupyter-leaflet",
            "_view_module_version": "^0.18",
            "_view_name": "LeafletAttributionControlView",
            "options": [
              "position",
              "prefix"
            ],
            "position": "bottomright",
            "prefix": "ipyleaflet"
          }
        },
        "25dea025d2a442729d31282ced662ed5": {
          "model_module": "jupyter-leaflet",
          "model_module_version": "^0.18",
          "model_name": "LeafletTileLayerModel",
          "state": {
            "_model_module": "jupyter-leaflet",
            "_model_module_version": "^0.18",
            "_model_name": "LeafletTileLayerModel",
            "_view_count": null,
            "_view_module": "jupyter-leaflet",
            "_view_module_version": "^0.18",
            "_view_name": "LeafletTileLayerView",
            "attribution": "Esri",
            "base": true,
            "bottom": true,
            "bounds": null,
            "detect_retina": false,
            "loading": false,
            "max_native_zoom": null,
            "max_zoom": 24,
            "min_native_zoom": null,
            "min_zoom": 0,
            "name": "Esri.WorldImagery",
            "no_wrap": false,
            "opacity": 1,
            "options": [
              "attribution",
              "bounds",
              "detect_retina",
              "max_native_zoom",
              "max_zoom",
              "min_native_zoom",
              "min_zoom",
              "no_wrap",
              "tile_size",
              "tms",
              "zoom_offset"
            ],
            "pane": "",
            "popup": null,
            "popup_max_height": null,
            "popup_max_width": 300,
            "popup_min_width": 50,
            "show_loading": false,
            "subitems": [],
            "tile_size": 256,
            "tms": false,
            "url": "https://server.arcgisonline.com/ArcGIS/rest/services/World_Imagery/MapServer/tile/{z}/{y}/{x}",
            "visible": true,
            "zoom_offset": 0
          }
        },
        "383d6296c60040dfbbc528d5c2508a46": {
          "model_module": "jupyter-leaflet",
          "model_module_version": "^0.18",
          "model_name": "LeafletTileLayerModel",
          "state": {
            "_model_module": "jupyter-leaflet",
            "_model_module_version": "^0.18",
            "_model_name": "LeafletTileLayerModel",
            "_view_count": null,
            "_view_module": "jupyter-leaflet",
            "_view_module_version": "^0.18",
            "_view_name": "LeafletTileLayerView",
            "attribution": "Google Earth Engine",
            "base": false,
            "bottom": true,
            "bounds": null,
            "detect_retina": false,
            "loading": false,
            "max_native_zoom": null,
            "max_zoom": 24,
            "min_native_zoom": null,
            "min_zoom": 0,
            "name": "Bbox",
            "no_wrap": false,
            "opacity": 1,
            "options": [
              "attribution",
              "bounds",
              "detect_retina",
              "max_native_zoom",
              "max_zoom",
              "min_native_zoom",
              "min_zoom",
              "no_wrap",
              "tile_size",
              "tms",
              "zoom_offset"
            ],
            "pane": "",
            "popup": null,
            "popup_max_height": null,
            "popup_max_width": 300,
            "popup_min_width": 50,
            "show_loading": false,
            "subitems": [],
            "tile_size": 256,
            "tms": false,
            "url": "https://earthengine.googleapis.com/v1/projects/earthengine-legacy/maps/7a4962b9d5261531bc934fc3ce59f207-41f9e69563a779c0eafc269fcc7bfe3a/tiles/{z}/{x}/{y}",
            "visible": true,
            "zoom_offset": 0
          }
        },
        "3a7f1150a3a54aa2ae8769e5acd37f50": {
          "model_module": "@jupyter-widgets/base",
          "model_module_version": "1.2.0",
          "model_name": "LayoutModel",
          "state": {
            "_model_module": "@jupyter-widgets/base",
            "_model_module_version": "1.2.0",
            "_model_name": "LayoutModel",
            "_view_count": null,
            "_view_module": "@jupyter-widgets/base",
            "_view_module_version": "1.2.0",
            "_view_name": "LayoutView",
            "align_content": null,
            "align_items": null,
            "align_self": null,
            "border": null,
            "bottom": null,
            "display": null,
            "flex": null,
            "flex_flow": null,
            "grid_area": null,
            "grid_auto_columns": null,
            "grid_auto_flow": null,
            "grid_auto_rows": null,
            "grid_column": null,
            "grid_gap": null,
            "grid_row": null,
            "grid_template_areas": null,
            "grid_template_columns": null,
            "grid_template_rows": null,
            "height": "600px",
            "justify_content": null,
            "justify_items": null,
            "left": null,
            "margin": null,
            "max_height": null,
            "max_width": null,
            "min_height": null,
            "min_width": null,
            "object_fit": null,
            "object_position": null,
            "order": null,
            "overflow": null,
            "overflow_x": null,
            "overflow_y": null,
            "padding": null,
            "right": null,
            "top": null,
            "visibility": null,
            "width": null
          }
        },
        "3ba9c24b1ff44961a090380e9fe053ac": {
          "model_module": "jupyter-leaflet",
          "model_module_version": "^0.18",
          "model_name": "LeafletFullScreenControlModel",
          "state": {
            "_model_module": "jupyter-leaflet",
            "_model_module_version": "^0.18",
            "_model_name": "LeafletFullScreenControlModel",
            "_view_count": null,
            "_view_module": "jupyter-leaflet",
            "_view_module_version": "^0.18",
            "_view_name": "LeafletFullScreenControlView",
            "options": [
              "position"
            ],
            "position": "topleft"
          }
        },
        "3f58b13194f44cdab07caac1290af2d2": {
          "model_module": "jupyter-leaflet",
          "model_module_version": "^0.18",
          "model_name": "LeafletMapStyleModel",
          "state": {
            "_model_module": "jupyter-leaflet",
            "_model_module_version": "^0.18",
            "_model_name": "LeafletMapStyleModel",
            "_view_count": null,
            "_view_module": "@jupyter-widgets/base",
            "_view_module_version": "1.2.0",
            "_view_name": "StyleView",
            "cursor": "grab"
          }
        },
        "40fefc070b3949f0a101d4857f245423": {
          "model_module": "@jupyter-widgets/base",
          "model_module_version": "1.2.0",
          "model_name": "LayoutModel",
          "state": {
            "_model_module": "@jupyter-widgets/base",
            "_model_module_version": "1.2.0",
            "_model_name": "LayoutModel",
            "_view_count": null,
            "_view_module": "@jupyter-widgets/base",
            "_view_module_version": "1.2.0",
            "_view_name": "LayoutView",
            "align_content": null,
            "align_items": null,
            "align_self": null,
            "border": null,
            "bottom": null,
            "display": null,
            "flex": null,
            "flex_flow": null,
            "grid_area": null,
            "grid_auto_columns": null,
            "grid_auto_flow": null,
            "grid_auto_rows": null,
            "grid_column": null,
            "grid_gap": null,
            "grid_row": null,
            "grid_template_areas": null,
            "grid_template_columns": null,
            "grid_template_rows": null,
            "height": null,
            "justify_content": null,
            "justify_items": null,
            "left": null,
            "margin": null,
            "max_height": null,
            "max_width": null,
            "min_height": null,
            "min_width": null,
            "object_fit": null,
            "object_position": null,
            "order": null,
            "overflow": null,
            "overflow_x": null,
            "overflow_y": null,
            "padding": null,
            "right": null,
            "top": null,
            "visibility": null,
            "width": null
          }
        },
        "42162763ce1549cea8b3b5efafd0dc70": {
          "model_module": "jupyter-leaflet",
          "model_module_version": "^0.18",
          "model_name": "LeafletMapStyleModel",
          "state": {
            "_model_module": "jupyter-leaflet",
            "_model_module_version": "^0.18",
            "_model_name": "LeafletMapStyleModel",
            "_view_count": null,
            "_view_module": "@jupyter-widgets/base",
            "_view_module_version": "1.2.0",
            "_view_name": "StyleView",
            "cursor": "move"
          }
        },
        "58a0c245bfcb4126b6d2296d65fce20c": {
          "model_module": "jupyter-leaflet",
          "model_module_version": "^0.18",
          "model_name": "LeafletZoomControlModel",
          "state": {
            "_model_module": "jupyter-leaflet",
            "_model_module_version": "^0.18",
            "_model_name": "LeafletZoomControlModel",
            "_view_count": null,
            "_view_module": "jupyter-leaflet",
            "_view_module_version": "^0.18",
            "_view_name": "LeafletZoomControlView",
            "options": [
              "position",
              "zoom_in_text",
              "zoom_in_title",
              "zoom_out_text",
              "zoom_out_title"
            ],
            "position": "topleft",
            "zoom_in_text": "+",
            "zoom_in_title": "Zoom in",
            "zoom_out_text": "-",
            "zoom_out_title": "Zoom out"
          }
        },
        "58f70cacebe845229b4ed868db6c7e89": {
          "model_module": "jupyter-leaflet",
          "model_module_version": "^0.18",
          "model_name": "LeafletMapModel",
          "state": {
            "_dom_classes": [],
            "_model_module": "jupyter-leaflet",
            "_model_module_version": "^0.18",
            "_model_name": "LeafletMapModel",
            "_view_count": null,
            "_view_module": "jupyter-leaflet",
            "_view_module_version": "^0.18",
            "_view_name": "LeafletMapView",
            "bottom": 37027,
            "bounce_at_zoom_limits": true,
            "box_zoom": true,
            "center": [
              -21.242562902824027,
              -50.06488035654671
            ],
            "close_popup_on_click": true,
            "controls": [
              "IPY_MODEL_c34fb1339ced43a1813ab136d2896b21",
              "IPY_MODEL_58a0c245bfcb4126b6d2296d65fce20c",
              "IPY_MODEL_3ba9c24b1ff44961a090380e9fe053ac",
              "IPY_MODEL_a7bea653bc8b4700a0ab580ecbf96a6f",
              "IPY_MODEL_ebc5236a065b4341a823137d5491b8da",
              "IPY_MODEL_15534c6a0287488088774e2a4df3596c",
              "IPY_MODEL_f0531bab10fa45de8ed6eccdba7d7b0d",
              "IPY_MODEL_dd388a100e77444ca662a32718862051"
            ],
            "crs": {
              "custom": false,
              "name": "EPSG3857"
            },
            "default_style": "IPY_MODEL_6d180792dc7846dea34109f044b6eaf9",
            "double_click_zoom": true,
            "dragging": true,
            "dragging_style": "IPY_MODEL_015a6e7f63504a71a13b415583dc1600",
            "east": -47.493896484375,
            "fullscreen": false,
            "inertia": true,
            "inertia_deceleration": 3000,
            "inertia_max_speed": 1500,
            "interpolation": "bilinear",
            "keyboard": true,
            "keyboard_pan_offset": 80,
            "keyboard_zoom_offset": 1,
            "layers": [
              "IPY_MODEL_663fd2d06214453eb90d02d308a134a8",
              "IPY_MODEL_0307990d30ff4208960ba5714362e54b"
            ],
            "layout": "IPY_MODEL_3a7f1150a3a54aa2ae8769e5acd37f50",
            "left": 23185,
            "max_zoom": 24,
            "min_zoom": null,
            "modisdate": "2023-12-08",
            "north": -19.699485994162497,
            "options": [
              "bounce_at_zoom_limits",
              "box_zoom",
              "center",
              "close_popup_on_click",
              "double_click_zoom",
              "dragging",
              "fullscreen",
              "inertia",
              "inertia_deceleration",
              "inertia_max_speed",
              "interpolation",
              "keyboard",
              "keyboard_pan_offset",
              "keyboard_zoom_offset",
              "max_zoom",
              "min_zoom",
              "prefer_canvas",
              "scroll_wheel_zoom",
              "tap",
              "tap_tolerance",
              "touch_zoom",
              "world_copy_jump",
              "zoom",
              "zoom_animation_threshold",
              "zoom_delta",
              "zoom_snap"
            ],
            "panes": {},
            "prefer_canvas": false,
            "right": 24122,
            "scroll_wheel_zoom": true,
            "south": -22.771116581083135,
            "style": "IPY_MODEL_3f58b13194f44cdab07caac1290af2d2",
            "tap": true,
            "tap_tolerance": 15,
            "top": 36427,
            "touch_zoom": true,
            "west": -52.64099121093751,
            "window_url": "https://9vsv7fz4b2h-496ff2e9c6d22116-0-colab.googleusercontent.com/outputframe.html?vrz=colab_20231207-060210_RC00_588724798",
            "world_copy_jump": false,
            "zoom": 8,
            "zoom_animation_threshold": 4,
            "zoom_delta": 1,
            "zoom_snap": 1
          }
        },
        "5fcaecc7d39148ca9ecde26b9272f68b": {
          "model_module": "@jupyter-widgets/controls",
          "model_module_version": "1.5.0",
          "model_name": "ToggleButtonModel",
          "state": {
            "_dom_classes": [],
            "_model_module": "@jupyter-widgets/controls",
            "_model_module_version": "1.5.0",
            "_model_name": "ToggleButtonModel",
            "_view_count": null,
            "_view_module": "@jupyter-widgets/controls",
            "_view_module_version": "1.5.0",
            "_view_name": "ToggleButtonView",
            "button_style": "",
            "description": "",
            "description_tooltip": null,
            "disabled": false,
            "icon": "globe",
            "layout": "IPY_MODEL_a49f07d553854e9ea7c8031b4c9adcc6",
            "style": "IPY_MODEL_fd33327591504320a8fd3abf0fc03740",
            "tooltip": "Search location/data",
            "value": false
          }
        },
        "663fd2d06214453eb90d02d308a134a8": {
          "model_module": "jupyter-leaflet",
          "model_module_version": "^0.18",
          "model_name": "LeafletTileLayerModel",
          "state": {
            "_model_module": "jupyter-leaflet",
            "_model_module_version": "^0.18",
            "_model_name": "LeafletTileLayerModel",
            "_view_count": null,
            "_view_module": "jupyter-leaflet",
            "_view_module_version": "^0.18",
            "_view_name": "LeafletTileLayerView",
            "attribution": "Esri",
            "base": true,
            "bottom": true,
            "bounds": null,
            "detect_retina": false,
            "loading": false,
            "max_native_zoom": null,
            "max_zoom": 24,
            "min_native_zoom": null,
            "min_zoom": 0,
            "name": "Esri.WorldImagery",
            "no_wrap": false,
            "opacity": 1,
            "options": [
              "attribution",
              "bounds",
              "detect_retina",
              "max_native_zoom",
              "max_zoom",
              "min_native_zoom",
              "min_zoom",
              "no_wrap",
              "tile_size",
              "tms",
              "zoom_offset"
            ],
            "pane": "",
            "popup": null,
            "popup_max_height": null,
            "popup_max_width": 300,
            "popup_min_width": 50,
            "show_loading": false,
            "subitems": [],
            "tile_size": 256,
            "tms": false,
            "url": "https://server.arcgisonline.com/ArcGIS/rest/services/World_Imagery/MapServer/tile/{z}/{y}/{x}",
            "visible": true,
            "zoom_offset": 0
          }
        },
        "66ef67c899d843119ce23e2f8299053c": {
          "model_module": "@jupyter-widgets/controls",
          "model_module_version": "1.5.0",
          "model_name": "ToggleButtonModel",
          "state": {
            "_dom_classes": [],
            "_model_module": "@jupyter-widgets/controls",
            "_model_module_version": "1.5.0",
            "_model_name": "ToggleButtonModel",
            "_view_count": null,
            "_view_module": "@jupyter-widgets/controls",
            "_view_module_version": "1.5.0",
            "_view_name": "ToggleButtonView",
            "button_style": "",
            "description": "",
            "description_tooltip": null,
            "disabled": false,
            "icon": "wrench",
            "layout": "IPY_MODEL_158e8a54e2134164983c1ba03b879379",
            "style": "IPY_MODEL_fd4a86b929e44efda40c2c68c56e5aa1",
            "tooltip": "Toolbar",
            "value": false
          }
        },
        "6d180792dc7846dea34109f044b6eaf9": {
          "model_module": "jupyter-leaflet",
          "model_module_version": "^0.18",
          "model_name": "LeafletMapStyleModel",
          "state": {
            "_model_module": "jupyter-leaflet",
            "_model_module_version": "^0.18",
            "_model_name": "LeafletMapStyleModel",
            "_view_count": null,
            "_view_module": "@jupyter-widgets/base",
            "_view_module_version": "1.2.0",
            "_view_name": "StyleView",
            "cursor": "grab"
          }
        },
        "7405098e5c574ac287f09c835a7f95a5": {
          "model_module": "jupyter-leaflet",
          "model_module_version": "^0.18",
          "model_name": "LeafletMapStyleModel",
          "state": {
            "_model_module": "jupyter-leaflet",
            "_model_module_version": "^0.18",
            "_model_name": "LeafletMapStyleModel",
            "_view_count": null,
            "_view_module": "@jupyter-widgets/base",
            "_view_module_version": "1.2.0",
            "_view_name": "StyleView",
            "cursor": "grab"
          }
        },
        "7732856843e04a05adcf0eedaa66f2e1": {
          "model_module": "@jupyter-widgets/controls",
          "model_module_version": "1.5.0",
          "model_name": "VBoxModel",
          "state": {
            "_dom_classes": [
              "geemap-colab"
            ],
            "_model_module": "@jupyter-widgets/controls",
            "_model_module_version": "1.5.0",
            "_model_name": "VBoxModel",
            "_view_count": null,
            "_view_module": "@jupyter-widgets/controls",
            "_view_module_version": "1.5.0",
            "_view_name": "VBoxView",
            "box_style": "",
            "children": [
              "IPY_MODEL_7f910093566a4b019d978774096a9b77"
            ],
            "layout": "IPY_MODEL_b256d2e7dd494d499b2ae55538e4a811"
          }
        },
        "7f910093566a4b019d978774096a9b77": {
          "model_module": "@jupyter-widgets/controls",
          "model_module_version": "1.5.0",
          "model_name": "ToggleButtonModel",
          "state": {
            "_dom_classes": [],
            "_model_module": "@jupyter-widgets/controls",
            "_model_module_version": "1.5.0",
            "_model_name": "ToggleButtonModel",
            "_view_count": null,
            "_view_module": "@jupyter-widgets/controls",
            "_view_module_version": "1.5.0",
            "_view_name": "ToggleButtonView",
            "button_style": "",
            "description": "",
            "description_tooltip": null,
            "disabled": false,
            "icon": "wrench",
            "layout": "IPY_MODEL_b419167f6d0e483bb8f172ddeeedeb00",
            "style": "IPY_MODEL_092c2a7d22134801b4b00dee5d9a5678",
            "tooltip": "Toolbar",
            "value": false
          }
        },
        "834fb46216b84cf09663383965eb2c44": {
          "model_module": "jupyter-leaflet",
          "model_module_version": "^0.18",
          "model_name": "LeafletScaleControlModel",
          "state": {
            "_model_module": "jupyter-leaflet",
            "_model_module_version": "^0.18",
            "_model_name": "LeafletScaleControlModel",
            "_view_count": null,
            "_view_module": "jupyter-leaflet",
            "_view_module_version": "^0.18",
            "_view_name": "LeafletScaleControlView",
            "imperial": true,
            "max_width": 100,
            "metric": true,
            "options": [
              "imperial",
              "max_width",
              "metric",
              "position",
              "update_when_idle"
            ],
            "position": "bottomleft",
            "update_when_idle": false
          }
        },
        "86ce7d94e4d844079db69da509574467": {
          "model_module": "@jupyter-widgets/controls",
          "model_module_version": "1.5.0",
          "model_name": "HBoxModel",
          "state": {
            "_dom_classes": [
              "geemap-colab"
            ],
            "_model_module": "@jupyter-widgets/controls",
            "_model_module_version": "1.5.0",
            "_model_name": "HBoxModel",
            "_view_count": null,
            "_view_module": "@jupyter-widgets/controls",
            "_view_module_version": "1.5.0",
            "_view_name": "HBoxView",
            "box_style": "",
            "children": [
              "IPY_MODEL_b106560df43b4a1384ebcbda78fc692b"
            ],
            "layout": "IPY_MODEL_40fefc070b3949f0a101d4857f245423"
          }
        },
        "8cd48675bf6c44cdbe0359c8dce6385d": {
          "model_module": "@jupyter-widgets/controls",
          "model_module_version": "1.5.0",
          "model_name": "VBoxModel",
          "state": {
            "_dom_classes": [
              "geemap-colab"
            ],
            "_model_module": "@jupyter-widgets/controls",
            "_model_module_version": "1.5.0",
            "_model_name": "VBoxModel",
            "_view_count": null,
            "_view_module": "@jupyter-widgets/controls",
            "_view_module_version": "1.5.0",
            "_view_name": "VBoxView",
            "box_style": "",
            "children": [
              "IPY_MODEL_66ef67c899d843119ce23e2f8299053c"
            ],
            "layout": "IPY_MODEL_020384757ce74e779e7aef5564ac49ab"
          }
        },
        "99094449f52d459192835389115e3ec9": {
          "model_module": "jupyter-leaflet",
          "model_module_version": "^0.18",
          "model_name": "LeafletDrawControlModel",
          "state": {
            "_model_module": "jupyter-leaflet",
            "_model_module_version": "^0.18",
            "_model_name": "LeafletDrawControlModel",
            "_view_count": null,
            "_view_module": "jupyter-leaflet",
            "_view_module_version": "^0.18",
            "_view_name": "LeafletDrawControlView",
            "circle": {},
            "circlemarker": {},
            "data": [],
            "edit": true,
            "marker": {
              "shapeOptions": {
                "color": "#3388ff"
              }
            },
            "options": [
              "position"
            ],
            "polygon": {
              "shapeOptions": {}
            },
            "polyline": {
              "shapeOptions": {}
            },
            "position": "topleft",
            "rectangle": {
              "shapeOptions": {
                "color": "#3388ff"
              }
            },
            "remove": true
          }
        },
        "9e033a845c4148c580ff74468e3af3b8": {
          "model_module": "@jupyter-widgets/base",
          "model_module_version": "1.2.0",
          "model_name": "LayoutModel",
          "state": {
            "_model_module": "@jupyter-widgets/base",
            "_model_module_version": "1.2.0",
            "_model_name": "LayoutModel",
            "_view_count": null,
            "_view_module": "@jupyter-widgets/base",
            "_view_module_version": "1.2.0",
            "_view_name": "LayoutView",
            "align_content": null,
            "align_items": null,
            "align_self": null,
            "border": null,
            "bottom": null,
            "display": null,
            "flex": null,
            "flex_flow": null,
            "grid_area": null,
            "grid_auto_columns": null,
            "grid_auto_flow": null,
            "grid_auto_rows": null,
            "grid_column": null,
            "grid_gap": null,
            "grid_row": null,
            "grid_template_areas": null,
            "grid_template_columns": null,
            "grid_template_rows": null,
            "height": "28px",
            "justify_content": null,
            "justify_items": null,
            "left": null,
            "margin": null,
            "max_height": null,
            "max_width": null,
            "min_height": null,
            "min_width": null,
            "object_fit": null,
            "object_position": null,
            "order": null,
            "overflow": null,
            "overflow_x": null,
            "overflow_y": null,
            "padding": "0px 0px 0px 4px",
            "right": null,
            "top": null,
            "visibility": null,
            "width": "28px"
          }
        },
        "a49f07d553854e9ea7c8031b4c9adcc6": {
          "model_module": "@jupyter-widgets/base",
          "model_module_version": "1.2.0",
          "model_name": "LayoutModel",
          "state": {
            "_model_module": "@jupyter-widgets/base",
            "_model_module_version": "1.2.0",
            "_model_name": "LayoutModel",
            "_view_count": null,
            "_view_module": "@jupyter-widgets/base",
            "_view_module_version": "1.2.0",
            "_view_name": "LayoutView",
            "align_content": null,
            "align_items": null,
            "align_self": null,
            "border": null,
            "bottom": null,
            "display": null,
            "flex": null,
            "flex_flow": null,
            "grid_area": null,
            "grid_auto_columns": null,
            "grid_auto_flow": null,
            "grid_auto_rows": null,
            "grid_column": null,
            "grid_gap": null,
            "grid_row": null,
            "grid_template_areas": null,
            "grid_template_columns": null,
            "grid_template_rows": null,
            "height": "28px",
            "justify_content": null,
            "justify_items": null,
            "left": null,
            "margin": null,
            "max_height": null,
            "max_width": null,
            "min_height": null,
            "min_width": null,
            "object_fit": null,
            "object_position": null,
            "order": null,
            "overflow": null,
            "overflow_x": null,
            "overflow_y": null,
            "padding": "0px 0px 0px 4px",
            "right": null,
            "top": null,
            "visibility": null,
            "width": "28px"
          }
        },
        "a7bea653bc8b4700a0ab580ecbf96a6f": {
          "model_module": "jupyter-leaflet",
          "model_module_version": "^0.18",
          "model_name": "LeafletDrawControlModel",
          "state": {
            "_model_module": "jupyter-leaflet",
            "_model_module_version": "^0.18",
            "_model_name": "LeafletDrawControlModel",
            "_view_count": null,
            "_view_module": "jupyter-leaflet",
            "_view_module_version": "^0.18",
            "_view_name": "LeafletDrawControlView",
            "circle": {},
            "circlemarker": {},
            "data": [],
            "edit": true,
            "marker": {
              "shapeOptions": {
                "color": "#3388ff"
              }
            },
            "options": [
              "position"
            ],
            "polygon": {
              "shapeOptions": {}
            },
            "polyline": {
              "shapeOptions": {}
            },
            "position": "topleft",
            "rectangle": {
              "shapeOptions": {
                "color": "#3388ff"
              }
            },
            "remove": true
          }
        },
        "a84015ed935a425fb6fb6b33ed33693b": {
          "model_module": "jupyter-leaflet",
          "model_module_version": "^0.18",
          "model_name": "LeafletFullScreenControlModel",
          "state": {
            "_model_module": "jupyter-leaflet",
            "_model_module_version": "^0.18",
            "_model_name": "LeafletFullScreenControlModel",
            "_view_count": null,
            "_view_module": "jupyter-leaflet",
            "_view_module_version": "^0.18",
            "_view_name": "LeafletFullScreenControlView",
            "options": [
              "position"
            ],
            "position": "topleft"
          }
        },
        "b0f9badaad334d5dbc56d68e278a0887": {
          "model_module": "jupyter-leaflet",
          "model_module_version": "^0.18",
          "model_name": "LeafletMapModel",
          "state": {
            "_dom_classes": [],
            "_model_module": "jupyter-leaflet",
            "_model_module_version": "^0.18",
            "_model_name": "LeafletMapModel",
            "_view_count": null,
            "_view_module": "jupyter-leaflet",
            "_view_module_version": "^0.18",
            "_view_name": "LeafletMapView",
            "bottom": 37027,
            "bounce_at_zoom_limits": true,
            "box_zoom": true,
            "center": [
              -21.242562902824027,
              -50.06488035654671
            ],
            "close_popup_on_click": true,
            "controls": [
              "IPY_MODEL_f4984051948744a5bc018e0c4ea44999",
              "IPY_MODEL_f3678dcf3bbe4e158b23c2869de9e953",
              "IPY_MODEL_a84015ed935a425fb6fb6b33ed33693b",
              "IPY_MODEL_99094449f52d459192835389115e3ec9",
              "IPY_MODEL_834fb46216b84cf09663383965eb2c44",
              "IPY_MODEL_e118db05386e451b960beabd6cc83cf9",
              "IPY_MODEL_f18204ba974945a9aad35e3d914ac37d",
              "IPY_MODEL_1b6fb1d29628431b9a526cb9780b2f16"
            ],
            "crs": {
              "custom": false,
              "name": "EPSG3857"
            },
            "default_style": "IPY_MODEL_7405098e5c574ac287f09c835a7f95a5",
            "double_click_zoom": true,
            "dragging": true,
            "dragging_style": "IPY_MODEL_42162763ce1549cea8b3b5efafd0dc70",
            "east": -47.493896484375,
            "fullscreen": false,
            "inertia": true,
            "inertia_deceleration": 3000,
            "inertia_max_speed": 1500,
            "interpolation": "bilinear",
            "keyboard": true,
            "keyboard_pan_offset": 80,
            "keyboard_zoom_offset": 1,
            "layers": [
              "IPY_MODEL_25dea025d2a442729d31282ced662ed5",
              "IPY_MODEL_1aa0eca53c104145a14c13b2aa806145",
              "IPY_MODEL_383d6296c60040dfbbc528d5c2508a46"
            ],
            "layout": "IPY_MODEL_ff060c0304d046f38d65a943c8fcce8c",
            "left": 23185,
            "max_zoom": 24,
            "min_zoom": null,
            "modisdate": "2023-12-08",
            "north": -19.699485994162497,
            "options": [
              "bounce_at_zoom_limits",
              "box_zoom",
              "center",
              "close_popup_on_click",
              "double_click_zoom",
              "dragging",
              "fullscreen",
              "inertia",
              "inertia_deceleration",
              "inertia_max_speed",
              "interpolation",
              "keyboard",
              "keyboard_pan_offset",
              "keyboard_zoom_offset",
              "max_zoom",
              "min_zoom",
              "prefer_canvas",
              "scroll_wheel_zoom",
              "tap",
              "tap_tolerance",
              "touch_zoom",
              "world_copy_jump",
              "zoom",
              "zoom_animation_threshold",
              "zoom_delta",
              "zoom_snap"
            ],
            "panes": {},
            "prefer_canvas": false,
            "right": 24122,
            "scroll_wheel_zoom": true,
            "south": -22.771116581083135,
            "style": "IPY_MODEL_eeb26a2ddd3241e3a4d98b284e8c8ff4",
            "tap": true,
            "tap_tolerance": 15,
            "top": 36427,
            "touch_zoom": true,
            "west": -52.64099121093751,
            "window_url": "https://9vsv7fz4b2h-496ff2e9c6d22116-0-colab.googleusercontent.com/outputframe.html?vrz=colab_20231207-060210_RC00_588724798",
            "world_copy_jump": false,
            "zoom": 8,
            "zoom_animation_threshold": 4,
            "zoom_delta": 1,
            "zoom_snap": 1
          }
        },
        "b106560df43b4a1384ebcbda78fc692b": {
          "model_module": "@jupyter-widgets/controls",
          "model_module_version": "1.5.0",
          "model_name": "ToggleButtonModel",
          "state": {
            "_dom_classes": [],
            "_model_module": "@jupyter-widgets/controls",
            "_model_module_version": "1.5.0",
            "_model_name": "ToggleButtonModel",
            "_view_count": null,
            "_view_module": "@jupyter-widgets/controls",
            "_view_module_version": "1.5.0",
            "_view_name": "ToggleButtonView",
            "button_style": "",
            "description": "",
            "description_tooltip": null,
            "disabled": false,
            "icon": "globe",
            "layout": "IPY_MODEL_9e033a845c4148c580ff74468e3af3b8",
            "style": "IPY_MODEL_19f632e51d2b408e983e02eb31c61758",
            "tooltip": "Search location/data",
            "value": false
          }
        },
        "b256d2e7dd494d499b2ae55538e4a811": {
          "model_module": "@jupyter-widgets/base",
          "model_module_version": "1.2.0",
          "model_name": "LayoutModel",
          "state": {
            "_model_module": "@jupyter-widgets/base",
            "_model_module_version": "1.2.0",
            "_model_name": "LayoutModel",
            "_view_count": null,
            "_view_module": "@jupyter-widgets/base",
            "_view_module_version": "1.2.0",
            "_view_name": "LayoutView",
            "align_content": null,
            "align_items": null,
            "align_self": null,
            "border": null,
            "bottom": null,
            "display": null,
            "flex": null,
            "flex_flow": null,
            "grid_area": null,
            "grid_auto_columns": null,
            "grid_auto_flow": null,
            "grid_auto_rows": null,
            "grid_column": null,
            "grid_gap": null,
            "grid_row": null,
            "grid_template_areas": null,
            "grid_template_columns": null,
            "grid_template_rows": null,
            "height": null,
            "justify_content": null,
            "justify_items": null,
            "left": null,
            "margin": null,
            "max_height": null,
            "max_width": null,
            "min_height": null,
            "min_width": null,
            "object_fit": null,
            "object_position": null,
            "order": null,
            "overflow": null,
            "overflow_x": null,
            "overflow_y": null,
            "padding": null,
            "right": null,
            "top": null,
            "visibility": null,
            "width": null
          }
        },
        "b419167f6d0e483bb8f172ddeeedeb00": {
          "model_module": "@jupyter-widgets/base",
          "model_module_version": "1.2.0",
          "model_name": "LayoutModel",
          "state": {
            "_model_module": "@jupyter-widgets/base",
            "_model_module_version": "1.2.0",
            "_model_name": "LayoutModel",
            "_view_count": null,
            "_view_module": "@jupyter-widgets/base",
            "_view_module_version": "1.2.0",
            "_view_name": "LayoutView",
            "align_content": null,
            "align_items": null,
            "align_self": null,
            "border": null,
            "bottom": null,
            "display": null,
            "flex": null,
            "flex_flow": null,
            "grid_area": null,
            "grid_auto_columns": null,
            "grid_auto_flow": null,
            "grid_auto_rows": null,
            "grid_column": null,
            "grid_gap": null,
            "grid_row": null,
            "grid_template_areas": null,
            "grid_template_columns": null,
            "grid_template_rows": null,
            "height": "28px",
            "justify_content": null,
            "justify_items": null,
            "left": null,
            "margin": null,
            "max_height": null,
            "max_width": null,
            "min_height": null,
            "min_width": null,
            "object_fit": null,
            "object_position": null,
            "order": null,
            "overflow": null,
            "overflow_x": null,
            "overflow_y": null,
            "padding": "0px 0px 0px 4px",
            "right": null,
            "top": null,
            "visibility": null,
            "width": "28px"
          }
        },
        "bac656c755e645e9ac89d14774fdf614": {
          "model_module": "@jupyter-widgets/base",
          "model_module_version": "1.2.0",
          "model_name": "LayoutModel",
          "state": {
            "_model_module": "@jupyter-widgets/base",
            "_model_module_version": "1.2.0",
            "_model_name": "LayoutModel",
            "_view_count": null,
            "_view_module": "@jupyter-widgets/base",
            "_view_module_version": "1.2.0",
            "_view_name": "LayoutView",
            "align_content": null,
            "align_items": null,
            "align_self": null,
            "border": null,
            "bottom": null,
            "display": null,
            "flex": null,
            "flex_flow": null,
            "grid_area": null,
            "grid_auto_columns": null,
            "grid_auto_flow": null,
            "grid_auto_rows": null,
            "grid_column": null,
            "grid_gap": null,
            "grid_row": null,
            "grid_template_areas": null,
            "grid_template_columns": null,
            "grid_template_rows": null,
            "height": null,
            "justify_content": null,
            "justify_items": null,
            "left": null,
            "margin": null,
            "max_height": null,
            "max_width": null,
            "min_height": null,
            "min_width": null,
            "object_fit": null,
            "object_position": null,
            "order": null,
            "overflow": null,
            "overflow_x": null,
            "overflow_y": null,
            "padding": null,
            "right": null,
            "top": null,
            "visibility": null,
            "width": null
          }
        },
        "c0e63e2fa5f44dde99f519b523ca6cc1": {
          "model_module": "@jupyter-widgets/controls",
          "model_module_version": "1.5.0",
          "model_name": "HBoxModel",
          "state": {
            "_dom_classes": [
              "geemap-colab"
            ],
            "_model_module": "@jupyter-widgets/controls",
            "_model_module_version": "1.5.0",
            "_model_name": "HBoxModel",
            "_view_count": null,
            "_view_module": "@jupyter-widgets/controls",
            "_view_module_version": "1.5.0",
            "_view_name": "HBoxView",
            "box_style": "",
            "children": [
              "IPY_MODEL_5fcaecc7d39148ca9ecde26b9272f68b"
            ],
            "layout": "IPY_MODEL_bac656c755e645e9ac89d14774fdf614"
          }
        },
        "c34fb1339ced43a1813ab136d2896b21": {
          "model_module": "jupyter-leaflet",
          "model_module_version": "^0.18",
          "model_name": "LeafletWidgetControlModel",
          "state": {
            "_model_module": "jupyter-leaflet",
            "_model_module_version": "^0.18",
            "_model_name": "LeafletWidgetControlModel",
            "_view_count": null,
            "_view_module": "jupyter-leaflet",
            "_view_module_version": "^0.18",
            "_view_name": "LeafletWidgetControlView",
            "max_height": null,
            "max_width": null,
            "min_height": null,
            "min_width": null,
            "options": [
              "position",
              "transparent_bg"
            ],
            "position": "topleft",
            "transparent_bg": false,
            "widget": "IPY_MODEL_c0e63e2fa5f44dde99f519b523ca6cc1"
          }
        },
        "dd388a100e77444ca662a32718862051": {
          "model_module": "jupyter-leaflet",
          "model_module_version": "^0.18",
          "model_name": "LeafletAttributionControlModel",
          "state": {
            "_model_module": "jupyter-leaflet",
            "_model_module_version": "^0.18",
            "_model_name": "LeafletAttributionControlModel",
            "_view_count": null,
            "_view_module": "jupyter-leaflet",
            "_view_module_version": "^0.18",
            "_view_name": "LeafletAttributionControlView",
            "options": [
              "position",
              "prefix"
            ],
            "position": "bottomright",
            "prefix": "ipyleaflet"
          }
        },
        "e118db05386e451b960beabd6cc83cf9": {
          "model_module": "jupyter-leaflet",
          "model_module_version": "^0.18",
          "model_name": "LeafletMeasureControlModel",
          "state": {
            "_custom_units": {},
            "_model_module": "jupyter-leaflet",
            "_model_module_version": "^0.18",
            "_model_name": "LeafletMeasureControlModel",
            "_view_count": null,
            "_view_module": "jupyter-leaflet",
            "_view_module_version": "^0.18",
            "_view_name": "LeafletMeasureControlView",
            "active_color": "orange",
            "capture_z_index": 10000,
            "completed_color": "#C8F2BE",
            "options": [
              "active_color",
              "capture_z_index",
              "completed_color",
              "popup_options",
              "position",
              "primary_area_unit",
              "primary_length_unit",
              "secondary_area_unit",
              "secondary_length_unit"
            ],
            "popup_options": {
              "autoPanPadding": [
                10,
                10
              ],
              "className": "leaflet-measure-resultpopup"
            },
            "position": "bottomleft",
            "primary_area_unit": "acres",
            "primary_length_unit": "kilometers",
            "secondary_area_unit": null,
            "secondary_length_unit": null
          }
        },
        "ebc5236a065b4341a823137d5491b8da": {
          "model_module": "jupyter-leaflet",
          "model_module_version": "^0.18",
          "model_name": "LeafletScaleControlModel",
          "state": {
            "_model_module": "jupyter-leaflet",
            "_model_module_version": "^0.18",
            "_model_name": "LeafletScaleControlModel",
            "_view_count": null,
            "_view_module": "jupyter-leaflet",
            "_view_module_version": "^0.18",
            "_view_name": "LeafletScaleControlView",
            "imperial": true,
            "max_width": 100,
            "metric": true,
            "options": [
              "imperial",
              "max_width",
              "metric",
              "position",
              "update_when_idle"
            ],
            "position": "bottomleft",
            "update_when_idle": false
          }
        },
        "eeb26a2ddd3241e3a4d98b284e8c8ff4": {
          "model_module": "jupyter-leaflet",
          "model_module_version": "^0.18",
          "model_name": "LeafletMapStyleModel",
          "state": {
            "_model_module": "jupyter-leaflet",
            "_model_module_version": "^0.18",
            "_model_name": "LeafletMapStyleModel",
            "_view_count": null,
            "_view_module": "@jupyter-widgets/base",
            "_view_module_version": "1.2.0",
            "_view_name": "StyleView",
            "cursor": "grab"
          }
        },
        "f0531bab10fa45de8ed6eccdba7d7b0d": {
          "model_module": "jupyter-leaflet",
          "model_module_version": "^0.18",
          "model_name": "LeafletWidgetControlModel",
          "state": {
            "_model_module": "jupyter-leaflet",
            "_model_module_version": "^0.18",
            "_model_name": "LeafletWidgetControlModel",
            "_view_count": null,
            "_view_module": "jupyter-leaflet",
            "_view_module_version": "^0.18",
            "_view_name": "LeafletWidgetControlView",
            "max_height": null,
            "max_width": null,
            "min_height": null,
            "min_width": null,
            "options": [
              "position",
              "transparent_bg"
            ],
            "position": "topright",
            "transparent_bg": false,
            "widget": "IPY_MODEL_8cd48675bf6c44cdbe0359c8dce6385d"
          }
        },
        "f18204ba974945a9aad35e3d914ac37d": {
          "model_module": "jupyter-leaflet",
          "model_module_version": "^0.18",
          "model_name": "LeafletWidgetControlModel",
          "state": {
            "_model_module": "jupyter-leaflet",
            "_model_module_version": "^0.18",
            "_model_name": "LeafletWidgetControlModel",
            "_view_count": null,
            "_view_module": "jupyter-leaflet",
            "_view_module_version": "^0.18",
            "_view_name": "LeafletWidgetControlView",
            "max_height": null,
            "max_width": null,
            "min_height": null,
            "min_width": null,
            "options": [
              "position",
              "transparent_bg"
            ],
            "position": "topright",
            "transparent_bg": false,
            "widget": "IPY_MODEL_7732856843e04a05adcf0eedaa66f2e1"
          }
        },
        "f3678dcf3bbe4e158b23c2869de9e953": {
          "model_module": "jupyter-leaflet",
          "model_module_version": "^0.18",
          "model_name": "LeafletZoomControlModel",
          "state": {
            "_model_module": "jupyter-leaflet",
            "_model_module_version": "^0.18",
            "_model_name": "LeafletZoomControlModel",
            "_view_count": null,
            "_view_module": "jupyter-leaflet",
            "_view_module_version": "^0.18",
            "_view_name": "LeafletZoomControlView",
            "options": [
              "position",
              "zoom_in_text",
              "zoom_in_title",
              "zoom_out_text",
              "zoom_out_title"
            ],
            "position": "topleft",
            "zoom_in_text": "+",
            "zoom_in_title": "Zoom in",
            "zoom_out_text": "-",
            "zoom_out_title": "Zoom out"
          }
        },
        "f4984051948744a5bc018e0c4ea44999": {
          "model_module": "jupyter-leaflet",
          "model_module_version": "^0.18",
          "model_name": "LeafletWidgetControlModel",
          "state": {
            "_model_module": "jupyter-leaflet",
            "_model_module_version": "^0.18",
            "_model_name": "LeafletWidgetControlModel",
            "_view_count": null,
            "_view_module": "jupyter-leaflet",
            "_view_module_version": "^0.18",
            "_view_name": "LeafletWidgetControlView",
            "max_height": null,
            "max_width": null,
            "min_height": null,
            "min_width": null,
            "options": [
              "position",
              "transparent_bg"
            ],
            "position": "topleft",
            "transparent_bg": false,
            "widget": "IPY_MODEL_86ce7d94e4d844079db69da509574467"
          }
        },
        "fd33327591504320a8fd3abf0fc03740": {
          "model_module": "@jupyter-widgets/controls",
          "model_module_version": "1.5.0",
          "model_name": "DescriptionStyleModel",
          "state": {
            "_model_module": "@jupyter-widgets/controls",
            "_model_module_version": "1.5.0",
            "_model_name": "DescriptionStyleModel",
            "_view_count": null,
            "_view_module": "@jupyter-widgets/base",
            "_view_module_version": "1.2.0",
            "_view_name": "StyleView",
            "description_width": ""
          }
        },
        "fd4a86b929e44efda40c2c68c56e5aa1": {
          "model_module": "@jupyter-widgets/controls",
          "model_module_version": "1.5.0",
          "model_name": "DescriptionStyleModel",
          "state": {
            "_model_module": "@jupyter-widgets/controls",
            "_model_module_version": "1.5.0",
            "_model_name": "DescriptionStyleModel",
            "_view_count": null,
            "_view_module": "@jupyter-widgets/base",
            "_view_module_version": "1.2.0",
            "_view_name": "StyleView",
            "description_width": ""
          }
        },
        "ff060c0304d046f38d65a943c8fcce8c": {
          "model_module": "@jupyter-widgets/base",
          "model_module_version": "1.2.0",
          "model_name": "LayoutModel",
          "state": {
            "_model_module": "@jupyter-widgets/base",
            "_model_module_version": "1.2.0",
            "_model_name": "LayoutModel",
            "_view_count": null,
            "_view_module": "@jupyter-widgets/base",
            "_view_module_version": "1.2.0",
            "_view_name": "LayoutView",
            "align_content": null,
            "align_items": null,
            "align_self": null,
            "border": null,
            "bottom": null,
            "display": null,
            "flex": null,
            "flex_flow": null,
            "grid_area": null,
            "grid_auto_columns": null,
            "grid_auto_flow": null,
            "grid_auto_rows": null,
            "grid_column": null,
            "grid_gap": null,
            "grid_row": null,
            "grid_template_areas": null,
            "grid_template_columns": null,
            "grid_template_rows": null,
            "height": "600px",
            "justify_content": null,
            "justify_items": null,
            "left": null,
            "margin": null,
            "max_height": null,
            "max_width": null,
            "min_height": null,
            "min_width": null,
            "object_fit": null,
            "object_position": null,
            "order": null,
            "overflow": null,
            "overflow_x": null,
            "overflow_y": null,
            "padding": null,
            "right": null,
            "top": null,
            "visibility": null,
            "width": null
          }
        }
      }
    }
  },
  "nbformat": 4,
  "nbformat_minor": 0
}