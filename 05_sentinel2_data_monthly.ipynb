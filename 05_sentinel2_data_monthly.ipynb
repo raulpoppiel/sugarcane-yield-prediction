{
  "cells": [
    {
      "cell_type": "markdown",
      "metadata": {
        "id": "H2RuB9V3mqyz"
      },
      "source": [
        "<center><font color=\"green\" size=\"6\"> <b>Sugarcane Yield Prediction using RS and ML<b> </font></center>\n",
        "<center><img src=\"https://www.omex.com/wp-content/uploads/2020/10/Sugar-Cane-Harvest-1536x772.jpg\" height=\"150\"></center>\n",
        "\n",
        "---"
      ]
    },
    {
      "cell_type": "markdown",
      "source": [
        "_Script elaborated by **Raul Roberto Poppiel**_ ([raulpoppiel@gmail.com](raulpoppiel@gmail.com)) for the [FAPESP](https://fapesp.br/en) project Nº [23/01062-1](https://bv.fapesp.br/en/bolsas/207973/satellite-imagery-and-machine-learning-for-sugarcane-yield-estimation-in-regions-of-sao-paulo-state/), led by Professor Ana Claudia dos Santos Luciano (analuciano@usp.br) from ESALQ/USP, Brazil. The methodology employed was developed by Rafaella Pironato Amaro ([rafaellapironato.amaro@gmail.com](rafaellapironato.amaro@gmail.com)) and is detailed in the document titled [Estimativa de produtividade da cana-de-açúcar a partir de imagens do satélite Sentinel-2A e o algoritmo de aprendizagem de máquina Random Forest](https://doi.org/10.11606/D.11.2023.tde-02102023-163947)."
      ],
      "metadata": {
        "id": "AwIyv6sm4yO_"
      }
    },
    {
      "cell_type": "markdown",
      "metadata": {
        "id": "G3cFWYVXQr_x"
      },
      "source": [
        "### Install and import tools"
      ]
    },
    {
      "cell_type": "markdown",
      "metadata": {
        "id": "W_HAsrBdmCFm"
      },
      "source": [
        "Geospatial modules"
      ]
    },
    {
      "cell_type": "code",
      "execution_count": null,
      "metadata": {
        "colab": {
          "base_uri": "https://localhost:8080/",
          "height": 34
        },
        "id": "GsPXBOrc4zzf",
        "outputId": "2bdf7529-01e2-4a67-fc26-f1f6bcf2d30f"
      },
      "outputs": [
        {
          "output_type": "stream",
          "name": "stdout",
          "text": [
            "Modules loaded\n"
          ]
        }
      ],
      "source": [
        "# Load modules\n",
        "import ee\n",
        "import geemap\n",
        "\n",
        "print('Modules loaded')"
      ]
    },
    {
      "cell_type": "markdown",
      "metadata": {
        "id": "bY6y0ONYmF-o"
      },
      "source": [
        "Data science modules"
      ]
    },
    {
      "cell_type": "code",
      "execution_count": null,
      "metadata": {
        "colab": {
          "base_uri": "https://localhost:8080/",
          "height": 34
        },
        "id": "QzopUkCmlsKV",
        "outputId": "65c75fce-232c-42ed-c103-ce5af14e4726"
      },
      "outputs": [
        {
          "output_type": "display_data",
          "data": {
            "text/plain": [
              "<IPython.core.display.HTML object>"
            ],
            "text/html": [
              "\n",
              "            <style>\n",
              "                .geemap-dark {\n",
              "                    --jp-widgets-color: white;\n",
              "                    --jp-widgets-label-color: white;\n",
              "                    --jp-ui-font-color1: white;\n",
              "                    --jp-layout-color2: #454545;\n",
              "                    background-color: #383838;\n",
              "                }\n",
              "                    \n",
              "                .geemap-dark .jupyter-button {\n",
              "                    --jp-layout-color3: #383838;\n",
              "                }\n",
              "                \n",
              "                .geemap-colab {\n",
              "                    background-color: var(--colab-primary-surface-color, white);\n",
              "                }\n",
              "                    \n",
              "                .geemap-colab .jupyter-button {\n",
              "                    --jp-layout-color3: var(--colab-primary-surface-color, white);\n",
              "                }\n",
              "            </style>\n",
              "            "
            ]
          },
          "metadata": {}
        },
        {
          "output_type": "stream",
          "name": "stdout",
          "text": [
            "Modules loaded\n"
          ]
        }
      ],
      "source": [
        "# Load modules\n",
        "import os\n",
        "import pandas as pd\n",
        "import numpy as np\n",
        "import time\n",
        "from pathlib import Path\n",
        "\n",
        "print('Modules loaded')"
      ]
    },
    {
      "cell_type": "markdown",
      "source": [
        "### Connect to GEE and GDrive"
      ],
      "metadata": {
        "id": "BXX99T3Jwa6s"
      }
    },
    {
      "cell_type": "code",
      "execution_count": null,
      "metadata": {
        "colab": {
          "base_uri": "https://localhost:8080/",
          "height": 176
        },
        "id": "pB5AZhM5kEku",
        "outputId": "1e45d51f-0a7f-4a03-8100-c610928eac51"
      },
      "outputs": [
        {
          "output_type": "display_data",
          "data": {
            "text/plain": [
              "<IPython.core.display.HTML object>"
            ],
            "text/html": [
              "\n",
              "            <style>\n",
              "                .geemap-dark {\n",
              "                    --jp-widgets-color: white;\n",
              "                    --jp-widgets-label-color: white;\n",
              "                    --jp-ui-font-color1: white;\n",
              "                    --jp-layout-color2: #454545;\n",
              "                    background-color: #383838;\n",
              "                }\n",
              "                    \n",
              "                .geemap-dark .jupyter-button {\n",
              "                    --jp-layout-color3: #383838;\n",
              "                }\n",
              "                \n",
              "                .geemap-colab {\n",
              "                    background-color: var(--colab-primary-surface-color, white);\n",
              "                }\n",
              "                    \n",
              "                .geemap-colab .jupyter-button {\n",
              "                    --jp-layout-color3: var(--colab-primary-surface-color, white);\n",
              "                }\n",
              "            </style>\n",
              "            "
            ]
          },
          "metadata": {}
        },
        {
          "output_type": "stream",
          "name": "stdout",
          "text": [
            "To authorize access needed by Earth Engine, open the following URL in a web browser and follow the instructions. If the web browser does not start automatically, please manually browse the URL below.\n",
            "\n",
            "    https://code.earthengine.google.com/client-auth?scopes=https%3A//www.googleapis.com/auth/earthengine%20https%3A//www.googleapis.com/auth/devstorage.full_control&request_id=lGTJDf2NaVxcOaGW3VdSei4m8SJBd44QOs9nF_6gSkg&tc=TIkoTTufPIQVAW05cueB_EQeJVQVngTuLl5-RVg8Spc&cc=XfeSMAWJNn6STJQN8MEDrSYBcdGTkJV8HuCisggXaaE\n",
            "\n",
            "The authorization workflow will generate a code, which you should paste in the box below.\n",
            "Enter verification code: 4/1AfJohXleGACjn6xzgNj4p1Tr-gtPrQjbNiAE9ksgzjFxf1CpqtvchYqXEHI\n",
            "\n",
            "Successfully saved authorization token.\n"
          ]
        }
      ],
      "source": [
        "# GEE Authentication\n",
        "geemap.ee_initialize()"
      ]
    },
    {
      "cell_type": "code",
      "execution_count": null,
      "metadata": {
        "colab": {
          "base_uri": "https://localhost:8080/",
          "height": 34
        },
        "id": "MtXPEvAonugm",
        "outputId": "eb0d461b-8717-497c-ac2b-72a9d2f3594c"
      },
      "outputs": [
        {
          "output_type": "display_data",
          "data": {
            "text/plain": [
              "<IPython.core.display.HTML object>"
            ],
            "text/html": [
              "\n",
              "            <style>\n",
              "                .geemap-dark {\n",
              "                    --jp-widgets-color: white;\n",
              "                    --jp-widgets-label-color: white;\n",
              "                    --jp-ui-font-color1: white;\n",
              "                    --jp-layout-color2: #454545;\n",
              "                    background-color: #383838;\n",
              "                }\n",
              "                    \n",
              "                .geemap-dark .jupyter-button {\n",
              "                    --jp-layout-color3: #383838;\n",
              "                }\n",
              "                \n",
              "                .geemap-colab {\n",
              "                    background-color: var(--colab-primary-surface-color, white);\n",
              "                }\n",
              "                    \n",
              "                .geemap-colab .jupyter-button {\n",
              "                    --jp-layout-color3: var(--colab-primary-surface-color, white);\n",
              "                }\n",
              "            </style>\n",
              "            "
            ]
          },
          "metadata": {}
        },
        {
          "output_type": "stream",
          "name": "stdout",
          "text": [
            "Mounted at /content/drive\n"
          ]
        }
      ],
      "source": [
        "# Connect to Google Drive\n",
        "from google.colab import drive\n",
        "drive.mount('/content/drive')"
      ]
    },
    {
      "cell_type": "markdown",
      "metadata": {
        "id": "yUGm7HFTh2fY"
      },
      "source": [
        "### Set GDrive paths"
      ]
    },
    {
      "cell_type": "markdown",
      "metadata": {
        "id": "VAh-0QsEQqCW"
      },
      "source": [
        "Define the output folders in GD"
      ]
    },
    {
      "cell_type": "code",
      "execution_count": null,
      "metadata": {
        "colab": {
          "base_uri": "https://localhost:8080/",
          "height": 17
        },
        "id": "hlO08fmzl_UT",
        "outputId": "953e9baa-3cde-4939-9b07-03f22f3260da"
      },
      "outputs": [
        {
          "output_type": "display_data",
          "data": {
            "text/plain": [
              "<IPython.core.display.HTML object>"
            ],
            "text/html": [
              "\n",
              "            <style>\n",
              "                .geemap-dark {\n",
              "                    --jp-widgets-color: white;\n",
              "                    --jp-widgets-label-color: white;\n",
              "                    --jp-ui-font-color1: white;\n",
              "                    --jp-layout-color2: #454545;\n",
              "                    background-color: #383838;\n",
              "                }\n",
              "                    \n",
              "                .geemap-dark .jupyter-button {\n",
              "                    --jp-layout-color3: #383838;\n",
              "                }\n",
              "                \n",
              "                .geemap-colab {\n",
              "                    background-color: var(--colab-primary-surface-color, white);\n",
              "                }\n",
              "                    \n",
              "                .geemap-colab .jupyter-button {\n",
              "                    --jp-layout-color3: var(--colab-primary-surface-color, white);\n",
              "                }\n",
              "            </style>\n",
              "            "
            ]
          },
          "metadata": {}
        }
      ],
      "source": [
        "# Define folder names\n",
        "folder_name_root = 'Colab Notebooks'\n",
        "folder_name_project = '01_SugarcaneYieldPrediction'\n",
        "folder_name_farm = 'usinas_all'\n",
        "folder_name_specific = '05_sentinel2_data_monthly'\n",
        "\n",
        "# define your GEE username\n",
        "username_gee = 'raulrpoppiel'\n",
        "\n",
        "# Define sugarcane crop-season (SAFRA)\n",
        "CropSeason = 1920 # 1920, 2021, 2122, 2223"
      ]
    },
    {
      "cell_type": "code",
      "execution_count": null,
      "metadata": {
        "colab": {
          "base_uri": "https://localhost:8080/",
          "height": 173
        },
        "id": "tJADbX884IGz",
        "outputId": "9f9b8de8-2afb-4a0c-8871-7c4642ee3a9a"
      },
      "outputs": [
        {
          "output_type": "display_data",
          "data": {
            "text/plain": [
              "<IPython.core.display.HTML object>"
            ],
            "text/html": [
              "\n",
              "            <style>\n",
              "                .geemap-dark {\n",
              "                    --jp-widgets-color: white;\n",
              "                    --jp-widgets-label-color: white;\n",
              "                    --jp-ui-font-color1: white;\n",
              "                    --jp-layout-color2: #454545;\n",
              "                    background-color: #383838;\n",
              "                }\n",
              "                    \n",
              "                .geemap-dark .jupyter-button {\n",
              "                    --jp-layout-color3: #383838;\n",
              "                }\n",
              "                \n",
              "                .geemap-colab {\n",
              "                    background-color: var(--colab-primary-surface-color, white);\n",
              "                }\n",
              "                    \n",
              "                .geemap-colab .jupyter-button {\n",
              "                    --jp-layout-color3: var(--colab-primary-surface-color, white);\n",
              "                }\n",
              "            </style>\n",
              "            "
            ]
          },
          "metadata": {}
        },
        {
          "output_type": "stream",
          "name": "stdout",
          "text": [
            "Output directory already exists.\n",
            "/content/drive/MyDrive/Colab Notebooks/01_SugarcaneYieldPrediction/02_usinas_all/05_sentinel2_data_monthly \n",
            "\n",
            "List of files:\n",
            "                                                Files\n",
            "0  01_sentinel2_data_monthly_MEAN_safra_1920_merg...\n",
            "1  01_sentinel2_data_monthly_MEAN_safra_2122_merg...\n",
            "2  01_sentinel2_data_monthly_MEAN_safra_2223_merg...\n",
            "3  01_sentinel2_data_monthly_MEAN_safra_2021_merg...\n"
          ]
        }
      ],
      "source": [
        "# Check if the folder exists or else create\n",
        "root_path = f'/content/drive/MyDrive/{folder_name_root}'\n",
        "project_path = f'{root_path}/{folder_name_project}'\n",
        "farm_path = f'{project_path}/{folder_name_farm}'\n",
        "out_path = f'{farm_path}/{folder_name_specific}' # your results will be stored in 'out_path'\n",
        "\n",
        "if not os.path.exists(out_path):\n",
        "  Path(out_path).mkdir(parents=True, exist_ok=True)\n",
        "  print(\"Output directory created successfully.\")\n",
        "else:\n",
        "  print(\"Output directory already exists.\")\n",
        "\n",
        "os.chdir(out_path)\n",
        "print(os.getcwd(),'\\n')  # Print the current working directory\n",
        "pd.DataFrame(os.listdir(), columns=['List files'])  # List files and directories in the current directory"
      ]
    },
    {
      "cell_type": "markdown",
      "metadata": {
        "id": "fq0WcGnLINHZ"
      },
      "source": [
        "## Project-specific settings"
      ]
    },
    {
      "cell_type": "markdown",
      "metadata": {
        "id": "EVQynPWOguqe"
      },
      "source": [
        "### Feature collection"
      ]
    },
    {
      "cell_type": "markdown",
      "metadata": {
        "id": "OZKZixjPYW51"
      },
      "source": [
        "Example of attributes table structure:\n",
        "```\n",
        " 'ID_SIG': 'X19200890000003600027002', 🟢\n",
        " 'AREA': 46.0963242244,\n",
        " 'BLOCO': 2,\n",
        " 'CODFAZ': 36,\n",
        " 'COD_USINA': 89,\n",
        " 'EST_Corte': 1, 🟢\n",
        " 'Local': 'Usina 3',\n",
        " 'Ordem': 'Latossolos',\n",
        " 'POL': 0,\n",
        " 'SAFRA': '1920', 🟢\n",
        " 'SAFRA_real': 1819, 🟢\n",
        " 'TAH': 0,\n",
        " 'TALHAO': 17002,\n",
        " 'TCH_ANT': 88.875, 🟢\n",
        " 'Unidade_So': 'LV21',\n",
        " 'VAR': 'CTC4',\n",
        " 'VARIEDADE': 'CTC4',🟢\n",
        " 'relevo': 'Suave Ondulado',\n",
        " 'soloGeral': 'LV',\n",
        " 'usina': 'M3'\n",
        "```"
      ]
    },
    {
      "cell_type": "markdown",
      "metadata": {
        "id": "CyWhAC2gCqdM"
      },
      "source": [
        "Import the features from your Assets"
      ]
    },
    {
      "cell_type": "code",
      "source": [
        "# Import polygons of agricultural plots (shapefiles) from your GEE\n",
        "\n",
        "fc1 =  ee.FeatureCollection(f'users/{username_gee}/Sugarcane/Safra_{CropSeason}_1')\n",
        "# fc2 =  ee.FeatureCollection(f'users/{username_gee}/Sugarcane/Safra_{CropSeason}_2')\n",
        "# fc3 =  ee.FeatureCollection(f'users/{username_gee}/Sugarcane/Safra_{CropSeason}_3')\n",
        "# fc4 =  ee.FeatureCollection(f'users/{username_gee}/Sugarcane/Safra_{CropSeason}_4')\n",
        "# fc5 =  ee.FeatureCollection(f'users/{username_gee}/Sugarcane/Safra_{CropSeason}_5')\n",
        "# fc6 =  ee.FeatureCollection(f'users/{username_gee}/Sugarcane/Safra_{CropSeason}_6')\n",
        "# fc7 =  ee.FeatureCollection(f'users/{username_gee}/Sugarcane/Safra_{CropSeason}_7')\n",
        "# fc8 =  ee.FeatureCollection(f'users/{username_gee}/Sugarcane/Safra_{CropSeason}_8')\n",
        "# fc9 =  ee.FeatureCollection(f'users/{username_gee}/Sugarcane/Safra_{CropSeason}_9')\n",
        "# fc10 = ee.FeatureCollection(f'users/{username_gee}/Sugarcane/Safra_{CropSeason}_10')\n",
        "# fc11 = ee.FeatureCollection(f'users/{username_gee}/Sugarcane/Safra_{CropSeason}_11')\n",
        "# fc12 = ee.FeatureCollection(f'users/{username_gee}/Sugarcane/Safra_{CropSeason}_12')\n",
        "# fc13 = ee.FeatureCollection(f'users/{username_gee}/Sugarcane/Safra_{CropSeason}_13')\n",
        "# fc14 = ee.FeatureCollection(f'users/{username_gee}/Sugarcane/Safra_{CropSeason}_14')\n",
        "# fc15 = ee.FeatureCollection(f'users/{username_gee}/Sugarcane/Safra_{CropSeason}_15')\n",
        "\n",
        "print('FC1 size: ',fc1.size().getInfo(),'\\n')\n",
        "\n",
        "# Display the table of attributes for one feature/polygon\n",
        "print('FC1 attribute table (1st feature): \\n')\n",
        "display(fc1.limit(1).getInfo()['features'][0]['properties'])"
      ],
      "metadata": {
        "colab": {
          "base_uri": "https://localhost:8080/",
          "height": 434
        },
        "id": "-lLnmU0g3vC-",
        "outputId": "651e45b4-bcc3-4299-81d6-af3970c2f3c3"
      },
      "execution_count": null,
      "outputs": [
        {
          "output_type": "display_data",
          "data": {
            "text/plain": [
              "<IPython.core.display.HTML object>"
            ],
            "text/html": [
              "\n",
              "            <style>\n",
              "                .geemap-dark {\n",
              "                    --jp-widgets-color: white;\n",
              "                    --jp-widgets-label-color: white;\n",
              "                    --jp-ui-font-color1: white;\n",
              "                    --jp-layout-color2: #454545;\n",
              "                    background-color: #383838;\n",
              "                }\n",
              "                    \n",
              "                .geemap-dark .jupyter-button {\n",
              "                    --jp-layout-color3: #383838;\n",
              "                }\n",
              "                \n",
              "                .geemap-colab {\n",
              "                    background-color: var(--colab-primary-surface-color, white);\n",
              "                }\n",
              "                    \n",
              "                .geemap-colab .jupyter-button {\n",
              "                    --jp-layout-color3: var(--colab-primary-surface-color, white);\n",
              "                }\n",
              "            </style>\n",
              "            "
            ]
          },
          "metadata": {}
        },
        {
          "output_type": "stream",
          "name": "stdout",
          "text": [
            "FC1 size:  416 \n",
            "\n",
            "FC1 attribute table (1st feature): \n",
            "\n"
          ]
        },
        {
          "output_type": "display_data",
          "data": {
            "text/plain": [
              "{'AREA': 33.2284531537,\n",
              " 'BLOCO': '0',\n",
              " 'CODFAZ': '39',\n",
              " 'COD_USINA': '28',\n",
              " 'EST_Corte': '2',\n",
              " 'ID_SIG': 'X20210280001003900000001',\n",
              " 'Local': 'Usina 1',\n",
              " 'Ordem': 'Argissolos',\n",
              " 'POL': '0',\n",
              " 'SAFRA': 2021,\n",
              " 'SAFRA_real': '1920',\n",
              " 'TAH': '0',\n",
              " 'TALHAO': '1',\n",
              " 'TCH_ANT': '70',\n",
              " 'Unidade_So': 'PVA5',\n",
              " 'VAR': 'RB867515',\n",
              " 'VARIEDADE': 'RB867515',\n",
              " 'relevo': 'Ondulado',\n",
              " 'soloGeral': 'PV',\n",
              " 'usina': 'M1'}"
            ]
          },
          "metadata": {}
        }
      ]
    },
    {
      "cell_type": "code",
      "source": [
        "# Select an attribute name (column) that contains the ID of polygons\n",
        "ID = 'ID_SIG'\n",
        "\n",
        "fc_to_reduction1 = fc1.select(ID)\n",
        "# fc_to_reduction2 = fc2.select(ID)\n",
        "# fc_to_reduction3 = fc3.select(ID)\n",
        "# fc_to_reduction4 = fc4.select(ID)\n",
        "# fc_to_reduction5 = fc5.select(ID)\n",
        "# fc_to_reduction6 = fc6.select(ID)\n",
        "# fc_to_reduction7 = fc7.select(ID)\n",
        "# fc_to_reduction8 = fc8.select(ID)\n",
        "# fc_to_reduction9 = fc9.select(ID)\n",
        "# fc_to_reduction10 = fc10.select(ID)\n",
        "# fc_to_reduction11 = fc11.select(ID)\n",
        "# fc_to_reduction12 = fc12.select(ID)\n",
        "# fc_to_reduction13 = fc13.select(ID)\n",
        "# fc_to_reduction14 = fc14.select(ID)\n",
        "# fc_to_reduction15 = fc15.select(ID)"
      ],
      "metadata": {
        "colab": {
          "base_uri": "https://localhost:8080/",
          "height": 17
        },
        "id": "SwzIPfDYxHaI",
        "outputId": "53e41009-969a-404a-c634-98184b1c3013"
      },
      "execution_count": null,
      "outputs": [
        {
          "output_type": "display_data",
          "data": {
            "text/plain": [
              "<IPython.core.display.HTML object>"
            ],
            "text/html": [
              "\n",
              "            <style>\n",
              "                .geemap-dark {\n",
              "                    --jp-widgets-color: white;\n",
              "                    --jp-widgets-label-color: white;\n",
              "                    --jp-ui-font-color1: white;\n",
              "                    --jp-layout-color2: #454545;\n",
              "                    background-color: #383838;\n",
              "                }\n",
              "                    \n",
              "                .geemap-dark .jupyter-button {\n",
              "                    --jp-layout-color3: #383838;\n",
              "                }\n",
              "                \n",
              "                .geemap-colab {\n",
              "                    background-color: var(--colab-primary-surface-color, white);\n",
              "                }\n",
              "                    \n",
              "                .geemap-colab .jupyter-button {\n",
              "                    --jp-layout-color3: var(--colab-primary-surface-color, white);\n",
              "                }\n",
              "            </style>\n",
              "            "
            ]
          },
          "metadata": {}
        }
      ]
    },
    {
      "cell_type": "code",
      "execution_count": null,
      "metadata": {
        "colab": {
          "base_uri": "https://localhost:8080/",
          "height": 434
        },
        "id": "URSl6siofwlk",
        "outputId": "0432007f-51bf-4c9a-f4a7-c654da1038a6"
      },
      "outputs": [
        {
          "output_type": "display_data",
          "data": {
            "text/plain": [
              "<IPython.core.display.HTML object>"
            ],
            "text/html": [
              "\n",
              "            <style>\n",
              "                .geemap-dark {\n",
              "                    --jp-widgets-color: white;\n",
              "                    --jp-widgets-label-color: white;\n",
              "                    --jp-ui-font-color1: white;\n",
              "                    --jp-layout-color2: #454545;\n",
              "                    background-color: #383838;\n",
              "                }\n",
              "                    \n",
              "                .geemap-dark .jupyter-button {\n",
              "                    --jp-layout-color3: #383838;\n",
              "                }\n",
              "                \n",
              "                .geemap-colab {\n",
              "                    background-color: var(--colab-primary-surface-color, white);\n",
              "                }\n",
              "                    \n",
              "                .geemap-colab .jupyter-button {\n",
              "                    --jp-layout-color3: var(--colab-primary-surface-color, white);\n",
              "                }\n",
              "            </style>\n",
              "            "
            ]
          },
          "metadata": {}
        },
        {
          "output_type": "stream",
          "name": "stdout",
          "text": [
            "FC size:  6252 \n",
            "\n",
            "Attribute table structure (1st feature): \n",
            "\n"
          ]
        },
        {
          "output_type": "display_data",
          "data": {
            "text/plain": [
              "{'AREA': 33.2284531537,\n",
              " 'BLOCO': '0',\n",
              " 'CODFAZ': '39',\n",
              " 'COD_USINA': '28',\n",
              " 'EST_Corte': '2',\n",
              " 'ID_SIG': 'X20210280001003900000001',\n",
              " 'Local': 'Usina 1',\n",
              " 'Ordem': 'Argissolos',\n",
              " 'POL': '0',\n",
              " 'SAFRA': 2021,\n",
              " 'SAFRA_real': '1920',\n",
              " 'TAH': '0',\n",
              " 'TALHAO': '1',\n",
              " 'TCH_ANT': '70',\n",
              " 'Unidade_So': 'PVA5',\n",
              " 'VAR': 'RB867515',\n",
              " 'VARIEDADE': 'RB867515',\n",
              " 'relevo': 'Ondulado',\n",
              " 'soloGeral': 'PV',\n",
              " 'usina': 'M1'}"
            ]
          },
          "metadata": {}
        }
      ],
      "source": [
        "# Make a colection of collecions of geometries\n",
        "SugarcaneData = ee.FeatureCollection([fc1\n",
        "                                      # fc2,fc3,fc4,fc5,fc6,fc7,fc8,fc9,fc10,fc11,fc12,fc13,fc14,fc15\n",
        "                                      ]).flatten()\n",
        "\n",
        "# Display the number os polygons\n",
        "print('FC size: ',SugarcaneData.size().getInfo(),'\\n')\n",
        "\n",
        "# Display the table of attributes for one feature/polygon\n",
        "print('Attribute table structure (1st feature): \\n')\n",
        "display(SugarcaneData.limit(1).getInfo()['features'][0]['properties'])"
      ]
    },
    {
      "cell_type": "markdown",
      "metadata": {
        "id": "yILCDaI_KhHq"
      },
      "source": [
        "### Crop-season and real period"
      ]
    },
    {
      "cell_type": "code",
      "execution_count": null,
      "metadata": {
        "colab": {
          "base_uri": "https://localhost:8080/",
          "height": 52
        },
        "id": "VWeRa1sGIMfp",
        "outputId": "d99e75fc-81ad-4fb4-8146-df371be410d1"
      },
      "outputs": [
        {
          "output_type": "display_data",
          "data": {
            "text/plain": [
              "<IPython.core.display.HTML object>"
            ],
            "text/html": [
              "\n",
              "            <style>\n",
              "                .geemap-dark {\n",
              "                    --jp-widgets-color: white;\n",
              "                    --jp-widgets-label-color: white;\n",
              "                    --jp-ui-font-color1: white;\n",
              "                    --jp-layout-color2: #454545;\n",
              "                    background-color: #383838;\n",
              "                }\n",
              "                    \n",
              "                .geemap-dark .jupyter-button {\n",
              "                    --jp-layout-color3: #383838;\n",
              "                }\n",
              "                \n",
              "                .geemap-colab {\n",
              "                    background-color: var(--colab-primary-surface-color, white);\n",
              "                }\n",
              "                    \n",
              "                .geemap-colab .jupyter-button {\n",
              "                    --jp-layout-color3: var(--colab-primary-surface-color, white);\n",
              "                }\n",
              "            </style>\n",
              "            "
            ]
          },
          "metadata": {}
        },
        {
          "output_type": "stream",
          "name": "stdout",
          "text": [
            "Start: 01/04/2019 --> Real: 01/04/2018\n",
            "End: 31/03/2020 --> Real: 31/03/2019\n"
          ]
        }
      ],
      "source": [
        "# Define the real period in years\n",
        "if CropSeason == 1920:\n",
        "    SrtYear = '2018'\n",
        "    EndYear = '2019'\n",
        "elif CropSeason == 2021:\n",
        "    SrtYear = '2019'\n",
        "    EndYear = '2020'\n",
        "elif CropSeason == 2122:\n",
        "    SrtYear = '2020'\n",
        "    EndYear = '2021'\n",
        "elif CropSeason == 2223:\n",
        "    SrtYear = '2021'\n",
        "    EndYear = '2022'\n",
        "elif CropSeason == 2324:\n",
        "    SrtYear = '2022'\n",
        "    EndYear = '2023'\n",
        "else:\n",
        "    # Handle unknown CropSeason values\n",
        "    print(\"Unknown CropSeason\")\n",
        "\n",
        "# Example:\n",
        "# SAFRA_real = SAFRA - 1\n",
        "SrtYear_real = str(int(SrtYear) - 1)\n",
        "EndYear_real = str(int(EndYear) - 1)\n",
        "\n",
        "# Display the results\n",
        "print(f\"Start: 01/04/{SrtYear} --> Real: 01/04/{SrtYear_real}\")\n",
        "print(f\"End: 31/03/{EndYear} --> Real: 31/03/{EndYear_real}\")"
      ]
    },
    {
      "cell_type": "code",
      "execution_count": null,
      "metadata": {
        "colab": {
          "base_uri": "https://localhost:8080/",
          "height": 17
        },
        "id": "rAGvlMPYjar9",
        "outputId": "bb13a1b4-3e7e-4434-e379-8cab59ce7f6f"
      },
      "outputs": [
        {
          "output_type": "display_data",
          "data": {
            "text/plain": [
              "<IPython.core.display.HTML object>"
            ],
            "text/html": [
              "\n",
              "            <style>\n",
              "                .geemap-dark {\n",
              "                    --jp-widgets-color: white;\n",
              "                    --jp-widgets-label-color: white;\n",
              "                    --jp-ui-font-color1: white;\n",
              "                    --jp-layout-color2: #454545;\n",
              "                    background-color: #383838;\n",
              "                }\n",
              "                    \n",
              "                .geemap-dark .jupyter-button {\n",
              "                    --jp-layout-color3: #383838;\n",
              "                }\n",
              "                \n",
              "                .geemap-colab {\n",
              "                    background-color: var(--colab-primary-surface-color, white);\n",
              "                }\n",
              "                    \n",
              "                .geemap-colab .jupyter-button {\n",
              "                    --jp-layout-color3: var(--colab-primary-surface-color, white);\n",
              "                }\n",
              "            </style>\n",
              "            "
            ]
          },
          "metadata": {}
        }
      ],
      "source": [
        "# Use real years for RS data acquisition (DO NOT change it)\n",
        "\n",
        "# Montly (for using as covariates/predictors)\n",
        "SrtDate = SrtYear+\"-12-01\"\n",
        "EndDate = EndYear+\"-03-31\""
      ]
    },
    {
      "cell_type": "markdown",
      "metadata": {
        "id": "hrgZW4Wk6uG4"
      },
      "source": [
        "### Filter Sugarcane field data and bounding box"
      ]
    },
    {
      "cell_type": "code",
      "execution_count": null,
      "metadata": {
        "colab": {
          "base_uri": "https://localhost:8080/",
          "height": 621,
          "referenced_widgets": [
            "58b61ac242b5443aa234e30187649cf5",
            "36038466b49548058b0c9f162478c513",
            "748cd707908647c19973bb41575b29c2",
            "51497a52baef481fa089b21650e0819b",
            "70a9f97b061e427bb0d25ad836ba6bd7",
            "5af058baceae4b53b3ff97694a6011fb",
            "115f223b6afa45a7b64e192e89975fda",
            "eb9a49004b26471b9f21364840ed9078",
            "1b1331a977a54ea185d511025280bb94",
            "abc7e6ef08544ee3b76be414872a0375",
            "0c5cc289e32043509357ead05fee2d61",
            "78214cb92b624f13913afed6cb2205d2",
            "d4e48f2033e3485f9abf566dff4948b9",
            "8af6e1d8986b4be5b4e3e43f39f60106",
            "d36291d8aa9c4b928fa5a16c196c9a17",
            "c1b6ddffbe6b47b28b7b24bfef19ad54",
            "66bc67daca524f5a9dd186906331f9c0",
            "900a8fa4c0754989b6fe6e8e1ff329fa",
            "451a36bd7b454efc9b6b3bb509f36382",
            "19678236334e4342b58b26673d830daa",
            "58c277a1fae846f9b87202d80e5a3227",
            "434fb3a4682b4026955aff6ac323f030",
            "0adc7b12dcd942deb649ed306bb2a5eb",
            "6f384dd3c7794ac0b8ac9a22b18786ce",
            "0e5d790078aa4656b2336924955b7acb",
            "bdaaf1ac5af64b19b9cdf5dc60334c9f"
          ]
        },
        "id": "_TT230RokzQk",
        "outputId": "1cdbc5b5-96b1-42fc-907e-8bf15aee5400"
      },
      "outputs": [
        {
          "output_type": "display_data",
          "data": {
            "text/plain": [
              "<IPython.core.display.HTML object>"
            ],
            "text/html": [
              "\n",
              "            <style>\n",
              "                .geemap-dark {\n",
              "                    --jp-widgets-color: white;\n",
              "                    --jp-widgets-label-color: white;\n",
              "                    --jp-ui-font-color1: white;\n",
              "                    --jp-layout-color2: #454545;\n",
              "                    background-color: #383838;\n",
              "                }\n",
              "                    \n",
              "                .geemap-dark .jupyter-button {\n",
              "                    --jp-layout-color3: #383838;\n",
              "                }\n",
              "                \n",
              "                .geemap-colab {\n",
              "                    background-color: var(--colab-primary-surface-color, white);\n",
              "                }\n",
              "                    \n",
              "                .geemap-colab .jupyter-button {\n",
              "                    --jp-layout-color3: var(--colab-primary-surface-color, white);\n",
              "                }\n",
              "            </style>\n",
              "            "
            ]
          },
          "metadata": {}
        },
        {
          "output_type": "display_data",
          "data": {
            "text/plain": [
              "Map(center=[-21.420329614075595, -49.48433147616699], controls=(WidgetControl(options=['position', 'transparen…"
            ],
            "application/vnd.jupyter.widget-view+json": {
              "version_major": 2,
              "version_minor": 0,
              "model_id": "58b61ac242b5443aa234e30187649cf5"
            }
          },
          "metadata": {
            "application/vnd.jupyter.widget-view+json": {
              "colab": {
                "custom_widget_manager": {
                  "url": "https://ssl.gstatic.com/colaboratory-static/widgets/colab-cdn-widget-manager/b3e629b1971e1542/manager.min.js"
                }
              }
            }
          }
        }
      ],
      "source": [
        "# Compute bounding box for the fc\n",
        "buffer_size = 5000; # define a value in meters\n",
        "\n",
        "bbox_rect = SugarcaneData.geometry().bounds().buffer(buffer_size).bounds().getInfo()\n",
        "bbox_coords = bbox_rect.get('coordinates')[0]\n",
        "bbox = ee.Geometry.Rectangle([bbox_coords[0][0],bbox_coords[0][1],bbox_coords[2][0],bbox_coords[2][1]],None,False)\n",
        "\n",
        "Map = geemap.Map(basemap='Esri.WorldImagery')\n",
        "Map.setOptions()\n",
        "\n",
        "Map.addLayer(SugarcaneData,{'color': 'FF0000'},'fc')\n",
        "Map.addLayer(bbox, {'color': '#000060'}, 'Bbox')\n",
        "Map.centerObject(SugarcaneData, 8)\n",
        "\n",
        "Map.setControlVisibility()\n",
        "Map"
      ]
    },
    {
      "cell_type": "markdown",
      "metadata": {
        "id": "Pel_HstQ55e2"
      },
      "source": [
        "## Monthly: manually agreggation"
      ]
    },
    {
      "cell_type": "markdown",
      "metadata": {
        "id": "fEwRDU-Arh6N"
      },
      "source": [
        "### Helper function"
      ]
    },
    {
      "cell_type": "code",
      "execution_count": null,
      "metadata": {
        "id": "FXnpUPUEnmgO",
        "colab": {
          "base_uri": "https://localhost:8080/",
          "height": 17
        },
        "outputId": "5ed51a78-b20d-41f3-c9f4-a1d836d38fb8"
      },
      "outputs": [
        {
          "output_type": "display_data",
          "data": {
            "text/plain": [
              "<IPython.core.display.HTML object>"
            ],
            "text/html": [
              "\n",
              "            <style>\n",
              "                .geemap-dark {\n",
              "                    --jp-widgets-color: white;\n",
              "                    --jp-widgets-label-color: white;\n",
              "                    --jp-ui-font-color1: white;\n",
              "                    --jp-layout-color2: #454545;\n",
              "                    background-color: #383838;\n",
              "                }\n",
              "                    \n",
              "                .geemap-dark .jupyter-button {\n",
              "                    --jp-layout-color3: #383838;\n",
              "                }\n",
              "                \n",
              "                .geemap-colab {\n",
              "                    background-color: var(--colab-primary-surface-color, white);\n",
              "                }\n",
              "                    \n",
              "                .geemap-colab .jupyter-button {\n",
              "                    --jp-layout-color3: var(--colab-primary-surface-color, white);\n",
              "                }\n",
              "            </style>\n",
              "            "
            ]
          },
          "metadata": {}
        }
      ],
      "source": [
        "# Spectral bands of Sentinel-2 satellite\n",
        "S2_BANDS = ['B2','B3','B4','B5','B6','B7','B8','B8A','B11','B12'] # Sentinel 2\n",
        "STD_NAMES = ['blue','green','red','rededge1','rededge2','rededge3','nir','nir8A','swir1','swir2'] # standardize band names\n",
        "\n",
        "# Select and rename spectral bands function\n",
        "def selecBands(image):\n",
        "  image =  image.select(S2_BANDS, STD_NAMES)\n",
        "  return image;\n",
        "\n",
        "# Custom cloud mask function (this is a strong cloud-shadow mask)\n",
        "def cloudMask(image):\n",
        "  BCloud = image.expression(\"b('B1') > 0 && b('B1') < 1000 && b('B2') > 0 && b('B2') < 1500\").rename('BCloud')\n",
        "  cirrus = image.expression(\"((((b('B1') * 2) + b('B2'))) / b('B3'))\").rename('CIRRUS')\n",
        "  clearMask = image.expression('BCloud > 0 &&' + 'CIRRUS < 2.4', {'CIRRUS': cirrus.select('CIRRUS'),'BCloud': BCloud.select('BCloud')})\n",
        "  return image.updateMask(clearMask)\n",
        "\n",
        "# Water mask\n",
        "def waterMask(image):\n",
        "  hansen_2020 = ee.Image('UMD/hansen/global_forest_change_2020_v1_8').select('datamask');\n",
        "  hansen_2020_wbodies = hansen_2020.neq(1).eq(0);\n",
        "  return image.updateMask(hansen_2020_wbodies);\n",
        "\n",
        "# Spectral indices function\n",
        "def addIndices(image):\n",
        "  idate = image.get('system:time_start');\n",
        "  image = image.divide(10000)\n",
        "  img = image.normalizedDifference(['nir','red']).rename('NDVI') # NDVI\n",
        "  img = img.addBands(image.expression(\"2.5*((b('nir')-b('red'))/(b('nir')+(6*b('red'))-(7.5*(b('blue')))+1))\").rename('EVI')) #EVI\n",
        "  img = img.addBands(image.expression(\"1.5*(b('nir')-b('red'))/(b('nir')+b('red')+0.5)\").rename('SAVI'))\n",
        "  img = img.addBands(image.normalizedDifference(['swir1','nir']).rename('NDMI')) #LSWI = NDMI\n",
        "  img = img.addBands(image.normalizedDifference(['green','nir']).rename('NDWI1')) #NDWI1\n",
        "  img = img.addBands(image.normalizedDifference(['swir1','red']).rename('NDWI2')) #NDWI2\n",
        "  img = img.addBands(image.normalizedDifference(['nir','rededge1']).rename('NDVIre1')) #NDVIRE\n",
        "  img = img.addBands(image.normalizedDifference(['nir','rededge2']).rename('NDVIre2')) #NDVIRE\n",
        "  img = img.addBands(image.normalizedDifference(['nir','rededge3']).rename('NDVIre3')) #NDVIRE\n",
        "\n",
        "  img = img.addBands(image.expression(\"(b('nir')/b('rededge1'))-1\").rename('CIre1'))#CIre\n",
        "  img = img.addBands(image.expression(\"(b('nir')/b('rededge2'))-1\").rename('CIre2'))#CIre\n",
        "  img = img.addBands(image.expression(\"(b('nir')/b('rededge3'))-1\").rename('CIre3'))#CIre\n",
        "\n",
        "  img = img.addBands(image.expression(\"((b('nir')/b('rededge1'))-1)/(sqrt((b('nir')/b('rededge1'))+1))\").rename('MSRre1'))\n",
        "  img = img.addBands(image.expression(\"((b('nir')/b('rededge2'))-1)/(sqrt((b('nir')/b('rededge2'))+1))\").rename('MSRre2'))\n",
        "  img = img.addBands(image.expression(\"((b('nir')/b('rededge3'))-1)/(sqrt((b('nir')/b('rededge3'))+1))\").rename('MSRre3'))\n",
        "  img = img.addBands(image.normalizedDifference(['nir8A','swir1']).rename('SIWSI'))\n",
        "\n",
        "  img = img.addBands(image.expression(\"(b('red'))\").divide(6.553500175476074).rename('red'))\n",
        "  img = img.addBands(image.expression(\"(b('nir'))\").divide(6.553500175476074).rename('nir'))\n",
        "  img = img.addBands(image.expression(\"(b('swir1'))\").divide(6.553500175476074).rename('swir1'))\n",
        "  img = img.addBands(image.expression(\"(b('swir2'))\").divide(6.553500175476074).rename('swir2'))\n",
        "  img = img.addBands(image.expression(\"(b('rededge1'))\").divide(6.553500175476074).rename('rededge1'))\n",
        "  img = img.addBands(image.expression(\"(b('rededge2'))\").divide(6.553500175476074).rename('rededge2'))\n",
        "  img = img.addBands(image.expression(\"(b('rededge3'))\").divide(6.553500175476074).rename('rededge3'))\n",
        "  img = img.addBands(image.expression(\"(b('nir8A'))\").divide(6.553500175476074).rename('nir8A'))\n",
        "  #result is the new image of all indices => get rid of reflectance bands\n",
        "  return img.set({\"system:time_start\": ee.Number(idate)});"
      ]
    },
    {
      "cell_type": "markdown",
      "metadata": {
        "id": "5d82AZLQrtZ8"
      },
      "source": [
        "### Load Image Collection"
      ]
    },
    {
      "cell_type": "markdown",
      "metadata": {
        "id": "o_nefqFNn16D"
      },
      "source": [
        "Sentinel-2 MSI: MultiSpectral Instrument, Level-2A\n",
        "\n",
        "https://developers.google.com/earth-engine/datasets/catalog/COPERNICUS_S2_SR"
      ]
    },
    {
      "cell_type": "code",
      "execution_count": null,
      "metadata": {
        "colab": {
          "base_uri": "https://localhost:8080/",
          "height": 52
        },
        "id": "zg9oOKuCrsLM",
        "outputId": "3c6601bb-fead-41df-ac70-fe843d4aad79"
      },
      "outputs": [
        {
          "output_type": "display_data",
          "data": {
            "text/plain": [
              "<IPython.core.display.HTML object>"
            ],
            "text/html": [
              "\n",
              "            <style>\n",
              "                .geemap-dark {\n",
              "                    --jp-widgets-color: white;\n",
              "                    --jp-widgets-label-color: white;\n",
              "                    --jp-ui-font-color1: white;\n",
              "                    --jp-layout-color2: #454545;\n",
              "                    background-color: #383838;\n",
              "                }\n",
              "                    \n",
              "                .geemap-dark .jupyter-button {\n",
              "                    --jp-layout-color3: #383838;\n",
              "                }\n",
              "                \n",
              "                .geemap-colab {\n",
              "                    background-color: var(--colab-primary-surface-color, white);\n",
              "                }\n",
              "                    \n",
              "                .geemap-colab .jupyter-button {\n",
              "                    --jp-layout-color3: var(--colab-primary-surface-color, white);\n",
              "                }\n",
              "            </style>\n",
              "            "
            ]
          },
          "metadata": {}
        },
        {
          "output_type": "stream",
          "name": "stdout",
          "text": [
            "Collection size:  588 scenes \n",
            "\n"
          ]
        }
      ],
      "source": [
        "# Import collection and map helper functions\n",
        "collectionS2 = (ee.ImageCollection(\"COPERNICUS/S2_SR\")\n",
        "                .filterBounds(bbox)\n",
        "                .filterDate(SrtDate, EndDate)\n",
        "                .map(cloudMask)\n",
        "                .map(waterMask)\n",
        "                .map(selecBands)\n",
        "                .map(addIndices))\n",
        "\n",
        "print('Collection size: ',str(collectionS2.size().getInfo())+' scenes \\n');"
      ]
    },
    {
      "cell_type": "code",
      "execution_count": null,
      "metadata": {
        "colab": {
          "base_uri": "https://localhost:8080/",
          "height": 658,
          "referenced_widgets": [
            "1e30d817bcd148c9bada92a8bc0553a6",
            "f79c7c86d57e45358e5cf327a021c7db",
            "d0ebcd012fac4897ae0162b4152506d3",
            "ca0aaba558b04de3a257dcdf48ebb937",
            "3a0a36bc015d41feba5bf7b517009a72",
            "a79fcb86b33a4b0f9c3a9f448662d43f",
            "bd5a04a4dc6a400fa74bcc379f07326b",
            "23243c494afe408a9604551e455d2057",
            "4851db9aa134458dbb61f689770f8748",
            "3008e7d81b2048a99b36e49943aa5a12",
            "9f1eeb7b421c46628bb23d3039f0bf5d",
            "318ddc9724af46c1b1122267bba3b4a6",
            "dcafa657428d462a820d1f4b6d8aee89",
            "9e473b3af40b441b955d9871a07d333a",
            "58d4c89a032845b3919f379f73bcc686",
            "7f4a40092e054a43afd9c333fcec7029",
            "f5046027d85743689b2a4ba249107707",
            "ec1ea9028b1b4d78b8d7e9c2c5f50c97",
            "85cae635f45d400798652e53b9593124",
            "7dab478e9a0a4816aca45cf6c62287da",
            "ee031d75935240c488b5868ddc628a61",
            "85886e692a3a4325ba8f0c9309f055ae",
            "057634af536d4fbcbca2cf8be8d2dc00",
            "3c8eb83fb8a1416ea5fca51a9fb049ed",
            "1926f1611cf74008a3db8e2b882528c9"
          ]
        },
        "id": "PrXcamSPyNkK",
        "outputId": "c3b5bab5-7be4-4d28-8c82-6004f6be1023"
      },
      "outputs": [
        {
          "output_type": "display_data",
          "data": {
            "text/plain": [
              "<IPython.core.display.HTML object>"
            ],
            "text/html": [
              "\n",
              "            <style>\n",
              "                .geemap-dark {\n",
              "                    --jp-widgets-color: white;\n",
              "                    --jp-widgets-label-color: white;\n",
              "                    --jp-ui-font-color1: white;\n",
              "                    --jp-layout-color2: #454545;\n",
              "                    background-color: #383838;\n",
              "                }\n",
              "                    \n",
              "                .geemap-dark .jupyter-button {\n",
              "                    --jp-layout-color3: #383838;\n",
              "                }\n",
              "                \n",
              "                .geemap-colab {\n",
              "                    background-color: var(--colab-primary-surface-color, white);\n",
              "                }\n",
              "                    \n",
              "                .geemap-colab .jupyter-button {\n",
              "                    --jp-layout-color3: var(--colab-primary-surface-color, white);\n",
              "                }\n",
              "            </style>\n",
              "            "
            ]
          },
          "metadata": {}
        },
        {
          "output_type": "stream",
          "name": "stdout",
          "text": [
            "Band names: ['NDVI', 'EVI', 'SAVI', 'NDMI', 'NDWI1', 'NDWI2', 'NDVIre1', 'NDVIre2', 'NDVIre3', 'CIre1', 'CIre2', 'CIre3', 'MSRre1', 'MSRre2', 'MSRre3', 'SIWSI', 'red', 'nir', 'swir1', 'swir2', 'rededge1', 'rededge2', 'rededge3', 'nir8A']\n"
          ]
        },
        {
          "output_type": "display_data",
          "data": {
            "text/plain": [
              "Map(center=[-21.406251078337068, -49.31341705029615], controls=(WidgetControl(options=['position', 'transparen…"
            ],
            "application/vnd.jupyter.widget-view+json": {
              "version_major": 2,
              "version_minor": 0,
              "model_id": "1e30d817bcd148c9bada92a8bc0553a6"
            }
          },
          "metadata": {
            "application/vnd.jupyter.widget-view+json": {
              "colab": {
                "custom_widget_manager": {
                  "url": "https://ssl.gstatic.com/colaboratory-static/widgets/colab-cdn-widget-manager/b3e629b1971e1542/manager.min.js"
                }
              }
            }
          }
        }
      ],
      "source": [
        "# Get the most recent image\n",
        "S2mostRecent = collectionS2.limit(10).sort('system:time_start', False).mean()\n",
        "#display(pd.to_datetime(S2mostRecent.get('system:time_start').getInfo(), unit=\"ms\"))\n",
        "#print('Scene: ',S2mostRecent.get('system:index').getInfo())\n",
        "print('Band names:', S2mostRecent.bandNames().getInfo())\n",
        "\n",
        "# Get values from image\n",
        "reducers = ee.Reducer.percentile([1,98], ['min','max']);\n",
        "stats = S2mostRecent.select(['swir1', 'nir', 'red']).reduceRegion(reducer = reducers,\n",
        "                              geometry = bbox,\n",
        "                              scale = 5000,\n",
        "                              tileScale = 16);\n",
        "\n",
        "# Display the image\n",
        "Map = geemap.Map(basemap='Esri.WorldImagery')\n",
        "Map.setOptions()\n",
        "\n",
        "rgbFalseColor = {'bands': ['swir1', 'nir', 'red'],\n",
        "                 'min': [stats.get('swir1_min'),stats.get('nir_min'),stats.get('red_min')],\n",
        "                 'max': [stats.get('swir1_max'),stats.get('nir_max'),stats.get('red_max')],\n",
        "                 'gamma': 1};\n",
        "\n",
        "Map.addLayer(S2mostRecent, rgbFalseColor,'Most Recent Image - RGB(swir1-nir-red');\n",
        "Map.centerObject(bbox, 8);\n",
        "\n",
        "Map.setControlVisibility()\n",
        "Map"
      ]
    },
    {
      "cell_type": "markdown",
      "metadata": {
        "id": "aFzBZitI14qV"
      },
      "source": [
        "### Temporal reduction (mosaics)"
      ]
    },
    {
      "cell_type": "code",
      "execution_count": null,
      "metadata": {
        "id": "ceucH__YsqyT",
        "colab": {
          "base_uri": "https://localhost:8080/",
          "height": 17
        },
        "outputId": "d5f4370f-17ff-40d8-a01e-9541a2957049"
      },
      "outputs": [
        {
          "output_type": "display_data",
          "data": {
            "text/plain": [
              "<IPython.core.display.HTML object>"
            ],
            "text/html": [
              "\n",
              "            <style>\n",
              "                .geemap-dark {\n",
              "                    --jp-widgets-color: white;\n",
              "                    --jp-widgets-label-color: white;\n",
              "                    --jp-ui-font-color1: white;\n",
              "                    --jp-layout-color2: #454545;\n",
              "                    background-color: #383838;\n",
              "                }\n",
              "                    \n",
              "                .geemap-dark .jupyter-button {\n",
              "                    --jp-layout-color3: #383838;\n",
              "                }\n",
              "                \n",
              "                .geemap-colab {\n",
              "                    background-color: var(--colab-primary-surface-color, white);\n",
              "                }\n",
              "                    \n",
              "                .geemap-colab .jupyter-button {\n",
              "                    --jp-layout-color3: var(--colab-primary-surface-color, white);\n",
              "                }\n",
              "            </style>\n",
              "            "
            ]
          },
          "metadata": {}
        }
      ],
      "source": [
        "# Define the way of aggregation\n",
        "interval = 1  # time range for agregation (e.g., every 1 month)\n",
        "intervalUnit = 'month'  # unit of time (e.g. 'year', 'month', 'day')\n",
        "temporalReducer = ee.Reducer.median()  # how to reduce images in time range"
      ]
    },
    {
      "cell_type": "code",
      "execution_count": null,
      "metadata": {
        "id": "yAtWDJjhsqyU",
        "colab": {
          "base_uri": "https://localhost:8080/",
          "height": 17
        },
        "outputId": "46974276-38aa-4ec3-d699-df9ded0d55f9"
      },
      "outputs": [
        {
          "output_type": "display_data",
          "data": {
            "text/plain": [
              "<IPython.core.display.HTML object>"
            ],
            "text/html": [
              "\n",
              "            <style>\n",
              "                .geemap-dark {\n",
              "                    --jp-widgets-color: white;\n",
              "                    --jp-widgets-label-color: white;\n",
              "                    --jp-ui-font-color1: white;\n",
              "                    --jp-layout-color2: #454545;\n",
              "                    background-color: #383838;\n",
              "                }\n",
              "                    \n",
              "                .geemap-dark .jupyter-button {\n",
              "                    --jp-layout-color3: #383838;\n",
              "                }\n",
              "                \n",
              "                .geemap-colab {\n",
              "                    background-color: var(--colab-primary-surface-color, white);\n",
              "                }\n",
              "                    \n",
              "                .geemap-colab .jupyter-button {\n",
              "                    --jp-layout-color3: var(--colab-primary-surface-color, white);\n",
              "                }\n",
              "            </style>\n",
              "            "
            ]
          },
          "metadata": {}
        }
      ],
      "source": [
        "# Compute the intervalCount based on the provided start and end dates\n",
        "intervalCount = ee.Date(EndDate).difference(ee.Date(SrtDate), intervalUnit).divide(interval).ceil().toInt()\n",
        "\n",
        "# Get time window index sequence.\n",
        "intervals = ee.List.sequence(0, intervalCount.subtract(1), 1)\n",
        "\n",
        "# Function for temporal aggregation of images.\n",
        "def reduceTemporal(i):\n",
        "    # Calculate temporal composite.\n",
        "    startRange = ee.Date(SrtDate).advance(ee.Number(interval).multiply(i), intervalUnit)\n",
        "    endRange = startRange.advance(interval, intervalUnit)\n",
        "    bandNames = collectionS2.first().bandNames().getInfo()\n",
        "    temporalStat = collectionS2.filterDate(startRange, endRange).reduce(temporalReducer).rename(bandNames)\n",
        "\n",
        "    # Set start date as a property.\n",
        "    composite = temporalStat.set('system:index', ee.Date(startRange).format('YYYYMM'))\n",
        "    composite = composite.set('system:time_start', ee.Date(startRange).format('YYYY-MM-dd'))\n",
        "\n",
        "    # Return the composite image.\n",
        "    return composite\n",
        "\n",
        "# Map reductions over index sequence to calculate statistics for each interval.\n",
        "reducedCollection_S2 = ee.ImageCollection(intervals.map(reduceTemporal))"
      ]
    },
    {
      "cell_type": "code",
      "execution_count": null,
      "metadata": {
        "colab": {
          "base_uri": "https://localhost:8080/",
          "height": 173
        },
        "id": "lwtJan6duywl",
        "outputId": "56eee099-137f-4616-94af-64cae97e6e07"
      },
      "outputs": [
        {
          "output_type": "display_data",
          "data": {
            "text/plain": [
              "<IPython.core.display.HTML object>"
            ],
            "text/html": [
              "\n",
              "            <style>\n",
              "                .geemap-dark {\n",
              "                    --jp-widgets-color: white;\n",
              "                    --jp-widgets-label-color: white;\n",
              "                    --jp-ui-font-color1: white;\n",
              "                    --jp-layout-color2: #454545;\n",
              "                    background-color: #383838;\n",
              "                }\n",
              "                    \n",
              "                .geemap-dark .jupyter-button {\n",
              "                    --jp-layout-color3: #383838;\n",
              "                }\n",
              "                \n",
              "                .geemap-colab {\n",
              "                    background-color: var(--colab-primary-surface-color, white);\n",
              "                }\n",
              "                    \n",
              "                .geemap-colab .jupyter-button {\n",
              "                    --jp-layout-color3: var(--colab-primary-surface-color, white);\n",
              "                }\n",
              "            </style>\n",
              "            "
            ]
          },
          "metadata": {}
        },
        {
          "output_type": "stream",
          "name": "stdout",
          "text": [
            "The collection size has been reduced to 4 images every 1 month\n"
          ]
        },
        {
          "output_type": "display_data",
          "data": {
            "text/plain": [
              "'From'"
            ],
            "application/vnd.google.colaboratory.intrinsic+json": {
              "type": "string"
            }
          },
          "metadata": {}
        },
        {
          "output_type": "display_data",
          "data": {
            "text/plain": [
              "<ee.computedobject.ComputedObject at 0x7a4fc237acb0>"
            ],
            "text/html": [
              "<div><style>:root {\n",
              "  --font-color-primary: var(--jp-content-font-color0, rgba(0, 0, 0, 1));\n",
              "  --font-color-secondary: var(--jp-content-font-color2, rgba(0, 0, 0, 0.6));\n",
              "  --font-color-accent: rgba(123, 31, 162, 1);\n",
              "  --border-color: var(--jp-border-color2, #e0e0e0);\n",
              "  --background-color: var(--jp-layout-color0, white);\n",
              "  --background-color-row-even: var(--jp-layout-color1, white);\n",
              "  --background-color-row-odd: var(--jp-layout-color2, #eeeeee);\n",
              "}\n",
              "\n",
              "html[theme=\"dark\"],\n",
              "body[data-theme=\"dark\"],\n",
              "body.vscode-dark {\n",
              "  --font-color-primary: rgba(255, 255, 255, 1);\n",
              "  --font-color-secondary: rgba(255, 255, 255, 0.6);\n",
              "  --font-color-accent: rgb(173, 132, 190);\n",
              "  --border-color: #2e2e2e;\n",
              "  --background-color: #111111;\n",
              "  --background-color-row-even: #111111;\n",
              "  --background-color-row-odd: #313131;\n",
              "}\n",
              "\n",
              ".ee {\n",
              "  padding: 1em;\n",
              "  line-height: 1.5em;\n",
              "  min-width: 300px;\n",
              "  max-width: 1200px;\n",
              "  overflow-y: scroll;\n",
              "  max-height: 600px;\n",
              "  border: 1px solid var(--border-color);\n",
              "  font-family: monospace;\n",
              "}\n",
              "\n",
              ".ee li {\n",
              "  list-style-type: none;\n",
              "}\n",
              "\n",
              ".ee ul {\n",
              "  padding-left: 1.5em !important;\n",
              "  margin: 0;\n",
              "}\n",
              "\n",
              ".ee > ul {\n",
              "  padding-left: 0 !important;\n",
              "}\n",
              "\n",
              ".ee-open,\n",
              ".ee-shut {\n",
              "  color: var(--font-color-secondary);\n",
              "  cursor: pointer;\n",
              "  margin: 0;\n",
              "}\n",
              "\n",
              ".ee-open:hover,\n",
              ".ee-shut:hover {\n",
              "  color: var(--font-color-primary);\n",
              "}\n",
              "\n",
              ".ee-k {\n",
              "  color: var(--font-color-accent);\n",
              "  margin-right: 6px;\n",
              "}\n",
              "\n",
              ".ee-v {\n",
              "  color: var(--font-color-primary);\n",
              "}\n",
              "\n",
              ".ee-toggle {\n",
              "  display: none;\n",
              "}\n",
              "\n",
              ".ee-shut + ul {\n",
              "  display: none;\n",
              "}\n",
              "\n",
              ".ee-open + ul {\n",
              "  display: block;\n",
              "}\n",
              "\n",
              ".ee-shut::before {\n",
              "  display: inline-block;\n",
              "  content: \"▼\";\n",
              "  margin-right: 6px;\n",
              "  transform: rotate(-90deg);\n",
              "  transition: transform 0.2s;\n",
              "}\n",
              "\n",
              ".ee-open::before {\n",
              "  transform: rotate(0deg);\n",
              "  display: inline-block;\n",
              "  content: \"▼\";\n",
              "  margin-right: 6px;\n",
              "  transition: transform 0.2s;\n",
              "}\n",
              "</style><div class='ee'><ul><li><span class='ee-v'>2019-12-01</span></li></ul></div><script>function toggleHeader() {\n",
              "    const parent = this.parentElement;\n",
              "    parent.className = parent.className === \"ee-open\" ? \"ee-shut\" : \"ee-open\";\n",
              "}\n",
              "\n",
              "for (let c of document.getElementsByClassName(\"ee-toggle\")) {\n",
              "    c.onclick = toggleHeader;\n",
              "}</script></div>"
            ]
          },
          "metadata": {}
        },
        {
          "output_type": "display_data",
          "data": {
            "text/plain": [
              "'To'"
            ],
            "application/vnd.google.colaboratory.intrinsic+json": {
              "type": "string"
            }
          },
          "metadata": {}
        },
        {
          "output_type": "display_data",
          "data": {
            "text/plain": [
              "<ee.computedobject.ComputedObject at 0x7a4fc2379870>"
            ],
            "text/html": [
              "<div><style>:root {\n",
              "  --font-color-primary: var(--jp-content-font-color0, rgba(0, 0, 0, 1));\n",
              "  --font-color-secondary: var(--jp-content-font-color2, rgba(0, 0, 0, 0.6));\n",
              "  --font-color-accent: rgba(123, 31, 162, 1);\n",
              "  --border-color: var(--jp-border-color2, #e0e0e0);\n",
              "  --background-color: var(--jp-layout-color0, white);\n",
              "  --background-color-row-even: var(--jp-layout-color1, white);\n",
              "  --background-color-row-odd: var(--jp-layout-color2, #eeeeee);\n",
              "}\n",
              "\n",
              "html[theme=\"dark\"],\n",
              "body[data-theme=\"dark\"],\n",
              "body.vscode-dark {\n",
              "  --font-color-primary: rgba(255, 255, 255, 1);\n",
              "  --font-color-secondary: rgba(255, 255, 255, 0.6);\n",
              "  --font-color-accent: rgb(173, 132, 190);\n",
              "  --border-color: #2e2e2e;\n",
              "  --background-color: #111111;\n",
              "  --background-color-row-even: #111111;\n",
              "  --background-color-row-odd: #313131;\n",
              "}\n",
              "\n",
              ".ee {\n",
              "  padding: 1em;\n",
              "  line-height: 1.5em;\n",
              "  min-width: 300px;\n",
              "  max-width: 1200px;\n",
              "  overflow-y: scroll;\n",
              "  max-height: 600px;\n",
              "  border: 1px solid var(--border-color);\n",
              "  font-family: monospace;\n",
              "}\n",
              "\n",
              ".ee li {\n",
              "  list-style-type: none;\n",
              "}\n",
              "\n",
              ".ee ul {\n",
              "  padding-left: 1.5em !important;\n",
              "  margin: 0;\n",
              "}\n",
              "\n",
              ".ee > ul {\n",
              "  padding-left: 0 !important;\n",
              "}\n",
              "\n",
              ".ee-open,\n",
              ".ee-shut {\n",
              "  color: var(--font-color-secondary);\n",
              "  cursor: pointer;\n",
              "  margin: 0;\n",
              "}\n",
              "\n",
              ".ee-open:hover,\n",
              ".ee-shut:hover {\n",
              "  color: var(--font-color-primary);\n",
              "}\n",
              "\n",
              ".ee-k {\n",
              "  color: var(--font-color-accent);\n",
              "  margin-right: 6px;\n",
              "}\n",
              "\n",
              ".ee-v {\n",
              "  color: var(--font-color-primary);\n",
              "}\n",
              "\n",
              ".ee-toggle {\n",
              "  display: none;\n",
              "}\n",
              "\n",
              ".ee-shut + ul {\n",
              "  display: none;\n",
              "}\n",
              "\n",
              ".ee-open + ul {\n",
              "  display: block;\n",
              "}\n",
              "\n",
              ".ee-shut::before {\n",
              "  display: inline-block;\n",
              "  content: \"▼\";\n",
              "  margin-right: 6px;\n",
              "  transform: rotate(-90deg);\n",
              "  transition: transform 0.2s;\n",
              "}\n",
              "\n",
              ".ee-open::before {\n",
              "  transform: rotate(0deg);\n",
              "  display: inline-block;\n",
              "  content: \"▼\";\n",
              "  margin-right: 6px;\n",
              "  transition: transform 0.2s;\n",
              "}\n",
              "</style><div class='ee'><ul><li><span class='ee-v'>2020-03-01</span></li></ul></div><script>function toggleHeader() {\n",
              "    const parent = this.parentElement;\n",
              "    parent.className = parent.className === \"ee-open\" ? \"ee-shut\" : \"ee-open\";\n",
              "}\n",
              "\n",
              "for (let c of document.getElementsByClassName(\"ee-toggle\")) {\n",
              "    c.onclick = toggleHeader;\n",
              "}</script></div>"
            ]
          },
          "metadata": {}
        }
      ],
      "source": [
        "print('The collection size has been reduced to',reducedCollection_S2.size().getInfo(),f'images every {interval} {intervalUnit}')\n",
        "\n",
        "display('From',reducedCollection_S2.first().get('system:time_start'))\n",
        "display('To',reducedCollection_S2.sort('system:time_start',opt_ascending=False).first().get('system:time_start'))"
      ]
    },
    {
      "cell_type": "code",
      "execution_count": null,
      "metadata": {
        "colab": {
          "base_uri": "https://localhost:8080/",
          "height": 693,
          "referenced_widgets": [
            "da20b42f9c1b4ef3b63738dc79221850",
            "7ef5d30cd02648099487b948457b4476",
            "1ba96df214cc49c1935b5a230eca832e",
            "58c4f574468c40909d8cf6a649efde27",
            "e9bf632c32d44ceb8a750bffa74da590",
            "f95d18e16e164e8d9495220c2a349b8b",
            "7ec915bd0e7d4574b4c19d5ad607ff73",
            "fb5a07939b1542cbb76b9203743bd537",
            "f20e97629fff4b96903b3719f0d0b61e",
            "f4e722731dc549bb9431c0b5d5719329",
            "354a79f0181243709a1217488bf652ee",
            "ebc95d72dfe746a0961e3cb65612ce4d",
            "283de02f269f443686ddcef9497c9ef1",
            "6d72f049c28a46f0a809d952a696dbc7",
            "34368d34adf04759a473050ed0093721",
            "f4e87532facf4e2e984affbb0f2bd1c4",
            "b5b9412e018641809559d2ebe3d0bdbf",
            "03963fc799e440328e4a86a621d2f704",
            "b5af17471a0e4374a3a465ac084084ef",
            "2c423854fcc3419cbd41aad69c095f41",
            "34a96899741741cdafde3c049fa29ace",
            "4132990c9d9241d392bed127eb7db652",
            "2068635889634483a760fa62dbb11abb",
            "5f0310f0d819480b955557a41048bd3d",
            "261949eb9e5f4be3a57063f69356aea4",
            "17e06e6ca0c049b6bcc74ea378c541db"
          ]
        },
        "id": "DhnGXRcGyuQH",
        "outputId": "32d34ea7-8a43-427c-8590-9ad2567b1756"
      },
      "outputs": [
        {
          "output_type": "display_data",
          "data": {
            "text/plain": [
              "<IPython.core.display.HTML object>"
            ],
            "text/html": [
              "\n",
              "            <style>\n",
              "                .geemap-dark {\n",
              "                    --jp-widgets-color: white;\n",
              "                    --jp-widgets-label-color: white;\n",
              "                    --jp-ui-font-color1: white;\n",
              "                    --jp-layout-color2: #454545;\n",
              "                    background-color: #383838;\n",
              "                }\n",
              "                    \n",
              "                .geemap-dark .jupyter-button {\n",
              "                    --jp-layout-color3: #383838;\n",
              "                }\n",
              "                \n",
              "                .geemap-colab {\n",
              "                    background-color: var(--colab-primary-surface-color, white);\n",
              "                }\n",
              "                    \n",
              "                .geemap-colab .jupyter-button {\n",
              "                    --jp-layout-color3: var(--colab-primary-surface-color, white);\n",
              "                }\n",
              "            </style>\n",
              "            "
            ]
          },
          "metadata": {}
        },
        {
          "output_type": "stream",
          "name": "stdout",
          "text": [
            "Month date: 201912 \n",
            "\n",
            "Band names: ['NDVI', 'EVI', 'SAVI', 'NDMI', 'NDWI1', 'NDWI2', 'NDVIre1', 'NDVIre2', 'NDVIre3', 'CIre1', 'CIre2', 'CIre3', 'MSRre1', 'MSRre2', 'MSRre3', 'SIWSI', 'red', 'nir', 'swir1', 'swir2', 'rededge1', 'rededge2', 'rededge3', 'nir8A']\n"
          ]
        },
        {
          "output_type": "display_data",
          "data": {
            "text/plain": [
              "Map(center=[-21.406251078337068, -49.31341705029615], controls=(WidgetControl(options=['position', 'transparen…"
            ],
            "application/vnd.jupyter.widget-view+json": {
              "version_major": 2,
              "version_minor": 0,
              "model_id": "da20b42f9c1b4ef3b63738dc79221850"
            }
          },
          "metadata": {
            "application/vnd.jupyter.widget-view+json": {
              "colab": {
                "custom_widget_manager": {
                  "url": "https://ssl.gstatic.com/colaboratory-static/widgets/colab-cdn-widget-manager/b3e629b1971e1542/manager.min.js"
                }
              }
            }
          }
        }
      ],
      "source": [
        "# Get the most recent image from monthly mosaics\n",
        "MonthlyMosaics_mostRecent = reducedCollection_S2.first()\n",
        "print('Month date:',MonthlyMosaics_mostRecent.get('system:index').getInfo(),'\\n')\n",
        "print('Band names:', MonthlyMosaics_mostRecent.bandNames().getInfo())\n",
        "\n",
        "# Display the most recent image from the collection\n",
        "Map = geemap.Map(basemap='Esri.WorldImagery')\n",
        "Map.setOptions()\n",
        "\n",
        "# Get min/max values for the spectral band\n",
        "rgbFalseColor = {'bands': ['swir1', 'nir', 'red'],\n",
        "                 'min': [stats.get('swir1_min'),stats.get('nir_min'),stats.get('red_min')],\n",
        "                 'max': [stats.get('swir1_max'),stats.get('nir_max'),stats.get('red_max')],\n",
        "                 'gamma': 1}\n",
        "\n",
        "ndviVis = {'bands':['NDVI'], 'min':0, 'max':1,'palette':['blue', 'white', 'green']}\n",
        "\n",
        "Map.addLayer(MonthlyMosaics_mostRecent, rgbFalseColor,'Most Recent Mosaic - RGB(swir1-nir-red', False)\n",
        "Map.addLayer(MonthlyMosaics_mostRecent, ndviVis,'Most Recent Mosaic - NDVI_median')\n",
        "Map.centerObject(bbox, 8)\n",
        "\n",
        "Map.setControlVisibility()\n",
        "Map"
      ]
    },
    {
      "cell_type": "markdown",
      "metadata": {
        "id": "g1Vs2Pf64RbR"
      },
      "source": [
        "### Reduce by region and export as tables"
      ]
    },
    {
      "cell_type": "code",
      "source": [
        "# Define the statistic\n",
        "# \"MEAN\", \"MAXIMUM\", \"MEDIAN\",\"MINIMUM\",\"MODE\",\"STD\",\"MIN_MAX\",\"SUM\",\"VARIANCE\", \"COUNT\"\n",
        "statistics_Type = 'MEAN'\n",
        "\n",
        "# Define the output path to save results\n",
        "global_stats_path1 =  os.path.join(out_path, f'01_sentinel2_data_monthly_{statistics_Type}_safra_{CropSeason}_1.csv')\n",
        "# global_stats_path2 =  os.path.join(out_path, f'01_sentinel2_data_monthly_{statistics_Type}_safra_{CropSeason}_2.csv')\n",
        "# global_stats_path3 =  os.path.join(out_path, f'01_sentinel2_data_monthly_{statistics_Type}_safra_{CropSeason}_3.csv')\n",
        "# global_stats_path4 =  os.path.join(out_path, f'01_sentinel2_data_monthly_{statistics_Type}_safra_{CropSeason}_4.csv')\n",
        "# global_stats_path5 =  os.path.join(out_path, f'01_sentinel2_data_monthly_{statistics_Type}_safra_{CropSeason}_5.csv')\n",
        "# global_stats_path6 =  os.path.join(out_path, f'01_sentinel2_data_monthly_{statistics_Type}_safra_{CropSeason}_6.csv')\n",
        "# global_stats_path7 =  os.path.join(out_path, f'01_sentinel2_data_monthly_{statistics_Type}_safra_{CropSeason}_7.csv')\n",
        "# global_stats_path8 =  os.path.join(out_path, f'01_sentinel2_data_monthly_{statistics_Type}_safra_{CropSeason}_8.csv')\n",
        "# global_stats_path9 =  os.path.join(out_path, f'01_sentinel2_data_monthly_{statistics_Type}_safra_{CropSeason}_9.csv')\n",
        "# global_stats_path10 = os.path.join(out_path, f'01_sentinel2_data_monthly_{statistics_Type}_safra_{CropSeason}_10.csv')\n",
        "# global_stats_path11 = os.path.join(out_path, f'01_sentinel2_data_monthly_{statistics_Type}_safra_{CropSeason}_11.csv')\n",
        "# global_stats_path12 = os.path.join(out_path, f'01_sentinel2_data_monthly_{statistics_Type}_safra_{CropSeason}_12.csv')\n",
        "# global_stats_path13 = os.path.join(out_path, f'01_sentinel2_data_monthly_{statistics_Type}_safra_{CropSeason}_13.csv')\n",
        "# global_stats_path14 = os.path.join(out_path, f'01_sentinel2_data_monthly_{statistics_Type}_safra_{CropSeason}_14.csv')\n",
        "# global_stats_path15 = os.path.join(out_path, f'01_sentinel2_data_monthly_{statistics_Type}_safra_{CropSeason}_15.csv')\n",
        "\n",
        "print(global_stats_path1)\n",
        "# print(global_stats_path2)\n",
        "# print(global_stats_path3)\n",
        "# print(global_stats_path4)\n",
        "# print(global_stats_path5)\n",
        "# print(global_stats_path6)\n",
        "# print(global_stats_path7)\n",
        "# print(global_stats_path8)\n",
        "# print(global_stats_path9)\n",
        "# print(global_stats_path10)\n",
        "# print(global_stats_path11)\n",
        "# print(global_stats_path12)\n",
        "# print(global_stats_path13)\n",
        "# print(global_stats_path14)\n",
        "# print(global_stats_path15)"
      ],
      "metadata": {
        "colab": {
          "base_uri": "https://localhost:8080/",
          "height": 297
        },
        "outputId": "496d8900-3697-4720-cee6-ae2ba6049cc8",
        "id": "JnRxs9XK4RbS"
      },
      "execution_count": null,
      "outputs": [
        {
          "output_type": "display_data",
          "data": {
            "text/plain": [
              "<IPython.core.display.HTML object>"
            ],
            "text/html": [
              "\n",
              "            <style>\n",
              "                .geemap-dark {\n",
              "                    --jp-widgets-color: white;\n",
              "                    --jp-widgets-label-color: white;\n",
              "                    --jp-ui-font-color1: white;\n",
              "                    --jp-layout-color2: #454545;\n",
              "                    background-color: #383838;\n",
              "                }\n",
              "                    \n",
              "                .geemap-dark .jupyter-button {\n",
              "                    --jp-layout-color3: #383838;\n",
              "                }\n",
              "                \n",
              "                .geemap-colab {\n",
              "                    background-color: var(--colab-primary-surface-color, white);\n",
              "                }\n",
              "                    \n",
              "                .geemap-colab .jupyter-button {\n",
              "                    --jp-layout-color3: var(--colab-primary-surface-color, white);\n",
              "                }\n",
              "            </style>\n",
              "            "
            ]
          },
          "metadata": {}
        },
        {
          "output_type": "stream",
          "name": "stdout",
          "text": [
            "/content/drive/MyDrive/Colab Notebooks/01_SugarcaneYieldPrediction/02_usinas_all/05_sentinel2_data_monthly/01_sentinel2_data_monthly_MEAN_safra_2021_1.csv\n",
            "/content/drive/MyDrive/Colab Notebooks/01_SugarcaneYieldPrediction/02_usinas_all/05_sentinel2_data_monthly/01_sentinel2_data_monthly_MEAN_safra_2021_2.csv\n",
            "/content/drive/MyDrive/Colab Notebooks/01_SugarcaneYieldPrediction/02_usinas_all/05_sentinel2_data_monthly/01_sentinel2_data_monthly_MEAN_safra_2021_3.csv\n",
            "/content/drive/MyDrive/Colab Notebooks/01_SugarcaneYieldPrediction/02_usinas_all/05_sentinel2_data_monthly/01_sentinel2_data_monthly_MEAN_safra_2021_4.csv\n",
            "/content/drive/MyDrive/Colab Notebooks/01_SugarcaneYieldPrediction/02_usinas_all/05_sentinel2_data_monthly/01_sentinel2_data_monthly_MEAN_safra_2021_5.csv\n",
            "/content/drive/MyDrive/Colab Notebooks/01_SugarcaneYieldPrediction/02_usinas_all/05_sentinel2_data_monthly/01_sentinel2_data_monthly_MEAN_safra_2021_6.csv\n",
            "/content/drive/MyDrive/Colab Notebooks/01_SugarcaneYieldPrediction/02_usinas_all/05_sentinel2_data_monthly/01_sentinel2_data_monthly_MEAN_safra_2021_7.csv\n",
            "/content/drive/MyDrive/Colab Notebooks/01_SugarcaneYieldPrediction/02_usinas_all/05_sentinel2_data_monthly/01_sentinel2_data_monthly_MEAN_safra_2021_8.csv\n",
            "/content/drive/MyDrive/Colab Notebooks/01_SugarcaneYieldPrediction/02_usinas_all/05_sentinel2_data_monthly/01_sentinel2_data_monthly_MEAN_safra_2021_9.csv\n",
            "/content/drive/MyDrive/Colab Notebooks/01_SugarcaneYieldPrediction/02_usinas_all/05_sentinel2_data_monthly/01_sentinel2_data_monthly_MEAN_safra_2021_10.csv\n",
            "/content/drive/MyDrive/Colab Notebooks/01_SugarcaneYieldPrediction/02_usinas_all/05_sentinel2_data_monthly/01_sentinel2_data_monthly_MEAN_safra_2021_11.csv\n",
            "/content/drive/MyDrive/Colab Notebooks/01_SugarcaneYieldPrediction/02_usinas_all/05_sentinel2_data_monthly/01_sentinel2_data_monthly_MEAN_safra_2021_12.csv\n",
            "/content/drive/MyDrive/Colab Notebooks/01_SugarcaneYieldPrediction/02_usinas_all/05_sentinel2_data_monthly/01_sentinel2_data_monthly_MEAN_safra_2021_13.csv\n",
            "/content/drive/MyDrive/Colab Notebooks/01_SugarcaneYieldPrediction/02_usinas_all/05_sentinel2_data_monthly/01_sentinel2_data_monthly_MEAN_safra_2021_14.csv\n",
            "/content/drive/MyDrive/Colab Notebooks/01_SugarcaneYieldPrediction/02_usinas_all/05_sentinel2_data_monthly/01_sentinel2_data_monthly_MEAN_safra_2021_15.csv\n"
          ]
        }
      ]
    },
    {
      "cell_type": "code",
      "source": [
        "# Reduzing daily climatic values by zone\n",
        "scale = 50.0\n",
        "\n",
        "parameters = {\n",
        "    'in_value_raster': reducedCollection_S2,\n",
        "    'statistics_type':statistics_Type,\n",
        "    'scale':float(scale), # a high scale avoid missing values\n",
        "    'tile_scale':16.0,\n",
        "    'return_fc':False,\n",
        "    'timeout':3000\n",
        "    }"
      ],
      "metadata": {
        "colab": {
          "base_uri": "https://localhost:8080/",
          "height": 17
        },
        "outputId": "bedfb48c-79e1-40cb-ccde-0528783373a5",
        "id": "C-ilCKh14RbT"
      },
      "execution_count": null,
      "outputs": [
        {
          "output_type": "display_data",
          "data": {
            "text/plain": [
              "<IPython.core.display.HTML object>"
            ],
            "text/html": [
              "\n",
              "            <style>\n",
              "                .geemap-dark {\n",
              "                    --jp-widgets-color: white;\n",
              "                    --jp-widgets-label-color: white;\n",
              "                    --jp-ui-font-color1: white;\n",
              "                    --jp-layout-color2: #454545;\n",
              "                    background-color: #383838;\n",
              "                }\n",
              "                    \n",
              "                .geemap-dark .jupyter-button {\n",
              "                    --jp-layout-color3: #383838;\n",
              "                }\n",
              "                \n",
              "                .geemap-colab {\n",
              "                    background-color: var(--colab-primary-surface-color, white);\n",
              "                }\n",
              "                    \n",
              "                .geemap-colab .jupyter-button {\n",
              "                    --jp-layout-color3: var(--colab-primary-surface-color, white);\n",
              "                }\n",
              "            </style>\n",
              "            "
            ]
          },
          "metadata": {}
        }
      ]
    },
    {
      "cell_type": "code",
      "source": [
        "geemap.zonal_statistics(in_zone_vector=fc_to_reduction1,out_file_path=global_stats_path1,**parameters)\n",
        "time.sleep(2)\n",
        "# geemap.zonal_statistics(in_zone_vector=fc_to_reduction2,out_file_path=global_stats_path2,**parameters)\n",
        "# time.sleep(2)\n",
        "# geemap.zonal_statistics(in_zone_vector=fc_to_reduction3,out_file_path=global_stats_path3,**parameters)\n",
        "# time.sleep(2)"
      ],
      "metadata": {
        "colab": {
          "base_uri": "https://localhost:8080/",
          "height": 297
        },
        "outputId": "7b00a65d-e4f4-4d42-cb07-76c0757f00b6",
        "id": "Iq0wT6ld4RbU"
      },
      "execution_count": null,
      "outputs": [
        {
          "output_type": "display_data",
          "data": {
            "text/plain": [
              "<IPython.core.display.HTML object>"
            ],
            "text/html": [
              "\n",
              "            <style>\n",
              "                .geemap-dark {\n",
              "                    --jp-widgets-color: white;\n",
              "                    --jp-widgets-label-color: white;\n",
              "                    --jp-ui-font-color1: white;\n",
              "                    --jp-layout-color2: #454545;\n",
              "                    background-color: #383838;\n",
              "                }\n",
              "                    \n",
              "                .geemap-dark .jupyter-button {\n",
              "                    --jp-layout-color3: #383838;\n",
              "                }\n",
              "                \n",
              "                .geemap-colab {\n",
              "                    background-color: var(--colab-primary-surface-color, white);\n",
              "                }\n",
              "                    \n",
              "                .geemap-colab .jupyter-button {\n",
              "                    --jp-layout-color3: var(--colab-primary-surface-color, white);\n",
              "                }\n",
              "            </style>\n",
              "            "
            ]
          },
          "metadata": {}
        },
        {
          "output_type": "stream",
          "name": "stdout",
          "text": [
            "Computing statistics ...\n",
            "Generating URL ...\n",
            "Downloading data from https://earthengine.googleapis.com/v1/projects/earthengine-legacy/tables/70bafd3ec5c8d49932d1485643806328-6744198ca905d8172fe1be1c1ea00f27:getFeatures\n",
            "Please wait ...\n",
            "Data downloaded to /content/drive/MyDrive/Colab Notebooks/01_SugarcaneYieldPrediction/02_usinas_all/05_sentinel2_data_monthly/01_sentinel2_data_monthly_MEAN_safra_2021_1.csv\n",
            "Computing statistics ...\n",
            "Generating URL ...\n",
            "Downloading data from https://earthengine.googleapis.com/v1/projects/earthengine-legacy/tables/04f9d1d9d8f04331334b377597c17e36-6a05dee08d6b665c2568af8e609ffe39:getFeatures\n",
            "Please wait ...\n",
            "Data downloaded to /content/drive/MyDrive/Colab Notebooks/01_SugarcaneYieldPrediction/02_usinas_all/05_sentinel2_data_monthly/01_sentinel2_data_monthly_MEAN_safra_2021_2.csv\n",
            "Computing statistics ...\n",
            "Generating URL ...\n",
            "Downloading data from https://earthengine.googleapis.com/v1/projects/earthengine-legacy/tables/051ddc1d6787efcde0fa3d42fe65167d-03e9d76163f6683b62e71c9a1bf4f0d4:getFeatures\n",
            "Please wait ...\n",
            "Data downloaded to /content/drive/MyDrive/Colab Notebooks/01_SugarcaneYieldPrediction/02_usinas_all/05_sentinel2_data_monthly/01_sentinel2_data_monthly_MEAN_safra_2021_3.csv\n"
          ]
        }
      ]
    },
    {
      "cell_type": "code",
      "source": [
        "# geemap.zonal_statistics(in_zone_vector=fc_to_reduction4,out_file_path=global_stats_path4,**parameters)\n",
        "# time.sleep(2)\n",
        "# geemap.zonal_statistics(in_zone_vector=fc_to_reduction5,out_file_path=global_stats_path5,**parameters)\n",
        "# time.sleep(2)\n",
        "# geemap.zonal_statistics(in_zone_vector=fc_to_reduction6,out_file_path=global_stats_path6,**parameters)\n",
        "# time.sleep(2)"
      ],
      "metadata": {
        "colab": {
          "base_uri": "https://localhost:8080/",
          "height": 297
        },
        "outputId": "b58e9e54-73fd-461a-dcd9-31b4b9f9566a",
        "id": "fqH04bRB4RbV"
      },
      "execution_count": null,
      "outputs": [
        {
          "output_type": "display_data",
          "data": {
            "text/plain": [
              "<IPython.core.display.HTML object>"
            ],
            "text/html": [
              "\n",
              "            <style>\n",
              "                .geemap-dark {\n",
              "                    --jp-widgets-color: white;\n",
              "                    --jp-widgets-label-color: white;\n",
              "                    --jp-ui-font-color1: white;\n",
              "                    --jp-layout-color2: #454545;\n",
              "                    background-color: #383838;\n",
              "                }\n",
              "                    \n",
              "                .geemap-dark .jupyter-button {\n",
              "                    --jp-layout-color3: #383838;\n",
              "                }\n",
              "                \n",
              "                .geemap-colab {\n",
              "                    background-color: var(--colab-primary-surface-color, white);\n",
              "                }\n",
              "                    \n",
              "                .geemap-colab .jupyter-button {\n",
              "                    --jp-layout-color3: var(--colab-primary-surface-color, white);\n",
              "                }\n",
              "            </style>\n",
              "            "
            ]
          },
          "metadata": {}
        },
        {
          "output_type": "stream",
          "name": "stdout",
          "text": [
            "Computing statistics ...\n",
            "Generating URL ...\n",
            "Downloading data from https://earthengine.googleapis.com/v1/projects/earthengine-legacy/tables/7866bb199b29ed8f96c54e35ce7c12d6-a1efa01cd229260ce6e7f6cfc3fe9b21:getFeatures\n",
            "Please wait ...\n",
            "Data downloaded to /content/drive/MyDrive/Colab Notebooks/01_SugarcaneYieldPrediction/02_usinas_all/05_sentinel2_data_monthly/01_sentinel2_data_monthly_MEAN_safra_2021_4.csv\n",
            "Computing statistics ...\n",
            "Generating URL ...\n",
            "Downloading data from https://earthengine.googleapis.com/v1/projects/earthengine-legacy/tables/ddd8d84fd3aaa81ef69a907544ca50c3-8b714e3547b111dd4d4b7cce284cd7ab:getFeatures\n",
            "Please wait ...\n",
            "Data downloaded to /content/drive/MyDrive/Colab Notebooks/01_SugarcaneYieldPrediction/02_usinas_all/05_sentinel2_data_monthly/01_sentinel2_data_monthly_MEAN_safra_2021_5.csv\n",
            "Computing statistics ...\n",
            "Generating URL ...\n",
            "Downloading data from https://earthengine.googleapis.com/v1/projects/earthengine-legacy/tables/799798cee571c632dc490c23a2631feb-fb1f9670c7a9e1678234550414f4b130:getFeatures\n",
            "Please wait ...\n",
            "Data downloaded to /content/drive/MyDrive/Colab Notebooks/01_SugarcaneYieldPrediction/02_usinas_all/05_sentinel2_data_monthly/01_sentinel2_data_monthly_MEAN_safra_2021_6.csv\n"
          ]
        }
      ]
    },
    {
      "cell_type": "code",
      "source": [
        "# geemap.zonal_statistics(in_zone_vector=fc_to_reduction7,out_file_path=global_stats_path7,**parameters)\n",
        "# time.sleep(2)\n",
        "# geemap.zonal_statistics(in_zone_vector=fc_to_reduction8,out_file_path=global_stats_path8,**parameters)\n",
        "# time.sleep(2)"
      ],
      "metadata": {
        "colab": {
          "base_uri": "https://localhost:8080/",
          "height": 211
        },
        "outputId": "9ef878f9-4fe1-4a4c-cab5-1dd708dd2287",
        "id": "ay7reM2V4RbW"
      },
      "execution_count": null,
      "outputs": [
        {
          "output_type": "display_data",
          "data": {
            "text/plain": [
              "<IPython.core.display.HTML object>"
            ],
            "text/html": [
              "\n",
              "            <style>\n",
              "                .geemap-dark {\n",
              "                    --jp-widgets-color: white;\n",
              "                    --jp-widgets-label-color: white;\n",
              "                    --jp-ui-font-color1: white;\n",
              "                    --jp-layout-color2: #454545;\n",
              "                    background-color: #383838;\n",
              "                }\n",
              "                    \n",
              "                .geemap-dark .jupyter-button {\n",
              "                    --jp-layout-color3: #383838;\n",
              "                }\n",
              "                \n",
              "                .geemap-colab {\n",
              "                    background-color: var(--colab-primary-surface-color, white);\n",
              "                }\n",
              "                    \n",
              "                .geemap-colab .jupyter-button {\n",
              "                    --jp-layout-color3: var(--colab-primary-surface-color, white);\n",
              "                }\n",
              "            </style>\n",
              "            "
            ]
          },
          "metadata": {}
        },
        {
          "output_type": "stream",
          "name": "stdout",
          "text": [
            "Computing statistics ...\n",
            "Generating URL ...\n",
            "Downloading data from https://earthengine.googleapis.com/v1/projects/earthengine-legacy/tables/f8e226926ebcbab5d77aab36f1fde43a-5b765dbfa81619af5e5fe29d8b2012a8:getFeatures\n",
            "Please wait ...\n",
            "Data downloaded to /content/drive/MyDrive/Colab Notebooks/01_SugarcaneYieldPrediction/02_usinas_all/05_sentinel2_data_monthly/01_sentinel2_data_monthly_MEAN_safra_2021_7.csv\n",
            "Computing statistics ...\n",
            "Generating URL ...\n",
            "Downloading data from https://earthengine.googleapis.com/v1/projects/earthengine-legacy/tables/6c74c7a880bbf7110bcc8f0bef781a51-dcf8f4c2602226ccde8c48ee7d731909:getFeatures\n",
            "Please wait ...\n",
            "Data downloaded to /content/drive/MyDrive/Colab Notebooks/01_SugarcaneYieldPrediction/02_usinas_all/05_sentinel2_data_monthly/01_sentinel2_data_monthly_MEAN_safra_2021_8.csv\n"
          ]
        }
      ]
    },
    {
      "cell_type": "code",
      "source": [
        "# geemap.zonal_statistics(in_zone_vector=fc_to_reduction9,out_file_path=global_stats_path9,**parameters)\n",
        "# time.sleep(2)\n",
        "# geemap.zonal_statistics(in_zone_vector=fc_to_reduction10,out_file_path=global_stats_path10,**parameters)\n",
        "# time.sleep(2)"
      ],
      "metadata": {
        "colab": {
          "base_uri": "https://localhost:8080/",
          "height": 211
        },
        "outputId": "de48bbf4-15d9-423a-a876-0c00bb9c0831",
        "id": "OT7X42KD4RbX"
      },
      "execution_count": null,
      "outputs": [
        {
          "output_type": "display_data",
          "data": {
            "text/plain": [
              "<IPython.core.display.HTML object>"
            ],
            "text/html": [
              "\n",
              "            <style>\n",
              "                .geemap-dark {\n",
              "                    --jp-widgets-color: white;\n",
              "                    --jp-widgets-label-color: white;\n",
              "                    --jp-ui-font-color1: white;\n",
              "                    --jp-layout-color2: #454545;\n",
              "                    background-color: #383838;\n",
              "                }\n",
              "                    \n",
              "                .geemap-dark .jupyter-button {\n",
              "                    --jp-layout-color3: #383838;\n",
              "                }\n",
              "                \n",
              "                .geemap-colab {\n",
              "                    background-color: var(--colab-primary-surface-color, white);\n",
              "                }\n",
              "                    \n",
              "                .geemap-colab .jupyter-button {\n",
              "                    --jp-layout-color3: var(--colab-primary-surface-color, white);\n",
              "                }\n",
              "            </style>\n",
              "            "
            ]
          },
          "metadata": {}
        },
        {
          "output_type": "stream",
          "name": "stdout",
          "text": [
            "Computing statistics ...\n",
            "Generating URL ...\n",
            "Downloading data from https://earthengine.googleapis.com/v1/projects/earthengine-legacy/tables/cdbe7c22bab322dd5a96317448763a4e-674f468033ca0eb4266424d4516bfe2f:getFeatures\n",
            "Please wait ...\n",
            "Data downloaded to /content/drive/MyDrive/Colab Notebooks/01_SugarcaneYieldPrediction/02_usinas_all/05_sentinel2_data_monthly/01_sentinel2_data_monthly_MEAN_safra_2021_9.csv\n",
            "Computing statistics ...\n",
            "Generating URL ...\n",
            "Downloading data from https://earthengine.googleapis.com/v1/projects/earthengine-legacy/tables/f93e585e32138ca00c3fcd4a093c7b42-29a174099dc412870d763048b3cfd283:getFeatures\n",
            "Please wait ...\n",
            "Data downloaded to /content/drive/MyDrive/Colab Notebooks/01_SugarcaneYieldPrediction/02_usinas_all/05_sentinel2_data_monthly/01_sentinel2_data_monthly_MEAN_safra_2021_10.csv\n"
          ]
        }
      ]
    },
    {
      "cell_type": "code",
      "source": [
        "# geemap.zonal_statistics(in_zone_vector=fc_to_reduction11,out_file_path=global_stats_path11,**parameters)\n",
        "# time.sleep(2)\n",
        "# geemap.zonal_statistics(in_zone_vector=fc_to_reduction12,out_file_path=global_stats_path12,**parameters)\n",
        "# time.sleep(2)\n",
        "# geemap.zonal_statistics(in_zone_vector=fc_to_reduction13,out_file_path=global_stats_path13,**parameters)\n",
        "# time.sleep(2)"
      ],
      "metadata": {
        "colab": {
          "base_uri": "https://localhost:8080/",
          "height": 297
        },
        "outputId": "2578a320-d4d5-4e02-f484-65f744614925",
        "id": "mLNfe8Sc4RbY"
      },
      "execution_count": null,
      "outputs": [
        {
          "output_type": "display_data",
          "data": {
            "text/plain": [
              "<IPython.core.display.HTML object>"
            ],
            "text/html": [
              "\n",
              "            <style>\n",
              "                .geemap-dark {\n",
              "                    --jp-widgets-color: white;\n",
              "                    --jp-widgets-label-color: white;\n",
              "                    --jp-ui-font-color1: white;\n",
              "                    --jp-layout-color2: #454545;\n",
              "                    background-color: #383838;\n",
              "                }\n",
              "                    \n",
              "                .geemap-dark .jupyter-button {\n",
              "                    --jp-layout-color3: #383838;\n",
              "                }\n",
              "                \n",
              "                .geemap-colab {\n",
              "                    background-color: var(--colab-primary-surface-color, white);\n",
              "                }\n",
              "                    \n",
              "                .geemap-colab .jupyter-button {\n",
              "                    --jp-layout-color3: var(--colab-primary-surface-color, white);\n",
              "                }\n",
              "            </style>\n",
              "            "
            ]
          },
          "metadata": {}
        },
        {
          "output_type": "stream",
          "name": "stdout",
          "text": [
            "Computing statistics ...\n",
            "Generating URL ...\n",
            "Downloading data from https://earthengine.googleapis.com/v1/projects/earthengine-legacy/tables/220be37343976694d8b8e9aeda96c5e7-92a5dc65763625bc902a97b8565cc54b:getFeatures\n",
            "Please wait ...\n",
            "Data downloaded to /content/drive/MyDrive/Colab Notebooks/01_SugarcaneYieldPrediction/02_usinas_all/05_sentinel2_data_monthly/01_sentinel2_data_monthly_MEAN_safra_2021_11.csv\n",
            "Computing statistics ...\n",
            "Generating URL ...\n",
            "Downloading data from https://earthengine.googleapis.com/v1/projects/earthengine-legacy/tables/cfb5b633c01cde129216acfc7974c3e6-f0256037606224e2e95146a45c94a92c:getFeatures\n",
            "Please wait ...\n",
            "Data downloaded to /content/drive/MyDrive/Colab Notebooks/01_SugarcaneYieldPrediction/02_usinas_all/05_sentinel2_data_monthly/01_sentinel2_data_monthly_MEAN_safra_2021_12.csv\n",
            "Computing statistics ...\n",
            "Generating URL ...\n",
            "Downloading data from https://earthengine.googleapis.com/v1/projects/earthengine-legacy/tables/07a16a515fe77fdeedb722939ab43d7d-9c960aa1474c3e82cde1f2fce70f4790:getFeatures\n",
            "Please wait ...\n",
            "Data downloaded to /content/drive/MyDrive/Colab Notebooks/01_SugarcaneYieldPrediction/02_usinas_all/05_sentinel2_data_monthly/01_sentinel2_data_monthly_MEAN_safra_2021_13.csv\n"
          ]
        }
      ]
    },
    {
      "cell_type": "code",
      "source": [
        "# geemap.zonal_statistics(in_zone_vector=fc_to_reduction14,out_file_path=global_stats_path14,**parameters)\n",
        "# time.sleep(2)\n",
        "# geemap.zonal_statistics(in_zone_vector=fc_to_reduction15,out_file_path=global_stats_path15,**parameters)"
      ],
      "metadata": {
        "colab": {
          "base_uri": "https://localhost:8080/",
          "height": 211
        },
        "outputId": "af5920fd-92e4-4ada-d95e-b5e1cd1bcf61",
        "id": "QJ9tzGox4RbZ"
      },
      "execution_count": null,
      "outputs": [
        {
          "output_type": "display_data",
          "data": {
            "text/plain": [
              "<IPython.core.display.HTML object>"
            ],
            "text/html": [
              "\n",
              "            <style>\n",
              "                .geemap-dark {\n",
              "                    --jp-widgets-color: white;\n",
              "                    --jp-widgets-label-color: white;\n",
              "                    --jp-ui-font-color1: white;\n",
              "                    --jp-layout-color2: #454545;\n",
              "                    background-color: #383838;\n",
              "                }\n",
              "                    \n",
              "                .geemap-dark .jupyter-button {\n",
              "                    --jp-layout-color3: #383838;\n",
              "                }\n",
              "                \n",
              "                .geemap-colab {\n",
              "                    background-color: var(--colab-primary-surface-color, white);\n",
              "                }\n",
              "                    \n",
              "                .geemap-colab .jupyter-button {\n",
              "                    --jp-layout-color3: var(--colab-primary-surface-color, white);\n",
              "                }\n",
              "            </style>\n",
              "            "
            ]
          },
          "metadata": {}
        },
        {
          "output_type": "stream",
          "name": "stdout",
          "text": [
            "Computing statistics ...\n",
            "Generating URL ...\n",
            "Downloading data from https://earthengine.googleapis.com/v1/projects/earthengine-legacy/tables/cb6796e36bd8d5c25966c946d475c6c7-f42cd9c76cd34285afedc4f4c364ef21:getFeatures\n",
            "Please wait ...\n",
            "Data downloaded to /content/drive/MyDrive/Colab Notebooks/01_SugarcaneYieldPrediction/02_usinas_all/05_sentinel2_data_monthly/01_sentinel2_data_monthly_MEAN_safra_2021_14.csv\n",
            "Computing statistics ...\n",
            "Generating URL ...\n",
            "Downloading data from https://earthengine.googleapis.com/v1/projects/earthengine-legacy/tables/cb430a188c2e5d4dbcf952240b330356-7e3d8ff9cfaa81b8cc848631f3bdbc37:getFeatures\n",
            "Please wait ...\n",
            "Data downloaded to /content/drive/MyDrive/Colab Notebooks/01_SugarcaneYieldPrediction/02_usinas_all/05_sentinel2_data_monthly/01_sentinel2_data_monthly_MEAN_safra_2021_15.csv\n"
          ]
        }
      ]
    },
    {
      "cell_type": "code",
      "source": [
        "time.sleep(10)"
      ],
      "metadata": {
        "colab": {
          "base_uri": "https://localhost:8080/",
          "height": 17
        },
        "id": "5thMveO8H1kJ",
        "outputId": "fee5dcff-565d-461c-8d7a-5d281b42d605"
      },
      "execution_count": null,
      "outputs": [
        {
          "output_type": "display_data",
          "data": {
            "text/plain": [
              "<IPython.core.display.HTML object>"
            ],
            "text/html": [
              "\n",
              "            <style>\n",
              "                .geemap-dark {\n",
              "                    --jp-widgets-color: white;\n",
              "                    --jp-widgets-label-color: white;\n",
              "                    --jp-ui-font-color1: white;\n",
              "                    --jp-layout-color2: #454545;\n",
              "                    background-color: #383838;\n",
              "                }\n",
              "                    \n",
              "                .geemap-dark .jupyter-button {\n",
              "                    --jp-layout-color3: #383838;\n",
              "                }\n",
              "                \n",
              "                .geemap-colab {\n",
              "                    background-color: var(--colab-primary-surface-color, white);\n",
              "                }\n",
              "                    \n",
              "                .geemap-colab .jupyter-button {\n",
              "                    --jp-layout-color3: var(--colab-primary-surface-color, white);\n",
              "                }\n",
              "            </style>\n",
              "            "
            ]
          },
          "metadata": {}
        }
      ]
    },
    {
      "cell_type": "markdown",
      "source": [
        "### Merge tables into a single one"
      ],
      "metadata": {
        "id": "vDvJXMHQ4Rba"
      }
    },
    {
      "cell_type": "code",
      "source": [
        "# Define the paths to your CSV files\n",
        "file_paths = [\n",
        "    os.path.join(out_path, f'01_sentinel2_data_monthly_{statistics_Type}_safra_{CropSeason}_{i}.csv')\n",
        "    for i in range(1, 16)\n",
        "]\n",
        "\n",
        "print(len(file_paths), 'paths')"
      ],
      "metadata": {
        "colab": {
          "base_uri": "https://localhost:8080/",
          "height": 34
        },
        "id": "QGpgeY1yAtwh",
        "outputId": "a4c4f130-3130-4474-cd75-14a4e492cb93"
      },
      "execution_count": null,
      "outputs": [
        {
          "output_type": "display_data",
          "data": {
            "text/plain": [
              "<IPython.core.display.HTML object>"
            ],
            "text/html": [
              "\n",
              "            <style>\n",
              "                .geemap-dark {\n",
              "                    --jp-widgets-color: white;\n",
              "                    --jp-widgets-label-color: white;\n",
              "                    --jp-ui-font-color1: white;\n",
              "                    --jp-layout-color2: #454545;\n",
              "                    background-color: #383838;\n",
              "                }\n",
              "                    \n",
              "                .geemap-dark .jupyter-button {\n",
              "                    --jp-layout-color3: #383838;\n",
              "                }\n",
              "                \n",
              "                .geemap-colab {\n",
              "                    background-color: var(--colab-primary-surface-color, white);\n",
              "                }\n",
              "                    \n",
              "                .geemap-colab .jupyter-button {\n",
              "                    --jp-layout-color3: var(--colab-primary-surface-color, white);\n",
              "                }\n",
              "            </style>\n",
              "            "
            ]
          },
          "metadata": {}
        },
        {
          "output_type": "stream",
          "name": "stdout",
          "text": [
            "15 paths\n"
          ]
        }
      ]
    },
    {
      "cell_type": "code",
      "source": [
        "# Create an empty DataFrame to store the merged data\n",
        "merged_df = pd.DataFrame()\n",
        "file_paths\n",
        "# Loop through the CSV files and merge them\n",
        "for file_path in file_paths:\n",
        "    if os.path.exists(file_path):\n",
        "        # Read each CSV file into a DataFrame\n",
        "        df = pd.read_csv(file_path)\n",
        "\n",
        "        # Remove the \"system:index\" column if it exists\n",
        "        if \"system:index\" in df.columns:\n",
        "            df = df.drop(columns=[\"system:index\"])\n",
        "\n",
        "        # Merge the data into the merged_df\n",
        "        if merged_df.empty:\n",
        "            merged_df = df\n",
        "        else:  # Fix the typo here (remove \"ID\")\n",
        "            merged_df = pd.concat([merged_df, df], axis=0, ignore_index=True)\n",
        "\n",
        "# Move the last column (ID_SIG) to the first position\n",
        "merged_df = merged_df[[merged_df.columns[-1]] + list(merged_df.columns[:-1])]\n",
        "print('Dataframes merged!')"
      ],
      "metadata": {
        "colab": {
          "base_uri": "https://localhost:8080/",
          "height": 34
        },
        "id": "47k_g6bLA4jN",
        "outputId": "a5e043cb-9d26-4f1e-d2f1-646bc5c7dd38"
      },
      "execution_count": null,
      "outputs": [
        {
          "output_type": "display_data",
          "data": {
            "text/plain": [
              "<IPython.core.display.HTML object>"
            ],
            "text/html": [
              "\n",
              "            <style>\n",
              "                .geemap-dark {\n",
              "                    --jp-widgets-color: white;\n",
              "                    --jp-widgets-label-color: white;\n",
              "                    --jp-ui-font-color1: white;\n",
              "                    --jp-layout-color2: #454545;\n",
              "                    background-color: #383838;\n",
              "                }\n",
              "                    \n",
              "                .geemap-dark .jupyter-button {\n",
              "                    --jp-layout-color3: #383838;\n",
              "                }\n",
              "                \n",
              "                .geemap-colab {\n",
              "                    background-color: var(--colab-primary-surface-color, white);\n",
              "                }\n",
              "                    \n",
              "                .geemap-colab .jupyter-button {\n",
              "                    --jp-layout-color3: var(--colab-primary-surface-color, white);\n",
              "                }\n",
              "            </style>\n",
              "            "
            ]
          },
          "metadata": {}
        },
        {
          "output_type": "stream",
          "name": "stdout",
          "text": [
            "Dataframes merged!\n"
          ]
        }
      ]
    },
    {
      "cell_type": "markdown",
      "source": [
        "### Imput missing values"
      ],
      "metadata": {
        "id": "BcsJP5CoRt6m"
      }
    },
    {
      "cell_type": "code",
      "source": [
        "# Step 1: Group by variable (e.g., spectral indices)\n",
        "df_grouped = merged_df.groupby(merged_df.columns.str[7:], axis=1)\n",
        "\n",
        "# Step 2: Sort each group by the date obtained from the first 6 column header characters\n",
        "sorted_groups = {}\n",
        "for group_name, group_df in df_grouped:\n",
        "    date_columns = sorted(group_df.columns, key=lambda x: x[:6])\n",
        "    sorted_groups[group_name] = group_df[date_columns]\n",
        "\n",
        "# Step 3: Impute missing data within each sorted group using bfill/ffill Methods\n",
        "imputed_groups = {}\n",
        "for group_name, group_df in sorted_groups.items():\n",
        "    # Backfill missing values\n",
        "    group_df = group_df.bfill(axis=1)\n",
        "    # Forward fill missing values\n",
        "    group_df = group_df.ffill(axis=1)\n",
        "    imputed_groups[group_name] = group_df\n",
        "\n",
        "# Convert the dictionary of DataFrames to a list of DataFrames\n",
        "list_of_dfs = list(imputed_groups.values())\n",
        "\n",
        "# Concatenate the DataFrames from the list\n",
        "df_imputed = pd.concat(list_of_dfs, axis=1)\n",
        "\n",
        "# Reset the index to ungroup the DataFrame\n",
        "df_imputed = df_imputed.reset_index(drop=True)\n",
        "\n",
        "# Display the imputed DataFrame\n",
        "print(f\"Missing values before imputing: {merged_df.isna().sum().sum()}\")\n",
        "print(f\"Missing values after imputing:  {df_imputed.isna().sum().sum()}\")\n",
        "df_imputed"
      ],
      "metadata": {
        "colab": {
          "base_uri": "https://localhost:8080/",
          "height": 478
        },
        "id": "t5SvmEKLVJy-",
        "outputId": "a341d798-3055-43d1-b811-9d6e8fce67f7"
      },
      "execution_count": null,
      "outputs": [
        {
          "output_type": "display_data",
          "data": {
            "text/plain": [
              "<IPython.core.display.HTML object>"
            ],
            "text/html": [
              "\n",
              "            <style>\n",
              "                .geemap-dark {\n",
              "                    --jp-widgets-color: white;\n",
              "                    --jp-widgets-label-color: white;\n",
              "                    --jp-ui-font-color1: white;\n",
              "                    --jp-layout-color2: #454545;\n",
              "                    background-color: #383838;\n",
              "                }\n",
              "                    \n",
              "                .geemap-dark .jupyter-button {\n",
              "                    --jp-layout-color3: #383838;\n",
              "                }\n",
              "                \n",
              "                .geemap-colab {\n",
              "                    background-color: var(--colab-primary-surface-color, white);\n",
              "                }\n",
              "                    \n",
              "                .geemap-colab .jupyter-button {\n",
              "                    --jp-layout-color3: var(--colab-primary-surface-color, white);\n",
              "                }\n",
              "            </style>\n",
              "            "
            ]
          },
          "metadata": {}
        },
        {
          "output_type": "stream",
          "name": "stdout",
          "text": [
            "Missing values before imputing: 228624\n",
            "Missing values after imputing:  0\n"
          ]
        },
        {
          "output_type": "execute_result",
          "data": {
            "text/plain": [
              "                        ID_SIG  202112_CIre1  202201_CIre1  202202_CIre1  \\\n",
              "0     X22230280001000100000030      0.531418      1.016546      1.016546   \n",
              "1     X22230280001001200000006      1.797414      3.270192      3.270192   \n",
              "2     X22230280001001200000007      0.725467      1.331336      1.331336   \n",
              "3     X22230280001001200000011      1.143803      2.084713      2.084713   \n",
              "4     X22230280001001500000022      0.935352      1.811800      1.811800   \n",
              "...                        ...           ...           ...           ...   \n",
              "4810  X22230890000016000018014      1.287922      1.482339      1.482339   \n",
              "4811  X22230890000016200017002      0.790123      1.158484      1.158484   \n",
              "4812  X22230890000016400017007      0.455319      0.700523      0.700523   \n",
              "4813  X22230890000016400017008      0.431374      0.547766      0.547766   \n",
              "4814  X22230890000016400017009      0.470918      0.660787      0.660787   \n",
              "\n",
              "      202203_CIre1  202112_CIre2  202201_CIre2  202202_CIre2  202203_CIre2  \\\n",
              "0         1.016546      0.115348      0.128831      0.128831      0.128831   \n",
              "1         3.270192      0.167085      0.235498      0.235498      0.235498   \n",
              "2         1.331336      0.128636      0.142386      0.142386      0.142386   \n",
              "3         2.084713      0.139258      0.188411      0.188411      0.188411   \n",
              "4         1.811800      0.138599      0.191705      0.191705      0.191705   \n",
              "...            ...           ...           ...           ...           ...   \n",
              "4810      1.482339      0.183682      0.175054      0.175054      0.175054   \n",
              "4811      1.158484      0.145277      0.117272      0.117272      0.117272   \n",
              "4812      0.700523      0.127825      0.118082      0.118082      0.118082   \n",
              "4813      0.547766      0.118031      0.103734      0.103734      0.103734   \n",
              "4814      0.660787      0.130067      0.117477      0.117477      0.117477   \n",
              "\n",
              "      202112_CIre3  ...  202202_rededge3  202203_rededge3  202112_swir1  \\\n",
              "0         0.014939  ...         0.040281         0.040281      0.047979   \n",
              "1        -0.003942  ...         0.071424         0.071424      0.041094   \n",
              "2         0.014202  ...         0.047082         0.047082      0.049387   \n",
              "3         0.007579  ...         0.054735         0.054735      0.047193   \n",
              "4         0.011531  ...         0.050883         0.050883      0.045961   \n",
              "...            ...  ...              ...              ...           ...   \n",
              "4810      0.004382  ...         0.045358         0.045358      0.045657   \n",
              "4811      0.007275  ...         0.058563         0.058563      0.057695   \n",
              "4812      0.028897  ...         0.045895         0.045895      0.073299   \n",
              "4813      0.026715  ...         0.046352         0.046352      0.072277   \n",
              "4814      0.028347  ...         0.046388         0.046388      0.073850   \n",
              "\n",
              "      202201_swir1  202202_swir1  202203_swir1  202112_swir2  202201_swir2  \\\n",
              "0         0.038784      0.038784      0.038784      0.037535      0.028467   \n",
              "1         0.032509      0.032509      0.032509      0.025208      0.016299   \n",
              "2         0.041698      0.041698      0.041698      0.037057      0.028791   \n",
              "3         0.036836      0.036836      0.036836      0.032458      0.021901   \n",
              "4         0.037828      0.037828      0.037828      0.034017      0.024866   \n",
              "...            ...           ...           ...           ...           ...   \n",
              "4810      0.037630      0.037630      0.037630      0.031037      0.022006   \n",
              "4811      0.050761      0.050761      0.050761      0.042226      0.032230   \n",
              "4812      0.065032      0.065032      0.065032      0.055255      0.046167   \n",
              "4813      0.067659      0.067659      0.067659      0.056423      0.050605   \n",
              "4814      0.066808      0.066808      0.066808      0.054106      0.046230   \n",
              "\n",
              "      202202_swir2  202203_swir2  \n",
              "0         0.028467      0.028467  \n",
              "1         0.016299      0.016299  \n",
              "2         0.028791      0.028791  \n",
              "3         0.021901      0.021901  \n",
              "4         0.024866      0.024866  \n",
              "...            ...           ...  \n",
              "4810      0.022006      0.022006  \n",
              "4811      0.032230      0.032230  \n",
              "4812      0.046167      0.046167  \n",
              "4813      0.050605      0.050605  \n",
              "4814      0.046230      0.046230  \n",
              "\n",
              "[4815 rows x 97 columns]"
            ],
            "text/html": [
              "\n",
              "  <div id=\"df-54777289-787c-43c9-915f-6d4f19fc871c\" class=\"colab-df-container\">\n",
              "    <div>\n",
              "<style scoped>\n",
              "    .dataframe tbody tr th:only-of-type {\n",
              "        vertical-align: middle;\n",
              "    }\n",
              "\n",
              "    .dataframe tbody tr th {\n",
              "        vertical-align: top;\n",
              "    }\n",
              "\n",
              "    .dataframe thead th {\n",
              "        text-align: right;\n",
              "    }\n",
              "</style>\n",
              "<table border=\"1\" class=\"dataframe\">\n",
              "  <thead>\n",
              "    <tr style=\"text-align: right;\">\n",
              "      <th></th>\n",
              "      <th>ID_SIG</th>\n",
              "      <th>202112_CIre1</th>\n",
              "      <th>202201_CIre1</th>\n",
              "      <th>202202_CIre1</th>\n",
              "      <th>202203_CIre1</th>\n",
              "      <th>202112_CIre2</th>\n",
              "      <th>202201_CIre2</th>\n",
              "      <th>202202_CIre2</th>\n",
              "      <th>202203_CIre2</th>\n",
              "      <th>202112_CIre3</th>\n",
              "      <th>...</th>\n",
              "      <th>202202_rededge3</th>\n",
              "      <th>202203_rededge3</th>\n",
              "      <th>202112_swir1</th>\n",
              "      <th>202201_swir1</th>\n",
              "      <th>202202_swir1</th>\n",
              "      <th>202203_swir1</th>\n",
              "      <th>202112_swir2</th>\n",
              "      <th>202201_swir2</th>\n",
              "      <th>202202_swir2</th>\n",
              "      <th>202203_swir2</th>\n",
              "    </tr>\n",
              "  </thead>\n",
              "  <tbody>\n",
              "    <tr>\n",
              "      <th>0</th>\n",
              "      <td>X22230280001000100000030</td>\n",
              "      <td>0.531418</td>\n",
              "      <td>1.016546</td>\n",
              "      <td>1.016546</td>\n",
              "      <td>1.016546</td>\n",
              "      <td>0.115348</td>\n",
              "      <td>0.128831</td>\n",
              "      <td>0.128831</td>\n",
              "      <td>0.128831</td>\n",
              "      <td>0.014939</td>\n",
              "      <td>...</td>\n",
              "      <td>0.040281</td>\n",
              "      <td>0.040281</td>\n",
              "      <td>0.047979</td>\n",
              "      <td>0.038784</td>\n",
              "      <td>0.038784</td>\n",
              "      <td>0.038784</td>\n",
              "      <td>0.037535</td>\n",
              "      <td>0.028467</td>\n",
              "      <td>0.028467</td>\n",
              "      <td>0.028467</td>\n",
              "    </tr>\n",
              "    <tr>\n",
              "      <th>1</th>\n",
              "      <td>X22230280001001200000006</td>\n",
              "      <td>1.797414</td>\n",
              "      <td>3.270192</td>\n",
              "      <td>3.270192</td>\n",
              "      <td>3.270192</td>\n",
              "      <td>0.167085</td>\n",
              "      <td>0.235498</td>\n",
              "      <td>0.235498</td>\n",
              "      <td>0.235498</td>\n",
              "      <td>-0.003942</td>\n",
              "      <td>...</td>\n",
              "      <td>0.071424</td>\n",
              "      <td>0.071424</td>\n",
              "      <td>0.041094</td>\n",
              "      <td>0.032509</td>\n",
              "      <td>0.032509</td>\n",
              "      <td>0.032509</td>\n",
              "      <td>0.025208</td>\n",
              "      <td>0.016299</td>\n",
              "      <td>0.016299</td>\n",
              "      <td>0.016299</td>\n",
              "    </tr>\n",
              "    <tr>\n",
              "      <th>2</th>\n",
              "      <td>X22230280001001200000007</td>\n",
              "      <td>0.725467</td>\n",
              "      <td>1.331336</td>\n",
              "      <td>1.331336</td>\n",
              "      <td>1.331336</td>\n",
              "      <td>0.128636</td>\n",
              "      <td>0.142386</td>\n",
              "      <td>0.142386</td>\n",
              "      <td>0.142386</td>\n",
              "      <td>0.014202</td>\n",
              "      <td>...</td>\n",
              "      <td>0.047082</td>\n",
              "      <td>0.047082</td>\n",
              "      <td>0.049387</td>\n",
              "      <td>0.041698</td>\n",
              "      <td>0.041698</td>\n",
              "      <td>0.041698</td>\n",
              "      <td>0.037057</td>\n",
              "      <td>0.028791</td>\n",
              "      <td>0.028791</td>\n",
              "      <td>0.028791</td>\n",
              "    </tr>\n",
              "    <tr>\n",
              "      <th>3</th>\n",
              "      <td>X22230280001001200000011</td>\n",
              "      <td>1.143803</td>\n",
              "      <td>2.084713</td>\n",
              "      <td>2.084713</td>\n",
              "      <td>2.084713</td>\n",
              "      <td>0.139258</td>\n",
              "      <td>0.188411</td>\n",
              "      <td>0.188411</td>\n",
              "      <td>0.188411</td>\n",
              "      <td>0.007579</td>\n",
              "      <td>...</td>\n",
              "      <td>0.054735</td>\n",
              "      <td>0.054735</td>\n",
              "      <td>0.047193</td>\n",
              "      <td>0.036836</td>\n",
              "      <td>0.036836</td>\n",
              "      <td>0.036836</td>\n",
              "      <td>0.032458</td>\n",
              "      <td>0.021901</td>\n",
              "      <td>0.021901</td>\n",
              "      <td>0.021901</td>\n",
              "    </tr>\n",
              "    <tr>\n",
              "      <th>4</th>\n",
              "      <td>X22230280001001500000022</td>\n",
              "      <td>0.935352</td>\n",
              "      <td>1.811800</td>\n",
              "      <td>1.811800</td>\n",
              "      <td>1.811800</td>\n",
              "      <td>0.138599</td>\n",
              "      <td>0.191705</td>\n",
              "      <td>0.191705</td>\n",
              "      <td>0.191705</td>\n",
              "      <td>0.011531</td>\n",
              "      <td>...</td>\n",
              "      <td>0.050883</td>\n",
              "      <td>0.050883</td>\n",
              "      <td>0.045961</td>\n",
              "      <td>0.037828</td>\n",
              "      <td>0.037828</td>\n",
              "      <td>0.037828</td>\n",
              "      <td>0.034017</td>\n",
              "      <td>0.024866</td>\n",
              "      <td>0.024866</td>\n",
              "      <td>0.024866</td>\n",
              "    </tr>\n",
              "    <tr>\n",
              "      <th>...</th>\n",
              "      <td>...</td>\n",
              "      <td>...</td>\n",
              "      <td>...</td>\n",
              "      <td>...</td>\n",
              "      <td>...</td>\n",
              "      <td>...</td>\n",
              "      <td>...</td>\n",
              "      <td>...</td>\n",
              "      <td>...</td>\n",
              "      <td>...</td>\n",
              "      <td>...</td>\n",
              "      <td>...</td>\n",
              "      <td>...</td>\n",
              "      <td>...</td>\n",
              "      <td>...</td>\n",
              "      <td>...</td>\n",
              "      <td>...</td>\n",
              "      <td>...</td>\n",
              "      <td>...</td>\n",
              "      <td>...</td>\n",
              "      <td>...</td>\n",
              "    </tr>\n",
              "    <tr>\n",
              "      <th>4810</th>\n",
              "      <td>X22230890000016000018014</td>\n",
              "      <td>1.287922</td>\n",
              "      <td>1.482339</td>\n",
              "      <td>1.482339</td>\n",
              "      <td>1.482339</td>\n",
              "      <td>0.183682</td>\n",
              "      <td>0.175054</td>\n",
              "      <td>0.175054</td>\n",
              "      <td>0.175054</td>\n",
              "      <td>0.004382</td>\n",
              "      <td>...</td>\n",
              "      <td>0.045358</td>\n",
              "      <td>0.045358</td>\n",
              "      <td>0.045657</td>\n",
              "      <td>0.037630</td>\n",
              "      <td>0.037630</td>\n",
              "      <td>0.037630</td>\n",
              "      <td>0.031037</td>\n",
              "      <td>0.022006</td>\n",
              "      <td>0.022006</td>\n",
              "      <td>0.022006</td>\n",
              "    </tr>\n",
              "    <tr>\n",
              "      <th>4811</th>\n",
              "      <td>X22230890000016200017002</td>\n",
              "      <td>0.790123</td>\n",
              "      <td>1.158484</td>\n",
              "      <td>1.158484</td>\n",
              "      <td>1.158484</td>\n",
              "      <td>0.145277</td>\n",
              "      <td>0.117272</td>\n",
              "      <td>0.117272</td>\n",
              "      <td>0.117272</td>\n",
              "      <td>0.007275</td>\n",
              "      <td>...</td>\n",
              "      <td>0.058563</td>\n",
              "      <td>0.058563</td>\n",
              "      <td>0.057695</td>\n",
              "      <td>0.050761</td>\n",
              "      <td>0.050761</td>\n",
              "      <td>0.050761</td>\n",
              "      <td>0.042226</td>\n",
              "      <td>0.032230</td>\n",
              "      <td>0.032230</td>\n",
              "      <td>0.032230</td>\n",
              "    </tr>\n",
              "    <tr>\n",
              "      <th>4812</th>\n",
              "      <td>X22230890000016400017007</td>\n",
              "      <td>0.455319</td>\n",
              "      <td>0.700523</td>\n",
              "      <td>0.700523</td>\n",
              "      <td>0.700523</td>\n",
              "      <td>0.127825</td>\n",
              "      <td>0.118082</td>\n",
              "      <td>0.118082</td>\n",
              "      <td>0.118082</td>\n",
              "      <td>0.028897</td>\n",
              "      <td>...</td>\n",
              "      <td>0.045895</td>\n",
              "      <td>0.045895</td>\n",
              "      <td>0.073299</td>\n",
              "      <td>0.065032</td>\n",
              "      <td>0.065032</td>\n",
              "      <td>0.065032</td>\n",
              "      <td>0.055255</td>\n",
              "      <td>0.046167</td>\n",
              "      <td>0.046167</td>\n",
              "      <td>0.046167</td>\n",
              "    </tr>\n",
              "    <tr>\n",
              "      <th>4813</th>\n",
              "      <td>X22230890000016400017008</td>\n",
              "      <td>0.431374</td>\n",
              "      <td>0.547766</td>\n",
              "      <td>0.547766</td>\n",
              "      <td>0.547766</td>\n",
              "      <td>0.118031</td>\n",
              "      <td>0.103734</td>\n",
              "      <td>0.103734</td>\n",
              "      <td>0.103734</td>\n",
              "      <td>0.026715</td>\n",
              "      <td>...</td>\n",
              "      <td>0.046352</td>\n",
              "      <td>0.046352</td>\n",
              "      <td>0.072277</td>\n",
              "      <td>0.067659</td>\n",
              "      <td>0.067659</td>\n",
              "      <td>0.067659</td>\n",
              "      <td>0.056423</td>\n",
              "      <td>0.050605</td>\n",
              "      <td>0.050605</td>\n",
              "      <td>0.050605</td>\n",
              "    </tr>\n",
              "    <tr>\n",
              "      <th>4814</th>\n",
              "      <td>X22230890000016400017009</td>\n",
              "      <td>0.470918</td>\n",
              "      <td>0.660787</td>\n",
              "      <td>0.660787</td>\n",
              "      <td>0.660787</td>\n",
              "      <td>0.130067</td>\n",
              "      <td>0.117477</td>\n",
              "      <td>0.117477</td>\n",
              "      <td>0.117477</td>\n",
              "      <td>0.028347</td>\n",
              "      <td>...</td>\n",
              "      <td>0.046388</td>\n",
              "      <td>0.046388</td>\n",
              "      <td>0.073850</td>\n",
              "      <td>0.066808</td>\n",
              "      <td>0.066808</td>\n",
              "      <td>0.066808</td>\n",
              "      <td>0.054106</td>\n",
              "      <td>0.046230</td>\n",
              "      <td>0.046230</td>\n",
              "      <td>0.046230</td>\n",
              "    </tr>\n",
              "  </tbody>\n",
              "</table>\n",
              "<p>4815 rows × 97 columns</p>\n",
              "</div>\n",
              "    <div class=\"colab-df-buttons\">\n",
              "\n",
              "  <div class=\"colab-df-container\">\n",
              "    <button class=\"colab-df-convert\" onclick=\"convertToInteractive('df-54777289-787c-43c9-915f-6d4f19fc871c')\"\n",
              "            title=\"Convert this dataframe to an interactive table.\"\n",
              "            style=\"display:none;\">\n",
              "\n",
              "  <svg xmlns=\"http://www.w3.org/2000/svg\" height=\"24px\" viewBox=\"0 -960 960 960\">\n",
              "    <path d=\"M120-120v-720h720v720H120Zm60-500h600v-160H180v160Zm220 220h160v-160H400v160Zm0 220h160v-160H400v160ZM180-400h160v-160H180v160Zm440 0h160v-160H620v160ZM180-180h160v-160H180v160Zm440 0h160v-160H620v160Z\"/>\n",
              "  </svg>\n",
              "    </button>\n",
              "\n",
              "  <style>\n",
              "    .colab-df-container {\n",
              "      display:flex;\n",
              "      gap: 12px;\n",
              "    }\n",
              "\n",
              "    .colab-df-convert {\n",
              "      background-color: #E8F0FE;\n",
              "      border: none;\n",
              "      border-radius: 50%;\n",
              "      cursor: pointer;\n",
              "      display: none;\n",
              "      fill: #1967D2;\n",
              "      height: 32px;\n",
              "      padding: 0 0 0 0;\n",
              "      width: 32px;\n",
              "    }\n",
              "\n",
              "    .colab-df-convert:hover {\n",
              "      background-color: #E2EBFA;\n",
              "      box-shadow: 0px 1px 2px rgba(60, 64, 67, 0.3), 0px 1px 3px 1px rgba(60, 64, 67, 0.15);\n",
              "      fill: #174EA6;\n",
              "    }\n",
              "\n",
              "    .colab-df-buttons div {\n",
              "      margin-bottom: 4px;\n",
              "    }\n",
              "\n",
              "    [theme=dark] .colab-df-convert {\n",
              "      background-color: #3B4455;\n",
              "      fill: #D2E3FC;\n",
              "    }\n",
              "\n",
              "    [theme=dark] .colab-df-convert:hover {\n",
              "      background-color: #434B5C;\n",
              "      box-shadow: 0px 1px 3px 1px rgba(0, 0, 0, 0.15);\n",
              "      filter: drop-shadow(0px 1px 2px rgba(0, 0, 0, 0.3));\n",
              "      fill: #FFFFFF;\n",
              "    }\n",
              "  </style>\n",
              "\n",
              "    <script>\n",
              "      const buttonEl =\n",
              "        document.querySelector('#df-54777289-787c-43c9-915f-6d4f19fc871c button.colab-df-convert');\n",
              "      buttonEl.style.display =\n",
              "        google.colab.kernel.accessAllowed ? 'block' : 'none';\n",
              "\n",
              "      async function convertToInteractive(key) {\n",
              "        const element = document.querySelector('#df-54777289-787c-43c9-915f-6d4f19fc871c');\n",
              "        const dataTable =\n",
              "          await google.colab.kernel.invokeFunction('convertToInteractive',\n",
              "                                                    [key], {});\n",
              "        if (!dataTable) return;\n",
              "\n",
              "        const docLinkHtml = 'Like what you see? Visit the ' +\n",
              "          '<a target=\"_blank\" href=https://colab.research.google.com/notebooks/data_table.ipynb>data table notebook</a>'\n",
              "          + ' to learn more about interactive tables.';\n",
              "        element.innerHTML = '';\n",
              "        dataTable['output_type'] = 'display_data';\n",
              "        await google.colab.output.renderOutput(dataTable, element);\n",
              "        const docLink = document.createElement('div');\n",
              "        docLink.innerHTML = docLinkHtml;\n",
              "        element.appendChild(docLink);\n",
              "      }\n",
              "    </script>\n",
              "  </div>\n",
              "\n",
              "\n",
              "<div id=\"df-9c21ce22-e007-49ec-bafb-9ff8f093700e\">\n",
              "  <button class=\"colab-df-quickchart\" onclick=\"quickchart('df-9c21ce22-e007-49ec-bafb-9ff8f093700e')\"\n",
              "            title=\"Suggest charts\"\n",
              "            style=\"display:none;\">\n",
              "\n",
              "<svg xmlns=\"http://www.w3.org/2000/svg\" height=\"24px\"viewBox=\"0 0 24 24\"\n",
              "     width=\"24px\">\n",
              "    <g>\n",
              "        <path d=\"M19 3H5c-1.1 0-2 .9-2 2v14c0 1.1.9 2 2 2h14c1.1 0 2-.9 2-2V5c0-1.1-.9-2-2-2zM9 17H7v-7h2v7zm4 0h-2V7h2v10zm4 0h-2v-4h2v4z\"/>\n",
              "    </g>\n",
              "</svg>\n",
              "  </button>\n",
              "\n",
              "<style>\n",
              "  .colab-df-quickchart {\n",
              "      --bg-color: #E8F0FE;\n",
              "      --fill-color: #1967D2;\n",
              "      --hover-bg-color: #E2EBFA;\n",
              "      --hover-fill-color: #174EA6;\n",
              "      --disabled-fill-color: #AAA;\n",
              "      --disabled-bg-color: #DDD;\n",
              "  }\n",
              "\n",
              "  [theme=dark] .colab-df-quickchart {\n",
              "      --bg-color: #3B4455;\n",
              "      --fill-color: #D2E3FC;\n",
              "      --hover-bg-color: #434B5C;\n",
              "      --hover-fill-color: #FFFFFF;\n",
              "      --disabled-bg-color: #3B4455;\n",
              "      --disabled-fill-color: #666;\n",
              "  }\n",
              "\n",
              "  .colab-df-quickchart {\n",
              "    background-color: var(--bg-color);\n",
              "    border: none;\n",
              "    border-radius: 50%;\n",
              "    cursor: pointer;\n",
              "    display: none;\n",
              "    fill: var(--fill-color);\n",
              "    height: 32px;\n",
              "    padding: 0;\n",
              "    width: 32px;\n",
              "  }\n",
              "\n",
              "  .colab-df-quickchart:hover {\n",
              "    background-color: var(--hover-bg-color);\n",
              "    box-shadow: 0 1px 2px rgba(60, 64, 67, 0.3), 0 1px 3px 1px rgba(60, 64, 67, 0.15);\n",
              "    fill: var(--button-hover-fill-color);\n",
              "  }\n",
              "\n",
              "  .colab-df-quickchart-complete:disabled,\n",
              "  .colab-df-quickchart-complete:disabled:hover {\n",
              "    background-color: var(--disabled-bg-color);\n",
              "    fill: var(--disabled-fill-color);\n",
              "    box-shadow: none;\n",
              "  }\n",
              "\n",
              "  .colab-df-spinner {\n",
              "    border: 2px solid var(--fill-color);\n",
              "    border-color: transparent;\n",
              "    border-bottom-color: var(--fill-color);\n",
              "    animation:\n",
              "      spin 1s steps(1) infinite;\n",
              "  }\n",
              "\n",
              "  @keyframes spin {\n",
              "    0% {\n",
              "      border-color: transparent;\n",
              "      border-bottom-color: var(--fill-color);\n",
              "      border-left-color: var(--fill-color);\n",
              "    }\n",
              "    20% {\n",
              "      border-color: transparent;\n",
              "      border-left-color: var(--fill-color);\n",
              "      border-top-color: var(--fill-color);\n",
              "    }\n",
              "    30% {\n",
              "      border-color: transparent;\n",
              "      border-left-color: var(--fill-color);\n",
              "      border-top-color: var(--fill-color);\n",
              "      border-right-color: var(--fill-color);\n",
              "    }\n",
              "    40% {\n",
              "      border-color: transparent;\n",
              "      border-right-color: var(--fill-color);\n",
              "      border-top-color: var(--fill-color);\n",
              "    }\n",
              "    60% {\n",
              "      border-color: transparent;\n",
              "      border-right-color: var(--fill-color);\n",
              "    }\n",
              "    80% {\n",
              "      border-color: transparent;\n",
              "      border-right-color: var(--fill-color);\n",
              "      border-bottom-color: var(--fill-color);\n",
              "    }\n",
              "    90% {\n",
              "      border-color: transparent;\n",
              "      border-bottom-color: var(--fill-color);\n",
              "    }\n",
              "  }\n",
              "</style>\n",
              "\n",
              "  <script>\n",
              "    async function quickchart(key) {\n",
              "      const quickchartButtonEl =\n",
              "        document.querySelector('#' + key + ' button');\n",
              "      quickchartButtonEl.disabled = true;  // To prevent multiple clicks.\n",
              "      quickchartButtonEl.classList.add('colab-df-spinner');\n",
              "      try {\n",
              "        const charts = await google.colab.kernel.invokeFunction(\n",
              "            'suggestCharts', [key], {});\n",
              "      } catch (error) {\n",
              "        console.error('Error during call to suggestCharts:', error);\n",
              "      }\n",
              "      quickchartButtonEl.classList.remove('colab-df-spinner');\n",
              "      quickchartButtonEl.classList.add('colab-df-quickchart-complete');\n",
              "    }\n",
              "    (() => {\n",
              "      let quickchartButtonEl =\n",
              "        document.querySelector('#df-9c21ce22-e007-49ec-bafb-9ff8f093700e button');\n",
              "      quickchartButtonEl.style.display =\n",
              "        google.colab.kernel.accessAllowed ? 'block' : 'none';\n",
              "    })();\n",
              "  </script>\n",
              "</div>\n",
              "    </div>\n",
              "  </div>\n"
            ]
          },
          "metadata": {},
          "execution_count": 52
        }
      ]
    },
    {
      "cell_type": "markdown",
      "source": [
        "### Export results as table"
      ],
      "metadata": {
        "id": "oRZntN2qR033"
      }
    },
    {
      "cell_type": "code",
      "source": [
        "# Define the path for the output merged CSV file\n",
        "merged_csv_path = os.path.join(out_path, f'01_sentinel2_data_monthly_{statistics_Type}_safra_{CropSeason}_merged.csv')\n",
        "\n",
        "# Save the merged DataFrame to a CSV file\n",
        "df_imputed.to_csv(merged_csv_path, encoding='utf-8', index=False)\n",
        "\n",
        "# Print the path to the merged CSV file\n",
        "print(f'Merged CSV file saved at: {merged_csv_path}')"
      ],
      "metadata": {
        "colab": {
          "base_uri": "https://localhost:8080/",
          "height": 54
        },
        "id": "7EVNd4qMBAsU",
        "outputId": "f0d83aa5-2a00-4eb9-e979-607ab31059c1"
      },
      "execution_count": null,
      "outputs": [
        {
          "output_type": "display_data",
          "data": {
            "text/plain": [
              "<IPython.core.display.HTML object>"
            ],
            "text/html": [
              "\n",
              "            <style>\n",
              "                .geemap-dark {\n",
              "                    --jp-widgets-color: white;\n",
              "                    --jp-widgets-label-color: white;\n",
              "                    --jp-ui-font-color1: white;\n",
              "                    --jp-layout-color2: #454545;\n",
              "                    background-color: #383838;\n",
              "                }\n",
              "                    \n",
              "                .geemap-dark .jupyter-button {\n",
              "                    --jp-layout-color3: #383838;\n",
              "                }\n",
              "                \n",
              "                .geemap-colab {\n",
              "                    background-color: var(--colab-primary-surface-color, white);\n",
              "                }\n",
              "                    \n",
              "                .geemap-colab .jupyter-button {\n",
              "                    --jp-layout-color3: var(--colab-primary-surface-color, white);\n",
              "                }\n",
              "            </style>\n",
              "            "
            ]
          },
          "metadata": {}
        },
        {
          "output_type": "stream",
          "name": "stdout",
          "text": [
            "Merged CSV file saved at: /content/drive/MyDrive/Colab Notebooks/01_SugarcaneYieldPrediction/02_usinas_all/05_sentinel2_data_monthly/01_sentinel2_data_monthly_MEAN_safra_2223_merged.csv\n"
          ]
        }
      ]
    },
    {
      "cell_type": "code",
      "source": [
        "# Delete CSV files\n",
        "for file_path in file_paths:\n",
        "    try:\n",
        "        os.remove(file_path)\n",
        "        print(f\"Deleted: {file_path}\")\n",
        "    except FileNotFoundError:\n",
        "        print(f\"File not found: {file_path}\")\n",
        "    except Exception as e:\n",
        "        print(f\"Error deleting {file_path}: {e}\")"
      ],
      "metadata": {
        "colab": {
          "base_uri": "https://localhost:8080/",
          "height": 297
        },
        "outputId": "41dfed38-18c7-44c9-9dbd-c12ce2fd90a8",
        "id": "H07--3xU4Rbc"
      },
      "execution_count": null,
      "outputs": [
        {
          "output_type": "display_data",
          "data": {
            "text/plain": [
              "<IPython.core.display.HTML object>"
            ],
            "text/html": [
              "\n",
              "            <style>\n",
              "                .geemap-dark {\n",
              "                    --jp-widgets-color: white;\n",
              "                    --jp-widgets-label-color: white;\n",
              "                    --jp-ui-font-color1: white;\n",
              "                    --jp-layout-color2: #454545;\n",
              "                    background-color: #383838;\n",
              "                }\n",
              "                    \n",
              "                .geemap-dark .jupyter-button {\n",
              "                    --jp-layout-color3: #383838;\n",
              "                }\n",
              "                \n",
              "                .geemap-colab {\n",
              "                    background-color: var(--colab-primary-surface-color, white);\n",
              "                }\n",
              "                    \n",
              "                .geemap-colab .jupyter-button {\n",
              "                    --jp-layout-color3: var(--colab-primary-surface-color, white);\n",
              "                }\n",
              "            </style>\n",
              "            "
            ]
          },
          "metadata": {}
        },
        {
          "output_type": "stream",
          "name": "stdout",
          "text": [
            "Deleted: /content/drive/MyDrive/Colab Notebooks/01_SugarcaneYieldPrediction/02_usinas_all/05_sentinel2_data_monthly/01_sentinel2_data_monthly_MEAN_safra_2021_1.csv\n",
            "Deleted: /content/drive/MyDrive/Colab Notebooks/01_SugarcaneYieldPrediction/02_usinas_all/05_sentinel2_data_monthly/01_sentinel2_data_monthly_MEAN_safra_2021_2.csv\n",
            "Deleted: /content/drive/MyDrive/Colab Notebooks/01_SugarcaneYieldPrediction/02_usinas_all/05_sentinel2_data_monthly/01_sentinel2_data_monthly_MEAN_safra_2021_3.csv\n",
            "Deleted: /content/drive/MyDrive/Colab Notebooks/01_SugarcaneYieldPrediction/02_usinas_all/05_sentinel2_data_monthly/01_sentinel2_data_monthly_MEAN_safra_2021_4.csv\n",
            "Deleted: /content/drive/MyDrive/Colab Notebooks/01_SugarcaneYieldPrediction/02_usinas_all/05_sentinel2_data_monthly/01_sentinel2_data_monthly_MEAN_safra_2021_5.csv\n",
            "Deleted: /content/drive/MyDrive/Colab Notebooks/01_SugarcaneYieldPrediction/02_usinas_all/05_sentinel2_data_monthly/01_sentinel2_data_monthly_MEAN_safra_2021_6.csv\n",
            "Deleted: /content/drive/MyDrive/Colab Notebooks/01_SugarcaneYieldPrediction/02_usinas_all/05_sentinel2_data_monthly/01_sentinel2_data_monthly_MEAN_safra_2021_7.csv\n",
            "Deleted: /content/drive/MyDrive/Colab Notebooks/01_SugarcaneYieldPrediction/02_usinas_all/05_sentinel2_data_monthly/01_sentinel2_data_monthly_MEAN_safra_2021_8.csv\n",
            "Deleted: /content/drive/MyDrive/Colab Notebooks/01_SugarcaneYieldPrediction/02_usinas_all/05_sentinel2_data_monthly/01_sentinel2_data_monthly_MEAN_safra_2021_9.csv\n",
            "Deleted: /content/drive/MyDrive/Colab Notebooks/01_SugarcaneYieldPrediction/02_usinas_all/05_sentinel2_data_monthly/01_sentinel2_data_monthly_MEAN_safra_2021_10.csv\n",
            "Deleted: /content/drive/MyDrive/Colab Notebooks/01_SugarcaneYieldPrediction/02_usinas_all/05_sentinel2_data_monthly/01_sentinel2_data_monthly_MEAN_safra_2021_11.csv\n",
            "Deleted: /content/drive/MyDrive/Colab Notebooks/01_SugarcaneYieldPrediction/02_usinas_all/05_sentinel2_data_monthly/01_sentinel2_data_monthly_MEAN_safra_2021_12.csv\n",
            "Deleted: /content/drive/MyDrive/Colab Notebooks/01_SugarcaneYieldPrediction/02_usinas_all/05_sentinel2_data_monthly/01_sentinel2_data_monthly_MEAN_safra_2021_13.csv\n",
            "Deleted: /content/drive/MyDrive/Colab Notebooks/01_SugarcaneYieldPrediction/02_usinas_all/05_sentinel2_data_monthly/01_sentinel2_data_monthly_MEAN_safra_2021_14.csv\n",
            "Deleted: /content/drive/MyDrive/Colab Notebooks/01_SugarcaneYieldPrediction/02_usinas_all/05_sentinel2_data_monthly/01_sentinel2_data_monthly_MEAN_safra_2021_15.csv\n"
          ]
        }
      ]
    }
  ],
  "metadata": {
    "colab": {
      "toc_visible": true,
      "provenance": []
    },
    "kernelspec": {
      "display_name": "Python 3",
      "name": "python3"
    },
    "language_info": {
      "name": "python"
    },
    "widgets": {
      "application/vnd.jupyter.widget-state+json": {
        "58b61ac242b5443aa234e30187649cf5": {
          "model_module": "jupyter-leaflet",
          "model_name": "LeafletMapModel",
          "model_module_version": "^0.18",
          "state": {
            "_dom_classes": [],
            "_model_module": "jupyter-leaflet",
            "_model_module_version": "^0.18",
            "_model_name": "LeafletMapModel",
            "_view_count": null,
            "_view_module": "jupyter-leaflet",
            "_view_module_version": "^0.18",
            "_view_name": "LeafletMapView",
            "bottom": 37062,
            "bounce_at_zoom_limits": true,
            "box_zoom": true,
            "center": [
              -21.420329614075595,
              -49.48433147616699
            ],
            "close_popup_on_click": true,
            "controls": [
              "IPY_MODEL_36038466b49548058b0c9f162478c513",
              "IPY_MODEL_748cd707908647c19973bb41575b29c2",
              "IPY_MODEL_51497a52baef481fa089b21650e0819b",
              "IPY_MODEL_70a9f97b061e427bb0d25ad836ba6bd7",
              "IPY_MODEL_5af058baceae4b53b3ff97694a6011fb",
              "IPY_MODEL_115f223b6afa45a7b64e192e89975fda",
              "IPY_MODEL_eb9a49004b26471b9f21364840ed9078",
              "IPY_MODEL_1b1331a977a54ea185d511025280bb94"
            ],
            "crs": {
              "name": "EPSG3857",
              "custom": false
            },
            "default_style": "IPY_MODEL_abc7e6ef08544ee3b76be414872a0375",
            "double_click_zoom": true,
            "dragging": true,
            "dragging_style": "IPY_MODEL_0c5cc289e32043509357ead05fee2d61",
            "east": -46.91162109375001,
            "fullscreen": false,
            "inertia": true,
            "inertia_deceleration": 3000,
            "inertia_max_speed": 1500,
            "interpolation": "bilinear",
            "keyboard": true,
            "keyboard_pan_offset": 80,
            "keyboard_zoom_offset": 1,
            "layers": [
              "IPY_MODEL_78214cb92b624f13913afed6cb2205d2",
              "IPY_MODEL_d4e48f2033e3485f9abf566dff4948b9",
              "IPY_MODEL_8af6e1d8986b4be5b4e3e43f39f60106"
            ],
            "layout": "IPY_MODEL_d36291d8aa9c4b928fa5a16c196c9a17",
            "left": 23291,
            "max_zoom": 24,
            "min_zoom": null,
            "modisdate": "2023-12-09",
            "north": -19.880391767822505,
            "options": [
              "bounce_at_zoom_limits",
              "box_zoom",
              "center",
              "close_popup_on_click",
              "double_click_zoom",
              "dragging",
              "fullscreen",
              "inertia",
              "inertia_deceleration",
              "inertia_max_speed",
              "interpolation",
              "keyboard",
              "keyboard_pan_offset",
              "keyboard_zoom_offset",
              "max_zoom",
              "min_zoom",
              "prefer_canvas",
              "scroll_wheel_zoom",
              "tap",
              "tap_tolerance",
              "touch_zoom",
              "world_copy_jump",
              "zoom",
              "zoom_animation_threshold",
              "zoom_delta",
              "zoom_snap"
            ],
            "panes": {},
            "prefer_canvas": false,
            "right": 24228,
            "scroll_wheel_zoom": true,
            "south": -22.948276856880895,
            "style": "IPY_MODEL_c1b6ddffbe6b47b28b7b24bfef19ad54",
            "tap": true,
            "tap_tolerance": 15,
            "top": 36462,
            "touch_zoom": true,
            "west": -52.05871582031251,
            "window_url": "https://ji28gutubhk-496ff2e9c6d22116-0-colab.googleusercontent.com/outputframe.html?vrz=colab_20231207-060210_RC00_588724798",
            "world_copy_jump": false,
            "zoom": 8,
            "zoom_animation_threshold": 4,
            "zoom_delta": 1,
            "zoom_snap": 1
          }
        },
        "36038466b49548058b0c9f162478c513": {
          "model_module": "jupyter-leaflet",
          "model_name": "LeafletWidgetControlModel",
          "model_module_version": "^0.18",
          "state": {
            "_model_module": "jupyter-leaflet",
            "_model_module_version": "^0.18",
            "_model_name": "LeafletWidgetControlModel",
            "_view_count": null,
            "_view_module": "jupyter-leaflet",
            "_view_module_version": "^0.18",
            "_view_name": "LeafletWidgetControlView",
            "max_height": null,
            "max_width": null,
            "min_height": null,
            "min_width": null,
            "options": [
              "position",
              "transparent_bg"
            ],
            "position": "topleft",
            "transparent_bg": false,
            "widget": "IPY_MODEL_66bc67daca524f5a9dd186906331f9c0"
          }
        },
        "748cd707908647c19973bb41575b29c2": {
          "model_module": "jupyter-leaflet",
          "model_name": "LeafletZoomControlModel",
          "model_module_version": "^0.18",
          "state": {
            "_model_module": "jupyter-leaflet",
            "_model_module_version": "^0.18",
            "_model_name": "LeafletZoomControlModel",
            "_view_count": null,
            "_view_module": "jupyter-leaflet",
            "_view_module_version": "^0.18",
            "_view_name": "LeafletZoomControlView",
            "options": [
              "position",
              "zoom_in_text",
              "zoom_in_title",
              "zoom_out_text",
              "zoom_out_title"
            ],
            "position": "topleft",
            "zoom_in_text": "+",
            "zoom_in_title": "Zoom in",
            "zoom_out_text": "-",
            "zoom_out_title": "Zoom out"
          }
        },
        "51497a52baef481fa089b21650e0819b": {
          "model_module": "jupyter-leaflet",
          "model_name": "LeafletFullScreenControlModel",
          "model_module_version": "^0.18",
          "state": {
            "_model_module": "jupyter-leaflet",
            "_model_module_version": "^0.18",
            "_model_name": "LeafletFullScreenControlModel",
            "_view_count": null,
            "_view_module": "jupyter-leaflet",
            "_view_module_version": "^0.18",
            "_view_name": "LeafletFullScreenControlView",
            "options": [
              "position"
            ],
            "position": "topleft"
          }
        },
        "70a9f97b061e427bb0d25ad836ba6bd7": {
          "model_module": "jupyter-leaflet",
          "model_name": "LeafletDrawControlModel",
          "model_module_version": "^0.18",
          "state": {
            "_model_module": "jupyter-leaflet",
            "_model_module_version": "^0.18",
            "_model_name": "LeafletDrawControlModel",
            "_view_count": null,
            "_view_module": "jupyter-leaflet",
            "_view_module_version": "^0.18",
            "_view_name": "LeafletDrawControlView",
            "circle": {},
            "circlemarker": {},
            "data": [],
            "edit": true,
            "marker": {
              "shapeOptions": {
                "color": "#3388ff"
              }
            },
            "options": [
              "position"
            ],
            "polygon": {
              "shapeOptions": {}
            },
            "polyline": {
              "shapeOptions": {}
            },
            "position": "topleft",
            "rectangle": {
              "shapeOptions": {
                "color": "#3388ff"
              }
            },
            "remove": true
          }
        },
        "5af058baceae4b53b3ff97694a6011fb": {
          "model_module": "jupyter-leaflet",
          "model_name": "LeafletScaleControlModel",
          "model_module_version": "^0.18",
          "state": {
            "_model_module": "jupyter-leaflet",
            "_model_module_version": "^0.18",
            "_model_name": "LeafletScaleControlModel",
            "_view_count": null,
            "_view_module": "jupyter-leaflet",
            "_view_module_version": "^0.18",
            "_view_name": "LeafletScaleControlView",
            "imperial": true,
            "max_width": 100,
            "metric": true,
            "options": [
              "imperial",
              "max_width",
              "metric",
              "position",
              "update_when_idle"
            ],
            "position": "bottomleft",
            "update_when_idle": false
          }
        },
        "115f223b6afa45a7b64e192e89975fda": {
          "model_module": "jupyter-leaflet",
          "model_name": "LeafletMeasureControlModel",
          "model_module_version": "^0.18",
          "state": {
            "_custom_units": {},
            "_model_module": "jupyter-leaflet",
            "_model_module_version": "^0.18",
            "_model_name": "LeafletMeasureControlModel",
            "_view_count": null,
            "_view_module": "jupyter-leaflet",
            "_view_module_version": "^0.18",
            "_view_name": "LeafletMeasureControlView",
            "active_color": "orange",
            "capture_z_index": 10000,
            "completed_color": "#C8F2BE",
            "options": [
              "active_color",
              "capture_z_index",
              "completed_color",
              "popup_options",
              "position",
              "primary_area_unit",
              "primary_length_unit",
              "secondary_area_unit",
              "secondary_length_unit"
            ],
            "popup_options": {
              "className": "leaflet-measure-resultpopup",
              "autoPanPadding": [
                10,
                10
              ]
            },
            "position": "bottomleft",
            "primary_area_unit": "acres",
            "primary_length_unit": "kilometers",
            "secondary_area_unit": null,
            "secondary_length_unit": null
          }
        },
        "eb9a49004b26471b9f21364840ed9078": {
          "model_module": "jupyter-leaflet",
          "model_name": "LeafletWidgetControlModel",
          "model_module_version": "^0.18",
          "state": {
            "_model_module": "jupyter-leaflet",
            "_model_module_version": "^0.18",
            "_model_name": "LeafletWidgetControlModel",
            "_view_count": null,
            "_view_module": "jupyter-leaflet",
            "_view_module_version": "^0.18",
            "_view_name": "LeafletWidgetControlView",
            "max_height": null,
            "max_width": null,
            "min_height": null,
            "min_width": null,
            "options": [
              "position",
              "transparent_bg"
            ],
            "position": "topright",
            "transparent_bg": false,
            "widget": "IPY_MODEL_900a8fa4c0754989b6fe6e8e1ff329fa"
          }
        },
        "1b1331a977a54ea185d511025280bb94": {
          "model_module": "jupyter-leaflet",
          "model_name": "LeafletAttributionControlModel",
          "model_module_version": "^0.18",
          "state": {
            "_model_module": "jupyter-leaflet",
            "_model_module_version": "^0.18",
            "_model_name": "LeafletAttributionControlModel",
            "_view_count": null,
            "_view_module": "jupyter-leaflet",
            "_view_module_version": "^0.18",
            "_view_name": "LeafletAttributionControlView",
            "options": [
              "position",
              "prefix"
            ],
            "position": "bottomright",
            "prefix": "ipyleaflet"
          }
        },
        "abc7e6ef08544ee3b76be414872a0375": {
          "model_module": "jupyter-leaflet",
          "model_name": "LeafletMapStyleModel",
          "model_module_version": "^0.18",
          "state": {
            "_model_module": "jupyter-leaflet",
            "_model_module_version": "^0.18",
            "_model_name": "LeafletMapStyleModel",
            "_view_count": null,
            "_view_module": "@jupyter-widgets/base",
            "_view_module_version": "1.2.0",
            "_view_name": "StyleView",
            "cursor": "grab"
          }
        },
        "0c5cc289e32043509357ead05fee2d61": {
          "model_module": "jupyter-leaflet",
          "model_name": "LeafletMapStyleModel",
          "model_module_version": "^0.18",
          "state": {
            "_model_module": "jupyter-leaflet",
            "_model_module_version": "^0.18",
            "_model_name": "LeafletMapStyleModel",
            "_view_count": null,
            "_view_module": "@jupyter-widgets/base",
            "_view_module_version": "1.2.0",
            "_view_name": "StyleView",
            "cursor": "move"
          }
        },
        "78214cb92b624f13913afed6cb2205d2": {
          "model_module": "jupyter-leaflet",
          "model_name": "LeafletTileLayerModel",
          "model_module_version": "^0.18",
          "state": {
            "_model_module": "jupyter-leaflet",
            "_model_module_version": "^0.18",
            "_model_name": "LeafletTileLayerModel",
            "_view_count": null,
            "_view_module": "jupyter-leaflet",
            "_view_module_version": "^0.18",
            "_view_name": "LeafletTileLayerView",
            "attribution": "Esri",
            "base": true,
            "bottom": true,
            "bounds": null,
            "detect_retina": false,
            "loading": false,
            "max_native_zoom": null,
            "max_zoom": 24,
            "min_native_zoom": null,
            "min_zoom": 0,
            "name": "Esri.WorldImagery",
            "no_wrap": false,
            "opacity": 1,
            "options": [
              "attribution",
              "bounds",
              "detect_retina",
              "max_native_zoom",
              "max_zoom",
              "min_native_zoom",
              "min_zoom",
              "no_wrap",
              "tile_size",
              "tms",
              "zoom_offset"
            ],
            "pane": "",
            "popup": null,
            "popup_max_height": null,
            "popup_max_width": 300,
            "popup_min_width": 50,
            "show_loading": false,
            "subitems": [],
            "tile_size": 256,
            "tms": false,
            "url": "https://server.arcgisonline.com/ArcGIS/rest/services/World_Imagery/MapServer/tile/{z}/{y}/{x}",
            "visible": true,
            "zoom_offset": 0
          }
        },
        "d4e48f2033e3485f9abf566dff4948b9": {
          "model_module": "jupyter-leaflet",
          "model_name": "LeafletTileLayerModel",
          "model_module_version": "^0.18",
          "state": {
            "_model_module": "jupyter-leaflet",
            "_model_module_version": "^0.18",
            "_model_name": "LeafletTileLayerModel",
            "_view_count": null,
            "_view_module": "jupyter-leaflet",
            "_view_module_version": "^0.18",
            "_view_name": "LeafletTileLayerView",
            "attribution": "Google Earth Engine",
            "base": false,
            "bottom": true,
            "bounds": null,
            "detect_retina": false,
            "loading": false,
            "max_native_zoom": null,
            "max_zoom": 24,
            "min_native_zoom": null,
            "min_zoom": 0,
            "name": "fc",
            "no_wrap": false,
            "opacity": 1,
            "options": [
              "attribution",
              "bounds",
              "detect_retina",
              "max_native_zoom",
              "max_zoom",
              "min_native_zoom",
              "min_zoom",
              "no_wrap",
              "tile_size",
              "tms",
              "zoom_offset"
            ],
            "pane": "",
            "popup": null,
            "popup_max_height": null,
            "popup_max_width": 300,
            "popup_min_width": 50,
            "show_loading": false,
            "subitems": [],
            "tile_size": 256,
            "tms": false,
            "url": "https://earthengine.googleapis.com/v1/projects/earthengine-legacy/maps/0b41b545df4c28cdaf6e499d6b2a5b67-1ad8302cd812aaec162ae756753f7c4a/tiles/{z}/{x}/{y}",
            "visible": true,
            "zoom_offset": 0
          }
        },
        "8af6e1d8986b4be5b4e3e43f39f60106": {
          "model_module": "jupyter-leaflet",
          "model_name": "LeafletTileLayerModel",
          "model_module_version": "^0.18",
          "state": {
            "_model_module": "jupyter-leaflet",
            "_model_module_version": "^0.18",
            "_model_name": "LeafletTileLayerModel",
            "_view_count": null,
            "_view_module": "jupyter-leaflet",
            "_view_module_version": "^0.18",
            "_view_name": "LeafletTileLayerView",
            "attribution": "Google Earth Engine",
            "base": false,
            "bottom": true,
            "bounds": null,
            "detect_retina": false,
            "loading": false,
            "max_native_zoom": null,
            "max_zoom": 24,
            "min_native_zoom": null,
            "min_zoom": 0,
            "name": "Bbox",
            "no_wrap": false,
            "opacity": 1,
            "options": [
              "attribution",
              "bounds",
              "detect_retina",
              "max_native_zoom",
              "max_zoom",
              "min_native_zoom",
              "min_zoom",
              "no_wrap",
              "tile_size",
              "tms",
              "zoom_offset"
            ],
            "pane": "",
            "popup": null,
            "popup_max_height": null,
            "popup_max_width": 300,
            "popup_min_width": 50,
            "show_loading": false,
            "subitems": [],
            "tile_size": 256,
            "tms": false,
            "url": "https://earthengine.googleapis.com/v1/projects/earthengine-legacy/maps/77449bf1d0d6e92338a29134fde1e5a7-6e437d7441199ff14bf5bc5a50877a36/tiles/{z}/{x}/{y}",
            "visible": true,
            "zoom_offset": 0
          }
        },
        "d36291d8aa9c4b928fa5a16c196c9a17": {
          "model_module": "@jupyter-widgets/base",
          "model_name": "LayoutModel",
          "model_module_version": "1.2.0",
          "state": {
            "_model_module": "@jupyter-widgets/base",
            "_model_module_version": "1.2.0",
            "_model_name": "LayoutModel",
            "_view_count": null,
            "_view_module": "@jupyter-widgets/base",
            "_view_module_version": "1.2.0",
            "_view_name": "LayoutView",
            "align_content": null,
            "align_items": null,
            "align_self": null,
            "border": null,
            "bottom": null,
            "display": null,
            "flex": null,
            "flex_flow": null,
            "grid_area": null,
            "grid_auto_columns": null,
            "grid_auto_flow": null,
            "grid_auto_rows": null,
            "grid_column": null,
            "grid_gap": null,
            "grid_row": null,
            "grid_template_areas": null,
            "grid_template_columns": null,
            "grid_template_rows": null,
            "height": "600px",
            "justify_content": null,
            "justify_items": null,
            "left": null,
            "margin": null,
            "max_height": null,
            "max_width": null,
            "min_height": null,
            "min_width": null,
            "object_fit": null,
            "object_position": null,
            "order": null,
            "overflow": null,
            "overflow_x": null,
            "overflow_y": null,
            "padding": null,
            "right": null,
            "top": null,
            "visibility": null,
            "width": null
          }
        },
        "c1b6ddffbe6b47b28b7b24bfef19ad54": {
          "model_module": "jupyter-leaflet",
          "model_name": "LeafletMapStyleModel",
          "model_module_version": "^0.18",
          "state": {
            "_model_module": "jupyter-leaflet",
            "_model_module_version": "^0.18",
            "_model_name": "LeafletMapStyleModel",
            "_view_count": null,
            "_view_module": "@jupyter-widgets/base",
            "_view_module_version": "1.2.0",
            "_view_name": "StyleView",
            "cursor": "grab"
          }
        },
        "66bc67daca524f5a9dd186906331f9c0": {
          "model_module": "@jupyter-widgets/controls",
          "model_name": "HBoxModel",
          "model_module_version": "1.5.0",
          "state": {
            "_dom_classes": [
              "geemap-colab"
            ],
            "_model_module": "@jupyter-widgets/controls",
            "_model_module_version": "1.5.0",
            "_model_name": "HBoxModel",
            "_view_count": null,
            "_view_module": "@jupyter-widgets/controls",
            "_view_module_version": "1.5.0",
            "_view_name": "HBoxView",
            "box_style": "",
            "children": [
              "IPY_MODEL_451a36bd7b454efc9b6b3bb509f36382"
            ],
            "layout": "IPY_MODEL_19678236334e4342b58b26673d830daa"
          }
        },
        "900a8fa4c0754989b6fe6e8e1ff329fa": {
          "model_module": "@jupyter-widgets/controls",
          "model_name": "VBoxModel",
          "model_module_version": "1.5.0",
          "state": {
            "_dom_classes": [
              "geemap-colab"
            ],
            "_model_module": "@jupyter-widgets/controls",
            "_model_module_version": "1.5.0",
            "_model_name": "VBoxModel",
            "_view_count": null,
            "_view_module": "@jupyter-widgets/controls",
            "_view_module_version": "1.5.0",
            "_view_name": "VBoxView",
            "box_style": "",
            "children": [
              "IPY_MODEL_58c277a1fae846f9b87202d80e5a3227"
            ],
            "layout": "IPY_MODEL_434fb3a4682b4026955aff6ac323f030"
          }
        },
        "451a36bd7b454efc9b6b3bb509f36382": {
          "model_module": "@jupyter-widgets/controls",
          "model_name": "ToggleButtonModel",
          "model_module_version": "1.5.0",
          "state": {
            "_dom_classes": [],
            "_model_module": "@jupyter-widgets/controls",
            "_model_module_version": "1.5.0",
            "_model_name": "ToggleButtonModel",
            "_view_count": null,
            "_view_module": "@jupyter-widgets/controls",
            "_view_module_version": "1.5.0",
            "_view_name": "ToggleButtonView",
            "button_style": "",
            "description": "",
            "description_tooltip": null,
            "disabled": false,
            "icon": "globe",
            "layout": "IPY_MODEL_0adc7b12dcd942deb649ed306bb2a5eb",
            "style": "IPY_MODEL_6f384dd3c7794ac0b8ac9a22b18786ce",
            "tooltip": "Search location/data",
            "value": false
          }
        },
        "19678236334e4342b58b26673d830daa": {
          "model_module": "@jupyter-widgets/base",
          "model_name": "LayoutModel",
          "model_module_version": "1.2.0",
          "state": {
            "_model_module": "@jupyter-widgets/base",
            "_model_module_version": "1.2.0",
            "_model_name": "LayoutModel",
            "_view_count": null,
            "_view_module": "@jupyter-widgets/base",
            "_view_module_version": "1.2.0",
            "_view_name": "LayoutView",
            "align_content": null,
            "align_items": null,
            "align_self": null,
            "border": null,
            "bottom": null,
            "display": null,
            "flex": null,
            "flex_flow": null,
            "grid_area": null,
            "grid_auto_columns": null,
            "grid_auto_flow": null,
            "grid_auto_rows": null,
            "grid_column": null,
            "grid_gap": null,
            "grid_row": null,
            "grid_template_areas": null,
            "grid_template_columns": null,
            "grid_template_rows": null,
            "height": null,
            "justify_content": null,
            "justify_items": null,
            "left": null,
            "margin": null,
            "max_height": null,
            "max_width": null,
            "min_height": null,
            "min_width": null,
            "object_fit": null,
            "object_position": null,
            "order": null,
            "overflow": null,
            "overflow_x": null,
            "overflow_y": null,
            "padding": null,
            "right": null,
            "top": null,
            "visibility": null,
            "width": null
          }
        },
        "58c277a1fae846f9b87202d80e5a3227": {
          "model_module": "@jupyter-widgets/controls",
          "model_name": "ToggleButtonModel",
          "model_module_version": "1.5.0",
          "state": {
            "_dom_classes": [],
            "_model_module": "@jupyter-widgets/controls",
            "_model_module_version": "1.5.0",
            "_model_name": "ToggleButtonModel",
            "_view_count": null,
            "_view_module": "@jupyter-widgets/controls",
            "_view_module_version": "1.5.0",
            "_view_name": "ToggleButtonView",
            "button_style": "",
            "description": "",
            "description_tooltip": null,
            "disabled": false,
            "icon": "wrench",
            "layout": "IPY_MODEL_0e5d790078aa4656b2336924955b7acb",
            "style": "IPY_MODEL_bdaaf1ac5af64b19b9cdf5dc60334c9f",
            "tooltip": "Toolbar",
            "value": false
          }
        },
        "434fb3a4682b4026955aff6ac323f030": {
          "model_module": "@jupyter-widgets/base",
          "model_name": "LayoutModel",
          "model_module_version": "1.2.0",
          "state": {
            "_model_module": "@jupyter-widgets/base",
            "_model_module_version": "1.2.0",
            "_model_name": "LayoutModel",
            "_view_count": null,
            "_view_module": "@jupyter-widgets/base",
            "_view_module_version": "1.2.0",
            "_view_name": "LayoutView",
            "align_content": null,
            "align_items": null,
            "align_self": null,
            "border": null,
            "bottom": null,
            "display": null,
            "flex": null,
            "flex_flow": null,
            "grid_area": null,
            "grid_auto_columns": null,
            "grid_auto_flow": null,
            "grid_auto_rows": null,
            "grid_column": null,
            "grid_gap": null,
            "grid_row": null,
            "grid_template_areas": null,
            "grid_template_columns": null,
            "grid_template_rows": null,
            "height": null,
            "justify_content": null,
            "justify_items": null,
            "left": null,
            "margin": null,
            "max_height": null,
            "max_width": null,
            "min_height": null,
            "min_width": null,
            "object_fit": null,
            "object_position": null,
            "order": null,
            "overflow": null,
            "overflow_x": null,
            "overflow_y": null,
            "padding": null,
            "right": null,
            "top": null,
            "visibility": null,
            "width": null
          }
        },
        "0adc7b12dcd942deb649ed306bb2a5eb": {
          "model_module": "@jupyter-widgets/base",
          "model_name": "LayoutModel",
          "model_module_version": "1.2.0",
          "state": {
            "_model_module": "@jupyter-widgets/base",
            "_model_module_version": "1.2.0",
            "_model_name": "LayoutModel",
            "_view_count": null,
            "_view_module": "@jupyter-widgets/base",
            "_view_module_version": "1.2.0",
            "_view_name": "LayoutView",
            "align_content": null,
            "align_items": null,
            "align_self": null,
            "border": null,
            "bottom": null,
            "display": null,
            "flex": null,
            "flex_flow": null,
            "grid_area": null,
            "grid_auto_columns": null,
            "grid_auto_flow": null,
            "grid_auto_rows": null,
            "grid_column": null,
            "grid_gap": null,
            "grid_row": null,
            "grid_template_areas": null,
            "grid_template_columns": null,
            "grid_template_rows": null,
            "height": "28px",
            "justify_content": null,
            "justify_items": null,
            "left": null,
            "margin": null,
            "max_height": null,
            "max_width": null,
            "min_height": null,
            "min_width": null,
            "object_fit": null,
            "object_position": null,
            "order": null,
            "overflow": null,
            "overflow_x": null,
            "overflow_y": null,
            "padding": "0px 0px 0px 4px",
            "right": null,
            "top": null,
            "visibility": null,
            "width": "28px"
          }
        },
        "6f384dd3c7794ac0b8ac9a22b18786ce": {
          "model_module": "@jupyter-widgets/controls",
          "model_name": "DescriptionStyleModel",
          "model_module_version": "1.5.0",
          "state": {
            "_model_module": "@jupyter-widgets/controls",
            "_model_module_version": "1.5.0",
            "_model_name": "DescriptionStyleModel",
            "_view_count": null,
            "_view_module": "@jupyter-widgets/base",
            "_view_module_version": "1.2.0",
            "_view_name": "StyleView",
            "description_width": ""
          }
        },
        "0e5d790078aa4656b2336924955b7acb": {
          "model_module": "@jupyter-widgets/base",
          "model_name": "LayoutModel",
          "model_module_version": "1.2.0",
          "state": {
            "_model_module": "@jupyter-widgets/base",
            "_model_module_version": "1.2.0",
            "_model_name": "LayoutModel",
            "_view_count": null,
            "_view_module": "@jupyter-widgets/base",
            "_view_module_version": "1.2.0",
            "_view_name": "LayoutView",
            "align_content": null,
            "align_items": null,
            "align_self": null,
            "border": null,
            "bottom": null,
            "display": null,
            "flex": null,
            "flex_flow": null,
            "grid_area": null,
            "grid_auto_columns": null,
            "grid_auto_flow": null,
            "grid_auto_rows": null,
            "grid_column": null,
            "grid_gap": null,
            "grid_row": null,
            "grid_template_areas": null,
            "grid_template_columns": null,
            "grid_template_rows": null,
            "height": "28px",
            "justify_content": null,
            "justify_items": null,
            "left": null,
            "margin": null,
            "max_height": null,
            "max_width": null,
            "min_height": null,
            "min_width": null,
            "object_fit": null,
            "object_position": null,
            "order": null,
            "overflow": null,
            "overflow_x": null,
            "overflow_y": null,
            "padding": "0px 0px 0px 4px",
            "right": null,
            "top": null,
            "visibility": null,
            "width": "28px"
          }
        },
        "bdaaf1ac5af64b19b9cdf5dc60334c9f": {
          "model_module": "@jupyter-widgets/controls",
          "model_name": "DescriptionStyleModel",
          "model_module_version": "1.5.0",
          "state": {
            "_model_module": "@jupyter-widgets/controls",
            "_model_module_version": "1.5.0",
            "_model_name": "DescriptionStyleModel",
            "_view_count": null,
            "_view_module": "@jupyter-widgets/base",
            "_view_module_version": "1.2.0",
            "_view_name": "StyleView",
            "description_width": ""
          }
        },
        "1e30d817bcd148c9bada92a8bc0553a6": {
          "model_module": "jupyter-leaflet",
          "model_name": "LeafletMapModel",
          "model_module_version": "^0.18",
          "state": {
            "_dom_classes": [],
            "_model_module": "jupyter-leaflet",
            "_model_module_version": "^0.18",
            "_model_name": "LeafletMapModel",
            "_view_count": null,
            "_view_module": "jupyter-leaflet",
            "_view_module_version": "^0.18",
            "_view_name": "LeafletMapView",
            "bottom": 37059,
            "bounce_at_zoom_limits": true,
            "box_zoom": true,
            "center": [
              -21.406251078337068,
              -49.31341705029615
            ],
            "close_popup_on_click": true,
            "controls": [
              "IPY_MODEL_f79c7c86d57e45358e5cf327a021c7db",
              "IPY_MODEL_d0ebcd012fac4897ae0162b4152506d3",
              "IPY_MODEL_ca0aaba558b04de3a257dcdf48ebb937",
              "IPY_MODEL_3a0a36bc015d41feba5bf7b517009a72",
              "IPY_MODEL_a79fcb86b33a4b0f9c3a9f448662d43f",
              "IPY_MODEL_bd5a04a4dc6a400fa74bcc379f07326b",
              "IPY_MODEL_23243c494afe408a9604551e455d2057",
              "IPY_MODEL_4851db9aa134458dbb61f689770f8748"
            ],
            "crs": {
              "name": "EPSG3857",
              "custom": false
            },
            "default_style": "IPY_MODEL_3008e7d81b2048a99b36e49943aa5a12",
            "double_click_zoom": true,
            "dragging": true,
            "dragging_style": "IPY_MODEL_9f1eeb7b421c46628bb23d3039f0bf5d",
            "east": -46.74133300781251,
            "fullscreen": false,
            "inertia": true,
            "inertia_deceleration": 3000,
            "inertia_max_speed": 1500,
            "interpolation": "bilinear",
            "keyboard": true,
            "keyboard_pan_offset": 80,
            "keyboard_zoom_offset": 1,
            "layers": [
              "IPY_MODEL_318ddc9724af46c1b1122267bba3b4a6",
              "IPY_MODEL_dcafa657428d462a820d1f4b6d8aee89"
            ],
            "layout": "IPY_MODEL_9e473b3af40b441b955d9871a07d333a",
            "left": 23322,
            "max_zoom": 24,
            "min_zoom": null,
            "modisdate": "2023-12-09",
            "north": -19.864893620513147,
            "options": [
              "bounce_at_zoom_limits",
              "box_zoom",
              "center",
              "close_popup_on_click",
              "double_click_zoom",
              "dragging",
              "fullscreen",
              "inertia",
              "inertia_deceleration",
              "inertia_max_speed",
              "interpolation",
              "keyboard",
              "keyboard_pan_offset",
              "keyboard_zoom_offset",
              "max_zoom",
              "min_zoom",
              "prefer_canvas",
              "scroll_wheel_zoom",
              "tap",
              "tap_tolerance",
              "touch_zoom",
              "world_copy_jump",
              "zoom",
              "zoom_animation_threshold",
              "zoom_delta",
              "zoom_snap"
            ],
            "panes": {},
            "prefer_canvas": false,
            "right": 24259,
            "scroll_wheel_zoom": true,
            "south": -22.933100746980408,
            "style": "IPY_MODEL_58d4c89a032845b3919f379f73bcc686",
            "tap": true,
            "tap_tolerance": 15,
            "top": 36459,
            "touch_zoom": true,
            "west": -51.88842773437501,
            "window_url": "https://ji28gutubhk-496ff2e9c6d22116-0-colab.googleusercontent.com/outputframe.html?vrz=colab_20231207-060210_RC00_588724798",
            "world_copy_jump": false,
            "zoom": 8,
            "zoom_animation_threshold": 4,
            "zoom_delta": 1,
            "zoom_snap": 1
          }
        },
        "f79c7c86d57e45358e5cf327a021c7db": {
          "model_module": "jupyter-leaflet",
          "model_name": "LeafletWidgetControlModel",
          "model_module_version": "^0.18",
          "state": {
            "_model_module": "jupyter-leaflet",
            "_model_module_version": "^0.18",
            "_model_name": "LeafletWidgetControlModel",
            "_view_count": null,
            "_view_module": "jupyter-leaflet",
            "_view_module_version": "^0.18",
            "_view_name": "LeafletWidgetControlView",
            "max_height": null,
            "max_width": null,
            "min_height": null,
            "min_width": null,
            "options": [
              "position",
              "transparent_bg"
            ],
            "position": "topleft",
            "transparent_bg": false,
            "widget": "IPY_MODEL_7f4a40092e054a43afd9c333fcec7029"
          }
        },
        "d0ebcd012fac4897ae0162b4152506d3": {
          "model_module": "jupyter-leaflet",
          "model_name": "LeafletZoomControlModel",
          "model_module_version": "^0.18",
          "state": {
            "_model_module": "jupyter-leaflet",
            "_model_module_version": "^0.18",
            "_model_name": "LeafletZoomControlModel",
            "_view_count": null,
            "_view_module": "jupyter-leaflet",
            "_view_module_version": "^0.18",
            "_view_name": "LeafletZoomControlView",
            "options": [
              "position",
              "zoom_in_text",
              "zoom_in_title",
              "zoom_out_text",
              "zoom_out_title"
            ],
            "position": "topleft",
            "zoom_in_text": "+",
            "zoom_in_title": "Zoom in",
            "zoom_out_text": "-",
            "zoom_out_title": "Zoom out"
          }
        },
        "ca0aaba558b04de3a257dcdf48ebb937": {
          "model_module": "jupyter-leaflet",
          "model_name": "LeafletFullScreenControlModel",
          "model_module_version": "^0.18",
          "state": {
            "_model_module": "jupyter-leaflet",
            "_model_module_version": "^0.18",
            "_model_name": "LeafletFullScreenControlModel",
            "_view_count": null,
            "_view_module": "jupyter-leaflet",
            "_view_module_version": "^0.18",
            "_view_name": "LeafletFullScreenControlView",
            "options": [
              "position"
            ],
            "position": "topleft"
          }
        },
        "3a0a36bc015d41feba5bf7b517009a72": {
          "model_module": "jupyter-leaflet",
          "model_name": "LeafletDrawControlModel",
          "model_module_version": "^0.18",
          "state": {
            "_model_module": "jupyter-leaflet",
            "_model_module_version": "^0.18",
            "_model_name": "LeafletDrawControlModel",
            "_view_count": null,
            "_view_module": "jupyter-leaflet",
            "_view_module_version": "^0.18",
            "_view_name": "LeafletDrawControlView",
            "circle": {},
            "circlemarker": {},
            "data": [],
            "edit": true,
            "marker": {
              "shapeOptions": {
                "color": "#3388ff"
              }
            },
            "options": [
              "position"
            ],
            "polygon": {
              "shapeOptions": {}
            },
            "polyline": {
              "shapeOptions": {}
            },
            "position": "topleft",
            "rectangle": {
              "shapeOptions": {
                "color": "#3388ff"
              }
            },
            "remove": true
          }
        },
        "a79fcb86b33a4b0f9c3a9f448662d43f": {
          "model_module": "jupyter-leaflet",
          "model_name": "LeafletScaleControlModel",
          "model_module_version": "^0.18",
          "state": {
            "_model_module": "jupyter-leaflet",
            "_model_module_version": "^0.18",
            "_model_name": "LeafletScaleControlModel",
            "_view_count": null,
            "_view_module": "jupyter-leaflet",
            "_view_module_version": "^0.18",
            "_view_name": "LeafletScaleControlView",
            "imperial": true,
            "max_width": 100,
            "metric": true,
            "options": [
              "imperial",
              "max_width",
              "metric",
              "position",
              "update_when_idle"
            ],
            "position": "bottomleft",
            "update_when_idle": false
          }
        },
        "bd5a04a4dc6a400fa74bcc379f07326b": {
          "model_module": "jupyter-leaflet",
          "model_name": "LeafletMeasureControlModel",
          "model_module_version": "^0.18",
          "state": {
            "_custom_units": {},
            "_model_module": "jupyter-leaflet",
            "_model_module_version": "^0.18",
            "_model_name": "LeafletMeasureControlModel",
            "_view_count": null,
            "_view_module": "jupyter-leaflet",
            "_view_module_version": "^0.18",
            "_view_name": "LeafletMeasureControlView",
            "active_color": "orange",
            "capture_z_index": 10000,
            "completed_color": "#C8F2BE",
            "options": [
              "active_color",
              "capture_z_index",
              "completed_color",
              "popup_options",
              "position",
              "primary_area_unit",
              "primary_length_unit",
              "secondary_area_unit",
              "secondary_length_unit"
            ],
            "popup_options": {
              "className": "leaflet-measure-resultpopup",
              "autoPanPadding": [
                10,
                10
              ]
            },
            "position": "bottomleft",
            "primary_area_unit": "acres",
            "primary_length_unit": "kilometers",
            "secondary_area_unit": null,
            "secondary_length_unit": null
          }
        },
        "23243c494afe408a9604551e455d2057": {
          "model_module": "jupyter-leaflet",
          "model_name": "LeafletWidgetControlModel",
          "model_module_version": "^0.18",
          "state": {
            "_model_module": "jupyter-leaflet",
            "_model_module_version": "^0.18",
            "_model_name": "LeafletWidgetControlModel",
            "_view_count": null,
            "_view_module": "jupyter-leaflet",
            "_view_module_version": "^0.18",
            "_view_name": "LeafletWidgetControlView",
            "max_height": null,
            "max_width": null,
            "min_height": null,
            "min_width": null,
            "options": [
              "position",
              "transparent_bg"
            ],
            "position": "topright",
            "transparent_bg": false,
            "widget": "IPY_MODEL_f5046027d85743689b2a4ba249107707"
          }
        },
        "4851db9aa134458dbb61f689770f8748": {
          "model_module": "jupyter-leaflet",
          "model_name": "LeafletAttributionControlModel",
          "model_module_version": "^0.18",
          "state": {
            "_model_module": "jupyter-leaflet",
            "_model_module_version": "^0.18",
            "_model_name": "LeafletAttributionControlModel",
            "_view_count": null,
            "_view_module": "jupyter-leaflet",
            "_view_module_version": "^0.18",
            "_view_name": "LeafletAttributionControlView",
            "options": [
              "position",
              "prefix"
            ],
            "position": "bottomright",
            "prefix": "ipyleaflet"
          }
        },
        "3008e7d81b2048a99b36e49943aa5a12": {
          "model_module": "jupyter-leaflet",
          "model_name": "LeafletMapStyleModel",
          "model_module_version": "^0.18",
          "state": {
            "_model_module": "jupyter-leaflet",
            "_model_module_version": "^0.18",
            "_model_name": "LeafletMapStyleModel",
            "_view_count": null,
            "_view_module": "@jupyter-widgets/base",
            "_view_module_version": "1.2.0",
            "_view_name": "StyleView",
            "cursor": "grab"
          }
        },
        "9f1eeb7b421c46628bb23d3039f0bf5d": {
          "model_module": "jupyter-leaflet",
          "model_name": "LeafletMapStyleModel",
          "model_module_version": "^0.18",
          "state": {
            "_model_module": "jupyter-leaflet",
            "_model_module_version": "^0.18",
            "_model_name": "LeafletMapStyleModel",
            "_view_count": null,
            "_view_module": "@jupyter-widgets/base",
            "_view_module_version": "1.2.0",
            "_view_name": "StyleView",
            "cursor": "move"
          }
        },
        "318ddc9724af46c1b1122267bba3b4a6": {
          "model_module": "jupyter-leaflet",
          "model_name": "LeafletTileLayerModel",
          "model_module_version": "^0.18",
          "state": {
            "_model_module": "jupyter-leaflet",
            "_model_module_version": "^0.18",
            "_model_name": "LeafletTileLayerModel",
            "_view_count": null,
            "_view_module": "jupyter-leaflet",
            "_view_module_version": "^0.18",
            "_view_name": "LeafletTileLayerView",
            "attribution": "Esri",
            "base": true,
            "bottom": true,
            "bounds": null,
            "detect_retina": false,
            "loading": false,
            "max_native_zoom": null,
            "max_zoom": 24,
            "min_native_zoom": null,
            "min_zoom": 0,
            "name": "Esri.WorldImagery",
            "no_wrap": false,
            "opacity": 1,
            "options": [
              "attribution",
              "bounds",
              "detect_retina",
              "max_native_zoom",
              "max_zoom",
              "min_native_zoom",
              "min_zoom",
              "no_wrap",
              "tile_size",
              "tms",
              "zoom_offset"
            ],
            "pane": "",
            "popup": null,
            "popup_max_height": null,
            "popup_max_width": 300,
            "popup_min_width": 50,
            "show_loading": false,
            "subitems": [],
            "tile_size": 256,
            "tms": false,
            "url": "https://server.arcgisonline.com/ArcGIS/rest/services/World_Imagery/MapServer/tile/{z}/{y}/{x}",
            "visible": true,
            "zoom_offset": 0
          }
        },
        "dcafa657428d462a820d1f4b6d8aee89": {
          "model_module": "jupyter-leaflet",
          "model_name": "LeafletTileLayerModel",
          "model_module_version": "^0.18",
          "state": {
            "_model_module": "jupyter-leaflet",
            "_model_module_version": "^0.18",
            "_model_name": "LeafletTileLayerModel",
            "_view_count": null,
            "_view_module": "jupyter-leaflet",
            "_view_module_version": "^0.18",
            "_view_name": "LeafletTileLayerView",
            "attribution": "Google Earth Engine",
            "base": false,
            "bottom": true,
            "bounds": null,
            "detect_retina": false,
            "loading": false,
            "max_native_zoom": null,
            "max_zoom": 24,
            "min_native_zoom": null,
            "min_zoom": 0,
            "name": "Most Recent Image - RGB(swir1-nir-red",
            "no_wrap": false,
            "opacity": 1,
            "options": [
              "attribution",
              "bounds",
              "detect_retina",
              "max_native_zoom",
              "max_zoom",
              "min_native_zoom",
              "min_zoom",
              "no_wrap",
              "tile_size",
              "tms",
              "zoom_offset"
            ],
            "pane": "",
            "popup": null,
            "popup_max_height": null,
            "popup_max_width": 300,
            "popup_min_width": 50,
            "show_loading": false,
            "subitems": [],
            "tile_size": 256,
            "tms": false,
            "url": "https://earthengine.googleapis.com/v1/projects/earthengine-legacy/maps/410d47f14ea6ad19625e8808f9d45eb9-726bde4d3c2be91e828db8cc33f0837c/tiles/{z}/{x}/{y}",
            "visible": true,
            "zoom_offset": 0
          }
        },
        "9e473b3af40b441b955d9871a07d333a": {
          "model_module": "@jupyter-widgets/base",
          "model_name": "LayoutModel",
          "model_module_version": "1.2.0",
          "state": {
            "_model_module": "@jupyter-widgets/base",
            "_model_module_version": "1.2.0",
            "_model_name": "LayoutModel",
            "_view_count": null,
            "_view_module": "@jupyter-widgets/base",
            "_view_module_version": "1.2.0",
            "_view_name": "LayoutView",
            "align_content": null,
            "align_items": null,
            "align_self": null,
            "border": null,
            "bottom": null,
            "display": null,
            "flex": null,
            "flex_flow": null,
            "grid_area": null,
            "grid_auto_columns": null,
            "grid_auto_flow": null,
            "grid_auto_rows": null,
            "grid_column": null,
            "grid_gap": null,
            "grid_row": null,
            "grid_template_areas": null,
            "grid_template_columns": null,
            "grid_template_rows": null,
            "height": "600px",
            "justify_content": null,
            "justify_items": null,
            "left": null,
            "margin": null,
            "max_height": null,
            "max_width": null,
            "min_height": null,
            "min_width": null,
            "object_fit": null,
            "object_position": null,
            "order": null,
            "overflow": null,
            "overflow_x": null,
            "overflow_y": null,
            "padding": null,
            "right": null,
            "top": null,
            "visibility": null,
            "width": null
          }
        },
        "58d4c89a032845b3919f379f73bcc686": {
          "model_module": "jupyter-leaflet",
          "model_name": "LeafletMapStyleModel",
          "model_module_version": "^0.18",
          "state": {
            "_model_module": "jupyter-leaflet",
            "_model_module_version": "^0.18",
            "_model_name": "LeafletMapStyleModel",
            "_view_count": null,
            "_view_module": "@jupyter-widgets/base",
            "_view_module_version": "1.2.0",
            "_view_name": "StyleView",
            "cursor": "grab"
          }
        },
        "7f4a40092e054a43afd9c333fcec7029": {
          "model_module": "@jupyter-widgets/controls",
          "model_name": "HBoxModel",
          "model_module_version": "1.5.0",
          "state": {
            "_dom_classes": [
              "geemap-colab"
            ],
            "_model_module": "@jupyter-widgets/controls",
            "_model_module_version": "1.5.0",
            "_model_name": "HBoxModel",
            "_view_count": null,
            "_view_module": "@jupyter-widgets/controls",
            "_view_module_version": "1.5.0",
            "_view_name": "HBoxView",
            "box_style": "",
            "children": [
              "IPY_MODEL_ec1ea9028b1b4d78b8d7e9c2c5f50c97"
            ],
            "layout": "IPY_MODEL_85cae635f45d400798652e53b9593124"
          }
        },
        "f5046027d85743689b2a4ba249107707": {
          "model_module": "@jupyter-widgets/controls",
          "model_name": "VBoxModel",
          "model_module_version": "1.5.0",
          "state": {
            "_dom_classes": [
              "geemap-colab"
            ],
            "_model_module": "@jupyter-widgets/controls",
            "_model_module_version": "1.5.0",
            "_model_name": "VBoxModel",
            "_view_count": null,
            "_view_module": "@jupyter-widgets/controls",
            "_view_module_version": "1.5.0",
            "_view_name": "VBoxView",
            "box_style": "",
            "children": [
              "IPY_MODEL_7dab478e9a0a4816aca45cf6c62287da"
            ],
            "layout": "IPY_MODEL_ee031d75935240c488b5868ddc628a61"
          }
        },
        "ec1ea9028b1b4d78b8d7e9c2c5f50c97": {
          "model_module": "@jupyter-widgets/controls",
          "model_name": "ToggleButtonModel",
          "model_module_version": "1.5.0",
          "state": {
            "_dom_classes": [],
            "_model_module": "@jupyter-widgets/controls",
            "_model_module_version": "1.5.0",
            "_model_name": "ToggleButtonModel",
            "_view_count": null,
            "_view_module": "@jupyter-widgets/controls",
            "_view_module_version": "1.5.0",
            "_view_name": "ToggleButtonView",
            "button_style": "",
            "description": "",
            "description_tooltip": null,
            "disabled": false,
            "icon": "globe",
            "layout": "IPY_MODEL_85886e692a3a4325ba8f0c9309f055ae",
            "style": "IPY_MODEL_057634af536d4fbcbca2cf8be8d2dc00",
            "tooltip": "Search location/data",
            "value": false
          }
        },
        "85cae635f45d400798652e53b9593124": {
          "model_module": "@jupyter-widgets/base",
          "model_name": "LayoutModel",
          "model_module_version": "1.2.0",
          "state": {
            "_model_module": "@jupyter-widgets/base",
            "_model_module_version": "1.2.0",
            "_model_name": "LayoutModel",
            "_view_count": null,
            "_view_module": "@jupyter-widgets/base",
            "_view_module_version": "1.2.0",
            "_view_name": "LayoutView",
            "align_content": null,
            "align_items": null,
            "align_self": null,
            "border": null,
            "bottom": null,
            "display": null,
            "flex": null,
            "flex_flow": null,
            "grid_area": null,
            "grid_auto_columns": null,
            "grid_auto_flow": null,
            "grid_auto_rows": null,
            "grid_column": null,
            "grid_gap": null,
            "grid_row": null,
            "grid_template_areas": null,
            "grid_template_columns": null,
            "grid_template_rows": null,
            "height": null,
            "justify_content": null,
            "justify_items": null,
            "left": null,
            "margin": null,
            "max_height": null,
            "max_width": null,
            "min_height": null,
            "min_width": null,
            "object_fit": null,
            "object_position": null,
            "order": null,
            "overflow": null,
            "overflow_x": null,
            "overflow_y": null,
            "padding": null,
            "right": null,
            "top": null,
            "visibility": null,
            "width": null
          }
        },
        "7dab478e9a0a4816aca45cf6c62287da": {
          "model_module": "@jupyter-widgets/controls",
          "model_name": "ToggleButtonModel",
          "model_module_version": "1.5.0",
          "state": {
            "_dom_classes": [],
            "_model_module": "@jupyter-widgets/controls",
            "_model_module_version": "1.5.0",
            "_model_name": "ToggleButtonModel",
            "_view_count": null,
            "_view_module": "@jupyter-widgets/controls",
            "_view_module_version": "1.5.0",
            "_view_name": "ToggleButtonView",
            "button_style": "",
            "description": "",
            "description_tooltip": null,
            "disabled": false,
            "icon": "wrench",
            "layout": "IPY_MODEL_3c8eb83fb8a1416ea5fca51a9fb049ed",
            "style": "IPY_MODEL_1926f1611cf74008a3db8e2b882528c9",
            "tooltip": "Toolbar",
            "value": false
          }
        },
        "ee031d75935240c488b5868ddc628a61": {
          "model_module": "@jupyter-widgets/base",
          "model_name": "LayoutModel",
          "model_module_version": "1.2.0",
          "state": {
            "_model_module": "@jupyter-widgets/base",
            "_model_module_version": "1.2.0",
            "_model_name": "LayoutModel",
            "_view_count": null,
            "_view_module": "@jupyter-widgets/base",
            "_view_module_version": "1.2.0",
            "_view_name": "LayoutView",
            "align_content": null,
            "align_items": null,
            "align_self": null,
            "border": null,
            "bottom": null,
            "display": null,
            "flex": null,
            "flex_flow": null,
            "grid_area": null,
            "grid_auto_columns": null,
            "grid_auto_flow": null,
            "grid_auto_rows": null,
            "grid_column": null,
            "grid_gap": null,
            "grid_row": null,
            "grid_template_areas": null,
            "grid_template_columns": null,
            "grid_template_rows": null,
            "height": null,
            "justify_content": null,
            "justify_items": null,
            "left": null,
            "margin": null,
            "max_height": null,
            "max_width": null,
            "min_height": null,
            "min_width": null,
            "object_fit": null,
            "object_position": null,
            "order": null,
            "overflow": null,
            "overflow_x": null,
            "overflow_y": null,
            "padding": null,
            "right": null,
            "top": null,
            "visibility": null,
            "width": null
          }
        },
        "85886e692a3a4325ba8f0c9309f055ae": {
          "model_module": "@jupyter-widgets/base",
          "model_name": "LayoutModel",
          "model_module_version": "1.2.0",
          "state": {
            "_model_module": "@jupyter-widgets/base",
            "_model_module_version": "1.2.0",
            "_model_name": "LayoutModel",
            "_view_count": null,
            "_view_module": "@jupyter-widgets/base",
            "_view_module_version": "1.2.0",
            "_view_name": "LayoutView",
            "align_content": null,
            "align_items": null,
            "align_self": null,
            "border": null,
            "bottom": null,
            "display": null,
            "flex": null,
            "flex_flow": null,
            "grid_area": null,
            "grid_auto_columns": null,
            "grid_auto_flow": null,
            "grid_auto_rows": null,
            "grid_column": null,
            "grid_gap": null,
            "grid_row": null,
            "grid_template_areas": null,
            "grid_template_columns": null,
            "grid_template_rows": null,
            "height": "28px",
            "justify_content": null,
            "justify_items": null,
            "left": null,
            "margin": null,
            "max_height": null,
            "max_width": null,
            "min_height": null,
            "min_width": null,
            "object_fit": null,
            "object_position": null,
            "order": null,
            "overflow": null,
            "overflow_x": null,
            "overflow_y": null,
            "padding": "0px 0px 0px 4px",
            "right": null,
            "top": null,
            "visibility": null,
            "width": "28px"
          }
        },
        "057634af536d4fbcbca2cf8be8d2dc00": {
          "model_module": "@jupyter-widgets/controls",
          "model_name": "DescriptionStyleModel",
          "model_module_version": "1.5.0",
          "state": {
            "_model_module": "@jupyter-widgets/controls",
            "_model_module_version": "1.5.0",
            "_model_name": "DescriptionStyleModel",
            "_view_count": null,
            "_view_module": "@jupyter-widgets/base",
            "_view_module_version": "1.2.0",
            "_view_name": "StyleView",
            "description_width": ""
          }
        },
        "3c8eb83fb8a1416ea5fca51a9fb049ed": {
          "model_module": "@jupyter-widgets/base",
          "model_name": "LayoutModel",
          "model_module_version": "1.2.0",
          "state": {
            "_model_module": "@jupyter-widgets/base",
            "_model_module_version": "1.2.0",
            "_model_name": "LayoutModel",
            "_view_count": null,
            "_view_module": "@jupyter-widgets/base",
            "_view_module_version": "1.2.0",
            "_view_name": "LayoutView",
            "align_content": null,
            "align_items": null,
            "align_self": null,
            "border": null,
            "bottom": null,
            "display": null,
            "flex": null,
            "flex_flow": null,
            "grid_area": null,
            "grid_auto_columns": null,
            "grid_auto_flow": null,
            "grid_auto_rows": null,
            "grid_column": null,
            "grid_gap": null,
            "grid_row": null,
            "grid_template_areas": null,
            "grid_template_columns": null,
            "grid_template_rows": null,
            "height": "28px",
            "justify_content": null,
            "justify_items": null,
            "left": null,
            "margin": null,
            "max_height": null,
            "max_width": null,
            "min_height": null,
            "min_width": null,
            "object_fit": null,
            "object_position": null,
            "order": null,
            "overflow": null,
            "overflow_x": null,
            "overflow_y": null,
            "padding": "0px 0px 0px 4px",
            "right": null,
            "top": null,
            "visibility": null,
            "width": "28px"
          }
        },
        "1926f1611cf74008a3db8e2b882528c9": {
          "model_module": "@jupyter-widgets/controls",
          "model_name": "DescriptionStyleModel",
          "model_module_version": "1.5.0",
          "state": {
            "_model_module": "@jupyter-widgets/controls",
            "_model_module_version": "1.5.0",
            "_model_name": "DescriptionStyleModel",
            "_view_count": null,
            "_view_module": "@jupyter-widgets/base",
            "_view_module_version": "1.2.0",
            "_view_name": "StyleView",
            "description_width": ""
          }
        },
        "da20b42f9c1b4ef3b63738dc79221850": {
          "model_module": "jupyter-leaflet",
          "model_name": "LeafletMapModel",
          "model_module_version": "^0.18",
          "state": {
            "_dom_classes": [],
            "_model_module": "jupyter-leaflet",
            "_model_module_version": "^0.18",
            "_model_name": "LeafletMapModel",
            "_view_count": null,
            "_view_module": "jupyter-leaflet",
            "_view_module_version": "^0.18",
            "_view_name": "LeafletMapView",
            "bottom": 37059,
            "bounce_at_zoom_limits": true,
            "box_zoom": true,
            "center": [
              -21.406251078337068,
              -49.31341705029615
            ],
            "close_popup_on_click": true,
            "controls": [
              "IPY_MODEL_7ef5d30cd02648099487b948457b4476",
              "IPY_MODEL_1ba96df214cc49c1935b5a230eca832e",
              "IPY_MODEL_58c4f574468c40909d8cf6a649efde27",
              "IPY_MODEL_e9bf632c32d44ceb8a750bffa74da590",
              "IPY_MODEL_f95d18e16e164e8d9495220c2a349b8b",
              "IPY_MODEL_7ec915bd0e7d4574b4c19d5ad607ff73",
              "IPY_MODEL_fb5a07939b1542cbb76b9203743bd537",
              "IPY_MODEL_f20e97629fff4b96903b3719f0d0b61e"
            ],
            "crs": {
              "name": "EPSG3857",
              "custom": false
            },
            "default_style": "IPY_MODEL_f4e722731dc549bb9431c0b5d5719329",
            "double_click_zoom": true,
            "dragging": true,
            "dragging_style": "IPY_MODEL_354a79f0181243709a1217488bf652ee",
            "east": -46.74133300781251,
            "fullscreen": false,
            "inertia": true,
            "inertia_deceleration": 3000,
            "inertia_max_speed": 1500,
            "interpolation": "bilinear",
            "keyboard": true,
            "keyboard_pan_offset": 80,
            "keyboard_zoom_offset": 1,
            "layers": [
              "IPY_MODEL_ebc95d72dfe746a0961e3cb65612ce4d",
              "IPY_MODEL_283de02f269f443686ddcef9497c9ef1",
              "IPY_MODEL_6d72f049c28a46f0a809d952a696dbc7"
            ],
            "layout": "IPY_MODEL_34368d34adf04759a473050ed0093721",
            "left": 23322,
            "max_zoom": 24,
            "min_zoom": null,
            "modisdate": "2023-12-09",
            "north": -19.864893620513147,
            "options": [
              "bounce_at_zoom_limits",
              "box_zoom",
              "center",
              "close_popup_on_click",
              "double_click_zoom",
              "dragging",
              "fullscreen",
              "inertia",
              "inertia_deceleration",
              "inertia_max_speed",
              "interpolation",
              "keyboard",
              "keyboard_pan_offset",
              "keyboard_zoom_offset",
              "max_zoom",
              "min_zoom",
              "prefer_canvas",
              "scroll_wheel_zoom",
              "tap",
              "tap_tolerance",
              "touch_zoom",
              "world_copy_jump",
              "zoom",
              "zoom_animation_threshold",
              "zoom_delta",
              "zoom_snap"
            ],
            "panes": {},
            "prefer_canvas": false,
            "right": 24259,
            "scroll_wheel_zoom": true,
            "south": -22.933100746980408,
            "style": "IPY_MODEL_f4e87532facf4e2e984affbb0f2bd1c4",
            "tap": true,
            "tap_tolerance": 15,
            "top": 36459,
            "touch_zoom": true,
            "west": -51.88842773437501,
            "window_url": "https://ji28gutubhk-496ff2e9c6d22116-0-colab.googleusercontent.com/outputframe.html?vrz=colab_20231207-060210_RC00_588724798",
            "world_copy_jump": false,
            "zoom": 8,
            "zoom_animation_threshold": 4,
            "zoom_delta": 1,
            "zoom_snap": 1
          }
        },
        "7ef5d30cd02648099487b948457b4476": {
          "model_module": "jupyter-leaflet",
          "model_name": "LeafletWidgetControlModel",
          "model_module_version": "^0.18",
          "state": {
            "_model_module": "jupyter-leaflet",
            "_model_module_version": "^0.18",
            "_model_name": "LeafletWidgetControlModel",
            "_view_count": null,
            "_view_module": "jupyter-leaflet",
            "_view_module_version": "^0.18",
            "_view_name": "LeafletWidgetControlView",
            "max_height": null,
            "max_width": null,
            "min_height": null,
            "min_width": null,
            "options": [
              "position",
              "transparent_bg"
            ],
            "position": "topleft",
            "transparent_bg": false,
            "widget": "IPY_MODEL_b5b9412e018641809559d2ebe3d0bdbf"
          }
        },
        "1ba96df214cc49c1935b5a230eca832e": {
          "model_module": "jupyter-leaflet",
          "model_name": "LeafletZoomControlModel",
          "model_module_version": "^0.18",
          "state": {
            "_model_module": "jupyter-leaflet",
            "_model_module_version": "^0.18",
            "_model_name": "LeafletZoomControlModel",
            "_view_count": null,
            "_view_module": "jupyter-leaflet",
            "_view_module_version": "^0.18",
            "_view_name": "LeafletZoomControlView",
            "options": [
              "position",
              "zoom_in_text",
              "zoom_in_title",
              "zoom_out_text",
              "zoom_out_title"
            ],
            "position": "topleft",
            "zoom_in_text": "+",
            "zoom_in_title": "Zoom in",
            "zoom_out_text": "-",
            "zoom_out_title": "Zoom out"
          }
        },
        "58c4f574468c40909d8cf6a649efde27": {
          "model_module": "jupyter-leaflet",
          "model_name": "LeafletFullScreenControlModel",
          "model_module_version": "^0.18",
          "state": {
            "_model_module": "jupyter-leaflet",
            "_model_module_version": "^0.18",
            "_model_name": "LeafletFullScreenControlModel",
            "_view_count": null,
            "_view_module": "jupyter-leaflet",
            "_view_module_version": "^0.18",
            "_view_name": "LeafletFullScreenControlView",
            "options": [
              "position"
            ],
            "position": "topleft"
          }
        },
        "e9bf632c32d44ceb8a750bffa74da590": {
          "model_module": "jupyter-leaflet",
          "model_name": "LeafletDrawControlModel",
          "model_module_version": "^0.18",
          "state": {
            "_model_module": "jupyter-leaflet",
            "_model_module_version": "^0.18",
            "_model_name": "LeafletDrawControlModel",
            "_view_count": null,
            "_view_module": "jupyter-leaflet",
            "_view_module_version": "^0.18",
            "_view_name": "LeafletDrawControlView",
            "circle": {},
            "circlemarker": {},
            "data": [],
            "edit": true,
            "marker": {
              "shapeOptions": {
                "color": "#3388ff"
              }
            },
            "options": [
              "position"
            ],
            "polygon": {
              "shapeOptions": {}
            },
            "polyline": {
              "shapeOptions": {}
            },
            "position": "topleft",
            "rectangle": {
              "shapeOptions": {
                "color": "#3388ff"
              }
            },
            "remove": true
          }
        },
        "f95d18e16e164e8d9495220c2a349b8b": {
          "model_module": "jupyter-leaflet",
          "model_name": "LeafletScaleControlModel",
          "model_module_version": "^0.18",
          "state": {
            "_model_module": "jupyter-leaflet",
            "_model_module_version": "^0.18",
            "_model_name": "LeafletScaleControlModel",
            "_view_count": null,
            "_view_module": "jupyter-leaflet",
            "_view_module_version": "^0.18",
            "_view_name": "LeafletScaleControlView",
            "imperial": true,
            "max_width": 100,
            "metric": true,
            "options": [
              "imperial",
              "max_width",
              "metric",
              "position",
              "update_when_idle"
            ],
            "position": "bottomleft",
            "update_when_idle": false
          }
        },
        "7ec915bd0e7d4574b4c19d5ad607ff73": {
          "model_module": "jupyter-leaflet",
          "model_name": "LeafletMeasureControlModel",
          "model_module_version": "^0.18",
          "state": {
            "_custom_units": {},
            "_model_module": "jupyter-leaflet",
            "_model_module_version": "^0.18",
            "_model_name": "LeafletMeasureControlModel",
            "_view_count": null,
            "_view_module": "jupyter-leaflet",
            "_view_module_version": "^0.18",
            "_view_name": "LeafletMeasureControlView",
            "active_color": "orange",
            "capture_z_index": 10000,
            "completed_color": "#C8F2BE",
            "options": [
              "active_color",
              "capture_z_index",
              "completed_color",
              "popup_options",
              "position",
              "primary_area_unit",
              "primary_length_unit",
              "secondary_area_unit",
              "secondary_length_unit"
            ],
            "popup_options": {
              "className": "leaflet-measure-resultpopup",
              "autoPanPadding": [
                10,
                10
              ]
            },
            "position": "bottomleft",
            "primary_area_unit": "acres",
            "primary_length_unit": "kilometers",
            "secondary_area_unit": null,
            "secondary_length_unit": null
          }
        },
        "fb5a07939b1542cbb76b9203743bd537": {
          "model_module": "jupyter-leaflet",
          "model_name": "LeafletWidgetControlModel",
          "model_module_version": "^0.18",
          "state": {
            "_model_module": "jupyter-leaflet",
            "_model_module_version": "^0.18",
            "_model_name": "LeafletWidgetControlModel",
            "_view_count": null,
            "_view_module": "jupyter-leaflet",
            "_view_module_version": "^0.18",
            "_view_name": "LeafletWidgetControlView",
            "max_height": null,
            "max_width": null,
            "min_height": null,
            "min_width": null,
            "options": [
              "position",
              "transparent_bg"
            ],
            "position": "topright",
            "transparent_bg": false,
            "widget": "IPY_MODEL_03963fc799e440328e4a86a621d2f704"
          }
        },
        "f20e97629fff4b96903b3719f0d0b61e": {
          "model_module": "jupyter-leaflet",
          "model_name": "LeafletAttributionControlModel",
          "model_module_version": "^0.18",
          "state": {
            "_model_module": "jupyter-leaflet",
            "_model_module_version": "^0.18",
            "_model_name": "LeafletAttributionControlModel",
            "_view_count": null,
            "_view_module": "jupyter-leaflet",
            "_view_module_version": "^0.18",
            "_view_name": "LeafletAttributionControlView",
            "options": [
              "position",
              "prefix"
            ],
            "position": "bottomright",
            "prefix": "ipyleaflet"
          }
        },
        "f4e722731dc549bb9431c0b5d5719329": {
          "model_module": "jupyter-leaflet",
          "model_name": "LeafletMapStyleModel",
          "model_module_version": "^0.18",
          "state": {
            "_model_module": "jupyter-leaflet",
            "_model_module_version": "^0.18",
            "_model_name": "LeafletMapStyleModel",
            "_view_count": null,
            "_view_module": "@jupyter-widgets/base",
            "_view_module_version": "1.2.0",
            "_view_name": "StyleView",
            "cursor": "grab"
          }
        },
        "354a79f0181243709a1217488bf652ee": {
          "model_module": "jupyter-leaflet",
          "model_name": "LeafletMapStyleModel",
          "model_module_version": "^0.18",
          "state": {
            "_model_module": "jupyter-leaflet",
            "_model_module_version": "^0.18",
            "_model_name": "LeafletMapStyleModel",
            "_view_count": null,
            "_view_module": "@jupyter-widgets/base",
            "_view_module_version": "1.2.0",
            "_view_name": "StyleView",
            "cursor": "move"
          }
        },
        "ebc95d72dfe746a0961e3cb65612ce4d": {
          "model_module": "jupyter-leaflet",
          "model_name": "LeafletTileLayerModel",
          "model_module_version": "^0.18",
          "state": {
            "_model_module": "jupyter-leaflet",
            "_model_module_version": "^0.18",
            "_model_name": "LeafletTileLayerModel",
            "_view_count": null,
            "_view_module": "jupyter-leaflet",
            "_view_module_version": "^0.18",
            "_view_name": "LeafletTileLayerView",
            "attribution": "Esri",
            "base": true,
            "bottom": true,
            "bounds": null,
            "detect_retina": false,
            "loading": false,
            "max_native_zoom": null,
            "max_zoom": 24,
            "min_native_zoom": null,
            "min_zoom": 0,
            "name": "Esri.WorldImagery",
            "no_wrap": false,
            "opacity": 1,
            "options": [
              "attribution",
              "bounds",
              "detect_retina",
              "max_native_zoom",
              "max_zoom",
              "min_native_zoom",
              "min_zoom",
              "no_wrap",
              "tile_size",
              "tms",
              "zoom_offset"
            ],
            "pane": "",
            "popup": null,
            "popup_max_height": null,
            "popup_max_width": 300,
            "popup_min_width": 50,
            "show_loading": false,
            "subitems": [],
            "tile_size": 256,
            "tms": false,
            "url": "https://server.arcgisonline.com/ArcGIS/rest/services/World_Imagery/MapServer/tile/{z}/{y}/{x}",
            "visible": true,
            "zoom_offset": 0
          }
        },
        "283de02f269f443686ddcef9497c9ef1": {
          "model_module": "jupyter-leaflet",
          "model_name": "LeafletTileLayerModel",
          "model_module_version": "^0.18",
          "state": {
            "_model_module": "jupyter-leaflet",
            "_model_module_version": "^0.18",
            "_model_name": "LeafletTileLayerModel",
            "_view_count": null,
            "_view_module": "jupyter-leaflet",
            "_view_module_version": "^0.18",
            "_view_name": "LeafletTileLayerView",
            "attribution": "Google Earth Engine",
            "base": false,
            "bottom": true,
            "bounds": null,
            "detect_retina": false,
            "loading": false,
            "max_native_zoom": null,
            "max_zoom": 24,
            "min_native_zoom": null,
            "min_zoom": 0,
            "name": "Most Recent Mosaic - RGB(swir1-nir-red",
            "no_wrap": false,
            "opacity": 1,
            "options": [
              "attribution",
              "bounds",
              "detect_retina",
              "max_native_zoom",
              "max_zoom",
              "min_native_zoom",
              "min_zoom",
              "no_wrap",
              "tile_size",
              "tms",
              "zoom_offset"
            ],
            "pane": "",
            "popup": null,
            "popup_max_height": null,
            "popup_max_width": 300,
            "popup_min_width": 50,
            "show_loading": false,
            "subitems": [],
            "tile_size": 256,
            "tms": false,
            "url": "https://earthengine.googleapis.com/v1/projects/earthengine-legacy/maps/e0a8a38da23be6817cd8719a85fc4c02-b96e5bee3f6bda42f8163a7cdfe00719/tiles/{z}/{x}/{y}",
            "visible": false,
            "zoom_offset": 0
          }
        },
        "6d72f049c28a46f0a809d952a696dbc7": {
          "model_module": "jupyter-leaflet",
          "model_name": "LeafletTileLayerModel",
          "model_module_version": "^0.18",
          "state": {
            "_model_module": "jupyter-leaflet",
            "_model_module_version": "^0.18",
            "_model_name": "LeafletTileLayerModel",
            "_view_count": null,
            "_view_module": "jupyter-leaflet",
            "_view_module_version": "^0.18",
            "_view_name": "LeafletTileLayerView",
            "attribution": "Google Earth Engine",
            "base": false,
            "bottom": true,
            "bounds": null,
            "detect_retina": false,
            "loading": false,
            "max_native_zoom": null,
            "max_zoom": 24,
            "min_native_zoom": null,
            "min_zoom": 0,
            "name": "Most Recent Mosaic - NDVI_median",
            "no_wrap": false,
            "opacity": 1,
            "options": [
              "attribution",
              "bounds",
              "detect_retina",
              "max_native_zoom",
              "max_zoom",
              "min_native_zoom",
              "min_zoom",
              "no_wrap",
              "tile_size",
              "tms",
              "zoom_offset"
            ],
            "pane": "",
            "popup": null,
            "popup_max_height": null,
            "popup_max_width": 300,
            "popup_min_width": 50,
            "show_loading": false,
            "subitems": [],
            "tile_size": 256,
            "tms": false,
            "url": "https://earthengine.googleapis.com/v1/projects/earthengine-legacy/maps/7952ba643bb572091cf29090d5ce0264-e08be61bafdcd8d6c986c23b67c159ab/tiles/{z}/{x}/{y}",
            "visible": true,
            "zoom_offset": 0
          }
        },
        "34368d34adf04759a473050ed0093721": {
          "model_module": "@jupyter-widgets/base",
          "model_name": "LayoutModel",
          "model_module_version": "1.2.0",
          "state": {
            "_model_module": "@jupyter-widgets/base",
            "_model_module_version": "1.2.0",
            "_model_name": "LayoutModel",
            "_view_count": null,
            "_view_module": "@jupyter-widgets/base",
            "_view_module_version": "1.2.0",
            "_view_name": "LayoutView",
            "align_content": null,
            "align_items": null,
            "align_self": null,
            "border": null,
            "bottom": null,
            "display": null,
            "flex": null,
            "flex_flow": null,
            "grid_area": null,
            "grid_auto_columns": null,
            "grid_auto_flow": null,
            "grid_auto_rows": null,
            "grid_column": null,
            "grid_gap": null,
            "grid_row": null,
            "grid_template_areas": null,
            "grid_template_columns": null,
            "grid_template_rows": null,
            "height": "600px",
            "justify_content": null,
            "justify_items": null,
            "left": null,
            "margin": null,
            "max_height": null,
            "max_width": null,
            "min_height": null,
            "min_width": null,
            "object_fit": null,
            "object_position": null,
            "order": null,
            "overflow": null,
            "overflow_x": null,
            "overflow_y": null,
            "padding": null,
            "right": null,
            "top": null,
            "visibility": null,
            "width": null
          }
        },
        "f4e87532facf4e2e984affbb0f2bd1c4": {
          "model_module": "jupyter-leaflet",
          "model_name": "LeafletMapStyleModel",
          "model_module_version": "^0.18",
          "state": {
            "_model_module": "jupyter-leaflet",
            "_model_module_version": "^0.18",
            "_model_name": "LeafletMapStyleModel",
            "_view_count": null,
            "_view_module": "@jupyter-widgets/base",
            "_view_module_version": "1.2.0",
            "_view_name": "StyleView",
            "cursor": "grab"
          }
        },
        "b5b9412e018641809559d2ebe3d0bdbf": {
          "model_module": "@jupyter-widgets/controls",
          "model_name": "HBoxModel",
          "model_module_version": "1.5.0",
          "state": {
            "_dom_classes": [
              "geemap-colab"
            ],
            "_model_module": "@jupyter-widgets/controls",
            "_model_module_version": "1.5.0",
            "_model_name": "HBoxModel",
            "_view_count": null,
            "_view_module": "@jupyter-widgets/controls",
            "_view_module_version": "1.5.0",
            "_view_name": "HBoxView",
            "box_style": "",
            "children": [
              "IPY_MODEL_b5af17471a0e4374a3a465ac084084ef"
            ],
            "layout": "IPY_MODEL_2c423854fcc3419cbd41aad69c095f41"
          }
        },
        "03963fc799e440328e4a86a621d2f704": {
          "model_module": "@jupyter-widgets/controls",
          "model_name": "VBoxModel",
          "model_module_version": "1.5.0",
          "state": {
            "_dom_classes": [
              "geemap-colab"
            ],
            "_model_module": "@jupyter-widgets/controls",
            "_model_module_version": "1.5.0",
            "_model_name": "VBoxModel",
            "_view_count": null,
            "_view_module": "@jupyter-widgets/controls",
            "_view_module_version": "1.5.0",
            "_view_name": "VBoxView",
            "box_style": "",
            "children": [
              "IPY_MODEL_34a96899741741cdafde3c049fa29ace"
            ],
            "layout": "IPY_MODEL_4132990c9d9241d392bed127eb7db652"
          }
        },
        "b5af17471a0e4374a3a465ac084084ef": {
          "model_module": "@jupyter-widgets/controls",
          "model_name": "ToggleButtonModel",
          "model_module_version": "1.5.0",
          "state": {
            "_dom_classes": [],
            "_model_module": "@jupyter-widgets/controls",
            "_model_module_version": "1.5.0",
            "_model_name": "ToggleButtonModel",
            "_view_count": null,
            "_view_module": "@jupyter-widgets/controls",
            "_view_module_version": "1.5.0",
            "_view_name": "ToggleButtonView",
            "button_style": "",
            "description": "",
            "description_tooltip": null,
            "disabled": false,
            "icon": "globe",
            "layout": "IPY_MODEL_2068635889634483a760fa62dbb11abb",
            "style": "IPY_MODEL_5f0310f0d819480b955557a41048bd3d",
            "tooltip": "Search location/data",
            "value": false
          }
        },
        "2c423854fcc3419cbd41aad69c095f41": {
          "model_module": "@jupyter-widgets/base",
          "model_name": "LayoutModel",
          "model_module_version": "1.2.0",
          "state": {
            "_model_module": "@jupyter-widgets/base",
            "_model_module_version": "1.2.0",
            "_model_name": "LayoutModel",
            "_view_count": null,
            "_view_module": "@jupyter-widgets/base",
            "_view_module_version": "1.2.0",
            "_view_name": "LayoutView",
            "align_content": null,
            "align_items": null,
            "align_self": null,
            "border": null,
            "bottom": null,
            "display": null,
            "flex": null,
            "flex_flow": null,
            "grid_area": null,
            "grid_auto_columns": null,
            "grid_auto_flow": null,
            "grid_auto_rows": null,
            "grid_column": null,
            "grid_gap": null,
            "grid_row": null,
            "grid_template_areas": null,
            "grid_template_columns": null,
            "grid_template_rows": null,
            "height": null,
            "justify_content": null,
            "justify_items": null,
            "left": null,
            "margin": null,
            "max_height": null,
            "max_width": null,
            "min_height": null,
            "min_width": null,
            "object_fit": null,
            "object_position": null,
            "order": null,
            "overflow": null,
            "overflow_x": null,
            "overflow_y": null,
            "padding": null,
            "right": null,
            "top": null,
            "visibility": null,
            "width": null
          }
        },
        "34a96899741741cdafde3c049fa29ace": {
          "model_module": "@jupyter-widgets/controls",
          "model_name": "ToggleButtonModel",
          "model_module_version": "1.5.0",
          "state": {
            "_dom_classes": [],
            "_model_module": "@jupyter-widgets/controls",
            "_model_module_version": "1.5.0",
            "_model_name": "ToggleButtonModel",
            "_view_count": null,
            "_view_module": "@jupyter-widgets/controls",
            "_view_module_version": "1.5.0",
            "_view_name": "ToggleButtonView",
            "button_style": "",
            "description": "",
            "description_tooltip": null,
            "disabled": false,
            "icon": "wrench",
            "layout": "IPY_MODEL_261949eb9e5f4be3a57063f69356aea4",
            "style": "IPY_MODEL_17e06e6ca0c049b6bcc74ea378c541db",
            "tooltip": "Toolbar",
            "value": false
          }
        },
        "4132990c9d9241d392bed127eb7db652": {
          "model_module": "@jupyter-widgets/base",
          "model_name": "LayoutModel",
          "model_module_version": "1.2.0",
          "state": {
            "_model_module": "@jupyter-widgets/base",
            "_model_module_version": "1.2.0",
            "_model_name": "LayoutModel",
            "_view_count": null,
            "_view_module": "@jupyter-widgets/base",
            "_view_module_version": "1.2.0",
            "_view_name": "LayoutView",
            "align_content": null,
            "align_items": null,
            "align_self": null,
            "border": null,
            "bottom": null,
            "display": null,
            "flex": null,
            "flex_flow": null,
            "grid_area": null,
            "grid_auto_columns": null,
            "grid_auto_flow": null,
            "grid_auto_rows": null,
            "grid_column": null,
            "grid_gap": null,
            "grid_row": null,
            "grid_template_areas": null,
            "grid_template_columns": null,
            "grid_template_rows": null,
            "height": null,
            "justify_content": null,
            "justify_items": null,
            "left": null,
            "margin": null,
            "max_height": null,
            "max_width": null,
            "min_height": null,
            "min_width": null,
            "object_fit": null,
            "object_position": null,
            "order": null,
            "overflow": null,
            "overflow_x": null,
            "overflow_y": null,
            "padding": null,
            "right": null,
            "top": null,
            "visibility": null,
            "width": null
          }
        },
        "2068635889634483a760fa62dbb11abb": {
          "model_module": "@jupyter-widgets/base",
          "model_name": "LayoutModel",
          "model_module_version": "1.2.0",
          "state": {
            "_model_module": "@jupyter-widgets/base",
            "_model_module_version": "1.2.0",
            "_model_name": "LayoutModel",
            "_view_count": null,
            "_view_module": "@jupyter-widgets/base",
            "_view_module_version": "1.2.0",
            "_view_name": "LayoutView",
            "align_content": null,
            "align_items": null,
            "align_self": null,
            "border": null,
            "bottom": null,
            "display": null,
            "flex": null,
            "flex_flow": null,
            "grid_area": null,
            "grid_auto_columns": null,
            "grid_auto_flow": null,
            "grid_auto_rows": null,
            "grid_column": null,
            "grid_gap": null,
            "grid_row": null,
            "grid_template_areas": null,
            "grid_template_columns": null,
            "grid_template_rows": null,
            "height": "28px",
            "justify_content": null,
            "justify_items": null,
            "left": null,
            "margin": null,
            "max_height": null,
            "max_width": null,
            "min_height": null,
            "min_width": null,
            "object_fit": null,
            "object_position": null,
            "order": null,
            "overflow": null,
            "overflow_x": null,
            "overflow_y": null,
            "padding": "0px 0px 0px 4px",
            "right": null,
            "top": null,
            "visibility": null,
            "width": "28px"
          }
        },
        "5f0310f0d819480b955557a41048bd3d": {
          "model_module": "@jupyter-widgets/controls",
          "model_name": "DescriptionStyleModel",
          "model_module_version": "1.5.0",
          "state": {
            "_model_module": "@jupyter-widgets/controls",
            "_model_module_version": "1.5.0",
            "_model_name": "DescriptionStyleModel",
            "_view_count": null,
            "_view_module": "@jupyter-widgets/base",
            "_view_module_version": "1.2.0",
            "_view_name": "StyleView",
            "description_width": ""
          }
        },
        "261949eb9e5f4be3a57063f69356aea4": {
          "model_module": "@jupyter-widgets/base",
          "model_name": "LayoutModel",
          "model_module_version": "1.2.0",
          "state": {
            "_model_module": "@jupyter-widgets/base",
            "_model_module_version": "1.2.0",
            "_model_name": "LayoutModel",
            "_view_count": null,
            "_view_module": "@jupyter-widgets/base",
            "_view_module_version": "1.2.0",
            "_view_name": "LayoutView",
            "align_content": null,
            "align_items": null,
            "align_self": null,
            "border": null,
            "bottom": null,
            "display": null,
            "flex": null,
            "flex_flow": null,
            "grid_area": null,
            "grid_auto_columns": null,
            "grid_auto_flow": null,
            "grid_auto_rows": null,
            "grid_column": null,
            "grid_gap": null,
            "grid_row": null,
            "grid_template_areas": null,
            "grid_template_columns": null,
            "grid_template_rows": null,
            "height": "28px",
            "justify_content": null,
            "justify_items": null,
            "left": null,
            "margin": null,
            "max_height": null,
            "max_width": null,
            "min_height": null,
            "min_width": null,
            "object_fit": null,
            "object_position": null,
            "order": null,
            "overflow": null,
            "overflow_x": null,
            "overflow_y": null,
            "padding": "0px 0px 0px 4px",
            "right": null,
            "top": null,
            "visibility": null,
            "width": "28px"
          }
        },
        "17e06e6ca0c049b6bcc74ea378c541db": {
          "model_module": "@jupyter-widgets/controls",
          "model_name": "DescriptionStyleModel",
          "model_module_version": "1.5.0",
          "state": {
            "_model_module": "@jupyter-widgets/controls",
            "_model_module_version": "1.5.0",
            "_model_name": "DescriptionStyleModel",
            "_view_count": null,
            "_view_module": "@jupyter-widgets/base",
            "_view_module_version": "1.2.0",
            "_view_name": "StyleView",
            "description_width": ""
          }
        }
      }
    }
  },
  "nbformat": 4,
  "nbformat_minor": 0
}